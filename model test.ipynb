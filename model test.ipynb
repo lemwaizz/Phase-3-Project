{
  "cells": [
    {
      "cell_type": "code",
      "execution_count": null,
      "id": "2589df3b",
      "metadata": {
        "id": "2589df3b",
        "outputId": "f2699646-8c1a-48f3-c55d-0cfb2e3cf345"
      },
      "outputs": [
        {
          "name": "stdout",
          "output_type": "stream",
          "text": [
            "^C\n"
          ]
        }
      ],
      "source": [
        "!pip install -U scikit-learn scipy matplotlib"
      ]
    },
    {
      "cell_type": "code",
      "execution_count": 1,
      "id": "302e2e44",
      "metadata": {
        "id": "302e2e44"
      },
      "outputs": [],
      "source": [
        "\n",
        "import pandas as pd\n",
        "from sklearn.model_selection import train_test_split\n",
        "import warnings\n",
        "warnings.filterwarnings('ignore')"
      ]
    },
    {
      "cell_type": "code",
      "execution_count": 3,
      "id": "28dab5e9",
      "metadata": {
        "colab": {
          "base_uri": "https://localhost:8080/",
          "height": 238
        },
        "id": "28dab5e9",
        "outputId": "52d9ceb8-477a-47e5-d34d-88b0a0395e0c"
      },
      "outputs": [
        {
          "output_type": "execute_result",
          "data": {
            "text/plain": [
              "               Systemic Illness  Rectal Pain  Sore Throat  Penile Oedema  \\\n",
              "Patient_ID                                                                 \n",
              "P0                         None        False         True           True   \n",
              "P1                        Fever         True        False           True   \n",
              "P2                        Fever        False         True           True   \n",
              "P3                         None         True        False          False   \n",
              "P4          Swollen Lymph Nodes         True         True           True   \n",
              "\n",
              "            Oral Lesions  Solitary Lesion  Swollen Tonsils  HIV Infection  \\\n",
              "Patient_ID                                                                  \n",
              "P0                  True            False             True          False   \n",
              "P1                  True            False            False           True   \n",
              "P2                 False            False            False           True   \n",
              "P3                 False             True             True           True   \n",
              "P4                 False            False             True           True   \n",
              "\n",
              "            Sexually Transmitted Infection MonkeyPox  \n",
              "Patient_ID                                            \n",
              "P0                                   False  Negative  \n",
              "P1                                   False  Positive  \n",
              "P2                                   False  Positive  \n",
              "P3                                   False  Positive  \n",
              "P4                                   False  Positive  "
            ],
            "text/html": [
              "\n",
              "  <div id=\"df-1cddcb21-246c-42bb-ac45-ae6bfa3aa973\">\n",
              "    <div class=\"colab-df-container\">\n",
              "      <div>\n",
              "<style scoped>\n",
              "    .dataframe tbody tr th:only-of-type {\n",
              "        vertical-align: middle;\n",
              "    }\n",
              "\n",
              "    .dataframe tbody tr th {\n",
              "        vertical-align: top;\n",
              "    }\n",
              "\n",
              "    .dataframe thead th {\n",
              "        text-align: right;\n",
              "    }\n",
              "</style>\n",
              "<table border=\"1\" class=\"dataframe\">\n",
              "  <thead>\n",
              "    <tr style=\"text-align: right;\">\n",
              "      <th></th>\n",
              "      <th>Systemic Illness</th>\n",
              "      <th>Rectal Pain</th>\n",
              "      <th>Sore Throat</th>\n",
              "      <th>Penile Oedema</th>\n",
              "      <th>Oral Lesions</th>\n",
              "      <th>Solitary Lesion</th>\n",
              "      <th>Swollen Tonsils</th>\n",
              "      <th>HIV Infection</th>\n",
              "      <th>Sexually Transmitted Infection</th>\n",
              "      <th>MonkeyPox</th>\n",
              "    </tr>\n",
              "    <tr>\n",
              "      <th>Patient_ID</th>\n",
              "      <th></th>\n",
              "      <th></th>\n",
              "      <th></th>\n",
              "      <th></th>\n",
              "      <th></th>\n",
              "      <th></th>\n",
              "      <th></th>\n",
              "      <th></th>\n",
              "      <th></th>\n",
              "      <th></th>\n",
              "    </tr>\n",
              "  </thead>\n",
              "  <tbody>\n",
              "    <tr>\n",
              "      <th>P0</th>\n",
              "      <td>None</td>\n",
              "      <td>False</td>\n",
              "      <td>True</td>\n",
              "      <td>True</td>\n",
              "      <td>True</td>\n",
              "      <td>False</td>\n",
              "      <td>True</td>\n",
              "      <td>False</td>\n",
              "      <td>False</td>\n",
              "      <td>Negative</td>\n",
              "    </tr>\n",
              "    <tr>\n",
              "      <th>P1</th>\n",
              "      <td>Fever</td>\n",
              "      <td>True</td>\n",
              "      <td>False</td>\n",
              "      <td>True</td>\n",
              "      <td>True</td>\n",
              "      <td>False</td>\n",
              "      <td>False</td>\n",
              "      <td>True</td>\n",
              "      <td>False</td>\n",
              "      <td>Positive</td>\n",
              "    </tr>\n",
              "    <tr>\n",
              "      <th>P2</th>\n",
              "      <td>Fever</td>\n",
              "      <td>False</td>\n",
              "      <td>True</td>\n",
              "      <td>True</td>\n",
              "      <td>False</td>\n",
              "      <td>False</td>\n",
              "      <td>False</td>\n",
              "      <td>True</td>\n",
              "      <td>False</td>\n",
              "      <td>Positive</td>\n",
              "    </tr>\n",
              "    <tr>\n",
              "      <th>P3</th>\n",
              "      <td>None</td>\n",
              "      <td>True</td>\n",
              "      <td>False</td>\n",
              "      <td>False</td>\n",
              "      <td>False</td>\n",
              "      <td>True</td>\n",
              "      <td>True</td>\n",
              "      <td>True</td>\n",
              "      <td>False</td>\n",
              "      <td>Positive</td>\n",
              "    </tr>\n",
              "    <tr>\n",
              "      <th>P4</th>\n",
              "      <td>Swollen Lymph Nodes</td>\n",
              "      <td>True</td>\n",
              "      <td>True</td>\n",
              "      <td>True</td>\n",
              "      <td>False</td>\n",
              "      <td>False</td>\n",
              "      <td>True</td>\n",
              "      <td>True</td>\n",
              "      <td>False</td>\n",
              "      <td>Positive</td>\n",
              "    </tr>\n",
              "  </tbody>\n",
              "</table>\n",
              "</div>\n",
              "      <button class=\"colab-df-convert\" onclick=\"convertToInteractive('df-1cddcb21-246c-42bb-ac45-ae6bfa3aa973')\"\n",
              "              title=\"Convert this dataframe to an interactive table.\"\n",
              "              style=\"display:none;\">\n",
              "        \n",
              "  <svg xmlns=\"http://www.w3.org/2000/svg\" height=\"24px\"viewBox=\"0 0 24 24\"\n",
              "       width=\"24px\">\n",
              "    <path d=\"M0 0h24v24H0V0z\" fill=\"none\"/>\n",
              "    <path d=\"M18.56 5.44l.94 2.06.94-2.06 2.06-.94-2.06-.94-.94-2.06-.94 2.06-2.06.94zm-11 1L8.5 8.5l.94-2.06 2.06-.94-2.06-.94L8.5 2.5l-.94 2.06-2.06.94zm10 10l.94 2.06.94-2.06 2.06-.94-2.06-.94-.94-2.06-.94 2.06-2.06.94z\"/><path d=\"M17.41 7.96l-1.37-1.37c-.4-.4-.92-.59-1.43-.59-.52 0-1.04.2-1.43.59L10.3 9.45l-7.72 7.72c-.78.78-.78 2.05 0 2.83L4 21.41c.39.39.9.59 1.41.59.51 0 1.02-.2 1.41-.59l7.78-7.78 2.81-2.81c.8-.78.8-2.07 0-2.86zM5.41 20L4 18.59l7.72-7.72 1.47 1.35L5.41 20z\"/>\n",
              "  </svg>\n",
              "      </button>\n",
              "      \n",
              "  <style>\n",
              "    .colab-df-container {\n",
              "      display:flex;\n",
              "      flex-wrap:wrap;\n",
              "      gap: 12px;\n",
              "    }\n",
              "\n",
              "    .colab-df-convert {\n",
              "      background-color: #E8F0FE;\n",
              "      border: none;\n",
              "      border-radius: 50%;\n",
              "      cursor: pointer;\n",
              "      display: none;\n",
              "      fill: #1967D2;\n",
              "      height: 32px;\n",
              "      padding: 0 0 0 0;\n",
              "      width: 32px;\n",
              "    }\n",
              "\n",
              "    .colab-df-convert:hover {\n",
              "      background-color: #E2EBFA;\n",
              "      box-shadow: 0px 1px 2px rgba(60, 64, 67, 0.3), 0px 1px 3px 1px rgba(60, 64, 67, 0.15);\n",
              "      fill: #174EA6;\n",
              "    }\n",
              "\n",
              "    [theme=dark] .colab-df-convert {\n",
              "      background-color: #3B4455;\n",
              "      fill: #D2E3FC;\n",
              "    }\n",
              "\n",
              "    [theme=dark] .colab-df-convert:hover {\n",
              "      background-color: #434B5C;\n",
              "      box-shadow: 0px 1px 3px 1px rgba(0, 0, 0, 0.15);\n",
              "      filter: drop-shadow(0px 1px 2px rgba(0, 0, 0, 0.3));\n",
              "      fill: #FFFFFF;\n",
              "    }\n",
              "  </style>\n",
              "\n",
              "      <script>\n",
              "        const buttonEl =\n",
              "          document.querySelector('#df-1cddcb21-246c-42bb-ac45-ae6bfa3aa973 button.colab-df-convert');\n",
              "        buttonEl.style.display =\n",
              "          google.colab.kernel.accessAllowed ? 'block' : 'none';\n",
              "\n",
              "        async function convertToInteractive(key) {\n",
              "          const element = document.querySelector('#df-1cddcb21-246c-42bb-ac45-ae6bfa3aa973');\n",
              "          const dataTable =\n",
              "            await google.colab.kernel.invokeFunction('convertToInteractive',\n",
              "                                                     [key], {});\n",
              "          if (!dataTable) return;\n",
              "\n",
              "          const docLinkHtml = 'Like what you see? Visit the ' +\n",
              "            '<a target=\"_blank\" href=https://colab.research.google.com/notebooks/data_table.ipynb>data table notebook</a>'\n",
              "            + ' to learn more about interactive tables.';\n",
              "          element.innerHTML = '';\n",
              "          dataTable['output_type'] = 'display_data';\n",
              "          await google.colab.output.renderOutput(dataTable, element);\n",
              "          const docLink = document.createElement('div');\n",
              "          docLink.innerHTML = docLinkHtml;\n",
              "          element.appendChild(docLink);\n",
              "        }\n",
              "      </script>\n",
              "    </div>\n",
              "  </div>\n",
              "  "
            ]
          },
          "metadata": {},
          "execution_count": 3
        }
      ],
      "source": [
        "# Loading the data using pandas into mp {Monkey Pox}\n",
        "mp = pd.read_csv('DATA.csv', index_col= 0)\n",
        "mp.head()"
      ]
    },
    {
      "cell_type": "code",
      "execution_count": 4,
      "id": "9141437b",
      "metadata": {
        "colab": {
          "base_uri": "https://localhost:8080/"
        },
        "id": "9141437b",
        "outputId": "c064c9c9-28c2-4f48-f044-dc887f69d68b"
      },
      "outputs": [
        {
          "output_type": "execute_result",
          "data": {
            "text/plain": [
              "MonkeyPox\n",
              "Negative    3697\n",
              "Positive    8887\n",
              "Name: HIV Infection, dtype: int64"
            ]
          },
          "metadata": {},
          "execution_count": 4
        }
      ],
      "source": [
        "mp.groupby('MonkeyPox').sum()['HIV Infection']"
      ]
    },
    {
      "cell_type": "code",
      "execution_count": 5,
      "id": "d9120e63",
      "metadata": {
        "colab": {
          "base_uri": "https://localhost:8080/",
          "height": 613
        },
        "id": "d9120e63",
        "outputId": "66de7c23-b40b-49ae-f426-fe8b73aa0447"
      },
      "outputs": [
        {
          "output_type": "execute_result",
          "data": {
            "text/plain": [
              "<matplotlib.axes._subplots.AxesSubplot at 0x7fa5750110d0>"
            ]
          },
          "metadata": {},
          "execution_count": 5
        },
        {
          "output_type": "display_data",
          "data": {
            "text/plain": [
              "<Figure size 1440x720 with 2 Axes>"
            ],
            "image/png": "[encoded data removed]"
          },
          "metadata": {
            "needs_background": "light"
          }
        }
      ],
      "source": [
        "import matplotlib.pyplot as plt\n",
        "import seaborn as sns\n",
        "plt.figure(figsize=(20,10))\n",
        "corr = mp.corr()\n",
        "sns.heatmap(corr, annot=True, cmap=\"YlGnBu\")"
      ]
    },
    {
      "cell_type": "code",
      "execution_count": 6,
      "id": "88ecdb15",
      "metadata": {
        "colab": {
          "base_uri": "https://localhost:8080/"
        },
        "id": "88ecdb15",
        "outputId": "9fc959ca-af16-49ec-b138-2557f3360e37"
      },
      "outputs": [
        {
          "output_type": "stream",
          "name": "stdout",
          "text": [
            "<class 'pandas.core.frame.DataFrame'>\n",
            "Index: 25000 entries, P0 to P24999\n",
            "Data columns (total 10 columns):\n",
            " #   Column                          Non-Null Count  Dtype \n",
            "---  ------                          --------------  ----- \n",
            " 0   Systemic Illness                25000 non-null  object\n",
            " 1   Rectal Pain                     25000 non-null  bool  \n",
            " 2   Sore Throat                     25000 non-null  bool  \n",
            " 3   Penile Oedema                   25000 non-null  bool  \n",
            " 4   Oral Lesions                    25000 non-null  bool  \n",
            " 5   Solitary Lesion                 25000 non-null  bool  \n",
            " 6   Swollen Tonsils                 25000 non-null  bool  \n",
            " 7   HIV Infection                   25000 non-null  bool  \n",
            " 8   Sexually Transmitted Infection  25000 non-null  bool  \n",
            " 9   MonkeyPox                       25000 non-null  object\n",
            "dtypes: bool(8), object(2)\n",
            "memory usage: 781.2+ KB\n"
          ]
        }
      ],
      "source": [
        "# Checking the summary of the data\n",
        "\n",
        "mp.info()"
      ]
    },
    {
      "cell_type": "code",
      "execution_count": 7,
      "id": "98a0ed84",
      "metadata": {
        "colab": {
          "base_uri": "https://localhost:8080/"
        },
        "id": "98a0ed84",
        "outputId": "6d5dec61-161b-4c69-e1bd-73d3795b5ab9"
      },
      "outputs": [
        {
          "output_type": "execute_result",
          "data": {
            "text/plain": [
              "0"
            ]
          },
          "metadata": {},
          "execution_count": 7
        }
      ],
      "source": [
        "mp.index.duplicated().sum()"
      ]
    },
    {
      "cell_type": "code",
      "execution_count": 8,
      "id": "039ff310",
      "metadata": {
        "colab": {
          "base_uri": "https://localhost:8080/"
        },
        "id": "039ff310",
        "outputId": "107c2dfa-fd07-40b2-bf5e-2e09f509d3df"
      },
      "outputs": [
        {
          "output_type": "execute_result",
          "data": {
            "text/plain": [
              "['Rectal Pain',\n",
              " 'Sore Throat',\n",
              " 'Penile Oedema',\n",
              " 'Oral Lesions',\n",
              " 'Solitary Lesion',\n",
              " 'Swollen Tonsils',\n",
              " 'HIV Infection',\n",
              " 'Sexually Transmitted Infection',\n",
              " 'MonkeyPox']"
            ]
          },
          "metadata": {},
          "execution_count": 8
        }
      ],
      "source": [
        "# Making a list of all the bool columns to use in get_dummies\n",
        "col = list(mp.columns)\n",
        "\n",
        "col.remove('Systemic Illness')\n",
        "col"
      ]
    },
    {
      "cell_type": "code",
      "execution_count": 9,
      "id": "0d03dbbd",
      "metadata": {
        "colab": {
          "base_uri": "https://localhost:8080/"
        },
        "id": "0d03dbbd",
        "outputId": "38fa82e4-0fd4-447d-c44d-94dd8df5634d"
      },
      "outputs": [
        {
          "output_type": "execute_result",
          "data": {
            "text/plain": [
              "['Rectal Pain',\n",
              " 'Sore Throat',\n",
              " 'Penile Oedema',\n",
              " 'Oral Lesions',\n",
              " 'Solitary Lesion',\n",
              " 'Swollen Tonsils',\n",
              " 'HIV Infection',\n",
              " 'Sexually Transmitted Infection',\n",
              " 'MonkeyPox']"
            ]
          },
          "metadata": {},
          "execution_count": 9
        }
      ],
      "source": [
        "col"
      ]
    },
    {
      "cell_type": "code",
      "execution_count": 10,
      "id": "b648d7b1",
      "metadata": {
        "colab": {
          "base_uri": "https://localhost:8080/",
          "height": 175
        },
        "id": "b648d7b1",
        "outputId": "f9dc142e-9926-499d-a87b-0248af6826a0"
      },
      "outputs": [
        {
          "output_type": "execute_result",
          "data": {
            "text/plain": [
              "       Systemic Illness Rectal Pain Sore Throat Penile Oedema Oral Lesions  \\\n",
              "count             25000       25000       25000         25000        25000   \n",
              "unique                4           2           2             2            2   \n",
              "top               Fever       False        True          True        False   \n",
              "freq               6382       12655       12554         12612        12514   \n",
              "\n",
              "       Solitary Lesion Swollen Tonsils HIV Infection  \\\n",
              "count            25000           25000         25000   \n",
              "unique               2               2             2   \n",
              "top               True            True          True   \n",
              "freq             12527           12533         12584   \n",
              "\n",
              "       Sexually Transmitted Infection MonkeyPox  \n",
              "count                           25000     25000  \n",
              "unique                              2         2  \n",
              "top                             False  Positive  \n",
              "freq                            12554     15909  "
            ],
            "text/html": [
              "\n",
              "  <div id=\"df-4b1710b3-3495-4aa2-b27f-243c38ecf251\">\n",
              "    <div class=\"colab-df-container\">\n",
              "      <div>\n",
              "<style scoped>\n",
              "    .dataframe tbody tr th:only-of-type {\n",
              "        vertical-align: middle;\n",
              "    }\n",
              "\n",
              "    .dataframe tbody tr th {\n",
              "        vertical-align: top;\n",
              "    }\n",
              "\n",
              "    .dataframe thead th {\n",
              "        text-align: right;\n",
              "    }\n",
              "</style>\n",
              "<table border=\"1\" class=\"dataframe\">\n",
              "  <thead>\n",
              "    <tr style=\"text-align: right;\">\n",
              "      <th></th>\n",
              "      <th>Systemic Illness</th>\n",
              "      <th>Rectal Pain</th>\n",
              "      <th>Sore Throat</th>\n",
              "      <th>Penile Oedema</th>\n",
              "      <th>Oral Lesions</th>\n",
              "      <th>Solitary Lesion</th>\n",
              "      <th>Swollen Tonsils</th>\n",
              "      <th>HIV Infection</th>\n",
              "      <th>Sexually Transmitted Infection</th>\n",
              "      <th>MonkeyPox</th>\n",
              "    </tr>\n",
              "  </thead>\n",
              "  <tbody>\n",
              "    <tr>\n",
              "      <th>count</th>\n",
              "      <td>25000</td>\n",
              "      <td>25000</td>\n",
              "      <td>25000</td>\n",
              "      <td>25000</td>\n",
              "      <td>25000</td>\n",
              "      <td>25000</td>\n",
              "      <td>25000</td>\n",
              "      <td>25000</td>\n",
              "      <td>25000</td>\n",
              "      <td>25000</td>\n",
              "    </tr>\n",
              "    <tr>\n",
              "      <th>unique</th>\n",
              "      <td>4</td>\n",
              "      <td>2</td>\n",
              "      <td>2</td>\n",
              "      <td>2</td>\n",
              "      <td>2</td>\n",
              "      <td>2</td>\n",
              "      <td>2</td>\n",
              "      <td>2</td>\n",
              "      <td>2</td>\n",
              "      <td>2</td>\n",
              "    </tr>\n",
              "    <tr>\n",
              "      <th>top</th>\n",
              "      <td>Fever</td>\n",
              "      <td>False</td>\n",
              "      <td>True</td>\n",
              "      <td>True</td>\n",
              "      <td>False</td>\n",
              "      <td>True</td>\n",
              "      <td>True</td>\n",
              "      <td>True</td>\n",
              "      <td>False</td>\n",
              "      <td>Positive</td>\n",
              "    </tr>\n",
              "    <tr>\n",
              "      <th>freq</th>\n",
              "      <td>6382</td>\n",
              "      <td>12655</td>\n",
              "      <td>12554</td>\n",
              "      <td>12612</td>\n",
              "      <td>12514</td>\n",
              "      <td>12527</td>\n",
              "      <td>12533</td>\n",
              "      <td>12584</td>\n",
              "      <td>12554</td>\n",
              "      <td>15909</td>\n",
              "    </tr>\n",
              "  </tbody>\n",
              "</table>\n",
              "</div>\n",
              "      <button class=\"colab-df-convert\" onclick=\"convertToInteractive('df-4b1710b3-3495-4aa2-b27f-243c38ecf251')\"\n",
              "              title=\"Convert this dataframe to an interactive table.\"\n",
              "              style=\"display:none;\">\n",
              "        \n",
              "  <svg xmlns=\"http://www.w3.org/2000/svg\" height=\"24px\"viewBox=\"0 0 24 24\"\n",
              "       width=\"24px\">\n",
              "    <path d=\"M0 0h24v24H0V0z\" fill=\"none\"/>\n",
              "    <path d=\"M18.56 5.44l.94 2.06.94-2.06 2.06-.94-2.06-.94-.94-2.06-.94 2.06-2.06.94zm-11 1L8.5 8.5l.94-2.06 2.06-.94-2.06-.94L8.5 2.5l-.94 2.06-2.06.94zm10 10l.94 2.06.94-2.06 2.06-.94-2.06-.94-.94-2.06-.94 2.06-2.06.94z\"/><path d=\"M17.41 7.96l-1.37-1.37c-.4-.4-.92-.59-1.43-.59-.52 0-1.04.2-1.43.59L10.3 9.45l-7.72 7.72c-.78.78-.78 2.05 0 2.83L4 21.41c.39.39.9.59 1.41.59.51 0 1.02-.2 1.41-.59l7.78-7.78 2.81-2.81c.8-.78.8-2.07 0-2.86zM5.41 20L4 18.59l7.72-7.72 1.47 1.35L5.41 20z\"/>\n",
              "  </svg>\n",
              "      </button>\n",
              "      \n",
              "  <style>\n",
              "    .colab-df-container {\n",
              "      display:flex;\n",
              "      flex-wrap:wrap;\n",
              "      gap: 12px;\n",
              "    }\n",
              "\n",
              "    .colab-df-convert {\n",
              "      background-color: #E8F0FE;\n",
              "      border: none;\n",
              "      border-radius: 50%;\n",
              "      cursor: pointer;\n",
              "      display: none;\n",
              "      fill: #1967D2;\n",
              "      height: 32px;\n",
              "      padding: 0 0 0 0;\n",
              "      width: 32px;\n",
              "    }\n",
              "\n",
              "    .colab-df-convert:hover {\n",
              "      background-color: #E2EBFA;\n",
              "      box-shadow: 0px 1px 2px rgba(60, 64, 67, 0.3), 0px 1px 3px 1px rgba(60, 64, 67, 0.15);\n",
              "      fill: #174EA6;\n",
              "    }\n",
              "\n",
              "    [theme=dark] .colab-df-convert {\n",
              "      background-color: #3B4455;\n",
              "      fill: #D2E3FC;\n",
              "    }\n",
              "\n",
              "    [theme=dark] .colab-df-convert:hover {\n",
              "      background-color: #434B5C;\n",
              "      box-shadow: 0px 1px 3px 1px rgba(0, 0, 0, 0.15);\n",
              "      filter: drop-shadow(0px 1px 2px rgba(0, 0, 0, 0.3));\n",
              "      fill: #FFFFFF;\n",
              "    }\n",
              "  </style>\n",
              "\n",
              "      <script>\n",
              "        const buttonEl =\n",
              "          document.querySelector('#df-4b1710b3-3495-4aa2-b27f-243c38ecf251 button.colab-df-convert');\n",
              "        buttonEl.style.display =\n",
              "          google.colab.kernel.accessAllowed ? 'block' : 'none';\n",
              "\n",
              "        async function convertToInteractive(key) {\n",
              "          const element = document.querySelector('#df-4b1710b3-3495-4aa2-b27f-243c38ecf251');\n",
              "          const dataTable =\n",
              "            await google.colab.kernel.invokeFunction('convertToInteractive',\n",
              "                                                     [key], {});\n",
              "          if (!dataTable) return;\n",
              "\n",
              "          const docLinkHtml = 'Like what you see? Visit the ' +\n",
              "            '<a target=\"_blank\" href=https://colab.research.google.com/notebooks/data_table.ipynb>data table notebook</a>'\n",
              "            + ' to learn more about interactive tables.';\n",
              "          element.innerHTML = '';\n",
              "          dataTable['output_type'] = 'display_data';\n",
              "          await google.colab.output.renderOutput(dataTable, element);\n",
              "          const docLink = document.createElement('div');\n",
              "          docLink.innerHTML = docLinkHtml;\n",
              "          element.appendChild(docLink);\n",
              "        }\n",
              "      </script>\n",
              "    </div>\n",
              "  </div>\n",
              "  "
            ]
          },
          "metadata": {},
          "execution_count": 10
        }
      ],
      "source": [
        "mp.describe()"
      ]
    },
    {
      "cell_type": "code",
      "execution_count": 11,
      "id": "b476acdb",
      "metadata": {
        "colab": {
          "base_uri": "https://localhost:8080/"
        },
        "id": "b476acdb",
        "outputId": "d39696b8-647f-4e05-bbe6-0708dc9bc803"
      },
      "outputs": [
        {
          "output_type": "execute_result",
          "data": {
            "text/plain": [
              "Fever                    6382\n",
              "Swollen Lymph Nodes      6252\n",
              "None                     6216\n",
              "Muscle Aches and Pain    6150\n",
              "Name: Systemic Illness, dtype: int64"
            ]
          },
          "metadata": {},
          "execution_count": 11
        }
      ],
      "source": [
        "# Checking on the uniue value counts in Systemic Illness\n",
        "mp['Systemic Illness'].value_counts()"
      ]
    },
    {
      "cell_type": "code",
      "execution_count": 12,
      "id": "5e87b09e",
      "metadata": {
        "id": "5e87b09e"
      },
      "outputs": [],
      "source": [
        "# Reducing ambiguity in the systemic illness column we change none to No systemic Illness\n",
        "\n",
        "mp['Systemic Illness'].replace(to_replace= 'None',value= 'No Systemic Illness',inplace= True)"
      ]
    },
    {
      "cell_type": "code",
      "execution_count": 13,
      "id": "6c35ab55",
      "metadata": {
        "colab": {
          "base_uri": "https://localhost:8080/"
        },
        "id": "6c35ab55",
        "outputId": "d4a816fa-ade4-4aac-84eb-e2d89cc5f30d"
      },
      "outputs": [
        {
          "output_type": "execute_result",
          "data": {
            "text/plain": [
              "Fever                    6382\n",
              "Swollen Lymph Nodes      6252\n",
              "No Systemic Illness      6216\n",
              "Muscle Aches and Pain    6150\n",
              "Name: Systemic Illness, dtype: int64"
            ]
          },
          "metadata": {},
          "execution_count": 13
        }
      ],
      "source": [
        "# Confirming change\n",
        "mp['Systemic Illness'].value_counts()"
      ]
    },
    {
      "cell_type": "markdown",
      "id": "2fb9aa4d",
      "metadata": {
        "id": "2fb9aa4d"
      },
      "source": [
        "From the above info we can see that all the columns have only two unique values meaning converting to int will not be as complicated.\n",
        "\n",
        "Systemic illness has the most with 4.\n",
        "\n",
        "data cleaning will be relatievly easy as the data has no missing values and no duplicates.\n",
        "\n",
        "Only task is type casting.\n"
      ]
    },
    {
      "cell_type": "code",
      "execution_count": 14,
      "id": "26bbcdd1",
      "metadata": {
        "colab": {
          "base_uri": "https://localhost:8080/",
          "height": 455
        },
        "id": "26bbcdd1",
        "outputId": "55e56b4b-6bbe-4472-d767-b98b59e49d80"
      },
      "outputs": [
        {
          "output_type": "execute_result",
          "data": {
            "text/plain": [
              "            Systemic Illness_Fever  Systemic Illness_Muscle Aches and Pain  \\\n",
              "Patient_ID                                                                   \n",
              "P0                               0                                       0   \n",
              "P1                               1                                       0   \n",
              "P2                               1                                       0   \n",
              "P3                               0                                       0   \n",
              "P4                               0                                       0   \n",
              "...                            ...                                     ...   \n",
              "P24995                           0                                       0   \n",
              "P24996                           1                                       0   \n",
              "P24997                           0                                       0   \n",
              "P24998                           0                                       0   \n",
              "P24999                           0                                       0   \n",
              "\n",
              "            Systemic Illness_No Systemic Illness  \\\n",
              "Patient_ID                                         \n",
              "P0                                             1   \n",
              "P1                                             0   \n",
              "P2                                             0   \n",
              "P3                                             1   \n",
              "P4                                             0   \n",
              "...                                          ...   \n",
              "P24995                                         1   \n",
              "P24996                                         0   \n",
              "P24997                                         1   \n",
              "P24998                                         0   \n",
              "P24999                                         0   \n",
              "\n",
              "            Systemic Illness_Swollen Lymph Nodes  \n",
              "Patient_ID                                        \n",
              "P0                                             0  \n",
              "P1                                             0  \n",
              "P2                                             0  \n",
              "P3                                             0  \n",
              "P4                                             1  \n",
              "...                                          ...  \n",
              "P24995                                         0  \n",
              "P24996                                         0  \n",
              "P24997                                         0  \n",
              "P24998                                         1  \n",
              "P24999                                         1  \n",
              "\n",
              "[25000 rows x 4 columns]"
            ],
            "text/html": [
              "\n",
              "  <div id=\"df-d7679e5b-5bb0-4ce5-8e2a-f833a8fd1168\">\n",
              "    <div class=\"colab-df-container\">\n",
              "      <div>\n",
              "<style scoped>\n",
              "    .dataframe tbody tr th:only-of-type {\n",
              "        vertical-align: middle;\n",
              "    }\n",
              "\n",
              "    .dataframe tbody tr th {\n",
              "        vertical-align: top;\n",
              "    }\n",
              "\n",
              "    .dataframe thead th {\n",
              "        text-align: right;\n",
              "    }\n",
              "</style>\n",
              "<table border=\"1\" class=\"dataframe\">\n",
              "  <thead>\n",
              "    <tr style=\"text-align: right;\">\n",
              "      <th></th>\n",
              "      <th>Systemic Illness_Fever</th>\n",
              "      <th>Systemic Illness_Muscle Aches and Pain</th>\n",
              "      <th>Systemic Illness_No Systemic Illness</th>\n",
              "      <th>Systemic Illness_Swollen Lymph Nodes</th>\n",
              "    </tr>\n",
              "    <tr>\n",
              "      <th>Patient_ID</th>\n",
              "      <th></th>\n",
              "      <th></th>\n",
              "      <th></th>\n",
              "      <th></th>\n",
              "    </tr>\n",
              "  </thead>\n",
              "  <tbody>\n",
              "    <tr>\n",
              "      <th>P0</th>\n",
              "      <td>0</td>\n",
              "      <td>0</td>\n",
              "      <td>1</td>\n",
              "      <td>0</td>\n",
              "    </tr>\n",
              "    <tr>\n",
              "      <th>P1</th>\n",
              "      <td>1</td>\n",
              "      <td>0</td>\n",
              "      <td>0</td>\n",
              "      <td>0</td>\n",
              "    </tr>\n",
              "    <tr>\n",
              "      <th>P2</th>\n",
              "      <td>1</td>\n",
              "      <td>0</td>\n",
              "      <td>0</td>\n",
              "      <td>0</td>\n",
              "    </tr>\n",
              "    <tr>\n",
              "      <th>P3</th>\n",
              "      <td>0</td>\n",
              "      <td>0</td>\n",
              "      <td>1</td>\n",
              "      <td>0</td>\n",
              "    </tr>\n",
              "    <tr>\n",
              "      <th>P4</th>\n",
              "      <td>0</td>\n",
              "      <td>0</td>\n",
              "      <td>0</td>\n",
              "      <td>1</td>\n",
              "    </tr>\n",
              "    <tr>\n",
              "      <th>...</th>\n",
              "      <td>...</td>\n",
              "      <td>...</td>\n",
              "      <td>...</td>\n",
              "      <td>...</td>\n",
              "    </tr>\n",
              "    <tr>\n",
              "      <th>P24995</th>\n",
              "      <td>0</td>\n",
              "      <td>0</td>\n",
              "      <td>1</td>\n",
              "      <td>0</td>\n",
              "    </tr>\n",
              "    <tr>\n",
              "      <th>P24996</th>\n",
              "      <td>1</td>\n",
              "      <td>0</td>\n",
              "      <td>0</td>\n",
              "      <td>0</td>\n",
              "    </tr>\n",
              "    <tr>\n",
              "      <th>P24997</th>\n",
              "      <td>0</td>\n",
              "      <td>0</td>\n",
              "      <td>1</td>\n",
              "      <td>0</td>\n",
              "    </tr>\n",
              "    <tr>\n",
              "      <th>P24998</th>\n",
              "      <td>0</td>\n",
              "      <td>0</td>\n",
              "      <td>0</td>\n",
              "      <td>1</td>\n",
              "    </tr>\n",
              "    <tr>\n",
              "      <th>P24999</th>\n",
              "      <td>0</td>\n",
              "      <td>0</td>\n",
              "      <td>0</td>\n",
              "      <td>1</td>\n",
              "    </tr>\n",
              "  </tbody>\n",
              "</table>\n",
              "<p>25000 rows × 4 columns</p>\n",
              "</div>\n",
              "      <button class=\"colab-df-convert\" onclick=\"convertToInteractive('df-d7679e5b-5bb0-4ce5-8e2a-f833a8fd1168')\"\n",
              "              title=\"Convert this dataframe to an interactive table.\"\n",
              "              style=\"display:none;\">\n",
              "        \n",
              "  <svg xmlns=\"http://www.w3.org/2000/svg\" height=\"24px\"viewBox=\"0 0 24 24\"\n",
              "       width=\"24px\">\n",
              "    <path d=\"M0 0h24v24H0V0z\" fill=\"none\"/>\n",
              "    <path d=\"M18.56 5.44l.94 2.06.94-2.06 2.06-.94-2.06-.94-.94-2.06-.94 2.06-2.06.94zm-11 1L8.5 8.5l.94-2.06 2.06-.94-2.06-.94L8.5 2.5l-.94 2.06-2.06.94zm10 10l.94 2.06.94-2.06 2.06-.94-2.06-.94-.94-2.06-.94 2.06-2.06.94z\"/><path d=\"M17.41 7.96l-1.37-1.37c-.4-.4-.92-.59-1.43-.59-.52 0-1.04.2-1.43.59L10.3 9.45l-7.72 7.72c-.78.78-.78 2.05 0 2.83L4 21.41c.39.39.9.59 1.41.59.51 0 1.02-.2 1.41-.59l7.78-7.78 2.81-2.81c.8-.78.8-2.07 0-2.86zM5.41 20L4 18.59l7.72-7.72 1.47 1.35L5.41 20z\"/>\n",
              "  </svg>\n",
              "      </button>\n",
              "      \n",
              "  <style>\n",
              "    .colab-df-container {\n",
              "      display:flex;\n",
              "      flex-wrap:wrap;\n",
              "      gap: 12px;\n",
              "    }\n",
              "\n",
              "    .colab-df-convert {\n",
              "      background-color: #E8F0FE;\n",
              "      border: none;\n",
              "      border-radius: 50%;\n",
              "      cursor: pointer;\n",
              "      display: none;\n",
              "      fill: #1967D2;\n",
              "      height: 32px;\n",
              "      padding: 0 0 0 0;\n",
              "      width: 32px;\n",
              "    }\n",
              "\n",
              "    .colab-df-convert:hover {\n",
              "      background-color: #E2EBFA;\n",
              "      box-shadow: 0px 1px 2px rgba(60, 64, 67, 0.3), 0px 1px 3px 1px rgba(60, 64, 67, 0.15);\n",
              "      fill: #174EA6;\n",
              "    }\n",
              "\n",
              "    [theme=dark] .colab-df-convert {\n",
              "      background-color: #3B4455;\n",
              "      fill: #D2E3FC;\n",
              "    }\n",
              "\n",
              "    [theme=dark] .colab-df-convert:hover {\n",
              "      background-color: #434B5C;\n",
              "      box-shadow: 0px 1px 3px 1px rgba(0, 0, 0, 0.15);\n",
              "      filter: drop-shadow(0px 1px 2px rgba(0, 0, 0, 0.3));\n",
              "      fill: #FFFFFF;\n",
              "    }\n",
              "  </style>\n",
              "\n",
              "      <script>\n",
              "        const buttonEl =\n",
              "          document.querySelector('#df-d7679e5b-5bb0-4ce5-8e2a-f833a8fd1168 button.colab-df-convert');\n",
              "        buttonEl.style.display =\n",
              "          google.colab.kernel.accessAllowed ? 'block' : 'none';\n",
              "\n",
              "        async function convertToInteractive(key) {\n",
              "          const element = document.querySelector('#df-d7679e5b-5bb0-4ce5-8e2a-f833a8fd1168');\n",
              "          const dataTable =\n",
              "            await google.colab.kernel.invokeFunction('convertToInteractive',\n",
              "                                                     [key], {});\n",
              "          if (!dataTable) return;\n",
              "\n",
              "          const docLinkHtml = 'Like what you see? Visit the ' +\n",
              "            '<a target=\"_blank\" href=https://colab.research.google.com/notebooks/data_table.ipynb>data table notebook</a>'\n",
              "            + ' to learn more about interactive tables.';\n",
              "          element.innerHTML = '';\n",
              "          dataTable['output_type'] = 'display_data';\n",
              "          await google.colab.output.renderOutput(dataTable, element);\n",
              "          const docLink = document.createElement('div');\n",
              "          docLink.innerHTML = docLinkHtml;\n",
              "          element.appendChild(docLink);\n",
              "        }\n",
              "      </script>\n",
              "    </div>\n",
              "  </div>\n",
              "  "
            ]
          },
          "metadata": {},
          "execution_count": 14
        }
      ],
      "source": [
        "# type casting Systemic illness by using get dummies\n",
        "df = pd.get_dummies(data= mp, columns= ['Systemic Illness'],drop_first= False)\n",
        "# dropping every other column to isolate the systemic illness ...will concat later.\n",
        "df_Systemic = df.drop(columns= col,axis = 1)\n",
        "df_Systemic"
      ]
    },
    {
      "cell_type": "code",
      "execution_count": 15,
      "id": "505e3917",
      "metadata": {
        "colab": {
          "base_uri": "https://localhost:8080/",
          "height": 638
        },
        "id": "505e3917",
        "outputId": "5d768f73-c319-4f40-8bf3-37ba9555ab1b"
      },
      "outputs": [
        {
          "output_type": "execute_result",
          "data": {
            "text/plain": [
              "               Systemic Illness  Rectal Pain_True  Sore Throat_True  \\\n",
              "Patient_ID                                                            \n",
              "P0          No Systemic Illness                 0                 1   \n",
              "P1                        Fever                 1                 0   \n",
              "P2                        Fever                 0                 1   \n",
              "P3          No Systemic Illness                 1                 0   \n",
              "P4          Swollen Lymph Nodes                 1                 1   \n",
              "...                         ...               ...               ...   \n",
              "P24995      No Systemic Illness                 1                 1   \n",
              "P24996                    Fever                 0                 1   \n",
              "P24997      No Systemic Illness                 1                 1   \n",
              "P24998      Swollen Lymph Nodes                 0                 1   \n",
              "P24999      Swollen Lymph Nodes                 0                 0   \n",
              "\n",
              "            Penile Oedema_True  Oral Lesions_True  Solitary Lesion_True  \\\n",
              "Patient_ID                                                                \n",
              "P0                           1                  1                     0   \n",
              "P1                           1                  1                     0   \n",
              "P2                           1                  0                     0   \n",
              "P3                           0                  0                     1   \n",
              "P4                           1                  0                     0   \n",
              "...                        ...                ...                   ...   \n",
              "P24995                       0                  1                     1   \n",
              "P24996                       1                  0                     1   \n",
              "P24997                       0                  0                     1   \n",
              "P24998                       0                  1                     1   \n",
              "P24999                       1                  0                     0   \n",
              "\n",
              "            Swollen Tonsils_True  HIV Infection_True  \\\n",
              "Patient_ID                                             \n",
              "P0                             1                   0   \n",
              "P1                             0                   1   \n",
              "P2                             0                   1   \n",
              "P3                             1                   1   \n",
              "P4                             1                   1   \n",
              "...                          ...                 ...   \n",
              "P24995                         0                   0   \n",
              "P24996                         1                   1   \n",
              "P24997                         1                   0   \n",
              "P24998                         1                   0   \n",
              "P24999                         1                   1   \n",
              "\n",
              "            Sexually Transmitted Infection_True  MonkeyPox_Positive  \n",
              "Patient_ID                                                           \n",
              "P0                                            0                   0  \n",
              "P1                                            0                   1  \n",
              "P2                                            0                   1  \n",
              "P3                                            0                   1  \n",
              "P4                                            0                   1  \n",
              "...                                         ...                 ...  \n",
              "P24995                                        1                   1  \n",
              "P24996                                        1                   1  \n",
              "P24997                                        0                   1  \n",
              "P24998                                        0                   0  \n",
              "P24999                                        0                   1  \n",
              "\n",
              "[25000 rows x 10 columns]"
            ],
            "text/html": [
              "\n",
              "  <div id=\"df-261d971e-ff80-49e2-b0e5-b60a7669cdf8\">\n",
              "    <div class=\"colab-df-container\">\n",
              "      <div>\n",
              "<style scoped>\n",
              "    .dataframe tbody tr th:only-of-type {\n",
              "        vertical-align: middle;\n",
              "    }\n",
              "\n",
              "    .dataframe tbody tr th {\n",
              "        vertical-align: top;\n",
              "    }\n",
              "\n",
              "    .dataframe thead th {\n",
              "        text-align: right;\n",
              "    }\n",
              "</style>\n",
              "<table border=\"1\" class=\"dataframe\">\n",
              "  <thead>\n",
              "    <tr style=\"text-align: right;\">\n",
              "      <th></th>\n",
              "      <th>Systemic Illness</th>\n",
              "      <th>Rectal Pain_True</th>\n",
              "      <th>Sore Throat_True</th>\n",
              "      <th>Penile Oedema_True</th>\n",
              "      <th>Oral Lesions_True</th>\n",
              "      <th>Solitary Lesion_True</th>\n",
              "      <th>Swollen Tonsils_True</th>\n",
              "      <th>HIV Infection_True</th>\n",
              "      <th>Sexually Transmitted Infection_True</th>\n",
              "      <th>MonkeyPox_Positive</th>\n",
              "    </tr>\n",
              "    <tr>\n",
              "      <th>Patient_ID</th>\n",
              "      <th></th>\n",
              "      <th></th>\n",
              "      <th></th>\n",
              "      <th></th>\n",
              "      <th></th>\n",
              "      <th></th>\n",
              "      <th></th>\n",
              "      <th></th>\n",
              "      <th></th>\n",
              "      <th></th>\n",
              "    </tr>\n",
              "  </thead>\n",
              "  <tbody>\n",
              "    <tr>\n",
              "      <th>P0</th>\n",
              "      <td>No Systemic Illness</td>\n",
              "      <td>0</td>\n",
              "      <td>1</td>\n",
              "      <td>1</td>\n",
              "      <td>1</td>\n",
              "      <td>0</td>\n",
              "      <td>1</td>\n",
              "      <td>0</td>\n",
              "      <td>0</td>\n",
              "      <td>0</td>\n",
              "    </tr>\n",
              "    <tr>\n",
              "      <th>P1</th>\n",
              "      <td>Fever</td>\n",
              "      <td>1</td>\n",
              "      <td>0</td>\n",
              "      <td>1</td>\n",
              "      <td>1</td>\n",
              "      <td>0</td>\n",
              "      <td>0</td>\n",
              "      <td>1</td>\n",
              "      <td>0</td>\n",
              "      <td>1</td>\n",
              "    </tr>\n",
              "    <tr>\n",
              "      <th>P2</th>\n",
              "      <td>Fever</td>\n",
              "      <td>0</td>\n",
              "      <td>1</td>\n",
              "      <td>1</td>\n",
              "      <td>0</td>\n",
              "      <td>0</td>\n",
              "      <td>0</td>\n",
              "      <td>1</td>\n",
              "      <td>0</td>\n",
              "      <td>1</td>\n",
              "    </tr>\n",
              "    <tr>\n",
              "      <th>P3</th>\n",
              "      <td>No Systemic Illness</td>\n",
              "      <td>1</td>\n",
              "      <td>0</td>\n",
              "      <td>0</td>\n",
              "      <td>0</td>\n",
              "      <td>1</td>\n",
              "      <td>1</td>\n",
              "      <td>1</td>\n",
              "      <td>0</td>\n",
              "      <td>1</td>\n",
              "    </tr>\n",
              "    <tr>\n",
              "      <th>P4</th>\n",
              "      <td>Swollen Lymph Nodes</td>\n",
              "      <td>1</td>\n",
              "      <td>1</td>\n",
              "      <td>1</td>\n",
              "      <td>0</td>\n",
              "      <td>0</td>\n",
              "      <td>1</td>\n",
              "      <td>1</td>\n",
              "      <td>0</td>\n",
              "      <td>1</td>\n",
              "    </tr>\n",
              "    <tr>\n",
              "      <th>...</th>\n",
              "      <td>...</td>\n",
              "      <td>...</td>\n",
              "      <td>...</td>\n",
              "      <td>...</td>\n",
              "      <td>...</td>\n",
              "      <td>...</td>\n",
              "      <td>...</td>\n",
              "      <td>...</td>\n",
              "      <td>...</td>\n",
              "      <td>...</td>\n",
              "    </tr>\n",
              "    <tr>\n",
              "      <th>P24995</th>\n",
              "      <td>No Systemic Illness</td>\n",
              "      <td>1</td>\n",
              "      <td>1</td>\n",
              "      <td>0</td>\n",
              "      <td>1</td>\n",
              "      <td>1</td>\n",
              "      <td>0</td>\n",
              "      <td>0</td>\n",
              "      <td>1</td>\n",
              "      <td>1</td>\n",
              "    </tr>\n",
              "    <tr>\n",
              "      <th>P24996</th>\n",
              "      <td>Fever</td>\n",
              "      <td>0</td>\n",
              "      <td>1</td>\n",
              "      <td>1</td>\n",
              "      <td>0</td>\n",
              "      <td>1</td>\n",
              "      <td>1</td>\n",
              "      <td>1</td>\n",
              "      <td>1</td>\n",
              "      <td>1</td>\n",
              "    </tr>\n",
              "    <tr>\n",
              "      <th>P24997</th>\n",
              "      <td>No Systemic Illness</td>\n",
              "      <td>1</td>\n",
              "      <td>1</td>\n",
              "      <td>0</td>\n",
              "      <td>0</td>\n",
              "      <td>1</td>\n",
              "      <td>1</td>\n",
              "      <td>0</td>\n",
              "      <td>0</td>\n",
              "      <td>1</td>\n",
              "    </tr>\n",
              "    <tr>\n",
              "      <th>P24998</th>\n",
              "      <td>Swollen Lymph Nodes</td>\n",
              "      <td>0</td>\n",
              "      <td>1</td>\n",
              "      <td>0</td>\n",
              "      <td>1</td>\n",
              "      <td>1</td>\n",
              "      <td>1</td>\n",
              "      <td>0</td>\n",
              "      <td>0</td>\n",
              "      <td>0</td>\n",
              "    </tr>\n",
              "    <tr>\n",
              "      <th>P24999</th>\n",
              "      <td>Swollen Lymph Nodes</td>\n",
              "      <td>0</td>\n",
              "      <td>0</td>\n",
              "      <td>1</td>\n",
              "      <td>0</td>\n",
              "      <td>0</td>\n",
              "      <td>1</td>\n",
              "      <td>1</td>\n",
              "      <td>0</td>\n",
              "      <td>1</td>\n",
              "    </tr>\n",
              "  </tbody>\n",
              "</table>\n",
              "<p>25000 rows × 10 columns</p>\n",
              "</div>\n",
              "      <button class=\"colab-df-convert\" onclick=\"convertToInteractive('df-261d971e-ff80-49e2-b0e5-b60a7669cdf8')\"\n",
              "              title=\"Convert this dataframe to an interactive table.\"\n",
              "              style=\"display:none;\">\n",
              "        \n",
              "  <svg xmlns=\"http://www.w3.org/2000/svg\" height=\"24px\"viewBox=\"0 0 24 24\"\n",
              "       width=\"24px\">\n",
              "    <path d=\"M0 0h24v24H0V0z\" fill=\"none\"/>\n",
              "    <path d=\"M18.56 5.44l.94 2.06.94-2.06 2.06-.94-2.06-.94-.94-2.06-.94 2.06-2.06.94zm-11 1L8.5 8.5l.94-2.06 2.06-.94-2.06-.94L8.5 2.5l-.94 2.06-2.06.94zm10 10l.94 2.06.94-2.06 2.06-.94-2.06-.94-.94-2.06-.94 2.06-2.06.94z\"/><path d=\"M17.41 7.96l-1.37-1.37c-.4-.4-.92-.59-1.43-.59-.52 0-1.04.2-1.43.59L10.3 9.45l-7.72 7.72c-.78.78-.78 2.05 0 2.83L4 21.41c.39.39.9.59 1.41.59.51 0 1.02-.2 1.41-.59l7.78-7.78 2.81-2.81c.8-.78.8-2.07 0-2.86zM5.41 20L4 18.59l7.72-7.72 1.47 1.35L5.41 20z\"/>\n",
              "  </svg>\n",
              "      </button>\n",
              "      \n",
              "  <style>\n",
              "    .colab-df-container {\n",
              "      display:flex;\n",
              "      flex-wrap:wrap;\n",
              "      gap: 12px;\n",
              "    }\n",
              "\n",
              "    .colab-df-convert {\n",
              "      background-color: #E8F0FE;\n",
              "      border: none;\n",
              "      border-radius: 50%;\n",
              "      cursor: pointer;\n",
              "      display: none;\n",
              "      fill: #1967D2;\n",
              "      height: 32px;\n",
              "      padding: 0 0 0 0;\n",
              "      width: 32px;\n",
              "    }\n",
              "\n",
              "    .colab-df-convert:hover {\n",
              "      background-color: #E2EBFA;\n",
              "      box-shadow: 0px 1px 2px rgba(60, 64, 67, 0.3), 0px 1px 3px 1px rgba(60, 64, 67, 0.15);\n",
              "      fill: #174EA6;\n",
              "    }\n",
              "\n",
              "    [theme=dark] .colab-df-convert {\n",
              "      background-color: #3B4455;\n",
              "      fill: #D2E3FC;\n",
              "    }\n",
              "\n",
              "    [theme=dark] .colab-df-convert:hover {\n",
              "      background-color: #434B5C;\n",
              "      box-shadow: 0px 1px 3px 1px rgba(0, 0, 0, 0.15);\n",
              "      filter: drop-shadow(0px 1px 2px rgba(0, 0, 0, 0.3));\n",
              "      fill: #FFFFFF;\n",
              "    }\n",
              "  </style>\n",
              "\n",
              "      <script>\n",
              "        const buttonEl =\n",
              "          document.querySelector('#df-261d971e-ff80-49e2-b0e5-b60a7669cdf8 button.colab-df-convert');\n",
              "        buttonEl.style.display =\n",
              "          google.colab.kernel.accessAllowed ? 'block' : 'none';\n",
              "\n",
              "        async function convertToInteractive(key) {\n",
              "          const element = document.querySelector('#df-261d971e-ff80-49e2-b0e5-b60a7669cdf8');\n",
              "          const dataTable =\n",
              "            await google.colab.kernel.invokeFunction('convertToInteractive',\n",
              "                                                     [key], {});\n",
              "          if (!dataTable) return;\n",
              "\n",
              "          const docLinkHtml = 'Like what you see? Visit the ' +\n",
              "            '<a target=\"_blank\" href=https://colab.research.google.com/notebooks/data_table.ipynb>data table notebook</a>'\n",
              "            + ' to learn more about interactive tables.';\n",
              "          element.innerHTML = '';\n",
              "          dataTable['output_type'] = 'display_data';\n",
              "          await google.colab.output.renderOutput(dataTable, element);\n",
              "          const docLink = document.createElement('div');\n",
              "          docLink.innerHTML = docLinkHtml;\n",
              "          element.appendChild(docLink);\n",
              "        }\n",
              "      </script>\n",
              "    </div>\n",
              "  </div>\n",
              "  "
            ]
          },
          "metadata": {},
          "execution_count": 15
        }
      ],
      "source": [
        "df_d = pd.get_dummies(data = mp, columns= col, drop_first= True)\n",
        "df_d"
      ]
    },
    {
      "cell_type": "code",
      "execution_count": 16,
      "id": "2851b176",
      "metadata": {
        "id": "2851b176"
      },
      "outputs": [],
      "source": [
        "# Dropping Systemic illness as its already dummied out\n",
        "\n",
        "df_d.drop(axis = 1, columns= ['Systemic Illness'] ,inplace = True)\n"
      ]
    },
    {
      "cell_type": "code",
      "execution_count": 17,
      "id": "ee5e508f",
      "metadata": {
        "scrolled": false,
        "colab": {
          "base_uri": "https://localhost:8080/",
          "height": 299
        },
        "id": "ee5e508f",
        "outputId": "cc6ae115-5790-40ae-9a23-035fa3807bfa"
      },
      "outputs": [
        {
          "output_type": "execute_result",
          "data": {
            "text/plain": [
              "            Rectal Pain_True  Sore Throat_True  Penile Oedema_True  \\\n",
              "Patient_ID                                                           \n",
              "P0                         0                 1                   1   \n",
              "P1                         1                 0                   1   \n",
              "P2                         0                 1                   1   \n",
              "P3                         1                 0                   0   \n",
              "P4                         1                 1                   1   \n",
              "\n",
              "            Oral Lesions_True  Solitary Lesion_True  Swollen Tonsils_True  \\\n",
              "Patient_ID                                                                  \n",
              "P0                          1                     0                     1   \n",
              "P1                          1                     0                     0   \n",
              "P2                          0                     0                     0   \n",
              "P3                          0                     1                     1   \n",
              "P4                          0                     0                     1   \n",
              "\n",
              "            HIV Infection_True  Sexually Transmitted Infection_True  \\\n",
              "Patient_ID                                                            \n",
              "P0                           0                                    0   \n",
              "P1                           1                                    0   \n",
              "P2                           1                                    0   \n",
              "P3                           1                                    0   \n",
              "P4                           1                                    0   \n",
              "\n",
              "            MonkeyPox_Positive  \n",
              "Patient_ID                      \n",
              "P0                           0  \n",
              "P1                           1  \n",
              "P2                           1  \n",
              "P3                           1  \n",
              "P4                           1  "
            ],
            "text/html": [
              "\n",
              "  <div id=\"df-3e9d307f-adf2-4506-be01-ab3df6daed57\">\n",
              "    <div class=\"colab-df-container\">\n",
              "      <div>\n",
              "<style scoped>\n",
              "    .dataframe tbody tr th:only-of-type {\n",
              "        vertical-align: middle;\n",
              "    }\n",
              "\n",
              "    .dataframe tbody tr th {\n",
              "        vertical-align: top;\n",
              "    }\n",
              "\n",
              "    .dataframe thead th {\n",
              "        text-align: right;\n",
              "    }\n",
              "</style>\n",
              "<table border=\"1\" class=\"dataframe\">\n",
              "  <thead>\n",
              "    <tr style=\"text-align: right;\">\n",
              "      <th></th>\n",
              "      <th>Rectal Pain_True</th>\n",
              "      <th>Sore Throat_True</th>\n",
              "      <th>Penile Oedema_True</th>\n",
              "      <th>Oral Lesions_True</th>\n",
              "      <th>Solitary Lesion_True</th>\n",
              "      <th>Swollen Tonsils_True</th>\n",
              "      <th>HIV Infection_True</th>\n",
              "      <th>Sexually Transmitted Infection_True</th>\n",
              "      <th>MonkeyPox_Positive</th>\n",
              "    </tr>\n",
              "    <tr>\n",
              "      <th>Patient_ID</th>\n",
              "      <th></th>\n",
              "      <th></th>\n",
              "      <th></th>\n",
              "      <th></th>\n",
              "      <th></th>\n",
              "      <th></th>\n",
              "      <th></th>\n",
              "      <th></th>\n",
              "      <th></th>\n",
              "    </tr>\n",
              "  </thead>\n",
              "  <tbody>\n",
              "    <tr>\n",
              "      <th>P0</th>\n",
              "      <td>0</td>\n",
              "      <td>1</td>\n",
              "      <td>1</td>\n",
              "      <td>1</td>\n",
              "      <td>0</td>\n",
              "      <td>1</td>\n",
              "      <td>0</td>\n",
              "      <td>0</td>\n",
              "      <td>0</td>\n",
              "    </tr>\n",
              "    <tr>\n",
              "      <th>P1</th>\n",
              "      <td>1</td>\n",
              "      <td>0</td>\n",
              "      <td>1</td>\n",
              "      <td>1</td>\n",
              "      <td>0</td>\n",
              "      <td>0</td>\n",
              "      <td>1</td>\n",
              "      <td>0</td>\n",
              "      <td>1</td>\n",
              "    </tr>\n",
              "    <tr>\n",
              "      <th>P2</th>\n",
              "      <td>0</td>\n",
              "      <td>1</td>\n",
              "      <td>1</td>\n",
              "      <td>0</td>\n",
              "      <td>0</td>\n",
              "      <td>0</td>\n",
              "      <td>1</td>\n",
              "      <td>0</td>\n",
              "      <td>1</td>\n",
              "    </tr>\n",
              "    <tr>\n",
              "      <th>P3</th>\n",
              "      <td>1</td>\n",
              "      <td>0</td>\n",
              "      <td>0</td>\n",
              "      <td>0</td>\n",
              "      <td>1</td>\n",
              "      <td>1</td>\n",
              "      <td>1</td>\n",
              "      <td>0</td>\n",
              "      <td>1</td>\n",
              "    </tr>\n",
              "    <tr>\n",
              "      <th>P4</th>\n",
              "      <td>1</td>\n",
              "      <td>1</td>\n",
              "      <td>1</td>\n",
              "      <td>0</td>\n",
              "      <td>0</td>\n",
              "      <td>1</td>\n",
              "      <td>1</td>\n",
              "      <td>0</td>\n",
              "      <td>1</td>\n",
              "    </tr>\n",
              "  </tbody>\n",
              "</table>\n",
              "</div>\n",
              "      <button class=\"colab-df-convert\" onclick=\"convertToInteractive('df-3e9d307f-adf2-4506-be01-ab3df6daed57')\"\n",
              "              title=\"Convert this dataframe to an interactive table.\"\n",
              "              style=\"display:none;\">\n",
              "        \n",
              "  <svg xmlns=\"http://www.w3.org/2000/svg\" height=\"24px\"viewBox=\"0 0 24 24\"\n",
              "       width=\"24px\">\n",
              "    <path d=\"M0 0h24v24H0V0z\" fill=\"none\"/>\n",
              "    <path d=\"M18.56 5.44l.94 2.06.94-2.06 2.06-.94-2.06-.94-.94-2.06-.94 2.06-2.06.94zm-11 1L8.5 8.5l.94-2.06 2.06-.94-2.06-.94L8.5 2.5l-.94 2.06-2.06.94zm10 10l.94 2.06.94-2.06 2.06-.94-2.06-.94-.94-2.06-.94 2.06-2.06.94z\"/><path d=\"M17.41 7.96l-1.37-1.37c-.4-.4-.92-.59-1.43-.59-.52 0-1.04.2-1.43.59L10.3 9.45l-7.72 7.72c-.78.78-.78 2.05 0 2.83L4 21.41c.39.39.9.59 1.41.59.51 0 1.02-.2 1.41-.59l7.78-7.78 2.81-2.81c.8-.78.8-2.07 0-2.86zM5.41 20L4 18.59l7.72-7.72 1.47 1.35L5.41 20z\"/>\n",
              "  </svg>\n",
              "      </button>\n",
              "      \n",
              "  <style>\n",
              "    .colab-df-container {\n",
              "      display:flex;\n",
              "      flex-wrap:wrap;\n",
              "      gap: 12px;\n",
              "    }\n",
              "\n",
              "    .colab-df-convert {\n",
              "      background-color: #E8F0FE;\n",
              "      border: none;\n",
              "      border-radius: 50%;\n",
              "      cursor: pointer;\n",
              "      display: none;\n",
              "      fill: #1967D2;\n",
              "      height: 32px;\n",
              "      padding: 0 0 0 0;\n",
              "      width: 32px;\n",
              "    }\n",
              "\n",
              "    .colab-df-convert:hover {\n",
              "      background-color: #E2EBFA;\n",
              "      box-shadow: 0px 1px 2px rgba(60, 64, 67, 0.3), 0px 1px 3px 1px rgba(60, 64, 67, 0.15);\n",
              "      fill: #174EA6;\n",
              "    }\n",
              "\n",
              "    [theme=dark] .colab-df-convert {\n",
              "      background-color: #3B4455;\n",
              "      fill: #D2E3FC;\n",
              "    }\n",
              "\n",
              "    [theme=dark] .colab-df-convert:hover {\n",
              "      background-color: #434B5C;\n",
              "      box-shadow: 0px 1px 3px 1px rgba(0, 0, 0, 0.15);\n",
              "      filter: drop-shadow(0px 1px 2px rgba(0, 0, 0, 0.3));\n",
              "      fill: #FFFFFF;\n",
              "    }\n",
              "  </style>\n",
              "\n",
              "      <script>\n",
              "        const buttonEl =\n",
              "          document.querySelector('#df-3e9d307f-adf2-4506-be01-ab3df6daed57 button.colab-df-convert');\n",
              "        buttonEl.style.display =\n",
              "          google.colab.kernel.accessAllowed ? 'block' : 'none';\n",
              "\n",
              "        async function convertToInteractive(key) {\n",
              "          const element = document.querySelector('#df-3e9d307f-adf2-4506-be01-ab3df6daed57');\n",
              "          const dataTable =\n",
              "            await google.colab.kernel.invokeFunction('convertToInteractive',\n",
              "                                                     [key], {});\n",
              "          if (!dataTable) return;\n",
              "\n",
              "          const docLinkHtml = 'Like what you see? Visit the ' +\n",
              "            '<a target=\"_blank\" href=https://colab.research.google.com/notebooks/data_table.ipynb>data table notebook</a>'\n",
              "            + ' to learn more about interactive tables.';\n",
              "          element.innerHTML = '';\n",
              "          dataTable['output_type'] = 'display_data';\n",
              "          await google.colab.output.renderOutput(dataTable, element);\n",
              "          const docLink = document.createElement('div');\n",
              "          docLink.innerHTML = docLinkHtml;\n",
              "          element.appendChild(docLink);\n",
              "        }\n",
              "      </script>\n",
              "    </div>\n",
              "  </div>\n",
              "  "
            ]
          },
          "metadata": {},
          "execution_count": 17
        }
      ],
      "source": [
        "# Column names will have to be changed but that can be done in one go\n",
        "# first we finish up on converting the column data types t a usable state.\n",
        "df_d.head()"
      ]
    },
    {
      "cell_type": "code",
      "execution_count": 18,
      "id": "566a3be4",
      "metadata": {
        "colab": {
          "base_uri": "https://localhost:8080/"
        },
        "id": "566a3be4",
        "outputId": "356156be-0a7a-4b5e-a76c-b67951f0c1bd"
      },
      "outputs": [
        {
          "output_type": "execute_result",
          "data": {
            "text/plain": [
              "Index(['P0', 'P1', 'P2', 'P3', 'P4', 'P5', 'P6', 'P7', 'P8', 'P9',\n",
              "       ...\n",
              "       'P24990', 'P24991', 'P24992', 'P24993', 'P24994', 'P24995', 'P24996',\n",
              "       'P24997', 'P24998', 'P24999'],\n",
              "      dtype='object', name='Patient_ID', length=25000)"
            ]
          },
          "metadata": {},
          "execution_count": 18
        }
      ],
      "source": [
        "mp.index"
      ]
    },
    {
      "cell_type": "code",
      "execution_count": 19,
      "id": "4d0bf2c2",
      "metadata": {
        "scrolled": true,
        "colab": {
          "base_uri": "https://localhost:8080/",
          "height": 571
        },
        "id": "4d0bf2c2",
        "outputId": "6d6f487d-870c-4ba4-8e08-f21deed72362"
      },
      "outputs": [
        {
          "output_type": "execute_result",
          "data": {
            "text/plain": [
              "            Systemic Illness_Fever  Systemic Illness_Muscle Aches and Pain  \\\n",
              "Patient_ID                                                                   \n",
              "P0                               0                                       0   \n",
              "P1                               1                                       0   \n",
              "P2                               1                                       0   \n",
              "P3                               0                                       0   \n",
              "P4                               0                                       0   \n",
              "...                            ...                                     ...   \n",
              "P24995                           0                                       0   \n",
              "P24996                           1                                       0   \n",
              "P24997                           0                                       0   \n",
              "P24998                           0                                       0   \n",
              "P24999                           0                                       0   \n",
              "\n",
              "            Systemic Illness_No Systemic Illness  \\\n",
              "Patient_ID                                         \n",
              "P0                                             1   \n",
              "P1                                             0   \n",
              "P2                                             0   \n",
              "P3                                             1   \n",
              "P4                                             0   \n",
              "...                                          ...   \n",
              "P24995                                         1   \n",
              "P24996                                         0   \n",
              "P24997                                         1   \n",
              "P24998                                         0   \n",
              "P24999                                         0   \n",
              "\n",
              "            Systemic Illness_Swollen Lymph Nodes  Rectal Pain_True  \\\n",
              "Patient_ID                                                           \n",
              "P0                                             0                 0   \n",
              "P1                                             0                 1   \n",
              "P2                                             0                 0   \n",
              "P3                                             0                 1   \n",
              "P4                                             1                 1   \n",
              "...                                          ...               ...   \n",
              "P24995                                         0                 1   \n",
              "P24996                                         0                 0   \n",
              "P24997                                         0                 1   \n",
              "P24998                                         1                 0   \n",
              "P24999                                         1                 0   \n",
              "\n",
              "            Sore Throat_True  Penile Oedema_True  Oral Lesions_True  \\\n",
              "Patient_ID                                                            \n",
              "P0                         1                   1                  1   \n",
              "P1                         0                   1                  1   \n",
              "P2                         1                   1                  0   \n",
              "P3                         0                   0                  0   \n",
              "P4                         1                   1                  0   \n",
              "...                      ...                 ...                ...   \n",
              "P24995                     1                   0                  1   \n",
              "P24996                     1                   1                  0   \n",
              "P24997                     1                   0                  0   \n",
              "P24998                     1                   0                  1   \n",
              "P24999                     0                   1                  0   \n",
              "\n",
              "            Solitary Lesion_True  Swollen Tonsils_True  HIV Infection_True  \\\n",
              "Patient_ID                                                                   \n",
              "P0                             0                     1                   0   \n",
              "P1                             0                     0                   1   \n",
              "P2                             0                     0                   1   \n",
              "P3                             1                     1                   1   \n",
              "P4                             0                     1                   1   \n",
              "...                          ...                   ...                 ...   \n",
              "P24995                         1                     0                   0   \n",
              "P24996                         1                     1                   1   \n",
              "P24997                         1                     1                   0   \n",
              "P24998                         1                     1                   0   \n",
              "P24999                         0                     1                   1   \n",
              "\n",
              "            Sexually Transmitted Infection_True  MonkeyPox_Positive  \n",
              "Patient_ID                                                           \n",
              "P0                                            0                   0  \n",
              "P1                                            0                   1  \n",
              "P2                                            0                   1  \n",
              "P3                                            0                   1  \n",
              "P4                                            0                   1  \n",
              "...                                         ...                 ...  \n",
              "P24995                                        1                   1  \n",
              "P24996                                        1                   1  \n",
              "P24997                                        0                   1  \n",
              "P24998                                        0                   0  \n",
              "P24999                                        0                   1  \n",
              "\n",
              "[25000 rows x 13 columns]"
            ],
            "text/html": [
              "\n",
              "  <div id=\"df-13a8de5d-688c-4e06-b689-aaf248fe52fe\">\n",
              "    <div class=\"colab-df-container\">\n",
              "      <div>\n",
              "<style scoped>\n",
              "    .dataframe tbody tr th:only-of-type {\n",
              "        vertical-align: middle;\n",
              "    }\n",
              "\n",
              "    .dataframe tbody tr th {\n",
              "        vertical-align: top;\n",
              "    }\n",
              "\n",
              "    .dataframe thead th {\n",
              "        text-align: right;\n",
              "    }\n",
              "</style>\n",
              "<table border=\"1\" class=\"dataframe\">\n",
              "  <thead>\n",
              "    <tr style=\"text-align: right;\">\n",
              "      <th></th>\n",
              "      <th>Systemic Illness_Fever</th>\n",
              "      <th>Systemic Illness_Muscle Aches and Pain</th>\n",
              "      <th>Systemic Illness_No Systemic Illness</th>\n",
              "      <th>Systemic Illness_Swollen Lymph Nodes</th>\n",
              "      <th>Rectal Pain_True</th>\n",
              "      <th>Sore Throat_True</th>\n",
              "      <th>Penile Oedema_True</th>\n",
              "      <th>Oral Lesions_True</th>\n",
              "      <th>Solitary Lesion_True</th>\n",
              "      <th>Swollen Tonsils_True</th>\n",
              "      <th>HIV Infection_True</th>\n",
              "      <th>Sexually Transmitted Infection_True</th>\n",
              "      <th>MonkeyPox_Positive</th>\n",
              "    </tr>\n",
              "    <tr>\n",
              "      <th>Patient_ID</th>\n",
              "      <th></th>\n",
              "      <th></th>\n",
              "      <th></th>\n",
              "      <th></th>\n",
              "      <th></th>\n",
              "      <th></th>\n",
              "      <th></th>\n",
              "      <th></th>\n",
              "      <th></th>\n",
              "      <th></th>\n",
              "      <th></th>\n",
              "      <th></th>\n",
              "      <th></th>\n",
              "    </tr>\n",
              "  </thead>\n",
              "  <tbody>\n",
              "    <tr>\n",
              "      <th>P0</th>\n",
              "      <td>0</td>\n",
              "      <td>0</td>\n",
              "      <td>1</td>\n",
              "      <td>0</td>\n",
              "      <td>0</td>\n",
              "      <td>1</td>\n",
              "      <td>1</td>\n",
              "      <td>1</td>\n",
              "      <td>0</td>\n",
              "      <td>1</td>\n",
              "      <td>0</td>\n",
              "      <td>0</td>\n",
              "      <td>0</td>\n",
              "    </tr>\n",
              "    <tr>\n",
              "      <th>P1</th>\n",
              "      <td>1</td>\n",
              "      <td>0</td>\n",
              "      <td>0</td>\n",
              "      <td>0</td>\n",
              "      <td>1</td>\n",
              "      <td>0</td>\n",
              "      <td>1</td>\n",
              "      <td>1</td>\n",
              "      <td>0</td>\n",
              "      <td>0</td>\n",
              "      <td>1</td>\n",
              "      <td>0</td>\n",
              "      <td>1</td>\n",
              "    </tr>\n",
              "    <tr>\n",
              "      <th>P2</th>\n",
              "      <td>1</td>\n",
              "      <td>0</td>\n",
              "      <td>0</td>\n",
              "      <td>0</td>\n",
              "      <td>0</td>\n",
              "      <td>1</td>\n",
              "      <td>1</td>\n",
              "      <td>0</td>\n",
              "      <td>0</td>\n",
              "      <td>0</td>\n",
              "      <td>1</td>\n",
              "      <td>0</td>\n",
              "      <td>1</td>\n",
              "    </tr>\n",
              "    <tr>\n",
              "      <th>P3</th>\n",
              "      <td>0</td>\n",
              "      <td>0</td>\n",
              "      <td>1</td>\n",
              "      <td>0</td>\n",
              "      <td>1</td>\n",
              "      <td>0</td>\n",
              "      <td>0</td>\n",
              "      <td>0</td>\n",
              "      <td>1</td>\n",
              "      <td>1</td>\n",
              "      <td>1</td>\n",
              "      <td>0</td>\n",
              "      <td>1</td>\n",
              "    </tr>\n",
              "    <tr>\n",
              "      <th>P4</th>\n",
              "      <td>0</td>\n",
              "      <td>0</td>\n",
              "      <td>0</td>\n",
              "      <td>1</td>\n",
              "      <td>1</td>\n",
              "      <td>1</td>\n",
              "      <td>1</td>\n",
              "      <td>0</td>\n",
              "      <td>0</td>\n",
              "      <td>1</td>\n",
              "      <td>1</td>\n",
              "      <td>0</td>\n",
              "      <td>1</td>\n",
              "    </tr>\n",
              "    <tr>\n",
              "      <th>...</th>\n",
              "      <td>...</td>\n",
              "      <td>...</td>\n",
              "      <td>...</td>\n",
              "      <td>...</td>\n",
              "      <td>...</td>\n",
              "      <td>...</td>\n",
              "      <td>...</td>\n",
              "      <td>...</td>\n",
              "      <td>...</td>\n",
              "      <td>...</td>\n",
              "      <td>...</td>\n",
              "      <td>...</td>\n",
              "      <td>...</td>\n",
              "    </tr>\n",
              "    <tr>\n",
              "      <th>P24995</th>\n",
              "      <td>0</td>\n",
              "      <td>0</td>\n",
              "      <td>1</td>\n",
              "      <td>0</td>\n",
              "      <td>1</td>\n",
              "      <td>1</td>\n",
              "      <td>0</td>\n",
              "      <td>1</td>\n",
              "      <td>1</td>\n",
              "      <td>0</td>\n",
              "      <td>0</td>\n",
              "      <td>1</td>\n",
              "      <td>1</td>\n",
              "    </tr>\n",
              "    <tr>\n",
              "      <th>P24996</th>\n",
              "      <td>1</td>\n",
              "      <td>0</td>\n",
              "      <td>0</td>\n",
              "      <td>0</td>\n",
              "      <td>0</td>\n",
              "      <td>1</td>\n",
              "      <td>1</td>\n",
              "      <td>0</td>\n",
              "      <td>1</td>\n",
              "      <td>1</td>\n",
              "      <td>1</td>\n",
              "      <td>1</td>\n",
              "      <td>1</td>\n",
              "    </tr>\n",
              "    <tr>\n",
              "      <th>P24997</th>\n",
              "      <td>0</td>\n",
              "      <td>0</td>\n",
              "      <td>1</td>\n",
              "      <td>0</td>\n",
              "      <td>1</td>\n",
              "      <td>1</td>\n",
              "      <td>0</td>\n",
              "      <td>0</td>\n",
              "      <td>1</td>\n",
              "      <td>1</td>\n",
              "      <td>0</td>\n",
              "      <td>0</td>\n",
              "      <td>1</td>\n",
              "    </tr>\n",
              "    <tr>\n",
              "      <th>P24998</th>\n",
              "      <td>0</td>\n",
              "      <td>0</td>\n",
              "      <td>0</td>\n",
              "      <td>1</td>\n",
              "      <td>0</td>\n",
              "      <td>1</td>\n",
              "      <td>0</td>\n",
              "      <td>1</td>\n",
              "      <td>1</td>\n",
              "      <td>1</td>\n",
              "      <td>0</td>\n",
              "      <td>0</td>\n",
              "      <td>0</td>\n",
              "    </tr>\n",
              "    <tr>\n",
              "      <th>P24999</th>\n",
              "      <td>0</td>\n",
              "      <td>0</td>\n",
              "      <td>0</td>\n",
              "      <td>1</td>\n",
              "      <td>0</td>\n",
              "      <td>0</td>\n",
              "      <td>1</td>\n",
              "      <td>0</td>\n",
              "      <td>0</td>\n",
              "      <td>1</td>\n",
              "      <td>1</td>\n",
              "      <td>0</td>\n",
              "      <td>1</td>\n",
              "    </tr>\n",
              "  </tbody>\n",
              "</table>\n",
              "<p>25000 rows × 13 columns</p>\n",
              "</div>\n",
              "      <button class=\"colab-df-convert\" onclick=\"convertToInteractive('df-13a8de5d-688c-4e06-b689-aaf248fe52fe')\"\n",
              "              title=\"Convert this dataframe to an interactive table.\"\n",
              "              style=\"display:none;\">\n",
              "        \n",
              "  <svg xmlns=\"http://www.w3.org/2000/svg\" height=\"24px\"viewBox=\"0 0 24 24\"\n",
              "       width=\"24px\">\n",
              "    <path d=\"M0 0h24v24H0V0z\" fill=\"none\"/>\n",
              "    <path d=\"M18.56 5.44l.94 2.06.94-2.06 2.06-.94-2.06-.94-.94-2.06-.94 2.06-2.06.94zm-11 1L8.5 8.5l.94-2.06 2.06-.94-2.06-.94L8.5 2.5l-.94 2.06-2.06.94zm10 10l.94 2.06.94-2.06 2.06-.94-2.06-.94-.94-2.06-.94 2.06-2.06.94z\"/><path d=\"M17.41 7.96l-1.37-1.37c-.4-.4-.92-.59-1.43-.59-.52 0-1.04.2-1.43.59L10.3 9.45l-7.72 7.72c-.78.78-.78 2.05 0 2.83L4 21.41c.39.39.9.59 1.41.59.51 0 1.02-.2 1.41-.59l7.78-7.78 2.81-2.81c.8-.78.8-2.07 0-2.86zM5.41 20L4 18.59l7.72-7.72 1.47 1.35L5.41 20z\"/>\n",
              "  </svg>\n",
              "      </button>\n",
              "      \n",
              "  <style>\n",
              "    .colab-df-container {\n",
              "      display:flex;\n",
              "      flex-wrap:wrap;\n",
              "      gap: 12px;\n",
              "    }\n",
              "\n",
              "    .colab-df-convert {\n",
              "      background-color: #E8F0FE;\n",
              "      border: none;\n",
              "      border-radius: 50%;\n",
              "      cursor: pointer;\n",
              "      display: none;\n",
              "      fill: #1967D2;\n",
              "      height: 32px;\n",
              "      padding: 0 0 0 0;\n",
              "      width: 32px;\n",
              "    }\n",
              "\n",
              "    .colab-df-convert:hover {\n",
              "      background-color: #E2EBFA;\n",
              "      box-shadow: 0px 1px 2px rgba(60, 64, 67, 0.3), 0px 1px 3px 1px rgba(60, 64, 67, 0.15);\n",
              "      fill: #174EA6;\n",
              "    }\n",
              "\n",
              "    [theme=dark] .colab-df-convert {\n",
              "      background-color: #3B4455;\n",
              "      fill: #D2E3FC;\n",
              "    }\n",
              "\n",
              "    [theme=dark] .colab-df-convert:hover {\n",
              "      background-color: #434B5C;\n",
              "      box-shadow: 0px 1px 3px 1px rgba(0, 0, 0, 0.15);\n",
              "      filter: drop-shadow(0px 1px 2px rgba(0, 0, 0, 0.3));\n",
              "      fill: #FFFFFF;\n",
              "    }\n",
              "  </style>\n",
              "\n",
              "      <script>\n",
              "        const buttonEl =\n",
              "          document.querySelector('#df-13a8de5d-688c-4e06-b689-aaf248fe52fe button.colab-df-convert');\n",
              "        buttonEl.style.display =\n",
              "          google.colab.kernel.accessAllowed ? 'block' : 'none';\n",
              "\n",
              "        async function convertToInteractive(key) {\n",
              "          const element = document.querySelector('#df-13a8de5d-688c-4e06-b689-aaf248fe52fe');\n",
              "          const dataTable =\n",
              "            await google.colab.kernel.invokeFunction('convertToInteractive',\n",
              "                                                     [key], {});\n",
              "          if (!dataTable) return;\n",
              "\n",
              "          const docLinkHtml = 'Like what you see? Visit the ' +\n",
              "            '<a target=\"_blank\" href=https://colab.research.google.com/notebooks/data_table.ipynb>data table notebook</a>'\n",
              "            + ' to learn more about interactive tables.';\n",
              "          element.innerHTML = '';\n",
              "          dataTable['output_type'] = 'display_data';\n",
              "          await google.colab.output.renderOutput(dataTable, element);\n",
              "          const docLink = document.createElement('div');\n",
              "          docLink.innerHTML = docLinkHtml;\n",
              "          element.appendChild(docLink);\n",
              "        }\n",
              "      </script>\n",
              "    </div>\n",
              "  </div>\n",
              "  "
            ]
          },
          "metadata": {},
          "execution_count": 19
        }
      ],
      "source": [
        "df_clean = pd.concat([df_Systemic,df_d], axis = 1,join= 'inner')\n",
        "df_clean"
      ]
    },
    {
      "cell_type": "code",
      "execution_count": 20,
      "id": "93064602",
      "metadata": {
        "colab": {
          "base_uri": "https://localhost:8080/"
        },
        "id": "93064602",
        "outputId": "07d06015-0b1d-44da-f1cc-293b3a31da11"
      },
      "outputs": [
        {
          "output_type": "execute_result",
          "data": {
            "text/plain": [
              "['Systemic Illness_Fever',\n",
              " 'Systemic Illness_Muscle Aches and Pain',\n",
              " 'Systemic Illness_No Systemic Illness',\n",
              " 'Systemic Illness_Swollen Lymph Nodes',\n",
              " 'Rectal Pain_True',\n",
              " 'Sore Throat_True',\n",
              " 'Penile Oedema_True',\n",
              " 'Oral Lesions_True',\n",
              " 'Solitary Lesion_True',\n",
              " 'Swollen Tonsils_True',\n",
              " 'HIV Infection_True',\n",
              " 'Sexually Transmitted Infection_True',\n",
              " 'MonkeyPox_Positive']"
            ]
          },
          "metadata": {},
          "execution_count": 20
        }
      ],
      "source": [
        "list(df_clean.columns)"
      ]
    },
    {
      "cell_type": "code",
      "execution_count": 21,
      "id": "ea7c52af",
      "metadata": {
        "scrolled": true,
        "colab": {
          "base_uri": "https://localhost:8080/",
          "height": 458
        },
        "id": "ea7c52af",
        "outputId": "245076e2-aa27-4b74-ac5f-0b00c0161e65"
      },
      "outputs": [
        {
          "output_type": "execute_result",
          "data": {
            "text/plain": [
              "            SI_Fever  SI_Muscle_Aches&Pain  SI_No_Systemic_Illness  \\\n",
              "Patient_ID                                                           \n",
              "P0                 0                     0                       1   \n",
              "P1                 1                     0                       0   \n",
              "P2                 1                     0                       0   \n",
              "P3                 0                     0                       1   \n",
              "P4                 0                     0                       0   \n",
              "P5                 0                     0                       0   \n",
              "P6                 1                     0                       0   \n",
              "P7                 1                     0                       0   \n",
              "P8                 0                     1                       0   \n",
              "P9                 1                     0                       0   \n",
              "\n",
              "            SI_Swollen_Lymph_Nodes  Rectal_Pain  Sore_Throat  Penile_Oedema  \\\n",
              "Patient_ID                                                                    \n",
              "P0                               0            0            1              1   \n",
              "P1                               0            1            0              1   \n",
              "P2                               0            0            1              1   \n",
              "P3                               0            1            0              0   \n",
              "P4                               1            1            1              1   \n",
              "P5                               1            0            1              0   \n",
              "P6                               0            0            1              0   \n",
              "P7                               0            1            1              0   \n",
              "P8                               0            0            1              1   \n",
              "P9                               0            0            0              1   \n",
              "\n",
              "            Oral_Lesions  Solitary_Leision  Swollen_Tonsils  HIV_Infection  \\\n",
              "Patient_ID                                                                   \n",
              "P0                     1                 0                1              0   \n",
              "P1                     1                 0                0              1   \n",
              "P2                     0                 0                0              1   \n",
              "P3                     0                 1                1              1   \n",
              "P4                     0                 0                1              1   \n",
              "P5                     0                 0                0              0   \n",
              "P6                     0                 0                0              1   \n",
              "P7                     1                 1                1              0   \n",
              "P8                     1                 0                0              0   \n",
              "P9                     1                 1                0              1   \n",
              "\n",
              "            STI  Target  \n",
              "Patient_ID               \n",
              "P0            0       0  \n",
              "P1            0       1  \n",
              "P2            0       1  \n",
              "P3            0       1  \n",
              "P4            0       1  \n",
              "P5            0       0  \n",
              "P6            0       1  \n",
              "P7            0       1  \n",
              "P8            0       1  \n",
              "P9            0       0  "
            ],
            "text/html": [
              "\n",
              "  <div id=\"df-4bcf6aa1-7051-457f-ba68-2a05920f8114\">\n",
              "    <div class=\"colab-df-container\">\n",
              "      <div>\n",
              "<style scoped>\n",
              "    .dataframe tbody tr th:only-of-type {\n",
              "        vertical-align: middle;\n",
              "    }\n",
              "\n",
              "    .dataframe tbody tr th {\n",
              "        vertical-align: top;\n",
              "    }\n",
              "\n",
              "    .dataframe thead th {\n",
              "        text-align: right;\n",
              "    }\n",
              "</style>\n",
              "<table border=\"1\" class=\"dataframe\">\n",
              "  <thead>\n",
              "    <tr style=\"text-align: right;\">\n",
              "      <th></th>\n",
              "      <th>SI_Fever</th>\n",
              "      <th>SI_Muscle_Aches&amp;Pain</th>\n",
              "      <th>SI_No_Systemic_Illness</th>\n",
              "      <th>SI_Swollen_Lymph_Nodes</th>\n",
              "      <th>Rectal_Pain</th>\n",
              "      <th>Sore_Throat</th>\n",
              "      <th>Penile_Oedema</th>\n",
              "      <th>Oral_Lesions</th>\n",
              "      <th>Solitary_Leision</th>\n",
              "      <th>Swollen_Tonsils</th>\n",
              "      <th>HIV_Infection</th>\n",
              "      <th>STI</th>\n",
              "      <th>Target</th>\n",
              "    </tr>\n",
              "    <tr>\n",
              "      <th>Patient_ID</th>\n",
              "      <th></th>\n",
              "      <th></th>\n",
              "      <th></th>\n",
              "      <th></th>\n",
              "      <th></th>\n",
              "      <th></th>\n",
              "      <th></th>\n",
              "      <th></th>\n",
              "      <th></th>\n",
              "      <th></th>\n",
              "      <th></th>\n",
              "      <th></th>\n",
              "      <th></th>\n",
              "    </tr>\n",
              "  </thead>\n",
              "  <tbody>\n",
              "    <tr>\n",
              "      <th>P0</th>\n",
              "      <td>0</td>\n",
              "      <td>0</td>\n",
              "      <td>1</td>\n",
              "      <td>0</td>\n",
              "      <td>0</td>\n",
              "      <td>1</td>\n",
              "      <td>1</td>\n",
              "      <td>1</td>\n",
              "      <td>0</td>\n",
              "      <td>1</td>\n",
              "      <td>0</td>\n",
              "      <td>0</td>\n",
              "      <td>0</td>\n",
              "    </tr>\n",
              "    <tr>\n",
              "      <th>P1</th>\n",
              "      <td>1</td>\n",
              "      <td>0</td>\n",
              "      <td>0</td>\n",
              "      <td>0</td>\n",
              "      <td>1</td>\n",
              "      <td>0</td>\n",
              "      <td>1</td>\n",
              "      <td>1</td>\n",
              "      <td>0</td>\n",
              "      <td>0</td>\n",
              "      <td>1</td>\n",
              "      <td>0</td>\n",
              "      <td>1</td>\n",
              "    </tr>\n",
              "    <tr>\n",
              "      <th>P2</th>\n",
              "      <td>1</td>\n",
              "      <td>0</td>\n",
              "      <td>0</td>\n",
              "      <td>0</td>\n",
              "      <td>0</td>\n",
              "      <td>1</td>\n",
              "      <td>1</td>\n",
              "      <td>0</td>\n",
              "      <td>0</td>\n",
              "      <td>0</td>\n",
              "      <td>1</td>\n",
              "      <td>0</td>\n",
              "      <td>1</td>\n",
              "    </tr>\n",
              "    <tr>\n",
              "      <th>P3</th>\n",
              "      <td>0</td>\n",
              "      <td>0</td>\n",
              "      <td>1</td>\n",
              "      <td>0</td>\n",
              "      <td>1</td>\n",
              "      <td>0</td>\n",
              "      <td>0</td>\n",
              "      <td>0</td>\n",
              "      <td>1</td>\n",
              "      <td>1</td>\n",
              "      <td>1</td>\n",
              "      <td>0</td>\n",
              "      <td>1</td>\n",
              "    </tr>\n",
              "    <tr>\n",
              "      <th>P4</th>\n",
              "      <td>0</td>\n",
              "      <td>0</td>\n",
              "      <td>0</td>\n",
              "      <td>1</td>\n",
              "      <td>1</td>\n",
              "      <td>1</td>\n",
              "      <td>1</td>\n",
              "      <td>0</td>\n",
              "      <td>0</td>\n",
              "      <td>1</td>\n",
              "      <td>1</td>\n",
              "      <td>0</td>\n",
              "      <td>1</td>\n",
              "    </tr>\n",
              "    <tr>\n",
              "      <th>P5</th>\n",
              "      <td>0</td>\n",
              "      <td>0</td>\n",
              "      <td>0</td>\n",
              "      <td>1</td>\n",
              "      <td>0</td>\n",
              "      <td>1</td>\n",
              "      <td>0</td>\n",
              "      <td>0</td>\n",
              "      <td>0</td>\n",
              "      <td>0</td>\n",
              "      <td>0</td>\n",
              "      <td>0</td>\n",
              "      <td>0</td>\n",
              "    </tr>\n",
              "    <tr>\n",
              "      <th>P6</th>\n",
              "      <td>1</td>\n",
              "      <td>0</td>\n",
              "      <td>0</td>\n",
              "      <td>0</td>\n",
              "      <td>0</td>\n",
              "      <td>1</td>\n",
              "      <td>0</td>\n",
              "      <td>0</td>\n",
              "      <td>0</td>\n",
              "      <td>0</td>\n",
              "      <td>1</td>\n",
              "      <td>0</td>\n",
              "      <td>1</td>\n",
              "    </tr>\n",
              "    <tr>\n",
              "      <th>P7</th>\n",
              "      <td>1</td>\n",
              "      <td>0</td>\n",
              "      <td>0</td>\n",
              "      <td>0</td>\n",
              "      <td>1</td>\n",
              "      <td>1</td>\n",
              "      <td>0</td>\n",
              "      <td>1</td>\n",
              "      <td>1</td>\n",
              "      <td>1</td>\n",
              "      <td>0</td>\n",
              "      <td>0</td>\n",
              "      <td>1</td>\n",
              "    </tr>\n",
              "    <tr>\n",
              "      <th>P8</th>\n",
              "      <td>0</td>\n",
              "      <td>1</td>\n",
              "      <td>0</td>\n",
              "      <td>0</td>\n",
              "      <td>0</td>\n",
              "      <td>1</td>\n",
              "      <td>1</td>\n",
              "      <td>1</td>\n",
              "      <td>0</td>\n",
              "      <td>0</td>\n",
              "      <td>0</td>\n",
              "      <td>0</td>\n",
              "      <td>1</td>\n",
              "    </tr>\n",
              "    <tr>\n",
              "      <th>P9</th>\n",
              "      <td>1</td>\n",
              "      <td>0</td>\n",
              "      <td>0</td>\n",
              "      <td>0</td>\n",
              "      <td>0</td>\n",
              "      <td>0</td>\n",
              "      <td>1</td>\n",
              "      <td>1</td>\n",
              "      <td>1</td>\n",
              "      <td>0</td>\n",
              "      <td>1</td>\n",
              "      <td>0</td>\n",
              "      <td>0</td>\n",
              "    </tr>\n",
              "  </tbody>\n",
              "</table>\n",
              "</div>\n",
              "      <button class=\"colab-df-convert\" onclick=\"convertToInteractive('df-4bcf6aa1-7051-457f-ba68-2a05920f8114')\"\n",
              "              title=\"Convert this dataframe to an interactive table.\"\n",
              "              style=\"display:none;\">\n",
              "        \n",
              "  <svg xmlns=\"http://www.w3.org/2000/svg\" height=\"24px\"viewBox=\"0 0 24 24\"\n",
              "       width=\"24px\">\n",
              "    <path d=\"M0 0h24v24H0V0z\" fill=\"none\"/>\n",
              "    <path d=\"M18.56 5.44l.94 2.06.94-2.06 2.06-.94-2.06-.94-.94-2.06-.94 2.06-2.06.94zm-11 1L8.5 8.5l.94-2.06 2.06-.94-2.06-.94L8.5 2.5l-.94 2.06-2.06.94zm10 10l.94 2.06.94-2.06 2.06-.94-2.06-.94-.94-2.06-.94 2.06-2.06.94z\"/><path d=\"M17.41 7.96l-1.37-1.37c-.4-.4-.92-.59-1.43-.59-.52 0-1.04.2-1.43.59L10.3 9.45l-7.72 7.72c-.78.78-.78 2.05 0 2.83L4 21.41c.39.39.9.59 1.41.59.51 0 1.02-.2 1.41-.59l7.78-7.78 2.81-2.81c.8-.78.8-2.07 0-2.86zM5.41 20L4 18.59l7.72-7.72 1.47 1.35L5.41 20z\"/>\n",
              "  </svg>\n",
              "      </button>\n",
              "      \n",
              "  <style>\n",
              "    .colab-df-container {\n",
              "      display:flex;\n",
              "      flex-wrap:wrap;\n",
              "      gap: 12px;\n",
              "    }\n",
              "\n",
              "    .colab-df-convert {\n",
              "      background-color: #E8F0FE;\n",
              "      border: none;\n",
              "      border-radius: 50%;\n",
              "      cursor: pointer;\n",
              "      display: none;\n",
              "      fill: #1967D2;\n",
              "      height: 32px;\n",
              "      padding: 0 0 0 0;\n",
              "      width: 32px;\n",
              "    }\n",
              "\n",
              "    .colab-df-convert:hover {\n",
              "      background-color: #E2EBFA;\n",
              "      box-shadow: 0px 1px 2px rgba(60, 64, 67, 0.3), 0px 1px 3px 1px rgba(60, 64, 67, 0.15);\n",
              "      fill: #174EA6;\n",
              "    }\n",
              "\n",
              "    [theme=dark] .colab-df-convert {\n",
              "      background-color: #3B4455;\n",
              "      fill: #D2E3FC;\n",
              "    }\n",
              "\n",
              "    [theme=dark] .colab-df-convert:hover {\n",
              "      background-color: #434B5C;\n",
              "      box-shadow: 0px 1px 3px 1px rgba(0, 0, 0, 0.15);\n",
              "      filter: drop-shadow(0px 1px 2px rgba(0, 0, 0, 0.3));\n",
              "      fill: #FFFFFF;\n",
              "    }\n",
              "  </style>\n",
              "\n",
              "      <script>\n",
              "        const buttonEl =\n",
              "          document.querySelector('#df-4bcf6aa1-7051-457f-ba68-2a05920f8114 button.colab-df-convert');\n",
              "        buttonEl.style.display =\n",
              "          google.colab.kernel.accessAllowed ? 'block' : 'none';\n",
              "\n",
              "        async function convertToInteractive(key) {\n",
              "          const element = document.querySelector('#df-4bcf6aa1-7051-457f-ba68-2a05920f8114');\n",
              "          const dataTable =\n",
              "            await google.colab.kernel.invokeFunction('convertToInteractive',\n",
              "                                                     [key], {});\n",
              "          if (!dataTable) return;\n",
              "\n",
              "          const docLinkHtml = 'Like what you see? Visit the ' +\n",
              "            '<a target=\"_blank\" href=https://colab.research.google.com/notebooks/data_table.ipynb>data table notebook</a>'\n",
              "            + ' to learn more about interactive tables.';\n",
              "          element.innerHTML = '';\n",
              "          dataTable['output_type'] = 'display_data';\n",
              "          await google.colab.output.renderOutput(dataTable, element);\n",
              "          const docLink = document.createElement('div');\n",
              "          docLink.innerHTML = docLinkHtml;\n",
              "          element.appendChild(docLink);\n",
              "        }\n",
              "      </script>\n",
              "    </div>\n",
              "  </div>\n",
              "  "
            ]
          },
          "metadata": {},
          "execution_count": 21
        }
      ],
      "source": [
        "df_clean.rename(columns={'Systemic Illness_Fever':'SI_Fever',\n",
        "                        'Systemic Illness_Muscle Aches and Pain':'SI_Muscle_Aches&Pain',\n",
        "                        'Systemic Illness_No Systemic Illness':'SI_No_Systemic_Illness',\n",
        "                        'Systemic Illness_Swollen Lymph Nodes':'SI_Swollen_Lymph_Nodes',\n",
        "                        'Rectal Pain_True':'Rectal_Pain',\n",
        "                        'Sore Throat_True':'Sore_Throat',\n",
        "                        'Penile Oedema_True':'Penile_Oedema',\n",
        "                        'Oral Lesions_True':'Oral_Lesions',\n",
        "                        'Solitary Lesion_True':'Solitary_Leision',\n",
        "                        'Swollen Tonsils_True':'Swollen_Tonsils',\n",
        "                        'HIV Infection_True':'HIV_Infection',\n",
        "                        'Sexually Transmitted Infection_True':'STI',\n",
        "                        'MonkeyPox_Positive':'Target'},inplace=True)\n",
        "df_clean.head(10)"
      ]
    },
    {
      "cell_type": "code",
      "execution_count": 22,
      "id": "3a98f991",
      "metadata": {
        "id": "3a98f991"
      },
      "outputs": [],
      "source": [
        "\n",
        "# splitting the data into X [predictors] and y [target]\n",
        "X = df_clean.drop(columns= ['Target'],axis = 1)\n",
        "y = df_clean['Target']\n",
        "\n",
        "# Random state for reapetability, test size of 30% as it is the optimum\n",
        "# Stratify is used to ensure the test and train data have the same ratio\n",
        "\n",
        "X_train, X_test, y_train, y_test = train_test_split(X,y,random_state=0,test_size= 0.3,stratify= y)\n",
        "\n"
      ]
    },
    {
      "cell_type": "markdown",
      "id": "0d26f836",
      "metadata": {
        "id": "0d26f836"
      },
      "source": [
        "## MODELING"
      ]
    },
    {
      "cell_type": "code",
      "execution_count": 330,
      "id": "4059d4fa",
      "metadata": {
        "id": "4059d4fa"
      },
      "outputs": [],
      "source": [
        "from sklearn.linear_model import Ridge, Lasso, LogisticRegression\n",
        "from sklearn.tree import DecisionTreeClassifier\n",
        "from sklearn.neighbors import KNeighborsClassifier\n",
        "from sklearn.ensemble import RandomForestClassifier\n",
        "from sklearn.pipeline import Pipeline\n",
        "from sklearn.metrics import recall_score, precision_score ,accuracy_score, plot_confusion_matrix, confusion_matrix, f1_score\n",
        "from sklearn.model_selection import cross_val_score, GridSearchCV\n",
        "from imblearn.over_sampling import SMOTE, ADASYN \n",
        "import numpy as np\n",
        "import joblib"
      ]
    },
    {
      "cell_type": "code",
      "execution_count": 31,
      "id": "57640e53",
      "metadata": {
        "colab": {
          "base_uri": "https://localhost:8080/"
        },
        "id": "57640e53",
        "outputId": "aac30291-728f-44af-de6f-5b1bac4ef796"
      },
      "outputs": [
        {
          "output_type": "stream",
          "name": "stdout",
          "text": [
            "1    11136\n",
            "0     6364\n",
            "Name: Target, dtype: int64\n",
            "\n",
            "\n",
            "1    4773\n",
            "0    2727\n",
            "Name: Target, dtype: int64\n"
          ]
        }
      ],
      "source": [
        "#checking class balance in the trainaing target variable\n",
        "print(y_train.value_counts())\n",
        "print('\\n')\n",
        "\n",
        "#checking class balance in the trainaing target variable\n",
        "print(y_test.value_counts())"
      ]
    },
    {
      "cell_type": "markdown",
      "id": "45bbdf7b",
      "metadata": {
        "id": "45bbdf7b"
      },
      "source": [
        "# Base Model"
      ]
    },
    {
      "cell_type": "code",
      "source": [
        "#function to train model and return the score\n",
        "def model_trainer(model, X_tr, y_tr, X_te, y_te):\n",
        "    model.fit(X_tr, y_tr)\n",
        "    pre = model.predict(X_te)\n",
        "    precision =precision_score(y_te, pre)\n",
        "    recall =recall_score(y_te, pre)\n",
        "    accuracy =accuracy_score(y_te, pre)\n",
        "    f1 = f1_score(y_te, pre)\n",
        "    \n",
        "    return {'precision':precision,\n",
        "            'recall_score':recall,\n",
        "            'accuracy_score':accuracy,\n",
        "            'f1_score':f1}"
      ],
      "metadata": {
        "id": "3eIXW6Ht_IWL"
      },
      "id": "3eIXW6Ht_IWL",
      "execution_count": 250,
      "outputs": []
    },
    {
      "cell_type": "code",
      "source": [
        "#train and get the score of the base model without handling the imbalance in the class and see how the model performs\n",
        "base_tree =  DecisionTreeClassifier()\n",
        "model_trainer(base_tree, X_train, y_train,X_test,y_test)"
      ],
      "metadata": {
        "colab": {
          "base_uri": "https://localhost:8080/"
        },
        "id": "f5Ry9W8i_N6T",
        "outputId": "871181d6-cbcb-4e5c-cc38-bcab44c28826"
      },
      "id": "f5Ry9W8i_N6T",
      "execution_count": 251,
      "outputs": [
        {
          "output_type": "execute_result",
          "data": {
            "text/plain": [
              "{'precision': 0.7076757532281205,\n",
              " 'recall_score': 0.8267337104546407,\n",
              " 'accuracy_score': 0.6724,\n",
              " 'f1_score': 0.7625857570779785}"
            ]
          },
          "metadata": {},
          "execution_count": 251
        }
      ]
    },
    {
      "cell_type": "code",
      "execution_count": 252,
      "id": "fd2210b3",
      "metadata": {
        "colab": {
          "base_uri": "https://localhost:8080/",
          "height": 279
        },
        "id": "fd2210b3",
        "outputId": "15c4f169-f78f-4f29-dd29-92d3f56f8fe6"
      },
      "outputs": [
        {
          "output_type": "display_data",
          "data": {
            "text/plain": [
              "<Figure size 432x288 with 2 Axes>"
            ],
            "image/png": "[encoded data removed]"
          },
          "metadata": {
            "needs_background": "light"
          }
        }
      ],
      "source": [
        "#visualize the confusion matrix\n",
        "cnf_matrix  = plot_confusion_matrix(base_tree, X_test, y_test, cmap=plt.cm.Blues)"
      ]
    },
    {
      "cell_type": "code",
      "execution_count": 253,
      "id": "c68963dd",
      "metadata": {
        "colab": {
          "base_uri": "https://localhost:8080/"
        },
        "id": "c68963dd",
        "outputId": "e4e2e26a-81a2-4575-beb0-4a951b57732b"
      },
      "outputs": [
        {
          "output_type": "stream",
          "name": "stdout",
          "text": [
            "0    11136\n",
            "1    11136\n",
            "Name: Target, dtype: int64\n"
          ]
        }
      ],
      "source": [
        "#balance the training classes and see the effect on the model using SMOTE\n",
        "X_train_smote, y_train_smote = SMOTE().fit_resample(X_train, y_train)\n",
        "\n",
        "print(y_train_smote.value_counts())\n"
      ]
    },
    {
      "cell_type": "code",
      "source": [
        "#retrain the model with the model with the balanced classes\n",
        "base_tree_smote = DecisionTreeClassifier()\n",
        "Basemodel_balanced = model_trainer(base_tree_smote, X_train_smote, y_train_smote,X_test,y_test)\n",
        "Basemodel_balanced"
      ],
      "metadata": {
        "colab": {
          "base_uri": "https://localhost:8080/"
        },
        "id": "raT1UY8Q9Px8",
        "outputId": "a299ae01-d784-4d30-c21d-2b2a73be7cfe"
      },
      "id": "raT1UY8Q9Px8",
      "execution_count": 279,
      "outputs": [
        {
          "output_type": "execute_result",
          "data": {
            "text/plain": [
              "{'precision': 0.7433208489388264,\n",
              " 'recall_score': 0.6237167399958098,\n",
              " 'accuracy_score': 0.6234666666666666,\n",
              " 'f1_score': 0.6782866256550467}"
            ]
          },
          "metadata": {},
          "execution_count": 279
        }
      ]
    },
    {
      "cell_type": "code",
      "source": [
        "#visualize the confusion matrix\n",
        "cnf_matrix  = plot_confusion_matrix(base_tree_smote, X_test, y_test, cmap=plt.cm.Blues)"
      ],
      "metadata": {
        "colab": {
          "base_uri": "https://localhost:8080/",
          "height": 279
        },
        "id": "CnK82PMSAlR3",
        "outputId": "b580105d-c98f-4845-d015-a6c271630190"
      },
      "id": "CnK82PMSAlR3",
      "execution_count": 256,
      "outputs": [
        {
          "output_type": "display_data",
          "data": {
            "text/plain": [
              "<Figure size 432x288 with 2 Axes>"
            ],
            "image/png": "[encoded data removed]"
          },
          "metadata": {
            "needs_background": "light"
          }
        }
      ]
    },
    {
      "cell_type": "code",
      "source": [
        "#function to tune the model and find best parameters for the DecisionTreeClassifier using gridSearchCv\n",
        "def grid_search(model, parms, X_tr, y_tr):\n",
        "  gs_tree = GridSearchCV(model, parms, cv=3)\n",
        "  gs_tree.fit(X_tr, y_tr)\n",
        "\n",
        "  return gs_tree.best_params_\n"
      ],
      "metadata": {
        "id": "Coe2lnYyBemd"
      },
      "id": "Coe2lnYyBemd",
      "execution_count": 257,
      "outputs": []
    },
    {
      "cell_type": "code",
      "source": [
        "#balanced class best perameters\n",
        "param_grid = {\n",
        "    'criterion': ['gini', 'entropy'],\n",
        "    'max_depth': [5, 10, 15, 20],\n",
        "    'min_samples_split': [1, 5, 10, 20],\n",
        "    'min_samples_leaf': [1, 2, 3, 4, 5, 6]\n",
        "  }\n",
        "grid_search(DecisionTreeClassifier(),param_grid, X_train_smote, y_train_smote)\n"
      ],
      "metadata": {
        "colab": {
          "base_uri": "https://localhost:8080/"
        },
        "id": "AzkdyUUJDOrK",
        "outputId": "69eaa037-038f-4254-b75f-d3cc1f4dba4c"
      },
      "id": "AzkdyUUJDOrK",
      "execution_count": 258,
      "outputs": [
        {
          "output_type": "execute_result",
          "data": {
            "text/plain": [
              "{'criterion': 'entropy',\n",
              " 'max_depth': 10,\n",
              " 'min_samples_leaf': 1,\n",
              " 'min_samples_split': 5}"
            ]
          },
          "metadata": {},
          "execution_count": 258
        }
      ]
    },
    {
      "cell_type": "code",
      "source": [
        "dtree_par =  DecisionTreeClassifier(criterion= 'entropy', max_depth = 10, min_samples_split= 10)\n",
        "DecisionTree = model_trainer(dtree_par, X_train_smote,y_train_smote, X_test,y_test)\n",
        "DecisionTree"
      ],
      "metadata": {
        "colab": {
          "base_uri": "https://localhost:8080/"
        },
        "id": "kMSBS8HNxlyk",
        "outputId": "c19f3bf4-e55c-4b01-c360-5856b363b8f4"
      },
      "id": "kMSBS8HNxlyk",
      "execution_count": 278,
      "outputs": [
        {
          "output_type": "execute_result",
          "data": {
            "text/plain": [
              "{'precision': 0.7305010893246188,\n",
              " 'recall_score': 0.7024931908652838,\n",
              " 'accuracy_score': 0.6457333333333334,\n",
              " 'f1_score': 0.7162234326604721}"
            ]
          },
          "metadata": {},
          "execution_count": 278
        }
      ]
    },
    {
      "cell_type": "code",
      "execution_count": 261,
      "id": "0bbeb93b",
      "metadata": {
        "colab": {
          "base_uri": "https://localhost:8080/",
          "height": 279
        },
        "id": "0bbeb93b",
        "outputId": "bfba8294-6539-4c82-a83b-73fbadd67208"
      },
      "outputs": [
        {
          "output_type": "display_data",
          "data": {
            "text/plain": [
              "<Figure size 432x288 with 2 Axes>"
            ],
            "image/png": "[encoded data removed]"
          },
          "metadata": {
            "needs_background": "light"
          }
        }
      ],
      "source": [
        "cnf_matrix  = plot_confusion_matrix(dtree_par, X_test, y_test, cmap=plt.cm.Blues)"
      ]
    },
    {
      "cell_type": "markdown",
      "source": [
        "The model recall score increased meaning more positive patients were identified but there are still many wrongly classified petients too "
      ],
      "metadata": {
        "id": "Osxln5cXGCNb"
      },
      "id": "Osxln5cXGCNb"
    },
    {
      "cell_type": "code",
      "execution_count": 262,
      "id": "562ac302",
      "metadata": {
        "id": "562ac302"
      },
      "outputs": [],
      "source": [
        "#evaluating the two more models and see if they perform better then the DecisionTreeClassifier\n",
        "# these two are LogisticRegression() and KNeighborsClassifier()\n",
        "\n",
        "logreg = LogisticRegression()\n",
        "knn = KNeighborsClassifier()\n"
      ]
    },
    {
      "cell_type": "code",
      "execution_count": 263,
      "id": "82e41a28",
      "metadata": {
        "id": "82e41a28"
      },
      "outputs": [],
      "source": [
        "models = [logreg,knn]\n",
        "scores=[]\n",
        "recall=[]\n"
      ]
    },
    {
      "cell_type": "code",
      "execution_count": 264,
      "id": "e33c3d4f",
      "metadata": {
        "colab": {
          "base_uri": "https://localhost:8080/",
          "height": 143
        },
        "id": "e33c3d4f",
        "outputId": "f7d8b02c-40a0-4bbd-e4db-f043443acd66"
      },
      "outputs": [
        {
          "output_type": "execute_result",
          "data": {
            "text/plain": [
              "                     Recall Score\n",
              "model                            \n",
              "KNN                      0.815733\n",
              "Logistic Regression      0.589260"
            ],
            "text/html": [
              "\n",
              "  <div id=\"df-8cbaf852-ef91-4eea-b0b3-b595b4f7d4a9\">\n",
              "    <div class=\"colab-df-container\">\n",
              "      <div>\n",
              "<style scoped>\n",
              "    .dataframe tbody tr th:only-of-type {\n",
              "        vertical-align: middle;\n",
              "    }\n",
              "\n",
              "    .dataframe tbody tr th {\n",
              "        vertical-align: top;\n",
              "    }\n",
              "\n",
              "    .dataframe thead th {\n",
              "        text-align: right;\n",
              "    }\n",
              "</style>\n",
              "<table border=\"1\" class=\"dataframe\">\n",
              "  <thead>\n",
              "    <tr style=\"text-align: right;\">\n",
              "      <th></th>\n",
              "      <th>Recall Score</th>\n",
              "    </tr>\n",
              "    <tr>\n",
              "      <th>model</th>\n",
              "      <th></th>\n",
              "    </tr>\n",
              "  </thead>\n",
              "  <tbody>\n",
              "    <tr>\n",
              "      <th>KNN</th>\n",
              "      <td>0.815733</td>\n",
              "    </tr>\n",
              "    <tr>\n",
              "      <th>Logistic Regression</th>\n",
              "      <td>0.589260</td>\n",
              "    </tr>\n",
              "  </tbody>\n",
              "</table>\n",
              "</div>\n",
              "      <button class=\"colab-df-convert\" onclick=\"convertToInteractive('df-8cbaf852-ef91-4eea-b0b3-b595b4f7d4a9')\"\n",
              "              title=\"Convert this dataframe to an interactive table.\"\n",
              "              style=\"display:none;\">\n",
              "        \n",
              "  <svg xmlns=\"http://www.w3.org/2000/svg\" height=\"24px\"viewBox=\"0 0 24 24\"\n",
              "       width=\"24px\">\n",
              "    <path d=\"M0 0h24v24H0V0z\" fill=\"none\"/>\n",
              "    <path d=\"M18.56 5.44l.94 2.06.94-2.06 2.06-.94-2.06-.94-.94-2.06-.94 2.06-2.06.94zm-11 1L8.5 8.5l.94-2.06 2.06-.94-2.06-.94L8.5 2.5l-.94 2.06-2.06.94zm10 10l.94 2.06.94-2.06 2.06-.94-2.06-.94-.94-2.06-.94 2.06-2.06.94z\"/><path d=\"M17.41 7.96l-1.37-1.37c-.4-.4-.92-.59-1.43-.59-.52 0-1.04.2-1.43.59L10.3 9.45l-7.72 7.72c-.78.78-.78 2.05 0 2.83L4 21.41c.39.39.9.59 1.41.59.51 0 1.02-.2 1.41-.59l7.78-7.78 2.81-2.81c.8-.78.8-2.07 0-2.86zM5.41 20L4 18.59l7.72-7.72 1.47 1.35L5.41 20z\"/>\n",
              "  </svg>\n",
              "      </button>\n",
              "      \n",
              "  <style>\n",
              "    .colab-df-container {\n",
              "      display:flex;\n",
              "      flex-wrap:wrap;\n",
              "      gap: 12px;\n",
              "    }\n",
              "\n",
              "    .colab-df-convert {\n",
              "      background-color: #E8F0FE;\n",
              "      border: none;\n",
              "      border-radius: 50%;\n",
              "      cursor: pointer;\n",
              "      display: none;\n",
              "      fill: #1967D2;\n",
              "      height: 32px;\n",
              "      padding: 0 0 0 0;\n",
              "      width: 32px;\n",
              "    }\n",
              "\n",
              "    .colab-df-convert:hover {\n",
              "      background-color: #E2EBFA;\n",
              "      box-shadow: 0px 1px 2px rgba(60, 64, 67, 0.3), 0px 1px 3px 1px rgba(60, 64, 67, 0.15);\n",
              "      fill: #174EA6;\n",
              "    }\n",
              "\n",
              "    [theme=dark] .colab-df-convert {\n",
              "      background-color: #3B4455;\n",
              "      fill: #D2E3FC;\n",
              "    }\n",
              "\n",
              "    [theme=dark] .colab-df-convert:hover {\n",
              "      background-color: #434B5C;\n",
              "      box-shadow: 0px 1px 3px 1px rgba(0, 0, 0, 0.15);\n",
              "      filter: drop-shadow(0px 1px 2px rgba(0, 0, 0, 0.3));\n",
              "      fill: #FFFFFF;\n",
              "    }\n",
              "  </style>\n",
              "\n",
              "      <script>\n",
              "        const buttonEl =\n",
              "          document.querySelector('#df-8cbaf852-ef91-4eea-b0b3-b595b4f7d4a9 button.colab-df-convert');\n",
              "        buttonEl.style.display =\n",
              "          google.colab.kernel.accessAllowed ? 'block' : 'none';\n",
              "\n",
              "        async function convertToInteractive(key) {\n",
              "          const element = document.querySelector('#df-8cbaf852-ef91-4eea-b0b3-b595b4f7d4a9');\n",
              "          const dataTable =\n",
              "            await google.colab.kernel.invokeFunction('convertToInteractive',\n",
              "                                                     [key], {});\n",
              "          if (!dataTable) return;\n",
              "\n",
              "          const docLinkHtml = 'Like what you see? Visit the ' +\n",
              "            '<a target=\"_blank\" href=https://colab.research.google.com/notebooks/data_table.ipynb>data table notebook</a>'\n",
              "            + ' to learn more about interactive tables.';\n",
              "          element.innerHTML = '';\n",
              "          dataTable['output_type'] = 'display_data';\n",
              "          await google.colab.output.renderOutput(dataTable, element);\n",
              "          const docLink = document.createElement('div');\n",
              "          docLink.innerHTML = docLinkHtml;\n",
              "          element.appendChild(docLink);\n",
              "        }\n",
              "      </script>\n",
              "    </div>\n",
              "  </div>\n",
              "  "
            ]
          },
          "metadata": {},
          "execution_count": 264
        }
      ],
      "source": [
        "for i in models:\n",
        "    estimator=Pipeline([\n",
        "        ('model',i)])\n",
        "    model_cv=cross_val_score(estimator,X_train_smote,y_train_smote,cv=3,scoring='recall')\n",
        "    scores.append(model_cv)\n",
        "    recall.append(model_cv.mean())\n",
        "    \n",
        "    \n",
        "pd.DataFrame({'model':['Logistic Regression','KNN'],'Recall Score':recall}).set_index('model').sort_values(by='Recall Score',ascending=False)"
      ]
    },
    {
      "cell_type": "markdown",
      "source": [
        "The KNeighborsClassifier performs better than the LogistiClassifier with the default parameters"
      ],
      "metadata": {
        "id": "tVARtbIeJFvX"
      },
      "id": "tVARtbIeJFvX"
    },
    {
      "cell_type": "code",
      "source": [
        "#plot the KNN and virtualize the confussion matrix\n",
        "\n",
        "kn_base =  KNeighborsClassifier()\n",
        "model_trainer(kn_base, X_train_smote, y_train_smote,X_test,y_test)\n"
      ],
      "metadata": {
        "colab": {
          "base_uri": "https://localhost:8080/"
        },
        "id": "FhcKNZmFH87O",
        "outputId": "c34f39b8-6db8-4fc5-8807-8dafae209ffe"
      },
      "id": "FhcKNZmFH87O",
      "execution_count": 265,
      "outputs": [
        {
          "output_type": "execute_result",
          "data": {
            "text/plain": [
              "{'precision': 0.703127998464786,\n",
              " 'recall_score': 0.7676513723025351,\n",
              " 'accuracy_score': 0.6458666666666667,\n",
              " 'f1_score': 0.733974358974359}"
            ]
          },
          "metadata": {},
          "execution_count": 265
        }
      ]
    },
    {
      "cell_type": "code",
      "source": [
        "#tune the the KNN \n",
        "knn_gridSearch = KNeighborsClassifier()\n",
        "\n",
        "parameters = {'n_neighbors':[5,6,7,8,10],\n",
        "              'leaf_size':[3,4,5,8,10],\n",
        "              'algorithm':['auto', 'kd_tree'],\n",
        "              'n_jobs':[-1]}\n",
        "grid_search(knn_gridSearch, parameters, X_train_smote, y_train_smote)\n"
      ],
      "metadata": {
        "colab": {
          "base_uri": "https://localhost:8080/"
        },
        "id": "MwmHAX9rJxJX",
        "outputId": "2e743c3c-e17d-4e10-b8a8-dd31b5f8a15c"
      },
      "id": "MwmHAX9rJxJX",
      "execution_count": 266,
      "outputs": [
        {
          "output_type": "execute_result",
          "data": {
            "text/plain": [
              "{'algorithm': 'auto', 'leaf_size': 3, 'n_jobs': -1, 'n_neighbors': 10}"
            ]
          },
          "metadata": {},
          "execution_count": 266
        }
      ]
    },
    {
      "cell_type": "code",
      "source": [
        "knn_improved = KNeighborsClassifier(algorithm = 'auto', leaf_size = 4, n_jobs = -1, n_neighbors = 8)\n",
        "KNeighbors = model_trainer(knn_improved, X_train_smote,y_train_smote, X_test,y_test)\n",
        "KNeighbors"
      ],
      "metadata": {
        "colab": {
          "base_uri": "https://localhost:8080/"
        },
        "id": "hdgBXElTyZP4",
        "outputId": "4f30ee37-ddc6-4326-87b6-782f9dcff644"
      },
      "id": "hdgBXElTyZP4",
      "execution_count": 312,
      "outputs": [
        {
          "output_type": "execute_result",
          "data": {
            "text/plain": [
              "{'precision': 0.7158572021585721,\n",
              " 'recall_score': 0.7226063272574901,\n",
              " 'accuracy_score': 0.6409333333333334,\n",
              " 'f1_score': 0.7192159316025442}"
            ]
          },
          "metadata": {},
          "execution_count": 312
        }
      ]
    },
    {
      "cell_type": "code",
      "source": [
        "cnf_matrix  = plot_confusion_matrix(knn_improved, X_test, y_test, cmap=plt.cm.Blues)"
      ],
      "metadata": {
        "colab": {
          "base_uri": "https://localhost:8080/",
          "height": 279
        },
        "id": "eTPkgwL2eDvc",
        "outputId": "6173c6b5-fffa-442c-8632-a1235dc6cb0c"
      },
      "id": "eTPkgwL2eDvc",
      "execution_count": 313,
      "outputs": [
        {
          "output_type": "display_data",
          "data": {
            "text/plain": [
              "<Figure size 432x288 with 2 Axes>"
            ],
            "image/png": "[encoded data removed]"
          },
          "metadata": {
            "needs_background": "light"
          }
        }
      ]
    },
    {
      "cell_type": "markdown",
      "source": [
        "The KNN Model has improved our recall significantly and this means our model will be able to identify more people with the  virus"
      ],
      "metadata": {
        "id": "AAobDCRDmYaD"
      },
      "id": "AAobDCRDmYaD"
    },
    {
      "cell_type": "code",
      "source": [
        "#final model the logisticRegressor\n",
        "base_logrig = LogisticRegression()\n",
        "model_trainer(base_logrig, X_train_smote, y_train_smote,X_test,y_test)"
      ],
      "metadata": {
        "colab": {
          "base_uri": "https://localhost:8080/"
        },
        "id": "zRO1yGQyl5p7",
        "outputId": "e889fe17-e91d-4b20-d099-a95afee4ca2c"
      },
      "id": "zRO1yGQyl5p7",
      "execution_count": 269,
      "outputs": [
        {
          "output_type": "execute_result",
          "data": {
            "text/plain": [
              "{'precision': 0.7422434367541766,\n",
              " 'recall_score': 0.5864236329352609,\n",
              " 'accuracy_score': 0.6072,\n",
              " 'f1_score': 0.6551966292134832}"
            ]
          },
          "metadata": {},
          "execution_count": 269
        }
      ]
    },
    {
      "cell_type": "code",
      "source": [
        "#performing hyper perameter tuning on the model\n",
        "logR_improved = LogisticRegression()\n",
        "\n",
        "parameters = { 'C': np.logspace(-4, 4, 50),\n",
        "                'penalty' : ['l1', 'l2']}\n",
        "grid_search(logR_improved, parameters, X_train_smote, y_train_smote)\n"
      ],
      "metadata": {
        "colab": {
          "base_uri": "https://localhost:8080/"
        },
        "id": "8OpY1LS_nN_U",
        "outputId": "2b5a6a38-023b-44a1-f0d0-d422edfc6ef6"
      },
      "id": "8OpY1LS_nN_U",
      "execution_count": 270,
      "outputs": [
        {
          "output_type": "execute_result",
          "data": {
            "text/plain": [
              "{'C': 0.0004498432668969444, 'penalty': 'l2'}"
            ]
          },
          "metadata": {},
          "execution_count": 270
        }
      ]
    },
    {
      "cell_type": "code",
      "source": [
        "logR = LogisticRegression(C = 0.0004498432668969444, penalty ='l2')\n",
        "LogisticReg = model_trainer(logR, X_train_smote, y_train_smote,X_test,y_test)\n",
        "LogisticReg"
      ],
      "metadata": {
        "colab": {
          "base_uri": "https://localhost:8080/"
        },
        "id": "laowyltbzXc4",
        "outputId": "f1286697-ba1e-44d8-b522-cbd6aa56d173"
      },
      "id": "laowyltbzXc4",
      "execution_count": 276,
      "outputs": [
        {
          "output_type": "execute_result",
          "data": {
            "text/plain": [
              "{'precision': 0.7422434367541766,\n",
              " 'recall_score': 0.5864236329352609,\n",
              " 'accuracy_score': 0.6072,\n",
              " 'f1_score': 0.6551966292134832}"
            ]
          },
          "metadata": {},
          "execution_count": 276
        }
      ]
    },
    {
      "cell_type": "code",
      "source": [
        "cnf_matrix  = plot_confusion_matrix(logR, X_test, y_test, cmap=plt.cm.Blues)"
      ],
      "metadata": {
        "colab": {
          "base_uri": "https://localhost:8080/",
          "height": 279
        },
        "id": "sjmJRCWRpEaZ",
        "outputId": "e8c7bf24-5c8d-450d-c828-b9f6df58abb0"
      },
      "id": "sjmJRCWRpEaZ",
      "execution_count": 273,
      "outputs": [
        {
          "output_type": "display_data",
          "data": {
            "text/plain": [
              "<Figure size 432x288 with 2 Axes>"
            ],
            "image/png": "[encoded data removed]"
          },
          "metadata": {
            "needs_background": "light"
          }
        }
      ]
    },
    {
      "cell_type": "code",
      "source": [
        "scores = [LogisticReg, Basemodel_balanced, DecisionTree,KNeighbors, ]\n",
        "column_name = ['LogisticReg','Basemodel', 'DecisionTree','KNeighbors' ]"
      ],
      "metadata": {
        "id": "0Qoz_Jh61DZE"
      },
      "id": "0Qoz_Jh61DZE",
      "execution_count": 306,
      "outputs": []
    },
    {
      "cell_type": "markdown",
      "source": [
        "Create a dataframe of all the scores from the four models"
      ],
      "metadata": {
        "id": "9MyPff5i6lgS"
      },
      "id": "9MyPff5i6lgS"
    },
    {
      "cell_type": "code",
      "source": [
        "\n",
        "df = pd.DataFrame(columns = column_name)\n",
        "df.LogisticReg =LogisticReg.values()\n",
        "df.Basemodel = Basemodel_balanced.values()\n",
        "df.DecisionTree = DecisionTree.values()\n",
        "df.KNeighbors = KNeighbors.values()\n",
        "\n",
        "df.index = ['precision', 'recall_score','accuracy_score','f1_score']\n",
        "df"
      ],
      "metadata": {
        "colab": {
          "base_uri": "https://localhost:8080/",
          "height": 175
        },
        "id": "iBDYvodj3E3O",
        "outputId": "bc3d6476-1154-409e-bd49-b3989437b14d"
      },
      "id": "iBDYvodj3E3O",
      "execution_count": 307,
      "outputs": [
        {
          "output_type": "execute_result",
          "data": {
            "text/plain": [
              "                LogisticReg  Basemodel  DecisionTree  KNeighbors\n",
              "precision          0.742243   0.743321      0.730501    0.715857\n",
              "recall_score       0.586424   0.623717      0.702493    0.722606\n",
              "accuracy_score     0.607200   0.623467      0.645733    0.640933\n",
              "f1_score           0.655197   0.678287      0.716223    0.719216"
            ],
            "text/html": [
              "\n",
              "  <div id=\"df-1555941a-edd4-497e-bf2e-440b39fffdc5\">\n",
              "    <div class=\"colab-df-container\">\n",
              "      <div>\n",
              "<style scoped>\n",
              "    .dataframe tbody tr th:only-of-type {\n",
              "        vertical-align: middle;\n",
              "    }\n",
              "\n",
              "    .dataframe tbody tr th {\n",
              "        vertical-align: top;\n",
              "    }\n",
              "\n",
              "    .dataframe thead th {\n",
              "        text-align: right;\n",
              "    }\n",
              "</style>\n",
              "<table border=\"1\" class=\"dataframe\">\n",
              "  <thead>\n",
              "    <tr style=\"text-align: right;\">\n",
              "      <th></th>\n",
              "      <th>LogisticReg</th>\n",
              "      <th>Basemodel</th>\n",
              "      <th>DecisionTree</th>\n",
              "      <th>KNeighbors</th>\n",
              "    </tr>\n",
              "  </thead>\n",
              "  <tbody>\n",
              "    <tr>\n",
              "      <th>precision</th>\n",
              "      <td>0.742243</td>\n",
              "      <td>0.743321</td>\n",
              "      <td>0.730501</td>\n",
              "      <td>0.715857</td>\n",
              "    </tr>\n",
              "    <tr>\n",
              "      <th>recall_score</th>\n",
              "      <td>0.586424</td>\n",
              "      <td>0.623717</td>\n",
              "      <td>0.702493</td>\n",
              "      <td>0.722606</td>\n",
              "    </tr>\n",
              "    <tr>\n",
              "      <th>accuracy_score</th>\n",
              "      <td>0.607200</td>\n",
              "      <td>0.623467</td>\n",
              "      <td>0.645733</td>\n",
              "      <td>0.640933</td>\n",
              "    </tr>\n",
              "    <tr>\n",
              "      <th>f1_score</th>\n",
              "      <td>0.655197</td>\n",
              "      <td>0.678287</td>\n",
              "      <td>0.716223</td>\n",
              "      <td>0.719216</td>\n",
              "    </tr>\n",
              "  </tbody>\n",
              "</table>\n",
              "</div>\n",
              "      <button class=\"colab-df-convert\" onclick=\"convertToInteractive('df-1555941a-edd4-497e-bf2e-440b39fffdc5')\"\n",
              "              title=\"Convert this dataframe to an interactive table.\"\n",
              "              style=\"display:none;\">\n",
              "        \n",
              "  <svg xmlns=\"http://www.w3.org/2000/svg\" height=\"24px\"viewBox=\"0 0 24 24\"\n",
              "       width=\"24px\">\n",
              "    <path d=\"M0 0h24v24H0V0z\" fill=\"none\"/>\n",
              "    <path d=\"M18.56 5.44l.94 2.06.94-2.06 2.06-.94-2.06-.94-.94-2.06-.94 2.06-2.06.94zm-11 1L8.5 8.5l.94-2.06 2.06-.94-2.06-.94L8.5 2.5l-.94 2.06-2.06.94zm10 10l.94 2.06.94-2.06 2.06-.94-2.06-.94-.94-2.06-.94 2.06-2.06.94z\"/><path d=\"M17.41 7.96l-1.37-1.37c-.4-.4-.92-.59-1.43-.59-.52 0-1.04.2-1.43.59L10.3 9.45l-7.72 7.72c-.78.78-.78 2.05 0 2.83L4 21.41c.39.39.9.59 1.41.59.51 0 1.02-.2 1.41-.59l7.78-7.78 2.81-2.81c.8-.78.8-2.07 0-2.86zM5.41 20L4 18.59l7.72-7.72 1.47 1.35L5.41 20z\"/>\n",
              "  </svg>\n",
              "      </button>\n",
              "      \n",
              "  <style>\n",
              "    .colab-df-container {\n",
              "      display:flex;\n",
              "      flex-wrap:wrap;\n",
              "      gap: 12px;\n",
              "    }\n",
              "\n",
              "    .colab-df-convert {\n",
              "      background-color: #E8F0FE;\n",
              "      border: none;\n",
              "      border-radius: 50%;\n",
              "      cursor: pointer;\n",
              "      display: none;\n",
              "      fill: #1967D2;\n",
              "      height: 32px;\n",
              "      padding: 0 0 0 0;\n",
              "      width: 32px;\n",
              "    }\n",
              "\n",
              "    .colab-df-convert:hover {\n",
              "      background-color: #E2EBFA;\n",
              "      box-shadow: 0px 1px 2px rgba(60, 64, 67, 0.3), 0px 1px 3px 1px rgba(60, 64, 67, 0.15);\n",
              "      fill: #174EA6;\n",
              "    }\n",
              "\n",
              "    [theme=dark] .colab-df-convert {\n",
              "      background-color: #3B4455;\n",
              "      fill: #D2E3FC;\n",
              "    }\n",
              "\n",
              "    [theme=dark] .colab-df-convert:hover {\n",
              "      background-color: #434B5C;\n",
              "      box-shadow: 0px 1px 3px 1px rgba(0, 0, 0, 0.15);\n",
              "      filter: drop-shadow(0px 1px 2px rgba(0, 0, 0, 0.3));\n",
              "      fill: #FFFFFF;\n",
              "    }\n",
              "  </style>\n",
              "\n",
              "      <script>\n",
              "        const buttonEl =\n",
              "          document.querySelector('#df-1555941a-edd4-497e-bf2e-440b39fffdc5 button.colab-df-convert');\n",
              "        buttonEl.style.display =\n",
              "          google.colab.kernel.accessAllowed ? 'block' : 'none';\n",
              "\n",
              "        async function convertToInteractive(key) {\n",
              "          const element = document.querySelector('#df-1555941a-edd4-497e-bf2e-440b39fffdc5');\n",
              "          const dataTable =\n",
              "            await google.colab.kernel.invokeFunction('convertToInteractive',\n",
              "                                                     [key], {});\n",
              "          if (!dataTable) return;\n",
              "\n",
              "          const docLinkHtml = 'Like what you see? Visit the ' +\n",
              "            '<a target=\"_blank\" href=https://colab.research.google.com/notebooks/data_table.ipynb>data table notebook</a>'\n",
              "            + ' to learn more about interactive tables.';\n",
              "          element.innerHTML = '';\n",
              "          dataTable['output_type'] = 'display_data';\n",
              "          await google.colab.output.renderOutput(dataTable, element);\n",
              "          const docLink = document.createElement('div');\n",
              "          docLink.innerHTML = docLinkHtml;\n",
              "          element.appendChild(docLink);\n",
              "        }\n",
              "      </script>\n",
              "    </div>\n",
              "  </div>\n",
              "  "
            ]
          },
          "metadata": {},
          "execution_count": 307
        }
      ]
    },
    {
      "cell_type": "markdown",
      "source": [
        "The KNeighborsClassifier had the best sores and since this model will be used in detecting MonkeyPox viruses a high recall is needed then precision since this will prevent the number of false positives making more positive cases to be identified and treated in advance"
      ],
      "metadata": {
        "id": "P4xNuwR17Ekq"
      },
      "id": "P4xNuwR17Ekq"
    },
    {
      "cell_type": "code",
      "source": [
        "#develop a final pipline that will be used to train the model on the whole dataset and make the model ready for deployment\n",
        "#Balance the whole dataset using smote \n",
        "X_smote, y_smote = SMOTE().fit_resample(X, y)\n",
        "y_smote.value_counts()\n",
        "\n"
      ],
      "metadata": {
        "colab": {
          "base_uri": "https://localhost:8080/"
        },
        "id": "6aXwZ2-c7mj5",
        "outputId": "8f39258a-33c0-4700-c1a0-4c12bd4f96fc"
      },
      "id": "6aXwZ2-c7mj5",
      "execution_count": 318,
      "outputs": [
        {
          "output_type": "execute_result",
          "data": {
            "text/plain": [
              "0    15909\n",
              "1    15909\n",
              "Name: Target, dtype: int64"
            ]
          },
          "metadata": {},
          "execution_count": 318
        }
      ]
    },
    {
      "cell_type": "code",
      "source": [
        "pipeline = Pipeline([('KNN', KNeighborsClassifier(algorithm = 'auto', leaf_size = 4, n_jobs = -1, n_neighbors = 8))])\n",
        "pipeline.fit(X_smote,y_smote)"
      ],
      "metadata": {
        "colab": {
          "base_uri": "https://localhost:8080/"
        },
        "id": "rferNxyU-oDh",
        "outputId": "df997b06-eb95-4f56-f08e-57a632cea4a9"
      },
      "id": "rferNxyU-oDh",
      "execution_count": 324,
      "outputs": [
        {
          "output_type": "execute_result",
          "data": {
            "text/plain": [
              "Pipeline(steps=[('KNN',\n",
              "                 KNeighborsClassifier(leaf_size=4, n_jobs=-1, n_neighbors=8))])"
            ]
          },
          "metadata": {},
          "execution_count": 324
        }
      ]
    },
    {
      "cell_type": "code",
      "source": [
        "#model performance after training on the whole data\n",
        "model_trainer(pipeline, X_smote, y_smote,X_test,y_test)\n"
      ],
      "metadata": {
        "colab": {
          "base_uri": "https://localhost:8080/"
        },
        "id": "LLjSHCFBAUmP",
        "outputId": "306f95cc-66fe-49dc-98bd-9b363bbd4e5e"
      },
      "id": "LLjSHCFBAUmP",
      "execution_count": 329,
      "outputs": [
        {
          "output_type": "execute_result",
          "data": {
            "text/plain": [
              "{'precision': 0.7318840579710145,\n",
              " 'recall_score': 0.7617850408548082,\n",
              " 'accuracy_score': 0.6708,\n",
              " 'f1_score': 0.7465352633199877}"
            ]
          },
          "metadata": {},
          "execution_count": 329
        }
      ]
    },
    {
      "cell_type": "code",
      "source": [
        "#save our model into a pickle\n",
        "with open('model.pkl', 'wb') as f:\n",
        "  joblib.dump(pipeline, f)"
      ],
      "metadata": {
        "id": "TMz3-xAfBfY2"
      },
      "id": "TMz3-xAfBfY2",
      "execution_count": 331,
      "outputs": []
    },
    {
      "cell_type": "code",
      "source": [],
      "metadata": {
        "id": "j7F6z_g4C1d8"
      },
      "id": "j7F6z_g4C1d8",
      "execution_count": null,
      "outputs": []
    }
  ],
  "metadata": {
    "kernelspec": {
      "display_name": "Python 3",
      "language": "python",
      "name": "python3"
    },
    "language_info": {
      "codemirror_mode": {
        "name": "ipython",
        "version": 3
      },
      "file_extension": ".py",
      "mimetype": "text/x-python",
      "name": "python",
      "nbconvert_exporter": "python",
      "pygments_lexer": "ipython3",
      "version": "3.8.8"
    },
    "colab": {
      "provenance": []
    }
  },
  "nbformat": 4,
  "nbformat_minor": 5
}