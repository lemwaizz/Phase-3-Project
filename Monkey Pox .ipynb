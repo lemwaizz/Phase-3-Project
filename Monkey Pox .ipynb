{
 "cells": [
  {
   "cell_type": "markdown",
   "id": "3fa64598",
   "metadata": {},
   "source": [
    "# MONKEYPOX PREDICTION\n",
    "\n",
    "## BUSINESS UNDERSTANDING\n",
    "\n",
    "### __Overview__\n",
    "\n",
    "Monkeypox, according to the Centers for Disease Control and Prevention, is an uncommon disease caused by infection with the monkeypox virus. Monkeypox virus is part of the same family of viruses as variola virus, the virus that causes smallpox. Monkeypox symptoms are similar to smallpox symptoms, but milder, and monkeypox is rarely fatal.\n",
    "Monkeypox was discovered in 1958 when two outbreaks of a pox-like disease occurred in colonies of monkeys kept for research. Despite being named “monkeypox,” the source of the disease remains unknown. However, African rodents and non-human primates (like monkeys) might harbor the virus and infect people.\n",
    "\n",
    "The first human case of monkeypox was recorded in 1970. Prior to the 2022 outbreak in May, monkeypox had been reported in people in several central and western African countries. Previously, almost all monkeypox cases in people outside of Africa were linked to international travel to countries where the disease commonly occurs or through imported animals. These cases occurred on multiple continents.\n",
    "\n",
    "```Transmission```: Monkeypox is a viral zoonosis (virus transmitted to humans from animals)It is transmitted through close contact with an infected person or animal, body fluids, respiratory droplets and contaminated materials such as bedding.\n",
    "\n",
    "### __Problem Statement__\n",
    "\n",
    "As more cases of monkeypox emerge, the world becomes increasingly concerned, as they do not want a repeat of what happened not too long ago, when the infamous Covid-19 broke out and altered the world as we know it. Faced with the reality that such viral diseases can actually shut down the planet, the organization must develop ways to reduce the spread of this disease, enter the Health authorities in the United Kingdom, they have established an incident management team to coordinate the extensive contact tracing  in regards to how quickly the virus can be transferred and, worse, mutate into a more lethal variant.\n",
    "\n",
    "On July 23, the World Health Organization declared the outbreak “a public health emergency of international concern.” Another thing you should know about monkeypox is that it is extremely unpleasant. The current strain has a 1% mortality rate, and as of this writing, there have been three deaths reported in outbreaks outside of Africa, and five deaths in African countries where the disease is endemic, since the beginning of the year.\n",
    "The West African strain of the monkeypox virus is associated with milder disease and fewer deaths than the Central African strain.\n",
    "\n",
    "Even if the chances of death are low, patients with monkeypox have reported how painful and debilitating the disease is. \"People may experience flu-like symptoms at first, such as fever and headache, but as the disease progresses, you get a multi-stage rash, lesions can develop in your mouth, feet, and genital region, and these develop into pus-filled blisters.\"Symptoms can appear between five and 21 days after infection, though the average incubation period is 6 to 13 days. For the first few days, there are headaches, fever, muscle aches, and fatigue.\n",
    "\n",
    "As students of the Incident Management team we have been tasked to create a model to accurately identify potential infected persons in order to make contact tracing faster and more efficient, thereby halting the spread.\n",
    "\n",
    "### __Proposed Solution__\n",
    "\n",
    "One proposed solution is to cultivate the use of data in attempting to predict whether or not a person has monkeypox in order to make contact tracing easier.\n",
    "\n",
    "### __Specific Objectives__\n",
    "\n",
    "* To predict whether a patient is negative or positive for monkeypox based on the symptoms they exhibit \n",
    "* To analyze the various variables such as Sore Throat,Penile Oedema, Oral Lesions ,Systemic illness and STIs and know their relationship with monkeypox \n",
    "\n",
    "### __Research Questions__\n",
    "\n",
    "* Which model best predicts monkeypox disease?\n",
    "* Which symptom has the highest correlation to monkeypox?\n",
    "* Which symptom has the lowest correlation to monkeypox?\n",
    "\n",
    "### __Success Criteria__\n",
    "\n",
    "Tentatively, the study will be judged a success if, we build a model(****We'll add it once we figure out which kind of models we will use. Since we are using at least two models****) to predict monkeypox with an accuracy,precision and recall of 70% or more in classification\n",
    "\n"
   ]
  },
  {
   "cell_type": "markdown",
   "id": "95a18417",
   "metadata": {},
   "source": [
    "## Importing Libraries"
   ]
  },
  {
   "cell_type": "code",
   "execution_count": 14,
   "id": "7a4c0f04",
   "metadata": {},
   "outputs": [],
   "source": [
    "import pandas as pd\n",
    "import seaborn as sns\n",
    "import matplotlib.pyplot as plt \n",
    "from sklearn.model_selection import train_test_split\n",
    "\n",
    "import warnings\n",
    "warnings.simplefilter(action='ignore', category=FutureWarning)"
   ]
  },
  {
   "cell_type": "markdown",
   "id": "7294a50d",
   "metadata": {},
   "source": [
    "## Loading Data"
   ]
  },
  {
   "cell_type": "code",
   "execution_count": 6,
   "id": "97bd5df2",
   "metadata": {},
   "outputs": [],
   "source": [
    "# Loading the data using pandas into mp {Monkey Pox}\n",
    "\n",
    "# Index_col sets the index to be the patient id as there is no need to have more than one unique identifiers.\n",
    "\n",
    "mp = pd.read_csv('DATA.csv', index_col= 0)"
   ]
  },
  {
   "cell_type": "markdown",
   "id": "314be6b3",
   "metadata": {},
   "source": [
    "## DATA UNDERSTANDING\n",
    "\n",
    "### __Overview__\n",
    "\n",
    "We are using a SYNTHETIC dataset generated from a study published by the British Medical Journal. It is a description of the clinical features and novel presentations of human monkeypox during the outbreak of 2022 in central London. \n",
    "\n",
    "The data has already been loaded in the above code cell."
   ]
  },
  {
   "cell_type": "code",
   "execution_count": 33,
   "id": "7a7cf1f0",
   "metadata": {},
   "outputs": [
    {
     "data": {
      "text/html": [
       "<div>\n",
       "<style scoped>\n",
       "    .dataframe tbody tr th:only-of-type {\n",
       "        vertical-align: middle;\n",
       "    }\n",
       "\n",
       "    .dataframe tbody tr th {\n",
       "        vertical-align: top;\n",
       "    }\n",
       "\n",
       "    .dataframe thead th {\n",
       "        text-align: right;\n",
       "    }\n",
       "</style>\n",
       "<table border=\"1\" class=\"dataframe\">\n",
       "  <thead>\n",
       "    <tr style=\"text-align: right;\">\n",
       "      <th></th>\n",
       "      <th>Systemic Illness</th>\n",
       "      <th>Rectal Pain</th>\n",
       "      <th>Sore Throat</th>\n",
       "      <th>Penile Oedema</th>\n",
       "      <th>Oral Lesions</th>\n",
       "      <th>Solitary Lesion</th>\n",
       "      <th>Swollen Tonsils</th>\n",
       "      <th>HIV Infection</th>\n",
       "      <th>Sexually Transmitted Infection</th>\n",
       "      <th>MonkeyPox</th>\n",
       "    </tr>\n",
       "    <tr>\n",
       "      <th>Patient_ID</th>\n",
       "      <th></th>\n",
       "      <th></th>\n",
       "      <th></th>\n",
       "      <th></th>\n",
       "      <th></th>\n",
       "      <th></th>\n",
       "      <th></th>\n",
       "      <th></th>\n",
       "      <th></th>\n",
       "      <th></th>\n",
       "    </tr>\n",
       "  </thead>\n",
       "  <tbody>\n",
       "    <tr>\n",
       "      <th>P0</th>\n",
       "      <td>None</td>\n",
       "      <td>False</td>\n",
       "      <td>True</td>\n",
       "      <td>True</td>\n",
       "      <td>True</td>\n",
       "      <td>False</td>\n",
       "      <td>True</td>\n",
       "      <td>False</td>\n",
       "      <td>False</td>\n",
       "      <td>Negative</td>\n",
       "    </tr>\n",
       "    <tr>\n",
       "      <th>P1</th>\n",
       "      <td>Fever</td>\n",
       "      <td>True</td>\n",
       "      <td>False</td>\n",
       "      <td>True</td>\n",
       "      <td>True</td>\n",
       "      <td>False</td>\n",
       "      <td>False</td>\n",
       "      <td>True</td>\n",
       "      <td>False</td>\n",
       "      <td>Positive</td>\n",
       "    </tr>\n",
       "    <tr>\n",
       "      <th>P2</th>\n",
       "      <td>Fever</td>\n",
       "      <td>False</td>\n",
       "      <td>True</td>\n",
       "      <td>True</td>\n",
       "      <td>False</td>\n",
       "      <td>False</td>\n",
       "      <td>False</td>\n",
       "      <td>True</td>\n",
       "      <td>False</td>\n",
       "      <td>Positive</td>\n",
       "    </tr>\n",
       "    <tr>\n",
       "      <th>P3</th>\n",
       "      <td>None</td>\n",
       "      <td>True</td>\n",
       "      <td>False</td>\n",
       "      <td>False</td>\n",
       "      <td>False</td>\n",
       "      <td>True</td>\n",
       "      <td>True</td>\n",
       "      <td>True</td>\n",
       "      <td>False</td>\n",
       "      <td>Positive</td>\n",
       "    </tr>\n",
       "    <tr>\n",
       "      <th>P4</th>\n",
       "      <td>Swollen Lymph Nodes</td>\n",
       "      <td>True</td>\n",
       "      <td>True</td>\n",
       "      <td>True</td>\n",
       "      <td>False</td>\n",
       "      <td>False</td>\n",
       "      <td>True</td>\n",
       "      <td>True</td>\n",
       "      <td>False</td>\n",
       "      <td>Positive</td>\n",
       "    </tr>\n",
       "  </tbody>\n",
       "</table>\n",
       "</div>"
      ],
      "text/plain": [
       "               Systemic Illness  Rectal Pain  Sore Throat  Penile Oedema  \\\n",
       "Patient_ID                                                                 \n",
       "P0                         None        False         True           True   \n",
       "P1                        Fever         True        False           True   \n",
       "P2                        Fever        False         True           True   \n",
       "P3                         None         True        False          False   \n",
       "P4          Swollen Lymph Nodes         True         True           True   \n",
       "\n",
       "            Oral Lesions  Solitary Lesion  Swollen Tonsils  HIV Infection  \\\n",
       "Patient_ID                                                                  \n",
       "P0                  True            False             True          False   \n",
       "P1                  True            False            False           True   \n",
       "P2                 False            False            False           True   \n",
       "P3                 False             True             True           True   \n",
       "P4                 False            False             True           True   \n",
       "\n",
       "            Sexually Transmitted Infection MonkeyPox  \n",
       "Patient_ID                                            \n",
       "P0                                   False  Negative  \n",
       "P1                                   False  Positive  \n",
       "P2                                   False  Positive  \n",
       "P3                                   False  Positive  \n",
       "P4                                   False  Positive  "
      ]
     },
     "execution_count": 33,
     "metadata": {},
     "output_type": "execute_result"
    }
   ],
   "source": [
    "# preview of the first 5 rows\n",
    "mp.head()"
   ]
  },
  {
   "cell_type": "code",
   "execution_count": 34,
   "id": "bf69b582",
   "metadata": {},
   "outputs": [
    {
     "name": "stdout",
     "output_type": "stream",
     "text": [
      "<class 'pandas.core.frame.DataFrame'>\n",
      "Index: 25000 entries, P0 to P24999\n",
      "Data columns (total 10 columns):\n",
      " #   Column                          Non-Null Count  Dtype \n",
      "---  ------                          --------------  ----- \n",
      " 0   Systemic Illness                25000 non-null  object\n",
      " 1   Rectal Pain                     25000 non-null  bool  \n",
      " 2   Sore Throat                     25000 non-null  bool  \n",
      " 3   Penile Oedema                   25000 non-null  bool  \n",
      " 4   Oral Lesions                    25000 non-null  bool  \n",
      " 5   Solitary Lesion                 25000 non-null  bool  \n",
      " 6   Swollen Tonsils                 25000 non-null  bool  \n",
      " 7   HIV Infection                   25000 non-null  bool  \n",
      " 8   Sexually Transmitted Infection  25000 non-null  bool  \n",
      " 9   MonkeyPox                       25000 non-null  object\n",
      "dtypes: bool(8), object(2)\n",
      "memory usage: 1.4+ MB\n"
     ]
    }
   ],
   "source": [
    "# Checking the summary of the data\n",
    "\n",
    "mp.info()"
   ]
  },
  {
   "cell_type": "code",
   "execution_count": 7,
   "id": "489114df",
   "metadata": {},
   "outputs": [
    {
     "data": {
      "text/plain": [
       "0"
      ]
     },
     "execution_count": 7,
     "metadata": {},
     "output_type": "execute_result"
    }
   ],
   "source": [
    "# checking for duplicates using the index as a guide as the index is the personal id\n",
    "mp.index.duplicated().sum()"
   ]
  },
  {
   "cell_type": "code",
   "execution_count": 36,
   "id": "5ebef806",
   "metadata": {},
   "outputs": [
    {
     "data": {
      "text/plain": [
       "Index(['Systemic Illness', 'Rectal Pain', 'Sore Throat', 'Penile Oedema',\n",
       "       'Oral Lesions', 'Solitary Lesion', 'Swollen Tonsils', 'HIV Infection',\n",
       "       'Sexually Transmitted Infection', 'MonkeyPox'],\n",
       "      dtype='object')"
      ]
     },
     "execution_count": 36,
     "metadata": {},
     "output_type": "execute_result"
    }
   ],
   "source": [
    "# viewing the column names of the dataset \n",
    "\n",
    "mp.columns"
   ]
  },
  {
   "cell_type": "code",
   "execution_count": 28,
   "id": "72c0eb00",
   "metadata": {},
   "outputs": [
    {
     "data": {
      "text/plain": [
       "['Rectal Pain',\n",
       " 'Sore Throat',\n",
       " 'Penile Oedema',\n",
       " 'Oral Lesions',\n",
       " 'Solitary Lesion',\n",
       " 'Swollen Tonsils',\n",
       " 'HIV Infection',\n",
       " 'Sexually Transmitted Infection',\n",
       " 'MonkeyPox']"
      ]
     },
     "execution_count": 28,
     "metadata": {},
     "output_type": "execute_result"
    }
   ],
   "source": [
    "# Making a list of all the bool columns to use in get_dummies later\n",
    "\n",
    "col = list(mp.columns)\n",
    "\n",
    "col.remove('Systemic Illness')\n",
    "col"
   ]
  },
  {
   "cell_type": "code",
   "execution_count": 38,
   "id": "ccd7f147",
   "metadata": {},
   "outputs": [
    {
     "data": {
      "text/plain": [
       "['Rectal Pain',\n",
       " 'Sore Throat',\n",
       " 'Penile Oedema',\n",
       " 'Oral Lesions',\n",
       " 'Solitary Lesion',\n",
       " 'Swollen Tonsils',\n",
       " 'HIV Infection',\n",
       " 'Sexually Transmitted Infection',\n",
       " 'MonkeyPox']"
      ]
     },
     "execution_count": 38,
     "metadata": {},
     "output_type": "execute_result"
    }
   ],
   "source": [
    "# preview of the list of column names\n",
    "\n",
    "col"
   ]
  },
  {
   "cell_type": "code",
   "execution_count": 39,
   "id": "e3269feb",
   "metadata": {
    "scrolled": true
   },
   "outputs": [
    {
     "data": {
      "text/html": [
       "<div>\n",
       "<style scoped>\n",
       "    .dataframe tbody tr th:only-of-type {\n",
       "        vertical-align: middle;\n",
       "    }\n",
       "\n",
       "    .dataframe tbody tr th {\n",
       "        vertical-align: top;\n",
       "    }\n",
       "\n",
       "    .dataframe thead th {\n",
       "        text-align: right;\n",
       "    }\n",
       "</style>\n",
       "<table border=\"1\" class=\"dataframe\">\n",
       "  <thead>\n",
       "    <tr style=\"text-align: right;\">\n",
       "      <th></th>\n",
       "      <th>Systemic Illness</th>\n",
       "      <th>Rectal Pain</th>\n",
       "      <th>Sore Throat</th>\n",
       "      <th>Penile Oedema</th>\n",
       "      <th>Oral Lesions</th>\n",
       "      <th>Solitary Lesion</th>\n",
       "      <th>Swollen Tonsils</th>\n",
       "      <th>HIV Infection</th>\n",
       "      <th>Sexually Transmitted Infection</th>\n",
       "      <th>MonkeyPox</th>\n",
       "    </tr>\n",
       "  </thead>\n",
       "  <tbody>\n",
       "    <tr>\n",
       "      <th>count</th>\n",
       "      <td>25000</td>\n",
       "      <td>25000</td>\n",
       "      <td>25000</td>\n",
       "      <td>25000</td>\n",
       "      <td>25000</td>\n",
       "      <td>25000</td>\n",
       "      <td>25000</td>\n",
       "      <td>25000</td>\n",
       "      <td>25000</td>\n",
       "      <td>25000</td>\n",
       "    </tr>\n",
       "    <tr>\n",
       "      <th>unique</th>\n",
       "      <td>4</td>\n",
       "      <td>2</td>\n",
       "      <td>2</td>\n",
       "      <td>2</td>\n",
       "      <td>2</td>\n",
       "      <td>2</td>\n",
       "      <td>2</td>\n",
       "      <td>2</td>\n",
       "      <td>2</td>\n",
       "      <td>2</td>\n",
       "    </tr>\n",
       "    <tr>\n",
       "      <th>top</th>\n",
       "      <td>Fever</td>\n",
       "      <td>False</td>\n",
       "      <td>True</td>\n",
       "      <td>True</td>\n",
       "      <td>False</td>\n",
       "      <td>True</td>\n",
       "      <td>True</td>\n",
       "      <td>True</td>\n",
       "      <td>False</td>\n",
       "      <td>Positive</td>\n",
       "    </tr>\n",
       "    <tr>\n",
       "      <th>freq</th>\n",
       "      <td>6382</td>\n",
       "      <td>12655</td>\n",
       "      <td>12554</td>\n",
       "      <td>12612</td>\n",
       "      <td>12514</td>\n",
       "      <td>12527</td>\n",
       "      <td>12533</td>\n",
       "      <td>12584</td>\n",
       "      <td>12554</td>\n",
       "      <td>15909</td>\n",
       "    </tr>\n",
       "  </tbody>\n",
       "</table>\n",
       "</div>"
      ],
      "text/plain": [
       "       Systemic Illness Rectal Pain Sore Throat Penile Oedema Oral Lesions  \\\n",
       "count             25000       25000       25000         25000        25000   \n",
       "unique                4           2           2             2            2   \n",
       "top               Fever       False        True          True        False   \n",
       "freq               6382       12655       12554         12612        12514   \n",
       "\n",
       "       Solitary Lesion Swollen Tonsils HIV Infection  \\\n",
       "count            25000           25000         25000   \n",
       "unique               2               2             2   \n",
       "top               True            True          True   \n",
       "freq             12527           12533         12584   \n",
       "\n",
       "       Sexually Transmitted Infection MonkeyPox  \n",
       "count                           25000     25000  \n",
       "unique                              2         2  \n",
       "top                             False  Positive  \n",
       "freq                            12554     15909  "
      ]
     },
     "execution_count": 39,
     "metadata": {},
     "output_type": "execute_result"
    }
   ],
   "source": [
    "# checking the summary statistics of the data\n",
    "mp.describe()"
   ]
  },
  {
   "cell_type": "code",
   "execution_count": 40,
   "id": "2ab89ef5",
   "metadata": {},
   "outputs": [
    {
     "data": {
      "text/plain": [
       "(25000, 10)"
      ]
     },
     "execution_count": 40,
     "metadata": {},
     "output_type": "execute_result"
    }
   ],
   "source": [
    "# shape of the data\n",
    "mp.shape"
   ]
  },
  {
   "cell_type": "markdown",
   "id": "42c296ed",
   "metadata": {},
   "source": [
    "__Summary__\n",
    "\n",
    "* Our data has 25,000 rows and 10 columns\n",
    "* The data has 8 columns of dtype ```Bool``` and 2 columns of dtype ```object```.\n",
    "* There are no missing columns in the data.\n",
    "* There are no duplicates in the data.\n",
    "* The following are the columns in our data;\n",
    "    * Systemic Illness \n",
    "    * Rectal Pain \n",
    "    * Sore Throat \n",
    "    * Penile Oedema\n",
    "    * Oral Lesions \n",
    "    * Solitary Lesion \n",
    "    * Swollen Tonsils \n",
    "    * HIV Infection\n",
    "    * Sexually Transmitted Infection\n",
    "    * MonkeyPox\n",
    "\n",
    "Since the data has no duplicates and missing values, we can go ahead and do Exploratory Data Analysis to gain more insights from the data."
   ]
  },
  {
   "cell_type": "markdown",
   "id": "541b3486",
   "metadata": {},
   "source": [
    "### Exploratory Data Analysis\n",
    "\n",
    "__UNIVARIATE ANALYSIS__\n",
    "\n",
    "__Feature columns__"
   ]
  },
  {
   "cell_type": "code",
   "execution_count": 41,
   "id": "479fb254",
   "metadata": {
    "scrolled": false
   },
   "outputs": [
    {
     "data": {
      "image/png": "[encoded data removed]",
      "text/plain": [
       "<Figure size 432x288 with 1 Axes>"
      ]
     },
     "metadata": {
      "needs_background": "light"
     },
     "output_type": "display_data"
    },
    {
     "data": {
      "image/png": "[encoded data removed]",
      "text/plain": [
       "<Figure size 432x288 with 1 Axes>"
      ]
     },
     "metadata": {
      "needs_background": "light"
     },
     "output_type": "display_data"
    },
    {
     "data": {
      "image/png": "[encoded data removed]",
      "text/plain": [
       "<Figure size 432x288 with 1 Axes>"
      ]
     },
     "metadata": {
      "needs_background": "light"
     },
     "output_type": "display_data"
    },
    {
     "data": {
      "image/png": "[encoded data removed]",
      "text/plain": [
       "<Figure size 432x288 with 1 Axes>"
      ]
     },
     "metadata": {
      "needs_background": "light"
     },
     "output_type": "display_data"
    },
    {
     "data": {
      "image/png": "[encoded data removed]",
      "text/plain": [
       "<Figure size 432x288 with 1 Axes>"
      ]
     },
     "metadata": {
      "needs_background": "light"
     },
     "output_type": "display_data"
    },
    {
     "data": {
      "image/png": "[encoded data removed]",
      "text/plain": [
       "<Figure size 432x288 with 1 Axes>"
      ]
     },
     "metadata": {
      "needs_background": "light"
     },
     "output_type": "display_data"
    },
    {
     "data": {
      "image/png": "[encoded data removed]",
      "text/plain": [
       "<Figure size 432x288 with 1 Axes>"
      ]
     },
     "metadata": {
      "needs_background": "light"
     },
     "output_type": "display_data"
    },
    {
     "data": {
      "image/png": "[encoded data removed]",
      "text/plain": [
       "<Figure size 432x288 with 1 Axes>"
      ]
     },
     "metadata": {
      "needs_background": "light"
     },
     "output_type": "display_data"
    },
    {
     "data": {
      "image/png": "[encoded data removed]",
      "text/plain": [
       "<Figure size 432x288 with 1 Axes>"
      ]
     },
     "metadata": {
      "needs_background": "light"
     },
     "output_type": "display_data"
    }
   ],
   "source": [
    "for column in mp.columns:\n",
    "    if column != 'MonkeyPox':\n",
    "        plt.figure()\n",
    "        sns.countplot(x=mp[column])\n",
    "        plt.xticks(rotation = \"45\")\n",
    "        plt.show()"
   ]
  },
  {
   "cell_type": "markdown",
   "id": "f12fb29f",
   "metadata": {},
   "source": [
    "__Target column__"
   ]
  },
  {
   "cell_type": "code",
   "execution_count": 16,
   "id": "1254ba02",
   "metadata": {},
   "outputs": [
    {
     "data": {
      "image/png": "[encoded data removed]",
      "text/plain": [
       "<Figure size 640x480 with 1 Axes>"
      ]
     },
     "metadata": {},
     "output_type": "display_data"
    }
   ],
   "source": [
    "sns.countplot(x = mp[\"MonkeyPox\"]);"
   ]
  },
  {
   "cell_type": "markdown",
   "id": "299880c0",
   "metadata": {},
   "source": [
    "__Univariate Analysis summary__\n",
    "\n",
    "* From the above, all symptoms have a uniform distribution based on whether it is true or false.\n",
    "* For the systemic illnesses, fever has the highest frequency.\n",
    "* For the target column, the number of those with monkey pox is higher than those without the monkeypox therefore there is a class imbalance in our target column."
   ]
  },
  {
   "cell_type": "markdown",
   "id": "9e0a3973",
   "metadata": {},
   "source": [
    "__BIVARIATE ANALYSIS__\n",
    "\n"
   ]
  },
  {
   "cell_type": "code",
   "execution_count": 18,
   "id": "a6c7135d",
   "metadata": {
    "scrolled": true
   },
   "outputs": [
    {
     "data": {
      "text/html": [
       "<div>\n",
       "<style scoped>\n",
       "    .dataframe tbody tr th:only-of-type {\n",
       "        vertical-align: middle;\n",
       "    }\n",
       "\n",
       "    .dataframe tbody tr th {\n",
       "        vertical-align: top;\n",
       "    }\n",
       "\n",
       "    .dataframe thead th {\n",
       "        text-align: right;\n",
       "    }\n",
       "</style>\n",
       "<table border=\"1\" class=\"dataframe\">\n",
       "  <thead>\n",
       "    <tr style=\"text-align: right;\">\n",
       "      <th></th>\n",
       "      <th>MonkeyPox</th>\n",
       "      <th>Rectal Pain</th>\n",
       "      <th>Sore Throat</th>\n",
       "      <th>Penile Oedema</th>\n",
       "      <th>Oral Lesions</th>\n",
       "      <th>Solitary Lesion</th>\n",
       "      <th>Swollen Tonsils</th>\n",
       "      <th>HIV Infection</th>\n",
       "      <th>Sexually Transmitted Infection</th>\n",
       "    </tr>\n",
       "  </thead>\n",
       "  <tbody>\n",
       "    <tr>\n",
       "      <th>0</th>\n",
       "      <td>Negative</td>\n",
       "      <td>3643</td>\n",
       "      <td>4184</td>\n",
       "      <td>4214</td>\n",
       "      <td>4228</td>\n",
       "      <td>4330</td>\n",
       "      <td>4478</td>\n",
       "      <td>3697</td>\n",
       "      <td>3784</td>\n",
       "    </tr>\n",
       "    <tr>\n",
       "      <th>1</th>\n",
       "      <td>Positive</td>\n",
       "      <td>8702</td>\n",
       "      <td>8370</td>\n",
       "      <td>8398</td>\n",
       "      <td>8258</td>\n",
       "      <td>8197</td>\n",
       "      <td>8055</td>\n",
       "      <td>8887</td>\n",
       "      <td>8662</td>\n",
       "    </tr>\n",
       "  </tbody>\n",
       "</table>\n",
       "</div>"
      ],
      "text/plain": [
       "  MonkeyPox  Rectal Pain  Sore Throat  Penile Oedema  Oral Lesions  \\\n",
       "0  Negative         3643         4184           4214          4228   \n",
       "1  Positive         8702         8370           8398          8258   \n",
       "\n",
       "   Solitary Lesion  Swollen Tonsils  HIV Infection  \\\n",
       "0             4330             4478           3697   \n",
       "1             8197             8055           8887   \n",
       "\n",
       "   Sexually Transmitted Infection  \n",
       "0                            3784  \n",
       "1                            8662  "
      ]
     },
     "execution_count": 18,
     "metadata": {},
     "output_type": "execute_result"
    }
   ],
   "source": [
    "# Grouping the data by monkey pox in order to find the sum of various symptoms baseed on MonkeyPox\n",
    "values = mp.groupby(by=\"MonkeyPox\").sum().reset_index()\n",
    "values"
   ]
  },
  {
   "cell_type": "markdown",
   "id": "0d9b713f",
   "metadata": {},
   "source": [
    "***HIV Infection vs MonkeyPox***"
   ]
  },
  {
   "cell_type": "code",
   "execution_count": 15,
   "id": "0aaad394",
   "metadata": {},
   "outputs": [
    {
     "data": {
      "text/plain": [
       "MonkeyPox\n",
       "Negative    3697\n",
       "Positive    8887\n",
       "Name: HIV Infection, dtype: int64"
      ]
     },
     "execution_count": 15,
     "metadata": {},
     "output_type": "execute_result"
    },
    {
     "data": {
      "image/png": "[encoded data removed]",
      "text/plain": [
       "<Figure size 640x480 with 1 Axes>"
      ]
     },
     "metadata": {},
     "output_type": "display_data"
    }
   ],
   "source": [
    "\n",
    "ax = sns.barplot(x = \"HIV Infection\", y = \"MonkeyPox\", data = values)\n",
    "mp.groupby(\"MonkeyPox\").sum()[\"HIV Infection\"]"
   ]
  },
  {
   "cell_type": "markdown",
   "id": "a8693821",
   "metadata": {},
   "source": [
    "***Rectal Pain vs MonkeyPox***"
   ]
  },
  {
   "cell_type": "code",
   "execution_count": 17,
   "id": "12a65ba3",
   "metadata": {},
   "outputs": [
    {
     "data": {
      "text/plain": [
       "MonkeyPox\n",
       "Negative    3643\n",
       "Positive    8702\n",
       "Name: Rectal Pain, dtype: int64"
      ]
     },
     "execution_count": 17,
     "metadata": {},
     "output_type": "execute_result"
    },
    {
     "data": {
      "image/png": "[encoded data removed]",
      "text/plain": [
       "<Figure size 640x480 with 1 Axes>"
      ]
     },
     "metadata": {},
     "output_type": "display_data"
    }
   ],
   "source": [
    "ax = sns.barplot(x = \"Rectal Pain\", y = \"MonkeyPox\", data = values)\n",
    "mp.groupby(\"MonkeyPox\").sum()[\"Rectal Pain\"]"
   ]
  },
  {
   "cell_type": "markdown",
   "id": "62cc1ae5",
   "metadata": {},
   "source": [
    "***Sore Throat vs MonkeyPox***"
   ]
  },
  {
   "cell_type": "code",
   "execution_count": 45,
   "id": "d254ac43",
   "metadata": {},
   "outputs": [
    {
     "data": {
      "text/plain": [
       "MonkeyPox\n",
       "Negative    4184\n",
       "Positive    8370\n",
       "Name: Sore Throat, dtype: int64"
      ]
     },
     "execution_count": 45,
     "metadata": {},
     "output_type": "execute_result"
    },
    {
     "data": {
      "image/png": "[encoded data removed]",
      "text/plain": [
       "<Figure size 432x288 with 1 Axes>"
      ]
     },
     "metadata": {
      "needs_background": "light"
     },
     "output_type": "display_data"
    }
   ],
   "source": [
    "ax = sns.barplot(x = \"Sore Throat\", y = \"MonkeyPox\", data = values)\n",
    "mp.groupby(\"MonkeyPox\").sum()[\"Sore Throat\"]"
   ]
  },
  {
   "cell_type": "markdown",
   "id": "d2af9f54",
   "metadata": {},
   "source": [
    "***Penile Oedema vs MonkeyPox***"
   ]
  },
  {
   "cell_type": "code",
   "execution_count": 46,
   "id": "6f30a563",
   "metadata": {},
   "outputs": [
    {
     "data": {
      "text/plain": [
       "MonkeyPox\n",
       "Negative    4214\n",
       "Positive    8398\n",
       "Name: Penile Oedema, dtype: int64"
      ]
     },
     "execution_count": 46,
     "metadata": {},
     "output_type": "execute_result"
    },
    {
     "data": {
      "image/png": "[encoded data removed]",
      "text/plain": [
       "<Figure size 432x288 with 1 Axes>"
      ]
     },
     "metadata": {
      "needs_background": "light"
     },
     "output_type": "display_data"
    }
   ],
   "source": [
    "ax = sns.barplot(x = \"Penile Oedema\", y = \"MonkeyPox\", data = values)\n",
    "mp.groupby(\"MonkeyPox\").sum()[\"Penile Oedema\"]"
   ]
  },
  {
   "cell_type": "markdown",
   "id": "101a785b",
   "metadata": {},
   "source": [
    "***Oral Lesions vs MonkeyPox***"
   ]
  },
  {
   "cell_type": "code",
   "execution_count": 47,
   "id": "55741421",
   "metadata": {},
   "outputs": [
    {
     "data": {
      "text/plain": [
       "MonkeyPox\n",
       "Negative    4228\n",
       "Positive    8258\n",
       "Name: Oral Lesions, dtype: int64"
      ]
     },
     "execution_count": 47,
     "metadata": {},
     "output_type": "execute_result"
    },
    {
     "data": {
      "image/png": "[encoded data removed]",
      "text/plain": [
       "<Figure size 432x288 with 1 Axes>"
      ]
     },
     "metadata": {
      "needs_background": "light"
     },
     "output_type": "display_data"
    }
   ],
   "source": [
    "ax = sns.barplot(x = \"Oral Lesions\", y = \"MonkeyPox\", data = values)\n",
    "mp.groupby(\"MonkeyPox\").sum()[\"Oral Lesions\"]"
   ]
  },
  {
   "cell_type": "markdown",
   "id": "619a5b09",
   "metadata": {},
   "source": [
    "***Solitary Lesion vs MonkeyPox***"
   ]
  },
  {
   "cell_type": "code",
   "execution_count": 48,
   "id": "d37a3d0b",
   "metadata": {},
   "outputs": [
    {
     "data": {
      "text/plain": [
       "MonkeyPox\n",
       "Negative    4330\n",
       "Positive    8197\n",
       "Name: Solitary Lesion, dtype: int64"
      ]
     },
     "execution_count": 48,
     "metadata": {},
     "output_type": "execute_result"
    },
    {
     "data": {
      "image/png": "[encoded data removed]",
      "text/plain": [
       "<Figure size 432x288 with 1 Axes>"
      ]
     },
     "metadata": {
      "needs_background": "light"
     },
     "output_type": "display_data"
    }
   ],
   "source": [
    "sns.barplot(x = \"Solitary Lesion\", y = \"MonkeyPox\", data = values)\n",
    "mp.groupby(\"MonkeyPox\").sum()[\"Solitary Lesion\"]"
   ]
  },
  {
   "cell_type": "markdown",
   "id": "e7218cc1",
   "metadata": {},
   "source": [
    "***Swollen Tonsils vs MonkeyPox***"
   ]
  },
  {
   "cell_type": "code",
   "execution_count": 49,
   "id": "e6e70579",
   "metadata": {},
   "outputs": [
    {
     "data": {
      "text/plain": [
       "MonkeyPox\n",
       "Negative    4478\n",
       "Positive    8055\n",
       "Name: Swollen Tonsils, dtype: int64"
      ]
     },
     "execution_count": 49,
     "metadata": {},
     "output_type": "execute_result"
    },
    {
     "data": {
      "image/png": "[encoded data removed]",
      "text/plain": [
       "<Figure size 432x288 with 1 Axes>"
      ]
     },
     "metadata": {
      "needs_background": "light"
     },
     "output_type": "display_data"
    }
   ],
   "source": [
    "sns.barplot(x = \"Swollen Tonsils\", y = \"MonkeyPox\", data = values)\n",
    "mp.groupby(\"MonkeyPox\").sum()[\"Swollen Tonsils\"]"
   ]
  },
  {
   "cell_type": "markdown",
   "id": "b4c8c35b",
   "metadata": {},
   "source": [
    "***Sexually Transmitted Infection vs MonkeyPox***"
   ]
  },
  {
   "cell_type": "code",
   "execution_count": 22,
   "id": "bfba23aa",
   "metadata": {},
   "outputs": [
    {
     "data": {
      "text/plain": [
       "MonkeyPox\n",
       "Negative    3784\n",
       "Positive    8662\n",
       "Name: Sexually Transmitted Infection, dtype: int64"
      ]
     },
     "execution_count": 22,
     "metadata": {},
     "output_type": "execute_result"
    },
    {
     "data": {
      "image/png": "[encoded data removed]",
      "text/plain": [
       "<Figure size 640x480 with 1 Axes>"
      ]
     },
     "metadata": {},
     "output_type": "display_data"
    }
   ],
   "source": [
    "sns.barplot(x = \"Sexually Transmitted Infection\", y = \"MonkeyPox\", data = values)\n",
    "mp.groupby(\"MonkeyPox\").sum()[\"Sexually Transmitted Infection\"]"
   ]
  },
  {
   "cell_type": "markdown",
   "id": "aacd1a45",
   "metadata": {},
   "source": [
    "__Bivariate Analysis Summary__\n",
    "\n",
    "* People with the symptoms of ```HIV Infection```, ```Rectal Pain``` and ```Sexually Transmitted Infection``` have a high chance of being MonkeyPox positive."
   ]
  },
  {
   "cell_type": "markdown",
   "id": "9fd7a4dd",
   "metadata": {},
   "source": [
    "__MULTIVARIATE ANALYSIS__"
   ]
  },
  {
   "cell_type": "code",
   "execution_count": 23,
   "id": "d0ea5e61",
   "metadata": {},
   "outputs": [
    {
     "data": {
      "image/png": "[encoded data removed]",
      "text/plain": [
       "<Figure size 2000x1000 with 2 Axes>"
      ]
     },
     "metadata": {},
     "output_type": "display_data"
    }
   ],
   "source": [
    "plt.figure(figsize = (20, 10))\n",
    "var = mp.corr()\n",
    "sns.heatmap(var, annot = True, cmap = \"YlGnBu\");"
   ]
  },
  {
   "cell_type": "markdown",
   "id": "ea405319",
   "metadata": {},
   "source": [
    "## DATA PREPARATION"
   ]
  },
  {
   "cell_type": "code",
   "execution_count": 24,
   "id": "a7276ea9",
   "metadata": {},
   "outputs": [
    {
     "data": {
      "text/plain": [
       "Fever                    6382\n",
       "Swollen Lymph Nodes      6252\n",
       "None                     6216\n",
       "Muscle Aches and Pain    6150\n",
       "Name: Systemic Illness, dtype: int64"
      ]
     },
     "execution_count": 24,
     "metadata": {},
     "output_type": "execute_result"
    }
   ],
   "source": [
    "# Checking on the uniue value counts in Systemic Illness\n",
    "mp['Systemic Illness'].value_counts()"
   ]
  },
  {
   "cell_type": "code",
   "execution_count": 25,
   "id": "6b1eca90",
   "metadata": {},
   "outputs": [],
   "source": [
    "# Reducing ambiguity in the systemic illness column we change none to No systemic Illness\n",
    "\n",
    "mp['Systemic Illness'].replace(to_replace= 'None',value= 'No Systemic Illness',inplace= True)"
   ]
  },
  {
   "cell_type": "code",
   "execution_count": 26,
   "id": "6ecc75d3",
   "metadata": {},
   "outputs": [
    {
     "data": {
      "text/plain": [
       "Fever                    6382\n",
       "Swollen Lymph Nodes      6252\n",
       "No Systemic Illness      6216\n",
       "Muscle Aches and Pain    6150\n",
       "Name: Systemic Illness, dtype: int64"
      ]
     },
     "execution_count": 26,
     "metadata": {},
     "output_type": "execute_result"
    }
   ],
   "source": [
    "# Confirming change\n",
    "mp['Systemic Illness'].value_counts()"
   ]
  },
  {
   "cell_type": "markdown",
   "id": "c6a50895",
   "metadata": {},
   "source": [
    "From the above info we can see that all the columns have only two unique values meaning converting to int will not be as complicated.\n",
    "\n",
    "Systemic illness has the most with 4.\n",
    "\n",
    "data cleaning will be relatievly easy as the data has no missing values and no duplicates.\n",
    "\n",
    "Only task is type casting.\n"
   ]
  },
  {
   "cell_type": "code",
   "execution_count": 31,
   "id": "32f122e8",
   "metadata": {},
   "outputs": [
    {
     "data": {
      "text/html": [
       "<div>\n",
       "<style scoped>\n",
       "    .dataframe tbody tr th:only-of-type {\n",
       "        vertical-align: middle;\n",
       "    }\n",
       "\n",
       "    .dataframe tbody tr th {\n",
       "        vertical-align: top;\n",
       "    }\n",
       "\n",
       "    .dataframe thead th {\n",
       "        text-align: right;\n",
       "    }\n",
       "</style>\n",
       "<table border=\"1\" class=\"dataframe\">\n",
       "  <thead>\n",
       "    <tr style=\"text-align: right;\">\n",
       "      <th></th>\n",
       "      <th>Systemic Illness_Fever</th>\n",
       "      <th>Systemic Illness_Muscle Aches and Pain</th>\n",
       "      <th>Systemic Illness_Swollen Lymph Nodes</th>\n",
       "    </tr>\n",
       "    <tr>\n",
       "      <th>Patient_ID</th>\n",
       "      <th></th>\n",
       "      <th></th>\n",
       "      <th></th>\n",
       "    </tr>\n",
       "  </thead>\n",
       "  <tbody>\n",
       "    <tr>\n",
       "      <th>P0</th>\n",
       "      <td>0</td>\n",
       "      <td>0</td>\n",
       "      <td>0</td>\n",
       "    </tr>\n",
       "    <tr>\n",
       "      <th>P1</th>\n",
       "      <td>1</td>\n",
       "      <td>0</td>\n",
       "      <td>0</td>\n",
       "    </tr>\n",
       "    <tr>\n",
       "      <th>P2</th>\n",
       "      <td>1</td>\n",
       "      <td>0</td>\n",
       "      <td>0</td>\n",
       "    </tr>\n",
       "    <tr>\n",
       "      <th>P3</th>\n",
       "      <td>0</td>\n",
       "      <td>0</td>\n",
       "      <td>0</td>\n",
       "    </tr>\n",
       "    <tr>\n",
       "      <th>P4</th>\n",
       "      <td>0</td>\n",
       "      <td>0</td>\n",
       "      <td>1</td>\n",
       "    </tr>\n",
       "    <tr>\n",
       "      <th>...</th>\n",
       "      <td>...</td>\n",
       "      <td>...</td>\n",
       "      <td>...</td>\n",
       "    </tr>\n",
       "    <tr>\n",
       "      <th>P24995</th>\n",
       "      <td>0</td>\n",
       "      <td>0</td>\n",
       "      <td>0</td>\n",
       "    </tr>\n",
       "    <tr>\n",
       "      <th>P24996</th>\n",
       "      <td>1</td>\n",
       "      <td>0</td>\n",
       "      <td>0</td>\n",
       "    </tr>\n",
       "    <tr>\n",
       "      <th>P24997</th>\n",
       "      <td>0</td>\n",
       "      <td>0</td>\n",
       "      <td>0</td>\n",
       "    </tr>\n",
       "    <tr>\n",
       "      <th>P24998</th>\n",
       "      <td>0</td>\n",
       "      <td>0</td>\n",
       "      <td>1</td>\n",
       "    </tr>\n",
       "    <tr>\n",
       "      <th>P24999</th>\n",
       "      <td>0</td>\n",
       "      <td>0</td>\n",
       "      <td>1</td>\n",
       "    </tr>\n",
       "  </tbody>\n",
       "</table>\n",
       "<p>25000 rows × 3 columns</p>\n",
       "</div>"
      ],
      "text/plain": [
       "            Systemic Illness_Fever  Systemic Illness_Muscle Aches and Pain  \\\n",
       "Patient_ID                                                                   \n",
       "P0                               0                                       0   \n",
       "P1                               1                                       0   \n",
       "P2                               1                                       0   \n",
       "P3                               0                                       0   \n",
       "P4                               0                                       0   \n",
       "...                            ...                                     ...   \n",
       "P24995                           0                                       0   \n",
       "P24996                           1                                       0   \n",
       "P24997                           0                                       0   \n",
       "P24998                           0                                       0   \n",
       "P24999                           0                                       0   \n",
       "\n",
       "            Systemic Illness_Swollen Lymph Nodes  \n",
       "Patient_ID                                        \n",
       "P0                                             0  \n",
       "P1                                             0  \n",
       "P2                                             0  \n",
       "P3                                             0  \n",
       "P4                                             1  \n",
       "...                                          ...  \n",
       "P24995                                         0  \n",
       "P24996                                         0  \n",
       "P24997                                         0  \n",
       "P24998                                         1  \n",
       "P24999                                         1  \n",
       "\n",
       "[25000 rows x 3 columns]"
      ]
     },
     "execution_count": 31,
     "metadata": {},
     "output_type": "execute_result"
    }
   ],
   "source": [
    "# type casting Systemic illness by using get dummies\n",
    "df = pd.get_dummies(data= mp, columns= ['Systemic Illness'],drop_first= False)\n",
    "# dropping every other column to isolate the systemic illness ...will concat later.\n",
    "df_Systemic = df.drop(columns= col,axis = 1)\n",
    "df_Systemic = df_Systemic.drop(columns= ['Systemic Illness_No Systemic Illness'],axis = 1)\n",
    "df_Systemic"
   ]
  },
  {
   "cell_type": "code",
   "execution_count": 32,
   "id": "f02cf522",
   "metadata": {},
   "outputs": [
    {
     "data": {
      "text/html": [
       "<div>\n",
       "<style scoped>\n",
       "    .dataframe tbody tr th:only-of-type {\n",
       "        vertical-align: middle;\n",
       "    }\n",
       "\n",
       "    .dataframe tbody tr th {\n",
       "        vertical-align: top;\n",
       "    }\n",
       "\n",
       "    .dataframe thead th {\n",
       "        text-align: right;\n",
       "    }\n",
       "</style>\n",
       "<table border=\"1\" class=\"dataframe\">\n",
       "  <thead>\n",
       "    <tr style=\"text-align: right;\">\n",
       "      <th></th>\n",
       "      <th>Systemic Illness</th>\n",
       "      <th>Rectal Pain_True</th>\n",
       "      <th>Sore Throat_True</th>\n",
       "      <th>Penile Oedema_True</th>\n",
       "      <th>Oral Lesions_True</th>\n",
       "      <th>Solitary Lesion_True</th>\n",
       "      <th>Swollen Tonsils_True</th>\n",
       "      <th>HIV Infection_True</th>\n",
       "      <th>Sexually Transmitted Infection_True</th>\n",
       "      <th>MonkeyPox_Positive</th>\n",
       "    </tr>\n",
       "    <tr>\n",
       "      <th>Patient_ID</th>\n",
       "      <th></th>\n",
       "      <th></th>\n",
       "      <th></th>\n",
       "      <th></th>\n",
       "      <th></th>\n",
       "      <th></th>\n",
       "      <th></th>\n",
       "      <th></th>\n",
       "      <th></th>\n",
       "      <th></th>\n",
       "    </tr>\n",
       "  </thead>\n",
       "  <tbody>\n",
       "    <tr>\n",
       "      <th>P0</th>\n",
       "      <td>No Systemic Illness</td>\n",
       "      <td>0</td>\n",
       "      <td>1</td>\n",
       "      <td>1</td>\n",
       "      <td>1</td>\n",
       "      <td>0</td>\n",
       "      <td>1</td>\n",
       "      <td>0</td>\n",
       "      <td>0</td>\n",
       "      <td>0</td>\n",
       "    </tr>\n",
       "    <tr>\n",
       "      <th>P1</th>\n",
       "      <td>Fever</td>\n",
       "      <td>1</td>\n",
       "      <td>0</td>\n",
       "      <td>1</td>\n",
       "      <td>1</td>\n",
       "      <td>0</td>\n",
       "      <td>0</td>\n",
       "      <td>1</td>\n",
       "      <td>0</td>\n",
       "      <td>1</td>\n",
       "    </tr>\n",
       "    <tr>\n",
       "      <th>P2</th>\n",
       "      <td>Fever</td>\n",
       "      <td>0</td>\n",
       "      <td>1</td>\n",
       "      <td>1</td>\n",
       "      <td>0</td>\n",
       "      <td>0</td>\n",
       "      <td>0</td>\n",
       "      <td>1</td>\n",
       "      <td>0</td>\n",
       "      <td>1</td>\n",
       "    </tr>\n",
       "    <tr>\n",
       "      <th>P3</th>\n",
       "      <td>No Systemic Illness</td>\n",
       "      <td>1</td>\n",
       "      <td>0</td>\n",
       "      <td>0</td>\n",
       "      <td>0</td>\n",
       "      <td>1</td>\n",
       "      <td>1</td>\n",
       "      <td>1</td>\n",
       "      <td>0</td>\n",
       "      <td>1</td>\n",
       "    </tr>\n",
       "    <tr>\n",
       "      <th>P4</th>\n",
       "      <td>Swollen Lymph Nodes</td>\n",
       "      <td>1</td>\n",
       "      <td>1</td>\n",
       "      <td>1</td>\n",
       "      <td>0</td>\n",
       "      <td>0</td>\n",
       "      <td>1</td>\n",
       "      <td>1</td>\n",
       "      <td>0</td>\n",
       "      <td>1</td>\n",
       "    </tr>\n",
       "    <tr>\n",
       "      <th>...</th>\n",
       "      <td>...</td>\n",
       "      <td>...</td>\n",
       "      <td>...</td>\n",
       "      <td>...</td>\n",
       "      <td>...</td>\n",
       "      <td>...</td>\n",
       "      <td>...</td>\n",
       "      <td>...</td>\n",
       "      <td>...</td>\n",
       "      <td>...</td>\n",
       "    </tr>\n",
       "    <tr>\n",
       "      <th>P24995</th>\n",
       "      <td>No Systemic Illness</td>\n",
       "      <td>1</td>\n",
       "      <td>1</td>\n",
       "      <td>0</td>\n",
       "      <td>1</td>\n",
       "      <td>1</td>\n",
       "      <td>0</td>\n",
       "      <td>0</td>\n",
       "      <td>1</td>\n",
       "      <td>1</td>\n",
       "    </tr>\n",
       "    <tr>\n",
       "      <th>P24996</th>\n",
       "      <td>Fever</td>\n",
       "      <td>0</td>\n",
       "      <td>1</td>\n",
       "      <td>1</td>\n",
       "      <td>0</td>\n",
       "      <td>1</td>\n",
       "      <td>1</td>\n",
       "      <td>1</td>\n",
       "      <td>1</td>\n",
       "      <td>1</td>\n",
       "    </tr>\n",
       "    <tr>\n",
       "      <th>P24997</th>\n",
       "      <td>No Systemic Illness</td>\n",
       "      <td>1</td>\n",
       "      <td>1</td>\n",
       "      <td>0</td>\n",
       "      <td>0</td>\n",
       "      <td>1</td>\n",
       "      <td>1</td>\n",
       "      <td>0</td>\n",
       "      <td>0</td>\n",
       "      <td>1</td>\n",
       "    </tr>\n",
       "    <tr>\n",
       "      <th>P24998</th>\n",
       "      <td>Swollen Lymph Nodes</td>\n",
       "      <td>0</td>\n",
       "      <td>1</td>\n",
       "      <td>0</td>\n",
       "      <td>1</td>\n",
       "      <td>1</td>\n",
       "      <td>1</td>\n",
       "      <td>0</td>\n",
       "      <td>0</td>\n",
       "      <td>0</td>\n",
       "    </tr>\n",
       "    <tr>\n",
       "      <th>P24999</th>\n",
       "      <td>Swollen Lymph Nodes</td>\n",
       "      <td>0</td>\n",
       "      <td>0</td>\n",
       "      <td>1</td>\n",
       "      <td>0</td>\n",
       "      <td>0</td>\n",
       "      <td>1</td>\n",
       "      <td>1</td>\n",
       "      <td>0</td>\n",
       "      <td>1</td>\n",
       "    </tr>\n",
       "  </tbody>\n",
       "</table>\n",
       "<p>25000 rows × 10 columns</p>\n",
       "</div>"
      ],
      "text/plain": [
       "               Systemic Illness  Rectal Pain_True  Sore Throat_True  \\\n",
       "Patient_ID                                                            \n",
       "P0          No Systemic Illness                 0                 1   \n",
       "P1                        Fever                 1                 0   \n",
       "P2                        Fever                 0                 1   \n",
       "P3          No Systemic Illness                 1                 0   \n",
       "P4          Swollen Lymph Nodes                 1                 1   \n",
       "...                         ...               ...               ...   \n",
       "P24995      No Systemic Illness                 1                 1   \n",
       "P24996                    Fever                 0                 1   \n",
       "P24997      No Systemic Illness                 1                 1   \n",
       "P24998      Swollen Lymph Nodes                 0                 1   \n",
       "P24999      Swollen Lymph Nodes                 0                 0   \n",
       "\n",
       "            Penile Oedema_True  Oral Lesions_True  Solitary Lesion_True  \\\n",
       "Patient_ID                                                                \n",
       "P0                           1                  1                     0   \n",
       "P1                           1                  1                     0   \n",
       "P2                           1                  0                     0   \n",
       "P3                           0                  0                     1   \n",
       "P4                           1                  0                     0   \n",
       "...                        ...                ...                   ...   \n",
       "P24995                       0                  1                     1   \n",
       "P24996                       1                  0                     1   \n",
       "P24997                       0                  0                     1   \n",
       "P24998                       0                  1                     1   \n",
       "P24999                       1                  0                     0   \n",
       "\n",
       "            Swollen Tonsils_True  HIV Infection_True  \\\n",
       "Patient_ID                                             \n",
       "P0                             1                   0   \n",
       "P1                             0                   1   \n",
       "P2                             0                   1   \n",
       "P3                             1                   1   \n",
       "P4                             1                   1   \n",
       "...                          ...                 ...   \n",
       "P24995                         0                   0   \n",
       "P24996                         1                   1   \n",
       "P24997                         1                   0   \n",
       "P24998                         1                   0   \n",
       "P24999                         1                   1   \n",
       "\n",
       "            Sexually Transmitted Infection_True  MonkeyPox_Positive  \n",
       "Patient_ID                                                           \n",
       "P0                                            0                   0  \n",
       "P1                                            0                   1  \n",
       "P2                                            0                   1  \n",
       "P3                                            0                   1  \n",
       "P4                                            0                   1  \n",
       "...                                         ...                 ...  \n",
       "P24995                                        1                   1  \n",
       "P24996                                        1                   1  \n",
       "P24997                                        0                   1  \n",
       "P24998                                        0                   0  \n",
       "P24999                                        0                   1  \n",
       "\n",
       "[25000 rows x 10 columns]"
      ]
     },
     "execution_count": 32,
     "metadata": {},
     "output_type": "execute_result"
    }
   ],
   "source": [
    "df_d = pd.get_dummies(data = mp, columns= col, drop_first= True)\n",
    "df_d"
   ]
  },
  {
   "cell_type": "code",
   "execution_count": 33,
   "id": "cb04fc68",
   "metadata": {},
   "outputs": [],
   "source": [
    "# Dropping Systemic illness as its already dummied out\n",
    "\n",
    "df_d.drop(axis = 1, columns= ['Systemic Illness'] ,inplace = True)\n"
   ]
  },
  {
   "cell_type": "code",
   "execution_count": 34,
   "id": "be3ebd15",
   "metadata": {
    "scrolled": false
   },
   "outputs": [
    {
     "data": {
      "text/html": [
       "<div>\n",
       "<style scoped>\n",
       "    .dataframe tbody tr th:only-of-type {\n",
       "        vertical-align: middle;\n",
       "    }\n",
       "\n",
       "    .dataframe tbody tr th {\n",
       "        vertical-align: top;\n",
       "    }\n",
       "\n",
       "    .dataframe thead th {\n",
       "        text-align: right;\n",
       "    }\n",
       "</style>\n",
       "<table border=\"1\" class=\"dataframe\">\n",
       "  <thead>\n",
       "    <tr style=\"text-align: right;\">\n",
       "      <th></th>\n",
       "      <th>Rectal Pain_True</th>\n",
       "      <th>Sore Throat_True</th>\n",
       "      <th>Penile Oedema_True</th>\n",
       "      <th>Oral Lesions_True</th>\n",
       "      <th>Solitary Lesion_True</th>\n",
       "      <th>Swollen Tonsils_True</th>\n",
       "      <th>HIV Infection_True</th>\n",
       "      <th>Sexually Transmitted Infection_True</th>\n",
       "      <th>MonkeyPox_Positive</th>\n",
       "    </tr>\n",
       "    <tr>\n",
       "      <th>Patient_ID</th>\n",
       "      <th></th>\n",
       "      <th></th>\n",
       "      <th></th>\n",
       "      <th></th>\n",
       "      <th></th>\n",
       "      <th></th>\n",
       "      <th></th>\n",
       "      <th></th>\n",
       "      <th></th>\n",
       "    </tr>\n",
       "  </thead>\n",
       "  <tbody>\n",
       "    <tr>\n",
       "      <th>P0</th>\n",
       "      <td>0</td>\n",
       "      <td>1</td>\n",
       "      <td>1</td>\n",
       "      <td>1</td>\n",
       "      <td>0</td>\n",
       "      <td>1</td>\n",
       "      <td>0</td>\n",
       "      <td>0</td>\n",
       "      <td>0</td>\n",
       "    </tr>\n",
       "    <tr>\n",
       "      <th>P1</th>\n",
       "      <td>1</td>\n",
       "      <td>0</td>\n",
       "      <td>1</td>\n",
       "      <td>1</td>\n",
       "      <td>0</td>\n",
       "      <td>0</td>\n",
       "      <td>1</td>\n",
       "      <td>0</td>\n",
       "      <td>1</td>\n",
       "    </tr>\n",
       "    <tr>\n",
       "      <th>P2</th>\n",
       "      <td>0</td>\n",
       "      <td>1</td>\n",
       "      <td>1</td>\n",
       "      <td>0</td>\n",
       "      <td>0</td>\n",
       "      <td>0</td>\n",
       "      <td>1</td>\n",
       "      <td>0</td>\n",
       "      <td>1</td>\n",
       "    </tr>\n",
       "    <tr>\n",
       "      <th>P3</th>\n",
       "      <td>1</td>\n",
       "      <td>0</td>\n",
       "      <td>0</td>\n",
       "      <td>0</td>\n",
       "      <td>1</td>\n",
       "      <td>1</td>\n",
       "      <td>1</td>\n",
       "      <td>0</td>\n",
       "      <td>1</td>\n",
       "    </tr>\n",
       "    <tr>\n",
       "      <th>P4</th>\n",
       "      <td>1</td>\n",
       "      <td>1</td>\n",
       "      <td>1</td>\n",
       "      <td>0</td>\n",
       "      <td>0</td>\n",
       "      <td>1</td>\n",
       "      <td>1</td>\n",
       "      <td>0</td>\n",
       "      <td>1</td>\n",
       "    </tr>\n",
       "  </tbody>\n",
       "</table>\n",
       "</div>"
      ],
      "text/plain": [
       "            Rectal Pain_True  Sore Throat_True  Penile Oedema_True  \\\n",
       "Patient_ID                                                           \n",
       "P0                         0                 1                   1   \n",
       "P1                         1                 0                   1   \n",
       "P2                         0                 1                   1   \n",
       "P3                         1                 0                   0   \n",
       "P4                         1                 1                   1   \n",
       "\n",
       "            Oral Lesions_True  Solitary Lesion_True  Swollen Tonsils_True  \\\n",
       "Patient_ID                                                                  \n",
       "P0                          1                     0                     1   \n",
       "P1                          1                     0                     0   \n",
       "P2                          0                     0                     0   \n",
       "P3                          0                     1                     1   \n",
       "P4                          0                     0                     1   \n",
       "\n",
       "            HIV Infection_True  Sexually Transmitted Infection_True  \\\n",
       "Patient_ID                                                            \n",
       "P0                           0                                    0   \n",
       "P1                           1                                    0   \n",
       "P2                           1                                    0   \n",
       "P3                           1                                    0   \n",
       "P4                           1                                    0   \n",
       "\n",
       "            MonkeyPox_Positive  \n",
       "Patient_ID                      \n",
       "P0                           0  \n",
       "P1                           1  \n",
       "P2                           1  \n",
       "P3                           1  \n",
       "P4                           1  "
      ]
     },
     "execution_count": 34,
     "metadata": {},
     "output_type": "execute_result"
    }
   ],
   "source": [
    "# Column names will have to be changed but that can be done in one go\n",
    "# first we finish up on converting the column data types t a usable state.\n",
    "df_d.head()"
   ]
  },
  {
   "cell_type": "code",
   "execution_count": 36,
   "id": "49ad2fe5",
   "metadata": {
    "scrolled": true
   },
   "outputs": [
    {
     "data": {
      "text/html": [
       "<div>\n",
       "<style scoped>\n",
       "    .dataframe tbody tr th:only-of-type {\n",
       "        vertical-align: middle;\n",
       "    }\n",
       "\n",
       "    .dataframe tbody tr th {\n",
       "        vertical-align: top;\n",
       "    }\n",
       "\n",
       "    .dataframe thead th {\n",
       "        text-align: right;\n",
       "    }\n",
       "</style>\n",
       "<table border=\"1\" class=\"dataframe\">\n",
       "  <thead>\n",
       "    <tr style=\"text-align: right;\">\n",
       "      <th></th>\n",
       "      <th>Systemic Illness_Fever</th>\n",
       "      <th>Systemic Illness_Muscle Aches and Pain</th>\n",
       "      <th>Systemic Illness_Swollen Lymph Nodes</th>\n",
       "      <th>Rectal Pain_True</th>\n",
       "      <th>Sore Throat_True</th>\n",
       "      <th>Penile Oedema_True</th>\n",
       "      <th>Oral Lesions_True</th>\n",
       "      <th>Solitary Lesion_True</th>\n",
       "      <th>Swollen Tonsils_True</th>\n",
       "      <th>HIV Infection_True</th>\n",
       "      <th>Sexually Transmitted Infection_True</th>\n",
       "      <th>MonkeyPox_Positive</th>\n",
       "    </tr>\n",
       "    <tr>\n",
       "      <th>Patient_ID</th>\n",
       "      <th></th>\n",
       "      <th></th>\n",
       "      <th></th>\n",
       "      <th></th>\n",
       "      <th></th>\n",
       "      <th></th>\n",
       "      <th></th>\n",
       "      <th></th>\n",
       "      <th></th>\n",
       "      <th></th>\n",
       "      <th></th>\n",
       "      <th></th>\n",
       "    </tr>\n",
       "  </thead>\n",
       "  <tbody>\n",
       "    <tr>\n",
       "      <th>P0</th>\n",
       "      <td>0</td>\n",
       "      <td>0</td>\n",
       "      <td>0</td>\n",
       "      <td>0</td>\n",
       "      <td>1</td>\n",
       "      <td>1</td>\n",
       "      <td>1</td>\n",
       "      <td>0</td>\n",
       "      <td>1</td>\n",
       "      <td>0</td>\n",
       "      <td>0</td>\n",
       "      <td>0</td>\n",
       "    </tr>\n",
       "    <tr>\n",
       "      <th>P1</th>\n",
       "      <td>1</td>\n",
       "      <td>0</td>\n",
       "      <td>0</td>\n",
       "      <td>1</td>\n",
       "      <td>0</td>\n",
       "      <td>1</td>\n",
       "      <td>1</td>\n",
       "      <td>0</td>\n",
       "      <td>0</td>\n",
       "      <td>1</td>\n",
       "      <td>0</td>\n",
       "      <td>1</td>\n",
       "    </tr>\n",
       "    <tr>\n",
       "      <th>P2</th>\n",
       "      <td>1</td>\n",
       "      <td>0</td>\n",
       "      <td>0</td>\n",
       "      <td>0</td>\n",
       "      <td>1</td>\n",
       "      <td>1</td>\n",
       "      <td>0</td>\n",
       "      <td>0</td>\n",
       "      <td>0</td>\n",
       "      <td>1</td>\n",
       "      <td>0</td>\n",
       "      <td>1</td>\n",
       "    </tr>\n",
       "    <tr>\n",
       "      <th>P3</th>\n",
       "      <td>0</td>\n",
       "      <td>0</td>\n",
       "      <td>0</td>\n",
       "      <td>1</td>\n",
       "      <td>0</td>\n",
       "      <td>0</td>\n",
       "      <td>0</td>\n",
       "      <td>1</td>\n",
       "      <td>1</td>\n",
       "      <td>1</td>\n",
       "      <td>0</td>\n",
       "      <td>1</td>\n",
       "    </tr>\n",
       "    <tr>\n",
       "      <th>P4</th>\n",
       "      <td>0</td>\n",
       "      <td>0</td>\n",
       "      <td>1</td>\n",
       "      <td>1</td>\n",
       "      <td>1</td>\n",
       "      <td>1</td>\n",
       "      <td>0</td>\n",
       "      <td>0</td>\n",
       "      <td>1</td>\n",
       "      <td>1</td>\n",
       "      <td>0</td>\n",
       "      <td>1</td>\n",
       "    </tr>\n",
       "    <tr>\n",
       "      <th>...</th>\n",
       "      <td>...</td>\n",
       "      <td>...</td>\n",
       "      <td>...</td>\n",
       "      <td>...</td>\n",
       "      <td>...</td>\n",
       "      <td>...</td>\n",
       "      <td>...</td>\n",
       "      <td>...</td>\n",
       "      <td>...</td>\n",
       "      <td>...</td>\n",
       "      <td>...</td>\n",
       "      <td>...</td>\n",
       "    </tr>\n",
       "    <tr>\n",
       "      <th>P24995</th>\n",
       "      <td>0</td>\n",
       "      <td>0</td>\n",
       "      <td>0</td>\n",
       "      <td>1</td>\n",
       "      <td>1</td>\n",
       "      <td>0</td>\n",
       "      <td>1</td>\n",
       "      <td>1</td>\n",
       "      <td>0</td>\n",
       "      <td>0</td>\n",
       "      <td>1</td>\n",
       "      <td>1</td>\n",
       "    </tr>\n",
       "    <tr>\n",
       "      <th>P24996</th>\n",
       "      <td>1</td>\n",
       "      <td>0</td>\n",
       "      <td>0</td>\n",
       "      <td>0</td>\n",
       "      <td>1</td>\n",
       "      <td>1</td>\n",
       "      <td>0</td>\n",
       "      <td>1</td>\n",
       "      <td>1</td>\n",
       "      <td>1</td>\n",
       "      <td>1</td>\n",
       "      <td>1</td>\n",
       "    </tr>\n",
       "    <tr>\n",
       "      <th>P24997</th>\n",
       "      <td>0</td>\n",
       "      <td>0</td>\n",
       "      <td>0</td>\n",
       "      <td>1</td>\n",
       "      <td>1</td>\n",
       "      <td>0</td>\n",
       "      <td>0</td>\n",
       "      <td>1</td>\n",
       "      <td>1</td>\n",
       "      <td>0</td>\n",
       "      <td>0</td>\n",
       "      <td>1</td>\n",
       "    </tr>\n",
       "    <tr>\n",
       "      <th>P24998</th>\n",
       "      <td>0</td>\n",
       "      <td>0</td>\n",
       "      <td>1</td>\n",
       "      <td>0</td>\n",
       "      <td>1</td>\n",
       "      <td>0</td>\n",
       "      <td>1</td>\n",
       "      <td>1</td>\n",
       "      <td>1</td>\n",
       "      <td>0</td>\n",
       "      <td>0</td>\n",
       "      <td>0</td>\n",
       "    </tr>\n",
       "    <tr>\n",
       "      <th>P24999</th>\n",
       "      <td>0</td>\n",
       "      <td>0</td>\n",
       "      <td>1</td>\n",
       "      <td>0</td>\n",
       "      <td>0</td>\n",
       "      <td>1</td>\n",
       "      <td>0</td>\n",
       "      <td>0</td>\n",
       "      <td>1</td>\n",
       "      <td>1</td>\n",
       "      <td>0</td>\n",
       "      <td>1</td>\n",
       "    </tr>\n",
       "  </tbody>\n",
       "</table>\n",
       "<p>25000 rows × 12 columns</p>\n",
       "</div>"
      ],
      "text/plain": [
       "            Systemic Illness_Fever  Systemic Illness_Muscle Aches and Pain  \\\n",
       "Patient_ID                                                                   \n",
       "P0                               0                                       0   \n",
       "P1                               1                                       0   \n",
       "P2                               1                                       0   \n",
       "P3                               0                                       0   \n",
       "P4                               0                                       0   \n",
       "...                            ...                                     ...   \n",
       "P24995                           0                                       0   \n",
       "P24996                           1                                       0   \n",
       "P24997                           0                                       0   \n",
       "P24998                           0                                       0   \n",
       "P24999                           0                                       0   \n",
       "\n",
       "            Systemic Illness_Swollen Lymph Nodes  Rectal Pain_True  \\\n",
       "Patient_ID                                                           \n",
       "P0                                             0                 0   \n",
       "P1                                             0                 1   \n",
       "P2                                             0                 0   \n",
       "P3                                             0                 1   \n",
       "P4                                             1                 1   \n",
       "...                                          ...               ...   \n",
       "P24995                                         0                 1   \n",
       "P24996                                         0                 0   \n",
       "P24997                                         0                 1   \n",
       "P24998                                         1                 0   \n",
       "P24999                                         1                 0   \n",
       "\n",
       "            Sore Throat_True  Penile Oedema_True  Oral Lesions_True  \\\n",
       "Patient_ID                                                            \n",
       "P0                         1                   1                  1   \n",
       "P1                         0                   1                  1   \n",
       "P2                         1                   1                  0   \n",
       "P3                         0                   0                  0   \n",
       "P4                         1                   1                  0   \n",
       "...                      ...                 ...                ...   \n",
       "P24995                     1                   0                  1   \n",
       "P24996                     1                   1                  0   \n",
       "P24997                     1                   0                  0   \n",
       "P24998                     1                   0                  1   \n",
       "P24999                     0                   1                  0   \n",
       "\n",
       "            Solitary Lesion_True  Swollen Tonsils_True  HIV Infection_True  \\\n",
       "Patient_ID                                                                   \n",
       "P0                             0                     1                   0   \n",
       "P1                             0                     0                   1   \n",
       "P2                             0                     0                   1   \n",
       "P3                             1                     1                   1   \n",
       "P4                             0                     1                   1   \n",
       "...                          ...                   ...                 ...   \n",
       "P24995                         1                     0                   0   \n",
       "P24996                         1                     1                   1   \n",
       "P24997                         1                     1                   0   \n",
       "P24998                         1                     1                   0   \n",
       "P24999                         0                     1                   1   \n",
       "\n",
       "            Sexually Transmitted Infection_True  MonkeyPox_Positive  \n",
       "Patient_ID                                                           \n",
       "P0                                            0                   0  \n",
       "P1                                            0                   1  \n",
       "P2                                            0                   1  \n",
       "P3                                            0                   1  \n",
       "P4                                            0                   1  \n",
       "...                                         ...                 ...  \n",
       "P24995                                        1                   1  \n",
       "P24996                                        1                   1  \n",
       "P24997                                        0                   1  \n",
       "P24998                                        0                   0  \n",
       "P24999                                        0                   1  \n",
       "\n",
       "[25000 rows x 12 columns]"
      ]
     },
     "execution_count": 36,
     "metadata": {},
     "output_type": "execute_result"
    }
   ],
   "source": [
    "df_clean = pd.concat([df_Systemic,df_d], axis = 1,join= 'inner')\n",
    "df_clean"
   ]
  },
  {
   "cell_type": "code",
   "execution_count": 37,
   "id": "f2de6955",
   "metadata": {},
   "outputs": [
    {
     "data": {
      "text/plain": [
       "['Systemic Illness_Fever',\n",
       " 'Systemic Illness_Muscle Aches and Pain',\n",
       " 'Systemic Illness_Swollen Lymph Nodes',\n",
       " 'Rectal Pain_True',\n",
       " 'Sore Throat_True',\n",
       " 'Penile Oedema_True',\n",
       " 'Oral Lesions_True',\n",
       " 'Solitary Lesion_True',\n",
       " 'Swollen Tonsils_True',\n",
       " 'HIV Infection_True',\n",
       " 'Sexually Transmitted Infection_True',\n",
       " 'MonkeyPox_Positive']"
      ]
     },
     "execution_count": 37,
     "metadata": {},
     "output_type": "execute_result"
    }
   ],
   "source": [
    "list(df_clean.columns)"
   ]
  },
  {
   "cell_type": "code",
   "execution_count": 38,
   "id": "1734d653",
   "metadata": {
    "scrolled": true
   },
   "outputs": [
    {
     "data": {
      "text/html": [
       "<div>\n",
       "<style scoped>\n",
       "    .dataframe tbody tr th:only-of-type {\n",
       "        vertical-align: middle;\n",
       "    }\n",
       "\n",
       "    .dataframe tbody tr th {\n",
       "        vertical-align: top;\n",
       "    }\n",
       "\n",
       "    .dataframe thead th {\n",
       "        text-align: right;\n",
       "    }\n",
       "</style>\n",
       "<table border=\"1\" class=\"dataframe\">\n",
       "  <thead>\n",
       "    <tr style=\"text-align: right;\">\n",
       "      <th></th>\n",
       "      <th>SI_Fever</th>\n",
       "      <th>SI_Muscle_Aches&amp;Pain</th>\n",
       "      <th>SI_Swollen_Lymph_Nodes</th>\n",
       "      <th>Rectal_Pain</th>\n",
       "      <th>Sore_Throat</th>\n",
       "      <th>Penile_Oedema</th>\n",
       "      <th>Oral_Lesions</th>\n",
       "      <th>Solitary_Leision</th>\n",
       "      <th>Swollen_Tonsils</th>\n",
       "      <th>HIV_Infection</th>\n",
       "      <th>STI</th>\n",
       "      <th>Target</th>\n",
       "    </tr>\n",
       "    <tr>\n",
       "      <th>Patient_ID</th>\n",
       "      <th></th>\n",
       "      <th></th>\n",
       "      <th></th>\n",
       "      <th></th>\n",
       "      <th></th>\n",
       "      <th></th>\n",
       "      <th></th>\n",
       "      <th></th>\n",
       "      <th></th>\n",
       "      <th></th>\n",
       "      <th></th>\n",
       "      <th></th>\n",
       "    </tr>\n",
       "  </thead>\n",
       "  <tbody>\n",
       "    <tr>\n",
       "      <th>P0</th>\n",
       "      <td>0</td>\n",
       "      <td>0</td>\n",
       "      <td>0</td>\n",
       "      <td>0</td>\n",
       "      <td>1</td>\n",
       "      <td>1</td>\n",
       "      <td>1</td>\n",
       "      <td>0</td>\n",
       "      <td>1</td>\n",
       "      <td>0</td>\n",
       "      <td>0</td>\n",
       "      <td>0</td>\n",
       "    </tr>\n",
       "    <tr>\n",
       "      <th>P1</th>\n",
       "      <td>1</td>\n",
       "      <td>0</td>\n",
       "      <td>0</td>\n",
       "      <td>1</td>\n",
       "      <td>0</td>\n",
       "      <td>1</td>\n",
       "      <td>1</td>\n",
       "      <td>0</td>\n",
       "      <td>0</td>\n",
       "      <td>1</td>\n",
       "      <td>0</td>\n",
       "      <td>1</td>\n",
       "    </tr>\n",
       "    <tr>\n",
       "      <th>P2</th>\n",
       "      <td>1</td>\n",
       "      <td>0</td>\n",
       "      <td>0</td>\n",
       "      <td>0</td>\n",
       "      <td>1</td>\n",
       "      <td>1</td>\n",
       "      <td>0</td>\n",
       "      <td>0</td>\n",
       "      <td>0</td>\n",
       "      <td>1</td>\n",
       "      <td>0</td>\n",
       "      <td>1</td>\n",
       "    </tr>\n",
       "    <tr>\n",
       "      <th>P3</th>\n",
       "      <td>0</td>\n",
       "      <td>0</td>\n",
       "      <td>0</td>\n",
       "      <td>1</td>\n",
       "      <td>0</td>\n",
       "      <td>0</td>\n",
       "      <td>0</td>\n",
       "      <td>1</td>\n",
       "      <td>1</td>\n",
       "      <td>1</td>\n",
       "      <td>0</td>\n",
       "      <td>1</td>\n",
       "    </tr>\n",
       "    <tr>\n",
       "      <th>P4</th>\n",
       "      <td>0</td>\n",
       "      <td>0</td>\n",
       "      <td>1</td>\n",
       "      <td>1</td>\n",
       "      <td>1</td>\n",
       "      <td>1</td>\n",
       "      <td>0</td>\n",
       "      <td>0</td>\n",
       "      <td>1</td>\n",
       "      <td>1</td>\n",
       "      <td>0</td>\n",
       "      <td>1</td>\n",
       "    </tr>\n",
       "    <tr>\n",
       "      <th>P5</th>\n",
       "      <td>0</td>\n",
       "      <td>0</td>\n",
       "      <td>1</td>\n",
       "      <td>0</td>\n",
       "      <td>1</td>\n",
       "      <td>0</td>\n",
       "      <td>0</td>\n",
       "      <td>0</td>\n",
       "      <td>0</td>\n",
       "      <td>0</td>\n",
       "      <td>0</td>\n",
       "      <td>0</td>\n",
       "    </tr>\n",
       "    <tr>\n",
       "      <th>P6</th>\n",
       "      <td>1</td>\n",
       "      <td>0</td>\n",
       "      <td>0</td>\n",
       "      <td>0</td>\n",
       "      <td>1</td>\n",
       "      <td>0</td>\n",
       "      <td>0</td>\n",
       "      <td>0</td>\n",
       "      <td>0</td>\n",
       "      <td>1</td>\n",
       "      <td>0</td>\n",
       "      <td>1</td>\n",
       "    </tr>\n",
       "    <tr>\n",
       "      <th>P7</th>\n",
       "      <td>1</td>\n",
       "      <td>0</td>\n",
       "      <td>0</td>\n",
       "      <td>1</td>\n",
       "      <td>1</td>\n",
       "      <td>0</td>\n",
       "      <td>1</td>\n",
       "      <td>1</td>\n",
       "      <td>1</td>\n",
       "      <td>0</td>\n",
       "      <td>0</td>\n",
       "      <td>1</td>\n",
       "    </tr>\n",
       "    <tr>\n",
       "      <th>P8</th>\n",
       "      <td>0</td>\n",
       "      <td>1</td>\n",
       "      <td>0</td>\n",
       "      <td>0</td>\n",
       "      <td>1</td>\n",
       "      <td>1</td>\n",
       "      <td>1</td>\n",
       "      <td>0</td>\n",
       "      <td>0</td>\n",
       "      <td>0</td>\n",
       "      <td>0</td>\n",
       "      <td>1</td>\n",
       "    </tr>\n",
       "    <tr>\n",
       "      <th>P9</th>\n",
       "      <td>1</td>\n",
       "      <td>0</td>\n",
       "      <td>0</td>\n",
       "      <td>0</td>\n",
       "      <td>0</td>\n",
       "      <td>1</td>\n",
       "      <td>1</td>\n",
       "      <td>1</td>\n",
       "      <td>0</td>\n",
       "      <td>1</td>\n",
       "      <td>0</td>\n",
       "      <td>0</td>\n",
       "    </tr>\n",
       "  </tbody>\n",
       "</table>\n",
       "</div>"
      ],
      "text/plain": [
       "            SI_Fever  SI_Muscle_Aches&Pain  SI_Swollen_Lymph_Nodes  \\\n",
       "Patient_ID                                                           \n",
       "P0                 0                     0                       0   \n",
       "P1                 1                     0                       0   \n",
       "P2                 1                     0                       0   \n",
       "P3                 0                     0                       0   \n",
       "P4                 0                     0                       1   \n",
       "P5                 0                     0                       1   \n",
       "P6                 1                     0                       0   \n",
       "P7                 1                     0                       0   \n",
       "P8                 0                     1                       0   \n",
       "P9                 1                     0                       0   \n",
       "\n",
       "            Rectal_Pain  Sore_Throat  Penile_Oedema  Oral_Lesions  \\\n",
       "Patient_ID                                                          \n",
       "P0                    0            1              1             1   \n",
       "P1                    1            0              1             1   \n",
       "P2                    0            1              1             0   \n",
       "P3                    1            0              0             0   \n",
       "P4                    1            1              1             0   \n",
       "P5                    0            1              0             0   \n",
       "P6                    0            1              0             0   \n",
       "P7                    1            1              0             1   \n",
       "P8                    0            1              1             1   \n",
       "P9                    0            0              1             1   \n",
       "\n",
       "            Solitary_Leision  Swollen_Tonsils  HIV_Infection  STI  Target  \n",
       "Patient_ID                                                                 \n",
       "P0                         0                1              0    0       0  \n",
       "P1                         0                0              1    0       1  \n",
       "P2                         0                0              1    0       1  \n",
       "P3                         1                1              1    0       1  \n",
       "P4                         0                1              1    0       1  \n",
       "P5                         0                0              0    0       0  \n",
       "P6                         0                0              1    0       1  \n",
       "P7                         1                1              0    0       1  \n",
       "P8                         0                0              0    0       1  \n",
       "P9                         1                0              1    0       0  "
      ]
     },
     "execution_count": 38,
     "metadata": {},
     "output_type": "execute_result"
    }
   ],
   "source": [
    "df_clean.rename(columns={'Systemic Illness_Fever':'SI_Fever',\n",
    "                        'Systemic Illness_Muscle Aches and Pain':'SI_Muscle_Aches&Pain',\n",
    "                        'Systemic Illness_Swollen Lymph Nodes':'SI_Swollen_Lymph_Nodes',\n",
    "                        'Rectal Pain_True':'Rectal_Pain',\n",
    "                        'Sore Throat_True':'Sore_Throat',\n",
    "                        'Penile Oedema_True':'Penile_Oedema',\n",
    "                        'Oral Lesions_True':'Oral_Lesions',\n",
    "                        'Solitary Lesion_True':'Solitary_Leision',\n",
    "                        'Swollen Tonsils_True':'Swollen_Tonsils',\n",
    "                        'HIV Infection_True':'HIV_Infection',\n",
    "                        'Sexually Transmitted Infection_True':'STI',\n",
    "                        'MonkeyPox_Positive':'Target'},inplace=True)\n",
    "df_clean.head(10)"
   ]
  },
  {
   "cell_type": "code",
   "execution_count": 39,
   "id": "fe150552",
   "metadata": {},
   "outputs": [],
   "source": [
    "# splitting the data into X [predictors] and y [target]\n",
    "X = df_clean.drop(columns= ['Target'],axis = 1)\n",
    "y = df_clean['Target']\n",
    "\n",
    "# Random state for reapetability, test size of 30% as it is the optimum\n",
    "# Stratify is used to ensure the test and train data have the same ratio\n",
    "\n",
    "X_train, X_test, y_train, y_test = train_test_split(X,y,random_state=0,test_size= 0.3,stratify= y)"
   ]
  }
 ],
 "metadata": {
  "kernelspec": {
   "display_name": "Python 3 (ipykernel)",
   "language": "python",
   "name": "python3"
  },
  "language_info": {
   "codemirror_mode": {
    "name": "ipython",
    "version": 3
   },
   "file_extension": ".py",
   "mimetype": "text/x-python",
   "name": "python",
   "nbconvert_exporter": "python",
   "pygments_lexer": "ipython3",
   "version": "3.10.6"
  },
  "vscode": {
   "interpreter": {
    "hash": "3d003bfd82b4b2708635177fb8f3138976a30d21ae2a9834728cc878eebfc210"
   }
  }
 },
 "nbformat": 4,
 "nbformat_minor": 5
}
