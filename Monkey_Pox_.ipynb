{
 "cells": [
  {
   "cell_type": "markdown",
   "id": "beb88dcf",
   "metadata": {
    "id": "3fa64598"
   },
   "source": [
    "# MONKEYPOX PREDICTION\n",
    "\n",
    "## BUSINESS UNDERSTANDING\n",
    "\n",
    "### __Overview__\n",
    "\n",
    "Monkeypox, according to the Centers for Disease Control and Prevention, is an uncommon disease caused by infection with the monkeypox virus. Monkeypox virus is part of the same family of viruses as variola virus, the virus that causes smallpox. Monkeypox symptoms are similar to smallpox symptoms, but milder, and monkeypox is rarely fatal.\n",
    "Monkeypox was discovered in 1958 when two outbreaks of a pox-like disease occurred in colonies of monkeys kept for research. Despite being named “monkeypox,” the source of the disease remains unknown. However, African rodents and non-human primates (like monkeys) might harbor the virus and infect people.\n",
    "\n",
    "The first human case of monkeypox was recorded in 1970. Prior to the 2022 outbreak in May, monkeypox had been reported in people in several central and western African countries. Previously, almost all monkeypox cases in people outside of Africa were linked to international travel to countries where the disease commonly occurs or through imported animals. These cases occurred on multiple continents.\n",
    "\n",
    "```Transmission```: Monkeypox is a viral zoonosis (virus transmitted to humans from animals)It is transmitted through close contact with an infected person or animal, body fluids, respiratory droplets and contaminated materials such as bedding.\n",
    "\n",
    "### __Problem Statement__\n",
    "\n",
    "As more cases of monkeypox emerge, the world becomes increasingly concerned, as they do not want a repeat of what happened not too long ago, when the infamous Covid-19 broke out and altered the world as we know it. Faced with the reality that such viral diseases can actually shut down the planet, the organization must develop ways to reduce the spread of this disease, enter the Health authorities in the United Kingdom, they have established an incident management team to coordinate the extensive contact tracing  in regards to how quickly the virus can be transferred and, worse, mutate into a more lethal variant.\n",
    "\n",
    "On July 23, the World Health Organization declared the outbreak “a public health emergency of international concern.” Another thing you should know about monkeypox is that it is extremely unpleasant. The current strain has a 1% mortality rate, and as of this writing, there have been three deaths reported in outbreaks outside of Africa, and five deaths in African countries where the disease is endemic, since the beginning of the year.\n",
    "The West African strain of the monkeypox virus is associated with milder disease and fewer deaths than the Central African strain.\n",
    "\n",
    "Even if the chances of death are low, patients with monkeypox have reported how painful and debilitating the disease is. \"People may experience flu-like symptoms at first, such as fever and headache, but as the disease progresses, you get a multi-stage rash, lesions can develop in your mouth, feet, and genital region, and these develop into pus-filled blisters.\"Symptoms can appear between five and 21 days after infection, though the average incubation period is 6 to 13 days. For the first few days, there are headaches, fever, muscle aches, and fatigue.\n",
    "\n",
    "As students of the Incident Management team we have been tasked to create a model to accurately identify potential infected persons in order to make contact tracing faster and more efficient, thereby halting the spread.\n",
    "\n",
    "### __Proposed Solution__\n",
    "\n",
    "One proposed solution is to cultivate the use of data in attempting to predict whether or not a person has monkeypox in order to make contact tracing easier.\n",
    "\n",
    "### __Specific Objectives__\n",
    "\n",
    "* To predict whether a patient is negative or positive for monkeypox based on the symptoms they exhibit \n",
    "* To analyze the various variables such as Sore Throat,Penile Oedema, Oral Lesions ,Systemic illness and STIs and know their relationship with monkeypox \n",
    "\n",
    "### __Research Questions__\n",
    "\n",
    "* Which model best predicts monkeypox disease?\n",
    "* Which symptom has the highest correlation to monkeypox?\n",
    "* Which symptom has the lowest correlation to monkeypox?\n",
    "\n",
    "### __Success Criteria__\n",
    "\n",
    "Tentatively, the study will be judged a success if, we build a model(****We'll add it once we figure out which kind of models we will use. Since we are using at least two models****) to predict monkeypox with an accuracy,precision and recall of 70% or more in classification\n",
    "\n"
   ]
  },
  {
   "cell_type": "markdown",
   "id": "263057fb",
   "metadata": {
    "id": "95a18417"
   },
   "source": [
    "## Importing Libraries"
   ]
  },
  {
   "cell_type": "code",
   "execution_count": 1,
   "id": "f31e331e",
   "metadata": {
    "id": "7a4c0f04"
   },
   "outputs": [],
   "source": [
    "import pandas as pd\n",
    "import seaborn as sns\n",
    "import matplotlib.pyplot as plt \n",
    "from sklearn.linear_model import Ridge, Lasso, LogisticRegression\n",
    "from sklearn.tree import DecisionTreeClassifier\n",
    "from sklearn.neighbors import KNeighborsClassifier\n",
    "from sklearn.ensemble import RandomForestClassifier\n",
    "from sklearn.pipeline import Pipeline\n",
    "from sklearn.metrics import recall_score, precision_score ,accuracy_score, plot_confusion_matrix, confusion_matrix, f1_score\n",
    "from sklearn.model_selection import cross_val_score, GridSearchCV, train_test_split\n",
    "from imblearn.over_sampling import SMOTE, ADASYN \n",
    "import numpy as np\n",
    "import joblib\n",
    "\n",
    "import warnings\n",
    "warnings.simplefilter(action='ignore', category=FutureWarning)\n",
    "warnings.filterwarnings('ignore')"
   ]
  },
  {
   "cell_type": "markdown",
   "id": "6f1fe974",
   "metadata": {
    "id": "7294a50d"
   },
   "source": [
    "## Loading Data"
   ]
  },
  {
   "cell_type": "code",
   "execution_count": 2,
   "id": "505e2942",
   "metadata": {
    "id": "97bd5df2"
   },
   "outputs": [],
   "source": [
    "# Loading the data using pandas into mp {Monkey Pox}\n",
    "\n",
    "# Index_col sets the index to be the patient id as there is no need to have more than one unique identifiers.\n",
    "\n",
    "mp = pd.read_csv('DATA.csv', index_col= 0)"
   ]
  },
  {
   "cell_type": "markdown",
   "id": "9ce90e8e",
   "metadata": {
    "id": "314be6b3"
   },
   "source": [
    "## DATA UNDERSTANDING\n",
    "\n",
    "### __Overview__\n",
    "\n",
    "We are using a SYNTHETIC dataset generated from a study published by the British Medical Journal. It is a description of the clinical features and novel presentations of human monkeypox during the outbreak of 2022 in central London. \n",
    "\n",
    "The data has already been loaded in the above code cell."
   ]
  },
  {
   "cell_type": "code",
   "execution_count": 3,
   "id": "a19f85db",
   "metadata": {
    "colab": {
     "base_uri": "https://localhost:8080/",
     "height": 238
    },
    "id": "7a7cf1f0",
    "outputId": "fad4d447-816e-460b-c93e-9c4a0a7b6fa6"
   },
   "outputs": [
    {
     "data": {
      "text/html": [
       "<div>\n",
       "<style scoped>\n",
       "    .dataframe tbody tr th:only-of-type {\n",
       "        vertical-align: middle;\n",
       "    }\n",
       "\n",
       "    .dataframe tbody tr th {\n",
       "        vertical-align: top;\n",
       "    }\n",
       "\n",
       "    .dataframe thead th {\n",
       "        text-align: right;\n",
       "    }\n",
       "</style>\n",
       "<table border=\"1\" class=\"dataframe\">\n",
       "  <thead>\n",
       "    <tr style=\"text-align: right;\">\n",
       "      <th></th>\n",
       "      <th>Systemic Illness</th>\n",
       "      <th>Rectal Pain</th>\n",
       "      <th>Sore Throat</th>\n",
       "      <th>Penile Oedema</th>\n",
       "      <th>Oral Lesions</th>\n",
       "      <th>Solitary Lesion</th>\n",
       "      <th>Swollen Tonsils</th>\n",
       "      <th>HIV Infection</th>\n",
       "      <th>Sexually Transmitted Infection</th>\n",
       "      <th>MonkeyPox</th>\n",
       "    </tr>\n",
       "    <tr>\n",
       "      <th>Patient_ID</th>\n",
       "      <th></th>\n",
       "      <th></th>\n",
       "      <th></th>\n",
       "      <th></th>\n",
       "      <th></th>\n",
       "      <th></th>\n",
       "      <th></th>\n",
       "      <th></th>\n",
       "      <th></th>\n",
       "      <th></th>\n",
       "    </tr>\n",
       "  </thead>\n",
       "  <tbody>\n",
       "    <tr>\n",
       "      <th>P0</th>\n",
       "      <td>None</td>\n",
       "      <td>False</td>\n",
       "      <td>True</td>\n",
       "      <td>True</td>\n",
       "      <td>True</td>\n",
       "      <td>False</td>\n",
       "      <td>True</td>\n",
       "      <td>False</td>\n",
       "      <td>False</td>\n",
       "      <td>Negative</td>\n",
       "    </tr>\n",
       "    <tr>\n",
       "      <th>P1</th>\n",
       "      <td>Fever</td>\n",
       "      <td>True</td>\n",
       "      <td>False</td>\n",
       "      <td>True</td>\n",
       "      <td>True</td>\n",
       "      <td>False</td>\n",
       "      <td>False</td>\n",
       "      <td>True</td>\n",
       "      <td>False</td>\n",
       "      <td>Positive</td>\n",
       "    </tr>\n",
       "    <tr>\n",
       "      <th>P2</th>\n",
       "      <td>Fever</td>\n",
       "      <td>False</td>\n",
       "      <td>True</td>\n",
       "      <td>True</td>\n",
       "      <td>False</td>\n",
       "      <td>False</td>\n",
       "      <td>False</td>\n",
       "      <td>True</td>\n",
       "      <td>False</td>\n",
       "      <td>Positive</td>\n",
       "    </tr>\n",
       "    <tr>\n",
       "      <th>P3</th>\n",
       "      <td>None</td>\n",
       "      <td>True</td>\n",
       "      <td>False</td>\n",
       "      <td>False</td>\n",
       "      <td>False</td>\n",
       "      <td>True</td>\n",
       "      <td>True</td>\n",
       "      <td>True</td>\n",
       "      <td>False</td>\n",
       "      <td>Positive</td>\n",
       "    </tr>\n",
       "    <tr>\n",
       "      <th>P4</th>\n",
       "      <td>Swollen Lymph Nodes</td>\n",
       "      <td>True</td>\n",
       "      <td>True</td>\n",
       "      <td>True</td>\n",
       "      <td>False</td>\n",
       "      <td>False</td>\n",
       "      <td>True</td>\n",
       "      <td>True</td>\n",
       "      <td>False</td>\n",
       "      <td>Positive</td>\n",
       "    </tr>\n",
       "  </tbody>\n",
       "</table>\n",
       "</div>"
      ],
      "text/plain": [
       "               Systemic Illness  Rectal Pain  Sore Throat  Penile Oedema  \\\n",
       "Patient_ID                                                                 \n",
       "P0                         None        False         True           True   \n",
       "P1                        Fever         True        False           True   \n",
       "P2                        Fever        False         True           True   \n",
       "P3                         None         True        False          False   \n",
       "P4          Swollen Lymph Nodes         True         True           True   \n",
       "\n",
       "            Oral Lesions  Solitary Lesion  Swollen Tonsils  HIV Infection  \\\n",
       "Patient_ID                                                                  \n",
       "P0                  True            False             True          False   \n",
       "P1                  True            False            False           True   \n",
       "P2                 False            False            False           True   \n",
       "P3                 False             True             True           True   \n",
       "P4                 False            False             True           True   \n",
       "\n",
       "            Sexually Transmitted Infection MonkeyPox  \n",
       "Patient_ID                                            \n",
       "P0                                   False  Negative  \n",
       "P1                                   False  Positive  \n",
       "P2                                   False  Positive  \n",
       "P3                                   False  Positive  \n",
       "P4                                   False  Positive  "
      ]
     },
     "execution_count": 3,
     "metadata": {},
     "output_type": "execute_result"
    }
   ],
   "source": [
    "# preview of the first 5 rows\n",
    "mp.head()"
   ]
  },
  {
   "cell_type": "code",
   "execution_count": 4,
   "id": "0a8f7c27",
   "metadata": {
    "colab": {
     "base_uri": "https://localhost:8080/"
    },
    "id": "bf69b582",
    "outputId": "b2230661-49b0-4816-87f7-eb149050f042"
   },
   "outputs": [
    {
     "name": "stdout",
     "output_type": "stream",
     "text": [
      "<class 'pandas.core.frame.DataFrame'>\n",
      "Index: 25000 entries, P0 to P24999\n",
      "Data columns (total 10 columns):\n",
      " #   Column                          Non-Null Count  Dtype \n",
      "---  ------                          --------------  ----- \n",
      " 0   Systemic Illness                25000 non-null  object\n",
      " 1   Rectal Pain                     25000 non-null  bool  \n",
      " 2   Sore Throat                     25000 non-null  bool  \n",
      " 3   Penile Oedema                   25000 non-null  bool  \n",
      " 4   Oral Lesions                    25000 non-null  bool  \n",
      " 5   Solitary Lesion                 25000 non-null  bool  \n",
      " 6   Swollen Tonsils                 25000 non-null  bool  \n",
      " 7   HIV Infection                   25000 non-null  bool  \n",
      " 8   Sexually Transmitted Infection  25000 non-null  bool  \n",
      " 9   MonkeyPox                       25000 non-null  object\n",
      "dtypes: bool(8), object(2)\n",
      "memory usage: 781.2+ KB\n"
     ]
    }
   ],
   "source": [
    "# Checking the summary of the data\n",
    "\n",
    "mp.info()"
   ]
  },
  {
   "cell_type": "code",
   "execution_count": 5,
   "id": "1f57e8a4",
   "metadata": {
    "colab": {
     "base_uri": "https://localhost:8080/"
    },
    "id": "489114df",
    "outputId": "a44b02eb-e761-4e4c-f8d1-7e3d25c74403"
   },
   "outputs": [
    {
     "data": {
      "text/plain": [
       "0"
      ]
     },
     "execution_count": 5,
     "metadata": {},
     "output_type": "execute_result"
    }
   ],
   "source": [
    "# checking for duplicates using the index as a guide as the index is the personal id\n",
    "mp.index.duplicated().sum()"
   ]
  },
  {
   "cell_type": "code",
   "execution_count": 6,
   "id": "552eeb37",
   "metadata": {
    "colab": {
     "base_uri": "https://localhost:8080/"
    },
    "id": "5ebef806",
    "outputId": "eae9b512-386f-48be-ffe5-944483598f4c"
   },
   "outputs": [
    {
     "data": {
      "text/plain": [
       "Index(['Systemic Illness', 'Rectal Pain', 'Sore Throat', 'Penile Oedema',\n",
       "       'Oral Lesions', 'Solitary Lesion', 'Swollen Tonsils', 'HIV Infection',\n",
       "       'Sexually Transmitted Infection', 'MonkeyPox'],\n",
       "      dtype='object')"
      ]
     },
     "execution_count": 6,
     "metadata": {},
     "output_type": "execute_result"
    }
   ],
   "source": [
    "# viewing the column names of the dataset \n",
    "\n",
    "mp.columns"
   ]
  },
  {
   "cell_type": "code",
   "execution_count": 7,
   "id": "ca74396f",
   "metadata": {
    "colab": {
     "base_uri": "https://localhost:8080/"
    },
    "id": "72c0eb00",
    "outputId": "f56a79af-45f2-4a38-be69-5e6855985f47"
   },
   "outputs": [
    {
     "data": {
      "text/plain": [
       "['Rectal Pain',\n",
       " 'Sore Throat',\n",
       " 'Penile Oedema',\n",
       " 'Oral Lesions',\n",
       " 'Solitary Lesion',\n",
       " 'Swollen Tonsils',\n",
       " 'HIV Infection',\n",
       " 'Sexually Transmitted Infection',\n",
       " 'MonkeyPox']"
      ]
     },
     "execution_count": 7,
     "metadata": {},
     "output_type": "execute_result"
    }
   ],
   "source": [
    "# Making a list of all the bool columns to use in get_dummies later\n",
    "\n",
    "col = list(mp.columns)\n",
    "\n",
    "col.remove('Systemic Illness')\n",
    "col"
   ]
  },
  {
   "cell_type": "code",
   "execution_count": 8,
   "id": "ba13b057",
   "metadata": {
    "colab": {
     "base_uri": "https://localhost:8080/"
    },
    "id": "ccd7f147",
    "outputId": "71163726-e118-477b-8144-0123ae840c8b"
   },
   "outputs": [
    {
     "data": {
      "text/plain": [
       "['Rectal Pain',\n",
       " 'Sore Throat',\n",
       " 'Penile Oedema',\n",
       " 'Oral Lesions',\n",
       " 'Solitary Lesion',\n",
       " 'Swollen Tonsils',\n",
       " 'HIV Infection',\n",
       " 'Sexually Transmitted Infection',\n",
       " 'MonkeyPox']"
      ]
     },
     "execution_count": 8,
     "metadata": {},
     "output_type": "execute_result"
    }
   ],
   "source": [
    "# preview of the list of column names\n",
    "\n",
    "col"
   ]
  },
  {
   "cell_type": "code",
   "execution_count": 9,
   "id": "72cb140b",
   "metadata": {
    "colab": {
     "base_uri": "https://localhost:8080/",
     "height": 175
    },
    "id": "e3269feb",
    "outputId": "cc2bebce-ebb2-47ef-887e-ecea217e1905",
    "scrolled": true
   },
   "outputs": [
    {
     "data": {
      "text/html": [
       "<div>\n",
       "<style scoped>\n",
       "    .dataframe tbody tr th:only-of-type {\n",
       "        vertical-align: middle;\n",
       "    }\n",
       "\n",
       "    .dataframe tbody tr th {\n",
       "        vertical-align: top;\n",
       "    }\n",
       "\n",
       "    .dataframe thead th {\n",
       "        text-align: right;\n",
       "    }\n",
       "</style>\n",
       "<table border=\"1\" class=\"dataframe\">\n",
       "  <thead>\n",
       "    <tr style=\"text-align: right;\">\n",
       "      <th></th>\n",
       "      <th>Systemic Illness</th>\n",
       "      <th>Rectal Pain</th>\n",
       "      <th>Sore Throat</th>\n",
       "      <th>Penile Oedema</th>\n",
       "      <th>Oral Lesions</th>\n",
       "      <th>Solitary Lesion</th>\n",
       "      <th>Swollen Tonsils</th>\n",
       "      <th>HIV Infection</th>\n",
       "      <th>Sexually Transmitted Infection</th>\n",
       "      <th>MonkeyPox</th>\n",
       "    </tr>\n",
       "  </thead>\n",
       "  <tbody>\n",
       "    <tr>\n",
       "      <th>count</th>\n",
       "      <td>25000</td>\n",
       "      <td>25000</td>\n",
       "      <td>25000</td>\n",
       "      <td>25000</td>\n",
       "      <td>25000</td>\n",
       "      <td>25000</td>\n",
       "      <td>25000</td>\n",
       "      <td>25000</td>\n",
       "      <td>25000</td>\n",
       "      <td>25000</td>\n",
       "    </tr>\n",
       "    <tr>\n",
       "      <th>unique</th>\n",
       "      <td>4</td>\n",
       "      <td>2</td>\n",
       "      <td>2</td>\n",
       "      <td>2</td>\n",
       "      <td>2</td>\n",
       "      <td>2</td>\n",
       "      <td>2</td>\n",
       "      <td>2</td>\n",
       "      <td>2</td>\n",
       "      <td>2</td>\n",
       "    </tr>\n",
       "    <tr>\n",
       "      <th>top</th>\n",
       "      <td>Fever</td>\n",
       "      <td>False</td>\n",
       "      <td>True</td>\n",
       "      <td>True</td>\n",
       "      <td>False</td>\n",
       "      <td>True</td>\n",
       "      <td>True</td>\n",
       "      <td>True</td>\n",
       "      <td>False</td>\n",
       "      <td>Positive</td>\n",
       "    </tr>\n",
       "    <tr>\n",
       "      <th>freq</th>\n",
       "      <td>6382</td>\n",
       "      <td>12655</td>\n",
       "      <td>12554</td>\n",
       "      <td>12612</td>\n",
       "      <td>12514</td>\n",
       "      <td>12527</td>\n",
       "      <td>12533</td>\n",
       "      <td>12584</td>\n",
       "      <td>12554</td>\n",
       "      <td>15909</td>\n",
       "    </tr>\n",
       "  </tbody>\n",
       "</table>\n",
       "</div>"
      ],
      "text/plain": [
       "       Systemic Illness Rectal Pain Sore Throat Penile Oedema Oral Lesions  \\\n",
       "count             25000       25000       25000         25000        25000   \n",
       "unique                4           2           2             2            2   \n",
       "top               Fever       False        True          True        False   \n",
       "freq               6382       12655       12554         12612        12514   \n",
       "\n",
       "       Solitary Lesion Swollen Tonsils HIV Infection  \\\n",
       "count            25000           25000         25000   \n",
       "unique               2               2             2   \n",
       "top               True            True          True   \n",
       "freq             12527           12533         12584   \n",
       "\n",
       "       Sexually Transmitted Infection MonkeyPox  \n",
       "count                           25000     25000  \n",
       "unique                              2         2  \n",
       "top                             False  Positive  \n",
       "freq                            12554     15909  "
      ]
     },
     "execution_count": 9,
     "metadata": {},
     "output_type": "execute_result"
    }
   ],
   "source": [
    "# checking the summary statistics of the data\n",
    "mp.describe()"
   ]
  },
  {
   "cell_type": "code",
   "execution_count": 10,
   "id": "a389d076",
   "metadata": {
    "colab": {
     "base_uri": "https://localhost:8080/"
    },
    "id": "2ab89ef5",
    "outputId": "caa52700-bb2e-42d9-c068-00f9dc549d67"
   },
   "outputs": [
    {
     "data": {
      "text/plain": [
       "(25000, 10)"
      ]
     },
     "execution_count": 10,
     "metadata": {},
     "output_type": "execute_result"
    }
   ],
   "source": [
    "# shape of the data\n",
    "mp.shape"
   ]
  },
  {
   "cell_type": "markdown",
   "id": "f69aaf61",
   "metadata": {
    "id": "42c296ed"
   },
   "source": [
    "__Summary__\n",
    "\n",
    "* Our data has 25,000 rows and 10 columns\n",
    "* The data has 8 columns of dtype ```Bool``` and 2 columns of dtype ```object```.\n",
    "* There are no missing columns in the data.\n",
    "* There are no duplicates in the data.\n",
    "* The following are the columns in our data;\n",
    "    * Systemic Illness \n",
    "    * Rectal Pain \n",
    "    * Sore Throat \n",
    "    * Penile Oedema\n",
    "    * Oral Lesions \n",
    "    * Solitary Lesion \n",
    "    * Swollen Tonsils \n",
    "    * HIV Infection\n",
    "    * Sexually Transmitted Infection\n",
    "    * MonkeyPox\n",
    "\n",
    "Since the data has no duplicates and missing values, we can go ahead and do Exploratory Data Analysis to gain more insights from the data."
   ]
  },
  {
   "cell_type": "markdown",
   "id": "9c5de18b",
   "metadata": {
    "id": "541b3486"
   },
   "source": [
    "### Exploratory Data Analysis\n",
    "\n",
    "__UNIVARIATE ANALYSIS__\n",
    "\n",
    "__Feature columns__\n",
    "\n",
    "In univariate analysis, we will investigate the distribution of symptoms using pie charts."
   ]
  },
  {
   "cell_type": "code",
   "execution_count": 58,
   "id": "810280e8",
   "metadata": {},
   "outputs": [],
   "source": [
    "# function to plot the pie charts\n",
    "def univariate(name):\n",
    "    \"\"\" Function to plot the pie charts \"\"\"\n",
    "\n",
    "    figure = plt.pie(mp[name].value_counts(), labels = mp[name].unique(),\n",
    "             startangle = 90, shadow = True, autopct = \"%2.1f%%\")\n",
    "    plt.title(name)\n",
    "    return figure"
   ]
  },
  {
   "cell_type": "code",
   "execution_count": 59,
   "id": "0c48a198",
   "metadata": {},
   "outputs": [
    {
     "data": {
      "image/png": "[encoded data removed]",
      "text/plain": [
       "<Figure size 1080x1440 with 9 Axes>"
      ]
     },
     "metadata": {},
     "output_type": "display_data"
    }
   ],
   "source": [
    "# columns to use when plotting the pie charts\n",
    "columns =  [\"Systemic Illness\", \"Rectal Pain\", \"Sore Throat\", \"Penile Oedema\", \"Oral Lesions\", \"Solitary Lesion\",\n",
    "\"Swollen Tonsils\", \"HIV Infection\", \"Sexually Transmitted Infection\"]\n",
    "\n",
    "# plotting the pie charts\n",
    "plt.figure(figsize = (15, 20))\n",
    "for i in enumerate(columns):\n",
    "    plt.subplot(3, 3, i[0] + 1)\n",
    "    univariate(i[1])"
   ]
  },
  {
   "cell_type": "markdown",
   "id": "404e9f08",
   "metadata": {},
   "source": [
    "__Target Column__"
   ]
  },
  {
   "cell_type": "code",
   "execution_count": 57,
   "id": "18587a98",
   "metadata": {},
   "outputs": [
    {
     "data": {
      "image/png": "[encoded data removed]",
      "text/plain": [
       "<Figure size 432x288 with 1 Axes>"
      ]
     },
     "metadata": {},
     "output_type": "display_data"
    }
   ],
   "source": [
    "univariate(\"MonkeyPox\");"
   ]
  },
  {
   "cell_type": "markdown",
   "id": "d4218531",
   "metadata": {
    "id": "299880c0"
   },
   "source": [
    "__Univariate Analysis summary__\n",
    "\n",
    "* From the above, all symptoms have an almost uniform distribution based on whether it is true or false.\n",
    "* For the target column, 63.6% of the data consists of those who are monkeypox negative and 36.4% are those who are monkeypox positive therefore there is a class imbalance in our target column."
   ]
  },
  {
   "cell_type": "markdown",
   "id": "2bfb2eaa",
   "metadata": {
    "id": "9e0a3973"
   },
   "source": [
    "__BIVARIATE ANALYSIS__\n",
    "\n",
    "In Bivariate analysis, we will compare the feature columns to our target variable to see the relationship between the two.\n",
    "This will be achieved by plotting side by side bar charts to see the relationship."
   ]
  },
  {
   "cell_type": "code",
   "execution_count": 22,
   "id": "0c2f4ecc",
   "metadata": {
    "colab": {
     "base_uri": "https://localhost:8080/",
     "height": 112
    },
    "id": "a6c7135d",
    "outputId": "4834695d-92a6-456b-f7e1-767204e80f3a",
    "scrolled": true
   },
   "outputs": [
    {
     "data": {
      "text/html": [
       "<div>\n",
       "<style scoped>\n",
       "    .dataframe tbody tr th:only-of-type {\n",
       "        vertical-align: middle;\n",
       "    }\n",
       "\n",
       "    .dataframe tbody tr th {\n",
       "        vertical-align: top;\n",
       "    }\n",
       "\n",
       "    .dataframe thead th {\n",
       "        text-align: right;\n",
       "    }\n",
       "</style>\n",
       "<table border=\"1\" class=\"dataframe\">\n",
       "  <thead>\n",
       "    <tr style=\"text-align: right;\">\n",
       "      <th></th>\n",
       "      <th>MonkeyPox</th>\n",
       "      <th>Rectal Pain</th>\n",
       "      <th>Sore Throat</th>\n",
       "      <th>Penile Oedema</th>\n",
       "      <th>Oral Lesions</th>\n",
       "      <th>Solitary Lesion</th>\n",
       "      <th>Swollen Tonsils</th>\n",
       "      <th>HIV Infection</th>\n",
       "      <th>Sexually Transmitted Infection</th>\n",
       "    </tr>\n",
       "  </thead>\n",
       "  <tbody>\n",
       "    <tr>\n",
       "      <th>0</th>\n",
       "      <td>Negative</td>\n",
       "      <td>3643</td>\n",
       "      <td>4184</td>\n",
       "      <td>4214</td>\n",
       "      <td>4228</td>\n",
       "      <td>4330</td>\n",
       "      <td>4478</td>\n",
       "      <td>3697</td>\n",
       "      <td>3784</td>\n",
       "    </tr>\n",
       "    <tr>\n",
       "      <th>1</th>\n",
       "      <td>Positive</td>\n",
       "      <td>8702</td>\n",
       "      <td>8370</td>\n",
       "      <td>8398</td>\n",
       "      <td>8258</td>\n",
       "      <td>8197</td>\n",
       "      <td>8055</td>\n",
       "      <td>8887</td>\n",
       "      <td>8662</td>\n",
       "    </tr>\n",
       "  </tbody>\n",
       "</table>\n",
       "</div>"
      ],
      "text/plain": [
       "  MonkeyPox  Rectal Pain  Sore Throat  Penile Oedema  Oral Lesions  \\\n",
       "0  Negative         3643         4184           4214          4228   \n",
       "1  Positive         8702         8370           8398          8258   \n",
       "\n",
       "   Solitary Lesion  Swollen Tonsils  HIV Infection  \\\n",
       "0             4330             4478           3697   \n",
       "1             8197             8055           8887   \n",
       "\n",
       "   Sexually Transmitted Infection  \n",
       "0                            3784  \n",
       "1                            8662  "
      ]
     },
     "execution_count": 22,
     "metadata": {},
     "output_type": "execute_result"
    }
   ],
   "source": [
    "# Grouping the data by monkey pox in order to find the sum of various symptoms baseed on MonkeyPox\n",
    "values = mp.groupby(by=\"MonkeyPox\").sum().reset_index()\n",
    "values"
   ]
  },
  {
   "cell_type": "code",
   "execution_count": 23,
   "id": "7290a074",
   "metadata": {},
   "outputs": [
    {
     "data": {
      "image/png": "[encoded data removed]",
      "text/plain": [
       "<Figure size 1296x2736 with 9 Axes>"
      ]
     },
     "metadata": {
      "needs_background": "light"
     },
     "output_type": "display_data"
    }
   ],
   "source": [
    "# Plotting side by side graphs\n",
    "features = [\"Systemic Illness\", \"Rectal Pain\", \"Sore Throat\", \"Penile Oedema\", \"Oral Lesions\", \"Solitary Lesion\",\n",
    "\"Swollen Tonsils\", \"HIV Infection\", \"Sexually Transmitted Infection\"]\n",
    "plt.figure(figsize = (18, 38))\n",
    "for i in enumerate(features):\n",
    "    plt.subplot(5, 2, i[0] + 1)\n",
    "    sns.countplot(i[1], hue = \"MonkeyPox\", data = mp)\n",
    "    plt.xticks(rotation = 10)\n",
    "    plt.title(i[1].upper())"
   ]
  },
  {
   "cell_type": "markdown",
   "id": "71fac3e5",
   "metadata": {
    "id": "aacd1a45"
   },
   "source": [
    "__Bivariate Analysis Summary__\n",
    "\n",
    "* For the systemic illness symptoms, people with ```fever``` and ```swollen lymph nodes``` have a high chance of being MonkeyPox positive.\n",
    "* People with the symptoms of ```HIV Infection```, ```Rectal Pain``` and ```Sexually Transmitted Infection``` also have a high chance of being MonkeyPox positive."
   ]
  },
  {
   "cell_type": "markdown",
   "id": "b038851c",
   "metadata": {
    "id": "9fd7a4dd"
   },
   "source": [
    "__INVESTIGATING CORRELATION__"
   ]
  },
  {
   "cell_type": "code",
   "execution_count": 22,
   "id": "cb139d8f",
   "metadata": {
    "colab": {
     "base_uri": "https://localhost:8080/",
     "height": 596
    },
    "id": "d0ea5e61",
    "outputId": "1494ad3a-d315-4fb3-e6d7-00076112d736"
   },
   "outputs": [
    {
     "data": {
      "image/png": "[encoded data removed]",
      "text/plain": [
       "<Figure size 1440x720 with 2 Axes>"
      ]
     },
     "metadata": {
      "needs_background": "light"
     },
     "output_type": "display_data"
    }
   ],
   "source": [
    "plt.figure(figsize = (20, 10))\n",
    "var = mp.corr()\n",
    "sns.heatmap(var, annot = True, cmap = \"YlGnBu\");"
   ]
  },
  {
   "cell_type": "markdown",
   "id": "8d5a4dc4",
   "metadata": {
    "id": "ea405319"
   },
   "source": [
    "## DATA PREPARATION"
   ]
  },
  {
   "cell_type": "code",
   "execution_count": 23,
   "id": "68e8637e",
   "metadata": {
    "colab": {
     "base_uri": "https://localhost:8080/"
    },
    "id": "a7276ea9",
    "outputId": "29152335-6704-4741-de7c-d6e222756f78"
   },
   "outputs": [
    {
     "data": {
      "text/plain": [
       "Fever                    6382\n",
       "Swollen Lymph Nodes      6252\n",
       "None                     6216\n",
       "Muscle Aches and Pain    6150\n",
       "Name: Systemic Illness, dtype: int64"
      ]
     },
     "execution_count": 23,
     "metadata": {},
     "output_type": "execute_result"
    }
   ],
   "source": [
    "# Checking on the uniue value counts in Systemic Illness\n",
    "mp['Systemic Illness'].value_counts()"
   ]
  },
  {
   "cell_type": "code",
   "execution_count": 24,
   "id": "d4a5c632",
   "metadata": {
    "id": "6b1eca90"
   },
   "outputs": [],
   "source": [
    "# Reducing ambiguity in the systemic illness column we change none to No systemic Illness\n",
    "\n",
    "mp['Systemic Illness'].replace(to_replace= 'None',value= 'No Systemic Illness',inplace= True)"
   ]
  },
  {
   "cell_type": "code",
   "execution_count": 25,
   "id": "12ddce97",
   "metadata": {
    "colab": {
     "base_uri": "https://localhost:8080/"
    },
    "id": "6ecc75d3",
    "outputId": "808bb080-8961-47da-cc3d-5d57ec32d050"
   },
   "outputs": [
    {
     "data": {
      "text/plain": [
       "Fever                    6382\n",
       "Swollen Lymph Nodes      6252\n",
       "No Systemic Illness      6216\n",
       "Muscle Aches and Pain    6150\n",
       "Name: Systemic Illness, dtype: int64"
      ]
     },
     "execution_count": 25,
     "metadata": {},
     "output_type": "execute_result"
    }
   ],
   "source": [
    "# Confirming change\n",
    "mp['Systemic Illness'].value_counts()"
   ]
  },
  {
   "cell_type": "markdown",
   "id": "cd0fcc35",
   "metadata": {
    "id": "c6a50895"
   },
   "source": [
    "From the above info we can see that all the columns have only two unique values meaning converting to int will not be as complicated.\n",
    "\n",
    "Systemic illness has the most with 4.\n",
    "\n",
    "data cleaning will be relatievly easy as the data has no missing values and no duplicates.\n",
    "\n",
    "Only task is type casting.\n"
   ]
  },
  {
   "cell_type": "code",
   "execution_count": 26,
   "id": "df341b58",
   "metadata": {
    "colab": {
     "base_uri": "https://localhost:8080/",
     "height": 455
    },
    "id": "32f122e8",
    "outputId": "964b46e2-6921-4dbb-ef95-76b6f035c107"
   },
   "outputs": [
    {
     "data": {
      "text/html": [
       "<div>\n",
       "<style scoped>\n",
       "    .dataframe tbody tr th:only-of-type {\n",
       "        vertical-align: middle;\n",
       "    }\n",
       "\n",
       "    .dataframe tbody tr th {\n",
       "        vertical-align: top;\n",
       "    }\n",
       "\n",
       "    .dataframe thead th {\n",
       "        text-align: right;\n",
       "    }\n",
       "</style>\n",
       "<table border=\"1\" class=\"dataframe\">\n",
       "  <thead>\n",
       "    <tr style=\"text-align: right;\">\n",
       "      <th></th>\n",
       "      <th>Systemic Illness_Fever</th>\n",
       "      <th>Systemic Illness_Muscle Aches and Pain</th>\n",
       "      <th>Systemic Illness_Swollen Lymph Nodes</th>\n",
       "    </tr>\n",
       "    <tr>\n",
       "      <th>Patient_ID</th>\n",
       "      <th></th>\n",
       "      <th></th>\n",
       "      <th></th>\n",
       "    </tr>\n",
       "  </thead>\n",
       "  <tbody>\n",
       "    <tr>\n",
       "      <th>P0</th>\n",
       "      <td>0</td>\n",
       "      <td>0</td>\n",
       "      <td>0</td>\n",
       "    </tr>\n",
       "    <tr>\n",
       "      <th>P1</th>\n",
       "      <td>1</td>\n",
       "      <td>0</td>\n",
       "      <td>0</td>\n",
       "    </tr>\n",
       "    <tr>\n",
       "      <th>P2</th>\n",
       "      <td>1</td>\n",
       "      <td>0</td>\n",
       "      <td>0</td>\n",
       "    </tr>\n",
       "    <tr>\n",
       "      <th>P3</th>\n",
       "      <td>0</td>\n",
       "      <td>0</td>\n",
       "      <td>0</td>\n",
       "    </tr>\n",
       "    <tr>\n",
       "      <th>P4</th>\n",
       "      <td>0</td>\n",
       "      <td>0</td>\n",
       "      <td>1</td>\n",
       "    </tr>\n",
       "    <tr>\n",
       "      <th>...</th>\n",
       "      <td>...</td>\n",
       "      <td>...</td>\n",
       "      <td>...</td>\n",
       "    </tr>\n",
       "    <tr>\n",
       "      <th>P24995</th>\n",
       "      <td>0</td>\n",
       "      <td>0</td>\n",
       "      <td>0</td>\n",
       "    </tr>\n",
       "    <tr>\n",
       "      <th>P24996</th>\n",
       "      <td>1</td>\n",
       "      <td>0</td>\n",
       "      <td>0</td>\n",
       "    </tr>\n",
       "    <tr>\n",
       "      <th>P24997</th>\n",
       "      <td>0</td>\n",
       "      <td>0</td>\n",
       "      <td>0</td>\n",
       "    </tr>\n",
       "    <tr>\n",
       "      <th>P24998</th>\n",
       "      <td>0</td>\n",
       "      <td>0</td>\n",
       "      <td>1</td>\n",
       "    </tr>\n",
       "    <tr>\n",
       "      <th>P24999</th>\n",
       "      <td>0</td>\n",
       "      <td>0</td>\n",
       "      <td>1</td>\n",
       "    </tr>\n",
       "  </tbody>\n",
       "</table>\n",
       "<p>25000 rows × 3 columns</p>\n",
       "</div>"
      ],
      "text/plain": [
       "            Systemic Illness_Fever  Systemic Illness_Muscle Aches and Pain  \\\n",
       "Patient_ID                                                                   \n",
       "P0                               0                                       0   \n",
       "P1                               1                                       0   \n",
       "P2                               1                                       0   \n",
       "P3                               0                                       0   \n",
       "P4                               0                                       0   \n",
       "...                            ...                                     ...   \n",
       "P24995                           0                                       0   \n",
       "P24996                           1                                       0   \n",
       "P24997                           0                                       0   \n",
       "P24998                           0                                       0   \n",
       "P24999                           0                                       0   \n",
       "\n",
       "            Systemic Illness_Swollen Lymph Nodes  \n",
       "Patient_ID                                        \n",
       "P0                                             0  \n",
       "P1                                             0  \n",
       "P2                                             0  \n",
       "P3                                             0  \n",
       "P4                                             1  \n",
       "...                                          ...  \n",
       "P24995                                         0  \n",
       "P24996                                         0  \n",
       "P24997                                         0  \n",
       "P24998                                         1  \n",
       "P24999                                         1  \n",
       "\n",
       "[25000 rows x 3 columns]"
      ]
     },
     "execution_count": 26,
     "metadata": {},
     "output_type": "execute_result"
    }
   ],
   "source": [
    "# type casting Systemic illness by using get dummies\n",
    "df = pd.get_dummies(data= mp, columns= ['Systemic Illness'],drop_first= False)\n",
    "# dropping every other column to isolate the systemic illness ...will concat later.\n",
    "df_Systemic = df.drop(columns= col,axis = 1)\n",
    "df_Systemic = df_Systemic.drop(columns= ['Systemic Illness_No Systemic Illness'],axis = 1)\n",
    "df_Systemic"
   ]
  },
  {
   "cell_type": "code",
   "execution_count": 27,
   "id": "ad032520",
   "metadata": {
    "colab": {
     "base_uri": "https://localhost:8080/",
     "height": 455
    },
    "id": "f02cf522",
    "outputId": "2f4c78d5-d783-4d74-bdc7-efc9b30e78cc"
   },
   "outputs": [
    {
     "data": {
      "text/html": [
       "<div>\n",
       "<style scoped>\n",
       "    .dataframe tbody tr th:only-of-type {\n",
       "        vertical-align: middle;\n",
       "    }\n",
       "\n",
       "    .dataframe tbody tr th {\n",
       "        vertical-align: top;\n",
       "    }\n",
       "\n",
       "    .dataframe thead th {\n",
       "        text-align: right;\n",
       "    }\n",
       "</style>\n",
       "<table border=\"1\" class=\"dataframe\">\n",
       "  <thead>\n",
       "    <tr style=\"text-align: right;\">\n",
       "      <th></th>\n",
       "      <th>Systemic Illness</th>\n",
       "      <th>Rectal Pain_True</th>\n",
       "      <th>Sore Throat_True</th>\n",
       "      <th>Penile Oedema_True</th>\n",
       "      <th>Oral Lesions_True</th>\n",
       "      <th>Solitary Lesion_True</th>\n",
       "      <th>Swollen Tonsils_True</th>\n",
       "      <th>HIV Infection_True</th>\n",
       "      <th>Sexually Transmitted Infection_True</th>\n",
       "      <th>MonkeyPox_Positive</th>\n",
       "    </tr>\n",
       "    <tr>\n",
       "      <th>Patient_ID</th>\n",
       "      <th></th>\n",
       "      <th></th>\n",
       "      <th></th>\n",
       "      <th></th>\n",
       "      <th></th>\n",
       "      <th></th>\n",
       "      <th></th>\n",
       "      <th></th>\n",
       "      <th></th>\n",
       "      <th></th>\n",
       "    </tr>\n",
       "  </thead>\n",
       "  <tbody>\n",
       "    <tr>\n",
       "      <th>P0</th>\n",
       "      <td>No Systemic Illness</td>\n",
       "      <td>0</td>\n",
       "      <td>1</td>\n",
       "      <td>1</td>\n",
       "      <td>1</td>\n",
       "      <td>0</td>\n",
       "      <td>1</td>\n",
       "      <td>0</td>\n",
       "      <td>0</td>\n",
       "      <td>0</td>\n",
       "    </tr>\n",
       "    <tr>\n",
       "      <th>P1</th>\n",
       "      <td>Fever</td>\n",
       "      <td>1</td>\n",
       "      <td>0</td>\n",
       "      <td>1</td>\n",
       "      <td>1</td>\n",
       "      <td>0</td>\n",
       "      <td>0</td>\n",
       "      <td>1</td>\n",
       "      <td>0</td>\n",
       "      <td>1</td>\n",
       "    </tr>\n",
       "    <tr>\n",
       "      <th>P2</th>\n",
       "      <td>Fever</td>\n",
       "      <td>0</td>\n",
       "      <td>1</td>\n",
       "      <td>1</td>\n",
       "      <td>0</td>\n",
       "      <td>0</td>\n",
       "      <td>0</td>\n",
       "      <td>1</td>\n",
       "      <td>0</td>\n",
       "      <td>1</td>\n",
       "    </tr>\n",
       "    <tr>\n",
       "      <th>P3</th>\n",
       "      <td>No Systemic Illness</td>\n",
       "      <td>1</td>\n",
       "      <td>0</td>\n",
       "      <td>0</td>\n",
       "      <td>0</td>\n",
       "      <td>1</td>\n",
       "      <td>1</td>\n",
       "      <td>1</td>\n",
       "      <td>0</td>\n",
       "      <td>1</td>\n",
       "    </tr>\n",
       "    <tr>\n",
       "      <th>P4</th>\n",
       "      <td>Swollen Lymph Nodes</td>\n",
       "      <td>1</td>\n",
       "      <td>1</td>\n",
       "      <td>1</td>\n",
       "      <td>0</td>\n",
       "      <td>0</td>\n",
       "      <td>1</td>\n",
       "      <td>1</td>\n",
       "      <td>0</td>\n",
       "      <td>1</td>\n",
       "    </tr>\n",
       "    <tr>\n",
       "      <th>...</th>\n",
       "      <td>...</td>\n",
       "      <td>...</td>\n",
       "      <td>...</td>\n",
       "      <td>...</td>\n",
       "      <td>...</td>\n",
       "      <td>...</td>\n",
       "      <td>...</td>\n",
       "      <td>...</td>\n",
       "      <td>...</td>\n",
       "      <td>...</td>\n",
       "    </tr>\n",
       "    <tr>\n",
       "      <th>P24995</th>\n",
       "      <td>No Systemic Illness</td>\n",
       "      <td>1</td>\n",
       "      <td>1</td>\n",
       "      <td>0</td>\n",
       "      <td>1</td>\n",
       "      <td>1</td>\n",
       "      <td>0</td>\n",
       "      <td>0</td>\n",
       "      <td>1</td>\n",
       "      <td>1</td>\n",
       "    </tr>\n",
       "    <tr>\n",
       "      <th>P24996</th>\n",
       "      <td>Fever</td>\n",
       "      <td>0</td>\n",
       "      <td>1</td>\n",
       "      <td>1</td>\n",
       "      <td>0</td>\n",
       "      <td>1</td>\n",
       "      <td>1</td>\n",
       "      <td>1</td>\n",
       "      <td>1</td>\n",
       "      <td>1</td>\n",
       "    </tr>\n",
       "    <tr>\n",
       "      <th>P24997</th>\n",
       "      <td>No Systemic Illness</td>\n",
       "      <td>1</td>\n",
       "      <td>1</td>\n",
       "      <td>0</td>\n",
       "      <td>0</td>\n",
       "      <td>1</td>\n",
       "      <td>1</td>\n",
       "      <td>0</td>\n",
       "      <td>0</td>\n",
       "      <td>1</td>\n",
       "    </tr>\n",
       "    <tr>\n",
       "      <th>P24998</th>\n",
       "      <td>Swollen Lymph Nodes</td>\n",
       "      <td>0</td>\n",
       "      <td>1</td>\n",
       "      <td>0</td>\n",
       "      <td>1</td>\n",
       "      <td>1</td>\n",
       "      <td>1</td>\n",
       "      <td>0</td>\n",
       "      <td>0</td>\n",
       "      <td>0</td>\n",
       "    </tr>\n",
       "    <tr>\n",
       "      <th>P24999</th>\n",
       "      <td>Swollen Lymph Nodes</td>\n",
       "      <td>0</td>\n",
       "      <td>0</td>\n",
       "      <td>1</td>\n",
       "      <td>0</td>\n",
       "      <td>0</td>\n",
       "      <td>1</td>\n",
       "      <td>1</td>\n",
       "      <td>0</td>\n",
       "      <td>1</td>\n",
       "    </tr>\n",
       "  </tbody>\n",
       "</table>\n",
       "<p>25000 rows × 10 columns</p>\n",
       "</div>"
      ],
      "text/plain": [
       "               Systemic Illness  Rectal Pain_True  Sore Throat_True  \\\n",
       "Patient_ID                                                            \n",
       "P0          No Systemic Illness                 0                 1   \n",
       "P1                        Fever                 1                 0   \n",
       "P2                        Fever                 0                 1   \n",
       "P3          No Systemic Illness                 1                 0   \n",
       "P4          Swollen Lymph Nodes                 1                 1   \n",
       "...                         ...               ...               ...   \n",
       "P24995      No Systemic Illness                 1                 1   \n",
       "P24996                    Fever                 0                 1   \n",
       "P24997      No Systemic Illness                 1                 1   \n",
       "P24998      Swollen Lymph Nodes                 0                 1   \n",
       "P24999      Swollen Lymph Nodes                 0                 0   \n",
       "\n",
       "            Penile Oedema_True  Oral Lesions_True  Solitary Lesion_True  \\\n",
       "Patient_ID                                                                \n",
       "P0                           1                  1                     0   \n",
       "P1                           1                  1                     0   \n",
       "P2                           1                  0                     0   \n",
       "P3                           0                  0                     1   \n",
       "P4                           1                  0                     0   \n",
       "...                        ...                ...                   ...   \n",
       "P24995                       0                  1                     1   \n",
       "P24996                       1                  0                     1   \n",
       "P24997                       0                  0                     1   \n",
       "P24998                       0                  1                     1   \n",
       "P24999                       1                  0                     0   \n",
       "\n",
       "            Swollen Tonsils_True  HIV Infection_True  \\\n",
       "Patient_ID                                             \n",
       "P0                             1                   0   \n",
       "P1                             0                   1   \n",
       "P2                             0                   1   \n",
       "P3                             1                   1   \n",
       "P4                             1                   1   \n",
       "...                          ...                 ...   \n",
       "P24995                         0                   0   \n",
       "P24996                         1                   1   \n",
       "P24997                         1                   0   \n",
       "P24998                         1                   0   \n",
       "P24999                         1                   1   \n",
       "\n",
       "            Sexually Transmitted Infection_True  MonkeyPox_Positive  \n",
       "Patient_ID                                                           \n",
       "P0                                            0                   0  \n",
       "P1                                            0                   1  \n",
       "P2                                            0                   1  \n",
       "P3                                            0                   1  \n",
       "P4                                            0                   1  \n",
       "...                                         ...                 ...  \n",
       "P24995                                        1                   1  \n",
       "P24996                                        1                   1  \n",
       "P24997                                        0                   1  \n",
       "P24998                                        0                   0  \n",
       "P24999                                        0                   1  \n",
       "\n",
       "[25000 rows x 10 columns]"
      ]
     },
     "execution_count": 27,
     "metadata": {},
     "output_type": "execute_result"
    }
   ],
   "source": [
    "df_d = pd.get_dummies(data = mp, columns= col, drop_first= True)\n",
    "df_d"
   ]
  },
  {
   "cell_type": "code",
   "execution_count": 28,
   "id": "72941e94",
   "metadata": {
    "id": "cb04fc68"
   },
   "outputs": [],
   "source": [
    "# Dropping Systemic illness as its already dummied out\n",
    "\n",
    "df_d.drop(axis = 1, columns= ['Systemic Illness'] ,inplace = True)\n"
   ]
  },
  {
   "cell_type": "code",
   "execution_count": 29,
   "id": "b8692fb0",
   "metadata": {
    "colab": {
     "base_uri": "https://localhost:8080/",
     "height": 238
    },
    "id": "be3ebd15",
    "outputId": "ada6628d-690a-4133-863f-c2b65d362e71",
    "scrolled": false
   },
   "outputs": [
    {
     "data": {
      "text/html": [
       "<div>\n",
       "<style scoped>\n",
       "    .dataframe tbody tr th:only-of-type {\n",
       "        vertical-align: middle;\n",
       "    }\n",
       "\n",
       "    .dataframe tbody tr th {\n",
       "        vertical-align: top;\n",
       "    }\n",
       "\n",
       "    .dataframe thead th {\n",
       "        text-align: right;\n",
       "    }\n",
       "</style>\n",
       "<table border=\"1\" class=\"dataframe\">\n",
       "  <thead>\n",
       "    <tr style=\"text-align: right;\">\n",
       "      <th></th>\n",
       "      <th>Rectal Pain_True</th>\n",
       "      <th>Sore Throat_True</th>\n",
       "      <th>Penile Oedema_True</th>\n",
       "      <th>Oral Lesions_True</th>\n",
       "      <th>Solitary Lesion_True</th>\n",
       "      <th>Swollen Tonsils_True</th>\n",
       "      <th>HIV Infection_True</th>\n",
       "      <th>Sexually Transmitted Infection_True</th>\n",
       "      <th>MonkeyPox_Positive</th>\n",
       "    </tr>\n",
       "    <tr>\n",
       "      <th>Patient_ID</th>\n",
       "      <th></th>\n",
       "      <th></th>\n",
       "      <th></th>\n",
       "      <th></th>\n",
       "      <th></th>\n",
       "      <th></th>\n",
       "      <th></th>\n",
       "      <th></th>\n",
       "      <th></th>\n",
       "    </tr>\n",
       "  </thead>\n",
       "  <tbody>\n",
       "    <tr>\n",
       "      <th>P0</th>\n",
       "      <td>0</td>\n",
       "      <td>1</td>\n",
       "      <td>1</td>\n",
       "      <td>1</td>\n",
       "      <td>0</td>\n",
       "      <td>1</td>\n",
       "      <td>0</td>\n",
       "      <td>0</td>\n",
       "      <td>0</td>\n",
       "    </tr>\n",
       "    <tr>\n",
       "      <th>P1</th>\n",
       "      <td>1</td>\n",
       "      <td>0</td>\n",
       "      <td>1</td>\n",
       "      <td>1</td>\n",
       "      <td>0</td>\n",
       "      <td>0</td>\n",
       "      <td>1</td>\n",
       "      <td>0</td>\n",
       "      <td>1</td>\n",
       "    </tr>\n",
       "    <tr>\n",
       "      <th>P2</th>\n",
       "      <td>0</td>\n",
       "      <td>1</td>\n",
       "      <td>1</td>\n",
       "      <td>0</td>\n",
       "      <td>0</td>\n",
       "      <td>0</td>\n",
       "      <td>1</td>\n",
       "      <td>0</td>\n",
       "      <td>1</td>\n",
       "    </tr>\n",
       "    <tr>\n",
       "      <th>P3</th>\n",
       "      <td>1</td>\n",
       "      <td>0</td>\n",
       "      <td>0</td>\n",
       "      <td>0</td>\n",
       "      <td>1</td>\n",
       "      <td>1</td>\n",
       "      <td>1</td>\n",
       "      <td>0</td>\n",
       "      <td>1</td>\n",
       "    </tr>\n",
       "    <tr>\n",
       "      <th>P4</th>\n",
       "      <td>1</td>\n",
       "      <td>1</td>\n",
       "      <td>1</td>\n",
       "      <td>0</td>\n",
       "      <td>0</td>\n",
       "      <td>1</td>\n",
       "      <td>1</td>\n",
       "      <td>0</td>\n",
       "      <td>1</td>\n",
       "    </tr>\n",
       "  </tbody>\n",
       "</table>\n",
       "</div>"
      ],
      "text/plain": [
       "            Rectal Pain_True  Sore Throat_True  Penile Oedema_True  \\\n",
       "Patient_ID                                                           \n",
       "P0                         0                 1                   1   \n",
       "P1                         1                 0                   1   \n",
       "P2                         0                 1                   1   \n",
       "P3                         1                 0                   0   \n",
       "P4                         1                 1                   1   \n",
       "\n",
       "            Oral Lesions_True  Solitary Lesion_True  Swollen Tonsils_True  \\\n",
       "Patient_ID                                                                  \n",
       "P0                          1                     0                     1   \n",
       "P1                          1                     0                     0   \n",
       "P2                          0                     0                     0   \n",
       "P3                          0                     1                     1   \n",
       "P4                          0                     0                     1   \n",
       "\n",
       "            HIV Infection_True  Sexually Transmitted Infection_True  \\\n",
       "Patient_ID                                                            \n",
       "P0                           0                                    0   \n",
       "P1                           1                                    0   \n",
       "P2                           1                                    0   \n",
       "P3                           1                                    0   \n",
       "P4                           1                                    0   \n",
       "\n",
       "            MonkeyPox_Positive  \n",
       "Patient_ID                      \n",
       "P0                           0  \n",
       "P1                           1  \n",
       "P2                           1  \n",
       "P3                           1  \n",
       "P4                           1  "
      ]
     },
     "execution_count": 29,
     "metadata": {},
     "output_type": "execute_result"
    }
   ],
   "source": [
    "# Column names will have to be changed but that can be done in one go\n",
    "# first we finish up on converting the column data types t a usable state.\n",
    "df_d.head()"
   ]
  },
  {
   "cell_type": "code",
   "execution_count": 30,
   "id": "5627405a",
   "metadata": {
    "colab": {
     "base_uri": "https://localhost:8080/",
     "height": 534
    },
    "id": "49ad2fe5",
    "outputId": "97d022f9-852c-400d-80bf-b9f8db2a5d7c",
    "scrolled": true
   },
   "outputs": [
    {
     "data": {
      "text/html": [
       "<div>\n",
       "<style scoped>\n",
       "    .dataframe tbody tr th:only-of-type {\n",
       "        vertical-align: middle;\n",
       "    }\n",
       "\n",
       "    .dataframe tbody tr th {\n",
       "        vertical-align: top;\n",
       "    }\n",
       "\n",
       "    .dataframe thead th {\n",
       "        text-align: right;\n",
       "    }\n",
       "</style>\n",
       "<table border=\"1\" class=\"dataframe\">\n",
       "  <thead>\n",
       "    <tr style=\"text-align: right;\">\n",
       "      <th></th>\n",
       "      <th>Systemic Illness_Fever</th>\n",
       "      <th>Systemic Illness_Muscle Aches and Pain</th>\n",
       "      <th>Systemic Illness_Swollen Lymph Nodes</th>\n",
       "      <th>Rectal Pain_True</th>\n",
       "      <th>Sore Throat_True</th>\n",
       "      <th>Penile Oedema_True</th>\n",
       "      <th>Oral Lesions_True</th>\n",
       "      <th>Solitary Lesion_True</th>\n",
       "      <th>Swollen Tonsils_True</th>\n",
       "      <th>HIV Infection_True</th>\n",
       "      <th>Sexually Transmitted Infection_True</th>\n",
       "      <th>MonkeyPox_Positive</th>\n",
       "    </tr>\n",
       "    <tr>\n",
       "      <th>Patient_ID</th>\n",
       "      <th></th>\n",
       "      <th></th>\n",
       "      <th></th>\n",
       "      <th></th>\n",
       "      <th></th>\n",
       "      <th></th>\n",
       "      <th></th>\n",
       "      <th></th>\n",
       "      <th></th>\n",
       "      <th></th>\n",
       "      <th></th>\n",
       "      <th></th>\n",
       "    </tr>\n",
       "  </thead>\n",
       "  <tbody>\n",
       "    <tr>\n",
       "      <th>P0</th>\n",
       "      <td>0</td>\n",
       "      <td>0</td>\n",
       "      <td>0</td>\n",
       "      <td>0</td>\n",
       "      <td>1</td>\n",
       "      <td>1</td>\n",
       "      <td>1</td>\n",
       "      <td>0</td>\n",
       "      <td>1</td>\n",
       "      <td>0</td>\n",
       "      <td>0</td>\n",
       "      <td>0</td>\n",
       "    </tr>\n",
       "    <tr>\n",
       "      <th>P1</th>\n",
       "      <td>1</td>\n",
       "      <td>0</td>\n",
       "      <td>0</td>\n",
       "      <td>1</td>\n",
       "      <td>0</td>\n",
       "      <td>1</td>\n",
       "      <td>1</td>\n",
       "      <td>0</td>\n",
       "      <td>0</td>\n",
       "      <td>1</td>\n",
       "      <td>0</td>\n",
       "      <td>1</td>\n",
       "    </tr>\n",
       "    <tr>\n",
       "      <th>P2</th>\n",
       "      <td>1</td>\n",
       "      <td>0</td>\n",
       "      <td>0</td>\n",
       "      <td>0</td>\n",
       "      <td>1</td>\n",
       "      <td>1</td>\n",
       "      <td>0</td>\n",
       "      <td>0</td>\n",
       "      <td>0</td>\n",
       "      <td>1</td>\n",
       "      <td>0</td>\n",
       "      <td>1</td>\n",
       "    </tr>\n",
       "    <tr>\n",
       "      <th>P3</th>\n",
       "      <td>0</td>\n",
       "      <td>0</td>\n",
       "      <td>0</td>\n",
       "      <td>1</td>\n",
       "      <td>0</td>\n",
       "      <td>0</td>\n",
       "      <td>0</td>\n",
       "      <td>1</td>\n",
       "      <td>1</td>\n",
       "      <td>1</td>\n",
       "      <td>0</td>\n",
       "      <td>1</td>\n",
       "    </tr>\n",
       "    <tr>\n",
       "      <th>P4</th>\n",
       "      <td>0</td>\n",
       "      <td>0</td>\n",
       "      <td>1</td>\n",
       "      <td>1</td>\n",
       "      <td>1</td>\n",
       "      <td>1</td>\n",
       "      <td>0</td>\n",
       "      <td>0</td>\n",
       "      <td>1</td>\n",
       "      <td>1</td>\n",
       "      <td>0</td>\n",
       "      <td>1</td>\n",
       "    </tr>\n",
       "    <tr>\n",
       "      <th>...</th>\n",
       "      <td>...</td>\n",
       "      <td>...</td>\n",
       "      <td>...</td>\n",
       "      <td>...</td>\n",
       "      <td>...</td>\n",
       "      <td>...</td>\n",
       "      <td>...</td>\n",
       "      <td>...</td>\n",
       "      <td>...</td>\n",
       "      <td>...</td>\n",
       "      <td>...</td>\n",
       "      <td>...</td>\n",
       "    </tr>\n",
       "    <tr>\n",
       "      <th>P24995</th>\n",
       "      <td>0</td>\n",
       "      <td>0</td>\n",
       "      <td>0</td>\n",
       "      <td>1</td>\n",
       "      <td>1</td>\n",
       "      <td>0</td>\n",
       "      <td>1</td>\n",
       "      <td>1</td>\n",
       "      <td>0</td>\n",
       "      <td>0</td>\n",
       "      <td>1</td>\n",
       "      <td>1</td>\n",
       "    </tr>\n",
       "    <tr>\n",
       "      <th>P24996</th>\n",
       "      <td>1</td>\n",
       "      <td>0</td>\n",
       "      <td>0</td>\n",
       "      <td>0</td>\n",
       "      <td>1</td>\n",
       "      <td>1</td>\n",
       "      <td>0</td>\n",
       "      <td>1</td>\n",
       "      <td>1</td>\n",
       "      <td>1</td>\n",
       "      <td>1</td>\n",
       "      <td>1</td>\n",
       "    </tr>\n",
       "    <tr>\n",
       "      <th>P24997</th>\n",
       "      <td>0</td>\n",
       "      <td>0</td>\n",
       "      <td>0</td>\n",
       "      <td>1</td>\n",
       "      <td>1</td>\n",
       "      <td>0</td>\n",
       "      <td>0</td>\n",
       "      <td>1</td>\n",
       "      <td>1</td>\n",
       "      <td>0</td>\n",
       "      <td>0</td>\n",
       "      <td>1</td>\n",
       "    </tr>\n",
       "    <tr>\n",
       "      <th>P24998</th>\n",
       "      <td>0</td>\n",
       "      <td>0</td>\n",
       "      <td>1</td>\n",
       "      <td>0</td>\n",
       "      <td>1</td>\n",
       "      <td>0</td>\n",
       "      <td>1</td>\n",
       "      <td>1</td>\n",
       "      <td>1</td>\n",
       "      <td>0</td>\n",
       "      <td>0</td>\n",
       "      <td>0</td>\n",
       "    </tr>\n",
       "    <tr>\n",
       "      <th>P24999</th>\n",
       "      <td>0</td>\n",
       "      <td>0</td>\n",
       "      <td>1</td>\n",
       "      <td>0</td>\n",
       "      <td>0</td>\n",
       "      <td>1</td>\n",
       "      <td>0</td>\n",
       "      <td>0</td>\n",
       "      <td>1</td>\n",
       "      <td>1</td>\n",
       "      <td>0</td>\n",
       "      <td>1</td>\n",
       "    </tr>\n",
       "  </tbody>\n",
       "</table>\n",
       "<p>25000 rows × 12 columns</p>\n",
       "</div>"
      ],
      "text/plain": [
       "            Systemic Illness_Fever  Systemic Illness_Muscle Aches and Pain  \\\n",
       "Patient_ID                                                                   \n",
       "P0                               0                                       0   \n",
       "P1                               1                                       0   \n",
       "P2                               1                                       0   \n",
       "P3                               0                                       0   \n",
       "P4                               0                                       0   \n",
       "...                            ...                                     ...   \n",
       "P24995                           0                                       0   \n",
       "P24996                           1                                       0   \n",
       "P24997                           0                                       0   \n",
       "P24998                           0                                       0   \n",
       "P24999                           0                                       0   \n",
       "\n",
       "            Systemic Illness_Swollen Lymph Nodes  Rectal Pain_True  \\\n",
       "Patient_ID                                                           \n",
       "P0                                             0                 0   \n",
       "P1                                             0                 1   \n",
       "P2                                             0                 0   \n",
       "P3                                             0                 1   \n",
       "P4                                             1                 1   \n",
       "...                                          ...               ...   \n",
       "P24995                                         0                 1   \n",
       "P24996                                         0                 0   \n",
       "P24997                                         0                 1   \n",
       "P24998                                         1                 0   \n",
       "P24999                                         1                 0   \n",
       "\n",
       "            Sore Throat_True  Penile Oedema_True  Oral Lesions_True  \\\n",
       "Patient_ID                                                            \n",
       "P0                         1                   1                  1   \n",
       "P1                         0                   1                  1   \n",
       "P2                         1                   1                  0   \n",
       "P3                         0                   0                  0   \n",
       "P4                         1                   1                  0   \n",
       "...                      ...                 ...                ...   \n",
       "P24995                     1                   0                  1   \n",
       "P24996                     1                   1                  0   \n",
       "P24997                     1                   0                  0   \n",
       "P24998                     1                   0                  1   \n",
       "P24999                     0                   1                  0   \n",
       "\n",
       "            Solitary Lesion_True  Swollen Tonsils_True  HIV Infection_True  \\\n",
       "Patient_ID                                                                   \n",
       "P0                             0                     1                   0   \n",
       "P1                             0                     0                   1   \n",
       "P2                             0                     0                   1   \n",
       "P3                             1                     1                   1   \n",
       "P4                             0                     1                   1   \n",
       "...                          ...                   ...                 ...   \n",
       "P24995                         1                     0                   0   \n",
       "P24996                         1                     1                   1   \n",
       "P24997                         1                     1                   0   \n",
       "P24998                         1                     1                   0   \n",
       "P24999                         0                     1                   1   \n",
       "\n",
       "            Sexually Transmitted Infection_True  MonkeyPox_Positive  \n",
       "Patient_ID                                                           \n",
       "P0                                            0                   0  \n",
       "P1                                            0                   1  \n",
       "P2                                            0                   1  \n",
       "P3                                            0                   1  \n",
       "P4                                            0                   1  \n",
       "...                                         ...                 ...  \n",
       "P24995                                        1                   1  \n",
       "P24996                                        1                   1  \n",
       "P24997                                        0                   1  \n",
       "P24998                                        0                   0  \n",
       "P24999                                        0                   1  \n",
       "\n",
       "[25000 rows x 12 columns]"
      ]
     },
     "execution_count": 30,
     "metadata": {},
     "output_type": "execute_result"
    }
   ],
   "source": [
    "df_clean = pd.concat([df_Systemic,df_d], axis = 1,join= 'inner')\n",
    "df_clean"
   ]
  },
  {
   "cell_type": "code",
   "execution_count": 31,
   "id": "4c14ab10",
   "metadata": {
    "colab": {
     "base_uri": "https://localhost:8080/"
    },
    "id": "f2de6955",
    "outputId": "d737eb35-459e-4c4f-d1f4-1015417b2c28"
   },
   "outputs": [
    {
     "data": {
      "text/plain": [
       "['Systemic Illness_Fever',\n",
       " 'Systemic Illness_Muscle Aches and Pain',\n",
       " 'Systemic Illness_Swollen Lymph Nodes',\n",
       " 'Rectal Pain_True',\n",
       " 'Sore Throat_True',\n",
       " 'Penile Oedema_True',\n",
       " 'Oral Lesions_True',\n",
       " 'Solitary Lesion_True',\n",
       " 'Swollen Tonsils_True',\n",
       " 'HIV Infection_True',\n",
       " 'Sexually Transmitted Infection_True',\n",
       " 'MonkeyPox_Positive']"
      ]
     },
     "execution_count": 31,
     "metadata": {},
     "output_type": "execute_result"
    }
   ],
   "source": [
    "list(df_clean.columns)"
   ]
  },
  {
   "cell_type": "code",
   "execution_count": 32,
   "id": "b3784ae6",
   "metadata": {
    "colab": {
     "base_uri": "https://localhost:8080/",
     "height": 394
    },
    "id": "1734d653",
    "outputId": "159f7908-9a02-4c78-e55d-82fe3c11badb",
    "scrolled": true
   },
   "outputs": [
    {
     "data": {
      "text/html": [
       "<div>\n",
       "<style scoped>\n",
       "    .dataframe tbody tr th:only-of-type {\n",
       "        vertical-align: middle;\n",
       "    }\n",
       "\n",
       "    .dataframe tbody tr th {\n",
       "        vertical-align: top;\n",
       "    }\n",
       "\n",
       "    .dataframe thead th {\n",
       "        text-align: right;\n",
       "    }\n",
       "</style>\n",
       "<table border=\"1\" class=\"dataframe\">\n",
       "  <thead>\n",
       "    <tr style=\"text-align: right;\">\n",
       "      <th></th>\n",
       "      <th>SI_Fever</th>\n",
       "      <th>SI_Muscle_Aches&amp;Pain</th>\n",
       "      <th>SI_Swollen_Lymph_Nodes</th>\n",
       "      <th>Rectal_Pain</th>\n",
       "      <th>Sore_Throat</th>\n",
       "      <th>Penile_Oedema</th>\n",
       "      <th>Oral_Lesions</th>\n",
       "      <th>Solitary_Leision</th>\n",
       "      <th>Swollen_Tonsils</th>\n",
       "      <th>HIV_Infection</th>\n",
       "      <th>STI</th>\n",
       "      <th>Target</th>\n",
       "    </tr>\n",
       "    <tr>\n",
       "      <th>Patient_ID</th>\n",
       "      <th></th>\n",
       "      <th></th>\n",
       "      <th></th>\n",
       "      <th></th>\n",
       "      <th></th>\n",
       "      <th></th>\n",
       "      <th></th>\n",
       "      <th></th>\n",
       "      <th></th>\n",
       "      <th></th>\n",
       "      <th></th>\n",
       "      <th></th>\n",
       "    </tr>\n",
       "  </thead>\n",
       "  <tbody>\n",
       "    <tr>\n",
       "      <th>P0</th>\n",
       "      <td>0</td>\n",
       "      <td>0</td>\n",
       "      <td>0</td>\n",
       "      <td>0</td>\n",
       "      <td>1</td>\n",
       "      <td>1</td>\n",
       "      <td>1</td>\n",
       "      <td>0</td>\n",
       "      <td>1</td>\n",
       "      <td>0</td>\n",
       "      <td>0</td>\n",
       "      <td>0</td>\n",
       "    </tr>\n",
       "    <tr>\n",
       "      <th>P1</th>\n",
       "      <td>1</td>\n",
       "      <td>0</td>\n",
       "      <td>0</td>\n",
       "      <td>1</td>\n",
       "      <td>0</td>\n",
       "      <td>1</td>\n",
       "      <td>1</td>\n",
       "      <td>0</td>\n",
       "      <td>0</td>\n",
       "      <td>1</td>\n",
       "      <td>0</td>\n",
       "      <td>1</td>\n",
       "    </tr>\n",
       "    <tr>\n",
       "      <th>P2</th>\n",
       "      <td>1</td>\n",
       "      <td>0</td>\n",
       "      <td>0</td>\n",
       "      <td>0</td>\n",
       "      <td>1</td>\n",
       "      <td>1</td>\n",
       "      <td>0</td>\n",
       "      <td>0</td>\n",
       "      <td>0</td>\n",
       "      <td>1</td>\n",
       "      <td>0</td>\n",
       "      <td>1</td>\n",
       "    </tr>\n",
       "    <tr>\n",
       "      <th>P3</th>\n",
       "      <td>0</td>\n",
       "      <td>0</td>\n",
       "      <td>0</td>\n",
       "      <td>1</td>\n",
       "      <td>0</td>\n",
       "      <td>0</td>\n",
       "      <td>0</td>\n",
       "      <td>1</td>\n",
       "      <td>1</td>\n",
       "      <td>1</td>\n",
       "      <td>0</td>\n",
       "      <td>1</td>\n",
       "    </tr>\n",
       "    <tr>\n",
       "      <th>P4</th>\n",
       "      <td>0</td>\n",
       "      <td>0</td>\n",
       "      <td>1</td>\n",
       "      <td>1</td>\n",
       "      <td>1</td>\n",
       "      <td>1</td>\n",
       "      <td>0</td>\n",
       "      <td>0</td>\n",
       "      <td>1</td>\n",
       "      <td>1</td>\n",
       "      <td>0</td>\n",
       "      <td>1</td>\n",
       "    </tr>\n",
       "    <tr>\n",
       "      <th>P5</th>\n",
       "      <td>0</td>\n",
       "      <td>0</td>\n",
       "      <td>1</td>\n",
       "      <td>0</td>\n",
       "      <td>1</td>\n",
       "      <td>0</td>\n",
       "      <td>0</td>\n",
       "      <td>0</td>\n",
       "      <td>0</td>\n",
       "      <td>0</td>\n",
       "      <td>0</td>\n",
       "      <td>0</td>\n",
       "    </tr>\n",
       "    <tr>\n",
       "      <th>P6</th>\n",
       "      <td>1</td>\n",
       "      <td>0</td>\n",
       "      <td>0</td>\n",
       "      <td>0</td>\n",
       "      <td>1</td>\n",
       "      <td>0</td>\n",
       "      <td>0</td>\n",
       "      <td>0</td>\n",
       "      <td>0</td>\n",
       "      <td>1</td>\n",
       "      <td>0</td>\n",
       "      <td>1</td>\n",
       "    </tr>\n",
       "    <tr>\n",
       "      <th>P7</th>\n",
       "      <td>1</td>\n",
       "      <td>0</td>\n",
       "      <td>0</td>\n",
       "      <td>1</td>\n",
       "      <td>1</td>\n",
       "      <td>0</td>\n",
       "      <td>1</td>\n",
       "      <td>1</td>\n",
       "      <td>1</td>\n",
       "      <td>0</td>\n",
       "      <td>0</td>\n",
       "      <td>1</td>\n",
       "    </tr>\n",
       "    <tr>\n",
       "      <th>P8</th>\n",
       "      <td>0</td>\n",
       "      <td>1</td>\n",
       "      <td>0</td>\n",
       "      <td>0</td>\n",
       "      <td>1</td>\n",
       "      <td>1</td>\n",
       "      <td>1</td>\n",
       "      <td>0</td>\n",
       "      <td>0</td>\n",
       "      <td>0</td>\n",
       "      <td>0</td>\n",
       "      <td>1</td>\n",
       "    </tr>\n",
       "    <tr>\n",
       "      <th>P9</th>\n",
       "      <td>1</td>\n",
       "      <td>0</td>\n",
       "      <td>0</td>\n",
       "      <td>0</td>\n",
       "      <td>0</td>\n",
       "      <td>1</td>\n",
       "      <td>1</td>\n",
       "      <td>1</td>\n",
       "      <td>0</td>\n",
       "      <td>1</td>\n",
       "      <td>0</td>\n",
       "      <td>0</td>\n",
       "    </tr>\n",
       "  </tbody>\n",
       "</table>\n",
       "</div>"
      ],
      "text/plain": [
       "            SI_Fever  SI_Muscle_Aches&Pain  SI_Swollen_Lymph_Nodes  \\\n",
       "Patient_ID                                                           \n",
       "P0                 0                     0                       0   \n",
       "P1                 1                     0                       0   \n",
       "P2                 1                     0                       0   \n",
       "P3                 0                     0                       0   \n",
       "P4                 0                     0                       1   \n",
       "P5                 0                     0                       1   \n",
       "P6                 1                     0                       0   \n",
       "P7                 1                     0                       0   \n",
       "P8                 0                     1                       0   \n",
       "P9                 1                     0                       0   \n",
       "\n",
       "            Rectal_Pain  Sore_Throat  Penile_Oedema  Oral_Lesions  \\\n",
       "Patient_ID                                                          \n",
       "P0                    0            1              1             1   \n",
       "P1                    1            0              1             1   \n",
       "P2                    0            1              1             0   \n",
       "P3                    1            0              0             0   \n",
       "P4                    1            1              1             0   \n",
       "P5                    0            1              0             0   \n",
       "P6                    0            1              0             0   \n",
       "P7                    1            1              0             1   \n",
       "P8                    0            1              1             1   \n",
       "P9                    0            0              1             1   \n",
       "\n",
       "            Solitary_Leision  Swollen_Tonsils  HIV_Infection  STI  Target  \n",
       "Patient_ID                                                                 \n",
       "P0                         0                1              0    0       0  \n",
       "P1                         0                0              1    0       1  \n",
       "P2                         0                0              1    0       1  \n",
       "P3                         1                1              1    0       1  \n",
       "P4                         0                1              1    0       1  \n",
       "P5                         0                0              0    0       0  \n",
       "P6                         0                0              1    0       1  \n",
       "P7                         1                1              0    0       1  \n",
       "P8                         0                0              0    0       1  \n",
       "P9                         1                0              1    0       0  "
      ]
     },
     "execution_count": 32,
     "metadata": {},
     "output_type": "execute_result"
    }
   ],
   "source": [
    "df_clean.rename(columns={'Systemic Illness_Fever':'SI_Fever',\n",
    "                        'Systemic Illness_Muscle Aches and Pain':'SI_Muscle_Aches&Pain',\n",
    "                        'Systemic Illness_Swollen Lymph Nodes':'SI_Swollen_Lymph_Nodes',\n",
    "                        'Rectal Pain_True':'Rectal_Pain',\n",
    "                        'Sore Throat_True':'Sore_Throat',\n",
    "                        'Penile Oedema_True':'Penile_Oedema',\n",
    "                        'Oral Lesions_True':'Oral_Lesions',\n",
    "                        'Solitary Lesion_True':'Solitary_Leision',\n",
    "                        'Swollen Tonsils_True':'Swollen_Tonsils',\n",
    "                        'HIV Infection_True':'HIV_Infection',\n",
    "                        'Sexually Transmitted Infection_True':'STI',\n",
    "                        'MonkeyPox_Positive':'Target'},inplace=True)\n",
    "df_clean.head(10)"
   ]
  },
  {
   "cell_type": "code",
   "execution_count": 33,
   "id": "d2733bd5",
   "metadata": {
    "id": "fe150552"
   },
   "outputs": [],
   "source": [
    "# splitting the data into X [predictors] and y [target]\n",
    "X = df_clean.drop(columns= ['Target'],axis = 1)\n",
    "y = df_clean['Target']\n",
    "\n",
    "# Random state for reapetability, test size of 30% as it is the optimum\n",
    "# Stratify is used to ensure the test and train data have the same ratio\n",
    "\n",
    "X_train, X_test, y_train, y_test = train_test_split(X,y,random_state=0,test_size= 0.3,stratify= y)"
   ]
  },
  {
   "cell_type": "markdown",
   "id": "632709d5",
   "metadata": {
    "id": "GRLWjijovLEG"
   },
   "source": [
    "## MODELING"
   ]
  },
  {
   "cell_type": "code",
   "execution_count": 34,
   "id": "99bfc649",
   "metadata": {
    "colab": {
     "base_uri": "https://localhost:8080/"
    },
    "id": "7KUNlxg5vGkd",
    "outputId": "6fe61102-5277-4446-f550-c5881216de7f"
   },
   "outputs": [
    {
     "name": "stdout",
     "output_type": "stream",
     "text": [
      "1    11136\n",
      "0     6364\n",
      "Name: Target, dtype: int64\n",
      "\n",
      "\n",
      "1    4773\n",
      "0    2727\n",
      "Name: Target, dtype: int64\n"
     ]
    }
   ],
   "source": [
    "#checking class balance in the trainaing target variable\n",
    "print(y_train.value_counts())\n",
    "print('\\n')\n",
    "\n",
    "#checking class balance in the trainaing target variable\n",
    "print(y_test.value_counts())"
   ]
  },
  {
   "cell_type": "markdown",
   "id": "d7ccf751",
   "metadata": {
    "id": "A0I2bMvwvWB-"
   },
   "source": [
    "# Base Model"
   ]
  },
  {
   "cell_type": "code",
   "execution_count": 35,
   "id": "d227f684",
   "metadata": {
    "id": "Nv8RSwo4vTPp"
   },
   "outputs": [],
   "source": [
    "#function to train model and return the score\n",
    "def model_trainer(model, X_tr, y_tr, X_te, y_te):\n",
    "    model.fit(X_tr, y_tr)\n",
    "    pre = model.predict(X_te)\n",
    "    precision =precision_score(y_te, pre)\n",
    "    recall =recall_score(y_te, pre)\n",
    "    accuracy =accuracy_score(y_te, pre)\n",
    "    f1 = f1_score(y_te, pre)\n",
    "    \n",
    "    return {'precision':precision,\n",
    "            'recall_score':recall,\n",
    "            'accuracy_score':accuracy,\n",
    "            'f1_score':f1}"
   ]
  },
  {
   "cell_type": "code",
   "execution_count": 36,
   "id": "19c7f96d",
   "metadata": {
    "colab": {
     "base_uri": "https://localhost:8080/"
    },
    "id": "fuTjGBRJvc9I",
    "outputId": "a5329954-80e6-4845-d8f4-edfd80c0a09e"
   },
   "outputs": [
    {
     "data": {
      "text/plain": [
       "{'precision': 0.7076757532281205,\n",
       " 'recall_score': 0.8267337104546407,\n",
       " 'accuracy_score': 0.6724,\n",
       " 'f1_score': 0.7625857570779785}"
      ]
     },
     "execution_count": 36,
     "metadata": {},
     "output_type": "execute_result"
    }
   ],
   "source": [
    "#train and get the score of the base model without handling the imbalance in the class and see how the model performs\n",
    "base_tree =  DecisionTreeClassifier()\n",
    "model_trainer(base_tree, X_train, y_train,X_test,y_test)"
   ]
  },
  {
   "cell_type": "code",
   "execution_count": 37,
   "id": "bdc3330b",
   "metadata": {
    "colab": {
     "base_uri": "https://localhost:8080/",
     "height": 279
    },
    "id": "x5Cn_Wi0vgH_",
    "outputId": "708784dc-b4cb-45df-8d44-9a009d354b9d"
   },
   "outputs": [
    {
     "data": {
      "image/png": "[encoded data removed]",
      "text/plain": [
       "<Figure size 432x288 with 2 Axes>"
      ]
     },
     "metadata": {
      "needs_background": "light"
     },
     "output_type": "display_data"
    }
   ],
   "source": [
    "#visualize the confusion matrix\n",
    "cnf_matrix  = plot_confusion_matrix(base_tree, X_test, y_test, cmap=plt.cm.Blues)"
   ]
  },
  {
   "cell_type": "code",
   "execution_count": 38,
   "id": "5e32966f",
   "metadata": {
    "colab": {
     "base_uri": "https://localhost:8080/"
    },
    "id": "INsHsYOZvjTg",
    "outputId": "a44e2ec4-45b6-4600-a0a1-7bb498569066"
   },
   "outputs": [
    {
     "name": "stdout",
     "output_type": "stream",
     "text": [
      "1    11136\n",
      "0    11136\n",
      "Name: Target, dtype: int64\n"
     ]
    }
   ],
   "source": [
    "#balance the training classes and see the effect on the model using SMOTE\n",
    "X_train_smote, y_train_smote = SMOTE().fit_resample(X_train, y_train)\n",
    "\n",
    "print(y_train_smote.value_counts())\n"
   ]
  },
  {
   "cell_type": "code",
   "execution_count": 39,
   "id": "b3a67448",
   "metadata": {
    "colab": {
     "base_uri": "https://localhost:8080/"
    },
    "id": "BMkpYtddvmKP",
    "outputId": "0ccc0ca8-1834-4e09-c229-ecc62b4b993d"
   },
   "outputs": [
    {
     "data": {
      "text/plain": [
       "{'precision': 0.7404202719406675,\n",
       " 'recall_score': 0.6274879530693485,\n",
       " 'accuracy_score': 0.6229333333333333,\n",
       " 'f1_score': 0.679292356543434}"
      ]
     },
     "execution_count": 39,
     "metadata": {},
     "output_type": "execute_result"
    }
   ],
   "source": [
    "#retrain the model with the model with the balanced classes\n",
    "base_tree_smote = DecisionTreeClassifier()\n",
    "Basemodel_balanced = model_trainer(base_tree_smote, X_train_smote, y_train_smote,X_test,y_test)\n",
    "Basemodel_balanced\n"
   ]
  },
  {
   "cell_type": "code",
   "execution_count": 40,
   "id": "435fdf4e",
   "metadata": {
    "colab": {
     "base_uri": "https://localhost:8080/",
     "height": 279
    },
    "id": "I1e-0LUyvqad",
    "outputId": "86feeeb8-bd5f-44b2-d687-afaed7630092"
   },
   "outputs": [
    {
     "data": {
      "image/png": "[encoded data removed]",
      "text/plain": [
       "<Figure size 432x288 with 2 Axes>"
      ]
     },
     "metadata": {
      "needs_background": "light"
     },
     "output_type": "display_data"
    }
   ],
   "source": [
    "#visualize the confusion matrix\n",
    "cnf_matrix  = plot_confusion_matrix(base_tree_smote, X_test, y_test, cmap=plt.cm.Blues)"
   ]
  },
  {
   "cell_type": "code",
   "execution_count": 41,
   "id": "b287db9e",
   "metadata": {
    "id": "0kyIG9zcvult"
   },
   "outputs": [],
   "source": [
    "#function to tune the model and find best parameters for the DecisionTreeClassifier using gridSearchCv\n",
    "def grid_search(model, parms, X_tr, y_tr):\n",
    "  gs_tree = GridSearchCV(model, parms, cv=3)\n",
    "  gs_tree.fit(X_tr, y_tr)\n",
    "\n",
    "  return gs_tree.best_params_"
   ]
  },
  {
   "cell_type": "code",
   "execution_count": 42,
   "id": "a79eca2f",
   "metadata": {
    "colab": {
     "base_uri": "https://localhost:8080/"
    },
    "id": "y4AxfYFuvxzl",
    "outputId": "caf60c1a-d24c-4ce3-e8dd-373ab95de9ca"
   },
   "outputs": [
    {
     "data": {
      "text/plain": [
       "{'criterion': 'gini',\n",
       " 'max_depth': 10,\n",
       " 'min_samples_leaf': 1,\n",
       " 'min_samples_split': 10}"
      ]
     },
     "execution_count": 42,
     "metadata": {},
     "output_type": "execute_result"
    }
   ],
   "source": [
    "#balanced class best perameters\n",
    "param_grid = {\n",
    "    'criterion': ['gini', 'entropy'],\n",
    "    'max_depth': [5, 10, 15, 20],\n",
    "    'min_samples_split': [1, 5, 10, 20],\n",
    "    'min_samples_leaf': [1, 2, 3, 4, 5, 6]\n",
    "  }\n",
    "grid_search(DecisionTreeClassifier(),param_grid, X_train_smote, y_train_smote)\n"
   ]
  },
  {
   "cell_type": "code",
   "execution_count": 43,
   "id": "6f0d7acc",
   "metadata": {
    "colab": {
     "base_uri": "https://localhost:8080/"
    },
    "id": "0IdhKIxbv1WN",
    "outputId": "ec8ae259-8ba1-4b67-f7db-fa3cc9ecc832"
   },
   "outputs": [
    {
     "data": {
      "text/plain": [
       "{'precision': 0.7386992619926199,\n",
       " 'recall_score': 0.6710664152524618,\n",
       " 'accuracy_score': 0.6396,\n",
       " 'f1_score': 0.703260511581952}"
      ]
     },
     "execution_count": 43,
     "metadata": {},
     "output_type": "execute_result"
    }
   ],
   "source": [
    "dtree_par =  DecisionTreeClassifier(criterion= 'entropy', max_depth = 10, min_samples_split= 10)\n",
    "DecisionTree = model_trainer(dtree_par, X_train_smote,y_train_smote, X_test,y_test)\n",
    "DecisionTree"
   ]
  },
  {
   "cell_type": "code",
   "execution_count": 44,
   "id": "a04cfb0b",
   "metadata": {
    "colab": {
     "base_uri": "https://localhost:8080/",
     "height": 279
    },
    "id": "srCabd5XwijD",
    "outputId": "6d13f97c-d895-493d-f4e3-9f43ff2a16e2"
   },
   "outputs": [
    {
     "data": {
      "image/png": "[encoded data removed]",
      "text/plain": [
       "<Figure size 432x288 with 2 Axes>"
      ]
     },
     "metadata": {
      "needs_background": "light"
     },
     "output_type": "display_data"
    }
   ],
   "source": [
    "cnf_matrix  = plot_confusion_matrix(dtree_par, X_test, y_test, cmap=plt.cm.Blues)"
   ]
  },
  {
   "cell_type": "markdown",
   "id": "f9b36bb4",
   "metadata": {
    "id": "2TNYgzqnwtCo"
   },
   "source": [
    "The model recall score increased meaning more positive patients were identified but there are still many wrongly classified petients too \n"
   ]
  },
  {
   "cell_type": "code",
   "execution_count": 45,
   "id": "0f77fac3",
   "metadata": {
    "id": "eToMf9wywqbD"
   },
   "outputs": [],
   "source": [
    "#evaluating the two more models and see if they perform better then the DecisionTreeClassifier\n",
    "# these two are LogisticRegression() and KNeighborsClassifier()\n",
    "\n",
    "logreg = LogisticRegression()\n",
    "knn = KNeighborsClassifier()\n"
   ]
  },
  {
   "cell_type": "code",
   "execution_count": 46,
   "id": "93b66d23",
   "metadata": {
    "id": "OPDG6d33w_Vx"
   },
   "outputs": [],
   "source": [
    "models = [logreg,knn]\n",
    "scores=[]\n",
    "recall=[]\n"
   ]
  },
  {
   "cell_type": "code",
   "execution_count": 47,
   "id": "324e9d9f",
   "metadata": {
    "colab": {
     "base_uri": "https://localhost:8080/",
     "height": 143
    },
    "id": "CjMCW079xBVZ",
    "outputId": "ce8cd2ba-0572-482e-db62-9850fc8fbd90"
   },
   "outputs": [
    {
     "data": {
      "text/html": [
       "<div>\n",
       "<style scoped>\n",
       "    .dataframe tbody tr th:only-of-type {\n",
       "        vertical-align: middle;\n",
       "    }\n",
       "\n",
       "    .dataframe tbody tr th {\n",
       "        vertical-align: top;\n",
       "    }\n",
       "\n",
       "    .dataframe thead th {\n",
       "        text-align: right;\n",
       "    }\n",
       "</style>\n",
       "<table border=\"1\" class=\"dataframe\">\n",
       "  <thead>\n",
       "    <tr style=\"text-align: right;\">\n",
       "      <th></th>\n",
       "      <th>Recall Score</th>\n",
       "    </tr>\n",
       "    <tr>\n",
       "      <th>model</th>\n",
       "      <th></th>\n",
       "    </tr>\n",
       "  </thead>\n",
       "  <tbody>\n",
       "    <tr>\n",
       "      <th>KNN</th>\n",
       "      <td>0.777658</td>\n",
       "    </tr>\n",
       "    <tr>\n",
       "      <th>Logistic Regression</th>\n",
       "      <td>0.724228</td>\n",
       "    </tr>\n",
       "  </tbody>\n",
       "</table>\n",
       "</div>"
      ],
      "text/plain": [
       "                     Recall Score\n",
       "model                            \n",
       "KNN                      0.777658\n",
       "Logistic Regression      0.724228"
      ]
     },
     "execution_count": 47,
     "metadata": {},
     "output_type": "execute_result"
    }
   ],
   "source": [
    "for i in models:\n",
    "    estimator=Pipeline([\n",
    "        ('model',i)])\n",
    "    model_cv=cross_val_score(estimator,X_train_smote,y_train_smote,cv=3,scoring='recall')\n",
    "    scores.append(model_cv)\n",
    "    recall.append(model_cv.mean())\n",
    "    \n",
    "    \n",
    "pd.DataFrame({'model':['Logistic Regression','KNN'],'Recall Score':recall}).set_index('model').sort_values(by='Recall Score',ascending=False)"
   ]
  },
  {
   "cell_type": "code",
   "execution_count": 48,
   "id": "9d9e7cac",
   "metadata": {
    "colab": {
     "base_uri": "https://localhost:8080/"
    },
    "id": "kMYeAaYxxEGJ",
    "outputId": "bd28bf94-f76c-4c1f-ffca-aa5531497868"
   },
   "outputs": [
    {
     "data": {
      "text/plain": [
       "{'precision': 0.702871654620043,\n",
       " 'recall_score': 0.7538235910328933,\n",
       " 'accuracy_score': 0.6405333333333333,\n",
       " 'f1_score': 0.7274565305297209}"
      ]
     },
     "execution_count": 48,
     "metadata": {},
     "output_type": "execute_result"
    }
   ],
   "source": [
    "#plot the KNN and virtualize the confussion matrix\n",
    "\n",
    "kn_base =  KNeighborsClassifier()\n",
    "model_trainer(kn_base, X_train_smote, y_train_smote,X_test,y_test)"
   ]
  },
  {
   "cell_type": "code",
   "execution_count": 49,
   "id": "62af34d3",
   "metadata": {
    "colab": {
     "base_uri": "https://localhost:8080/"
    },
    "id": "-RCXyYg1xJ6h",
    "outputId": "16b1b105-1fe2-46aa-f8c5-5f9b22e3351e"
   },
   "outputs": [
    {
     "data": {
      "text/plain": [
       "{'algorithm': 'auto', 'leaf_size': 8, 'n_jobs': -1, 'n_neighbors': 10}"
      ]
     },
     "execution_count": 49,
     "metadata": {},
     "output_type": "execute_result"
    }
   ],
   "source": [
    "#tune the the KNN \n",
    "knn_gridSearch = KNeighborsClassifier()\n",
    "\n",
    "parameters = {'n_neighbors':[5,6,7,8,10],\n",
    "              'leaf_size':[3,4,5,8,10],\n",
    "              'algorithm':['auto', 'kd_tree'],\n",
    "              'n_jobs':[-1]}\n",
    "grid_search(knn_gridSearch, parameters, X_train_smote, y_train_smote)\n"
   ]
  },
  {
   "cell_type": "code",
   "execution_count": 50,
   "id": "fb605174",
   "metadata": {
    "colab": {
     "base_uri": "https://localhost:8080/"
    },
    "id": "pGtPy7K7xOEp",
    "outputId": "0db25674-5738-457e-9d47-c510c1db1be5"
   },
   "outputs": [
    {
     "data": {
      "text/plain": [
       "{'precision': 0.7165660051768766,\n",
       " 'recall_score': 0.6959983239053007,\n",
       " 'accuracy_score': 0.6313333333333333,\n",
       " 'f1_score': 0.7061324264002552}"
      ]
     },
     "execution_count": 50,
     "metadata": {},
     "output_type": "execute_result"
    }
   ],
   "source": [
    "knn_improved = KNeighborsClassifier(algorithm = 'auto', leaf_size = 4, n_jobs = -1, n_neighbors = 8)\n",
    "KNeighbors = model_trainer(knn_improved, X_train_smote,y_train_smote, X_test,y_test)\n",
    "KNeighbors"
   ]
  },
  {
   "cell_type": "code",
   "execution_count": 51,
   "id": "1229aadb",
   "metadata": {
    "colab": {
     "base_uri": "https://localhost:8080/",
     "height": 279
    },
    "id": "0l6G5G6wxaRx",
    "outputId": "bbbf76f9-940f-4b91-b800-d542d9f98463"
   },
   "outputs": [
    {
     "data": {
      "image/png": "[encoded data removed]",
      "text/plain": [
       "<Figure size 432x288 with 2 Axes>"
      ]
     },
     "metadata": {
      "needs_background": "light"
     },
     "output_type": "display_data"
    }
   ],
   "source": [
    "cnf_matrix  = plot_confusion_matrix(knn_improved, X_test, y_test, cmap=plt.cm.Blues)"
   ]
  },
  {
   "cell_type": "markdown",
   "id": "99f68379",
   "metadata": {
    "id": "C-q7qxkBxhGw"
   },
   "source": [
    "The KNN Model has improved our recall significantly and this means our model will be able to identify more people with the  virus"
   ]
  },
  {
   "cell_type": "code",
   "execution_count": 52,
   "id": "ca80a79b",
   "metadata": {
    "colab": {
     "base_uri": "https://localhost:8080/"
    },
    "id": "4hk7XGBgxcvK",
    "outputId": "ca77ff12-e838-435c-d229-c470e89748bf"
   },
   "outputs": [
    {
     "data": {
      "text/plain": [
       "{'precision': 0.6727592267135325,\n",
       " 'recall_score': 0.8020113136392206,\n",
       " 'accuracy_score': 0.6257333333333334,\n",
       " 'f1_score': 0.7317213036414031}"
      ]
     },
     "execution_count": 52,
     "metadata": {},
     "output_type": "execute_result"
    }
   ],
   "source": [
    "#final model the logisticRegressor\n",
    "base_logrig = LogisticRegression()\n",
    "model_trainer(base_logrig, X_train_smote, y_train_smote,X_test,y_test)"
   ]
  },
  {
   "cell_type": "code",
   "execution_count": 53,
   "id": "bc1a1ace",
   "metadata": {
    "colab": {
     "base_uri": "https://localhost:8080/"
    },
    "id": "Go2ssq6bxmG7",
    "outputId": "2d2d6705-b79c-4d78-d0d0-44dcdc2be59f"
   },
   "outputs": [
    {
     "data": {
      "text/plain": [
       "{'C': 0.0009540954763499944, 'penalty': 'l2'}"
      ]
     },
     "execution_count": 53,
     "metadata": {},
     "output_type": "execute_result"
    }
   ],
   "source": [
    "#performing hyper perameter tuning on the model\n",
    "logR_improved = LogisticRegression()\n",
    "\n",
    "parameters = { 'C': np.logspace(-4, 4, 50),\n",
    "                'penalty' : ['l1', 'l2']}\n",
    "grid_search(logR_improved, parameters, X_train_smote, y_train_smote)\n"
   ]
  },
  {
   "cell_type": "code",
   "execution_count": 54,
   "id": "b1adb61b",
   "metadata": {
    "colab": {
     "base_uri": "https://localhost:8080/"
    },
    "id": "lSiguJoExqM7",
    "outputId": "e5522974-c363-477a-8ca1-de306c21824b"
   },
   "outputs": [
    {
     "data": {
      "text/plain": [
       "{'precision': 0.6727592267135325,\n",
       " 'recall_score': 0.8020113136392206,\n",
       " 'accuracy_score': 0.6257333333333334,\n",
       " 'f1_score': 0.7317213036414031}"
      ]
     },
     "execution_count": 54,
     "metadata": {},
     "output_type": "execute_result"
    }
   ],
   "source": [
    "logR = LogisticRegression(C = 0.0013894954943731374, penalty ='l2')\n",
    "LogisticReg = model_trainer(logR, X_train_smote, y_train_smote,X_test,y_test)\n",
    "LogisticReg"
   ]
  },
  {
   "cell_type": "code",
   "execution_count": 55,
   "id": "ab724323",
   "metadata": {
    "colab": {
     "base_uri": "https://localhost:8080/",
     "height": 279
    },
    "id": "fb4IbNksxtML",
    "outputId": "8364a8a5-0d85-4fc0-8f63-9628768f545e"
   },
   "outputs": [
    {
     "data": {
      "image/png": "[encoded data removed]",
      "text/plain": [
       "<Figure size 432x288 with 2 Axes>"
      ]
     },
     "metadata": {
      "needs_background": "light"
     },
     "output_type": "display_data"
    }
   ],
   "source": [
    "cnf_matrix  = plot_confusion_matrix(logR, X_test, y_test, cmap=plt.cm.Blues)"
   ]
  },
  {
   "cell_type": "code",
   "execution_count": 56,
   "id": "d442a0e0",
   "metadata": {
    "id": "y8O9vN8cxwbz"
   },
   "outputs": [],
   "source": [
    "scores = [LogisticReg, Basemodel_balanced, DecisionTree,KNeighbors, ]\n",
    "column_name = ['LogisticReg','Basemodel', 'DecisionTree','KNeighbors' ]"
   ]
  },
  {
   "cell_type": "code",
   "execution_count": 57,
   "id": "adb0cad2",
   "metadata": {
    "colab": {
     "base_uri": "https://localhost:8080/",
     "height": 175
    },
    "id": "rD0fv6ExxyZL",
    "outputId": "a5230b9f-eef9-480a-8c72-479109aa799a"
   },
   "outputs": [
    {
     "data": {
      "text/html": [
       "<div>\n",
       "<style scoped>\n",
       "    .dataframe tbody tr th:only-of-type {\n",
       "        vertical-align: middle;\n",
       "    }\n",
       "\n",
       "    .dataframe tbody tr th {\n",
       "        vertical-align: top;\n",
       "    }\n",
       "\n",
       "    .dataframe thead th {\n",
       "        text-align: right;\n",
       "    }\n",
       "</style>\n",
       "<table border=\"1\" class=\"dataframe\">\n",
       "  <thead>\n",
       "    <tr style=\"text-align: right;\">\n",
       "      <th></th>\n",
       "      <th>LogisticReg</th>\n",
       "      <th>Basemodel</th>\n",
       "      <th>DecisionTree</th>\n",
       "      <th>KNeighbors</th>\n",
       "    </tr>\n",
       "  </thead>\n",
       "  <tbody>\n",
       "    <tr>\n",
       "      <th>precision</th>\n",
       "      <td>0.672759</td>\n",
       "      <td>0.740420</td>\n",
       "      <td>0.738699</td>\n",
       "      <td>0.716566</td>\n",
       "    </tr>\n",
       "    <tr>\n",
       "      <th>recall_score</th>\n",
       "      <td>0.802011</td>\n",
       "      <td>0.627488</td>\n",
       "      <td>0.671066</td>\n",
       "      <td>0.695998</td>\n",
       "    </tr>\n",
       "    <tr>\n",
       "      <th>accuracy_score</th>\n",
       "      <td>0.625733</td>\n",
       "      <td>0.622933</td>\n",
       "      <td>0.639600</td>\n",
       "      <td>0.631333</td>\n",
       "    </tr>\n",
       "    <tr>\n",
       "      <th>f1_score</th>\n",
       "      <td>0.731721</td>\n",
       "      <td>0.679292</td>\n",
       "      <td>0.703261</td>\n",
       "      <td>0.706132</td>\n",
       "    </tr>\n",
       "  </tbody>\n",
       "</table>\n",
       "</div>"
      ],
      "text/plain": [
       "                LogisticReg  Basemodel  DecisionTree  KNeighbors\n",
       "precision          0.672759   0.740420      0.738699    0.716566\n",
       "recall_score       0.802011   0.627488      0.671066    0.695998\n",
       "accuracy_score     0.625733   0.622933      0.639600    0.631333\n",
       "f1_score           0.731721   0.679292      0.703261    0.706132"
      ]
     },
     "execution_count": 57,
     "metadata": {},
     "output_type": "execute_result"
    }
   ],
   "source": [
    "df = pd.DataFrame(columns = column_name)\n",
    "df.LogisticReg =LogisticReg.values()\n",
    "df.Basemodel = Basemodel_balanced.values()\n",
    "df.DecisionTree = DecisionTree.values()\n",
    "df.KNeighbors = KNeighbors.values()\n",
    "\n",
    "df.index = ['precision', 'recall_score','accuracy_score','f1_score']\n",
    "df"
   ]
  },
  {
   "cell_type": "markdown",
   "id": "ebf3d9c5",
   "metadata": {
    "id": "_SoYuVdbx4SW"
   },
   "source": [
    "The KNeighborsClassifier had the best sores and since this model will be used in detecting MonkeyPox viruses a high recall is needed then precision since this will prevent the number of false positives making more positive cases to be identified and treated in advance"
   ]
  },
  {
   "cell_type": "code",
   "execution_count": 58,
   "id": "b6b63f3f",
   "metadata": {
    "colab": {
     "base_uri": "https://localhost:8080/"
    },
    "id": "Htb0XdO3x2Hz",
    "outputId": "ab84bc4c-62db-40af-8f95-b6366391751c"
   },
   "outputs": [
    {
     "data": {
      "text/plain": [
       "1    15909\n",
       "0    15909\n",
       "Name: Target, dtype: int64"
      ]
     },
     "execution_count": 58,
     "metadata": {},
     "output_type": "execute_result"
    }
   ],
   "source": [
    "#develop a final pipline that will be used to train the model on the whole dataset and make the model ready for deployment\n",
    "#Balance the whole dataset using smote \n",
    "X_smote, y_smote = SMOTE().fit_resample(X, y)\n",
    "y_smote.value_counts()\n",
    "\n"
   ]
  },
  {
   "cell_type": "code",
   "execution_count": 59,
   "id": "9117de87",
   "metadata": {
    "colab": {
     "base_uri": "https://localhost:8080/"
    },
    "id": "uTMaRqvfx7LM",
    "outputId": "d2ef448a-7065-4793-8903-b29a6e5b5150"
   },
   "outputs": [
    {
     "data": {
      "text/plain": [
       "Pipeline(steps=[('KNN',\n",
       "                 KNeighborsClassifier(leaf_size=4, n_jobs=-1, n_neighbors=8))])"
      ]
     },
     "execution_count": 59,
     "metadata": {},
     "output_type": "execute_result"
    }
   ],
   "source": [
    "pipeline = Pipeline([('KNN', KNeighborsClassifier(algorithm = 'auto', leaf_size = 4, n_jobs = -1, n_neighbors = 8))])\n",
    "pipeline.fit(X_smote,y_smote)"
   ]
  },
  {
   "cell_type": "code",
   "execution_count": 60,
   "id": "d19c1814",
   "metadata": {
    "colab": {
     "base_uri": "https://localhost:8080/"
    },
    "id": "HybzoWKTx9ac",
    "outputId": "1b2d33fc-2c7f-488e-f2cd-16b037c3dd60"
   },
   "outputs": [
    {
     "data": {
      "text/plain": [
       "{'precision': 0.7326693227091633,\n",
       " 'recall_score': 0.7705845380263985,\n",
       " 'accuracy_score': 0.6750666666666667,\n",
       " 'f1_score': 0.751148779740631}"
      ]
     },
     "execution_count": 60,
     "metadata": {},
     "output_type": "execute_result"
    }
   ],
   "source": [
    "#model performance after training on the whole data\n",
    "model_trainer(pipeline, X_smote, y_smote,X_test,y_test)\n"
   ]
  },
  {
   "cell_type": "code",
   "execution_count": 61,
   "id": "1c852279",
   "metadata": {
    "id": "coB60cujx_Sr"
   },
   "outputs": [],
   "source": [
    "#save our model into a pickle\n",
    "with open('model.pkl', 'wb') as f:\n",
    "  joblib.dump(pipeline, f)"
   ]
  },
  {
   "cell_type": "code",
   "execution_count": null,
   "metadata": {
    "id": "JfjmQmvWyA4k"
   },
   "outputs": [],
   "source": []
  }
 ],
 "metadata": {
  "colab": {
   "provenance": []
  },
  "kernelspec": {
   "display_name": "learn-env",
   "language": "python",
   "name": "myenv"
  },
  "language_info": {
   "codemirror_mode": {
    "name": "ipython",
    "version": 3
   },
   "file_extension": ".py",
   "mimetype": "text/x-python",
   "name": "python",
   "nbconvert_exporter": "python",
   "pygments_lexer": "ipython3",
   "version": "3.8.5"
  },
  "vscode": {
   "interpreter": {
    "hash": "3d003bfd82b4b2708635177fb8f3138976a30d21ae2a9834728cc878eebfc210"
   }
  }
 },
 "nbformat": 4,
 "nbformat_minor": 5
}
