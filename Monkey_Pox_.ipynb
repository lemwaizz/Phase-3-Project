{
  "cells": [
    {
      "cell_type": "markdown",
      "id": "3fa64598",
      "metadata": {
        "id": "3fa64598"
      },
      "source": [
        "# MONKEYPOX PREDICTION\n",
        "\n",
        "## BUSINESS UNDERSTANDING\n",
        "\n",
        "### __Overview__\n",
        "\n",
        "Monkeypox, according to the Centers for Disease Control and Prevention, is an uncommon disease caused by infection with the monkeypox virus. Monkeypox virus is part of the same family of viruses as variola virus, the virus that causes smallpox. Monkeypox symptoms are similar to smallpox symptoms, but milder, and monkeypox is rarely fatal.\n",
        "Monkeypox was discovered in 1958 when two outbreaks of a pox-like disease occurred in colonies of monkeys kept for research. Despite being named “monkeypox,” the source of the disease remains unknown. However, African rodents and non-human primates (like monkeys) might harbor the virus and infect people.\n",
        "\n",
        "The first human case of monkeypox was recorded in 1970. Prior to the 2022 outbreak in May, monkeypox had been reported in people in several central and western African countries. Previously, almost all monkeypox cases in people outside of Africa were linked to international travel to countries where the disease commonly occurs or through imported animals. These cases occurred on multiple continents.\n",
        "\n",
        "```Transmission```: Monkeypox is a viral zoonosis (virus transmitted to humans from animals)It is transmitted through close contact with an infected person or animal, body fluids, respiratory droplets and contaminated materials such as bedding.\n",
        "\n",
        "### __Problem Statement__\n",
        "\n",
        "As more cases of monkeypox emerge, the world becomes increasingly concerned, as they do not want a repeat of what happened not too long ago, when the infamous Covid-19 broke out and altered the world as we know it. Faced with the reality that such viral diseases can actually shut down the planet, the organization must develop ways to reduce the spread of this disease, enter the Health authorities in the United Kingdom, they have established an incident management team to coordinate the extensive contact tracing  in regards to how quickly the virus can be transferred and, worse, mutate into a more lethal variant.\n",
        "\n",
        "On July 23, the World Health Organization declared the outbreak “a public health emergency of international concern.” Another thing you should know about monkeypox is that it is extremely unpleasant. The current strain has a 1% mortality rate, and as of this writing, there have been three deaths reported in outbreaks outside of Africa, and five deaths in African countries where the disease is endemic, since the beginning of the year.\n",
        "The West African strain of the monkeypox virus is associated with milder disease and fewer deaths than the Central African strain.\n",
        "\n",
        "Even if the chances of death are low, patients with monkeypox have reported how painful and debilitating the disease is. \"People may experience flu-like symptoms at first, such as fever and headache, but as the disease progresses, you get a multi-stage rash, lesions can develop in your mouth, feet, and genital region, and these develop into pus-filled blisters.\"Symptoms can appear between five and 21 days after infection, though the average incubation period is 6 to 13 days. For the first few days, there are headaches, fever, muscle aches, and fatigue.\n",
        "\n",
        "As students of the Incident Management team we have been tasked to create a model to accurately identify potential infected persons in order to make contact tracing faster and more efficient, thereby halting the spread.\n",
        "\n",
        "### __Proposed Solution__\n",
        "\n",
        "One proposed solution is to cultivate the use of data in attempting to predict whether or not a person has monkeypox in order to make contact tracing easier.\n",
        "\n",
        "### __Specific Objectives__\n",
        "\n",
        "* To predict whether a patient is negative or positive for monkeypox based on the symptoms they exhibit \n",
        "* To analyze the various variables such as Sore Throat,Penile Oedema, Oral Lesions ,Systemic illness and STIs and know their relationship with monkeypox \n",
        "\n",
        "### __Research Questions__\n",
        "\n",
        "* Which model best predicts monkeypox disease?\n",
        "* Which symptom has the highest correlation to monkeypox?\n",
        "* Which symptom has the lowest correlation to monkeypox?\n",
        "\n",
        "### __Success Criteria__\n",
        "\n",
        "Tentatively, the study will be judged a success if, we build a model(****We'll add it once we figure out which kind of models we will use. Since we are using at least two models****) to predict monkeypox with an accuracy,precision and recall of 70% or more in classification\n",
        "\n"
      ]
    },
    {
      "cell_type": "markdown",
      "id": "95a18417",
      "metadata": {
        "id": "95a18417"
      },
      "source": [
        "## Importing Libraries"
      ]
    },
    {
      "cell_type": "code",
      "execution_count": 45,
      "id": "7a4c0f04",
      "metadata": {
        "id": "7a4c0f04"
      },
      "outputs": [],
      "source": [
        "import pandas as pd\n",
        "import seaborn as sns\n",
        "import matplotlib.pyplot as plt \n",
        "from sklearn.linear_model import Ridge, Lasso, LogisticRegression\n",
        "from sklearn.tree import DecisionTreeClassifier\n",
        "from sklearn.neighbors import KNeighborsClassifier\n",
        "from sklearn.ensemble import RandomForestClassifier\n",
        "from sklearn.pipeline import Pipeline\n",
        "from sklearn.metrics import recall_score, precision_score ,accuracy_score, plot_confusion_matrix, confusion_matrix, f1_score\n",
        "from sklearn.model_selection import cross_val_score, GridSearchCV, train_test_split\n",
        "from imblearn.over_sampling import SMOTE, ADASYN \n",
        "import numpy as np\n",
        "import joblib\n",
        "\n",
        "import warnings\n",
        "warnings.simplefilter(action='ignore', category=FutureWarning)\n",
        "warnings.filterwarnings('ignore')"
      ]
    },
    {
      "cell_type": "markdown",
      "id": "7294a50d",
      "metadata": {
        "id": "7294a50d"
      },
      "source": [
        "## Loading Data"
      ]
    },
    {
      "cell_type": "code",
      "execution_count": 2,
      "id": "97bd5df2",
      "metadata": {
        "id": "97bd5df2"
      },
      "outputs": [],
      "source": [
        "# Loading the data using pandas into mp {Monkey Pox}\n",
        "\n",
        "# Index_col sets the index to be the patient id as there is no need to have more than one unique identifiers.\n",
        "\n",
        "mp = pd.read_csv('DATA.csv', index_col= 0)"
      ]
    },
    {
      "cell_type": "markdown",
      "id": "314be6b3",
      "metadata": {
        "id": "314be6b3"
      },
      "source": [
        "## DATA UNDERSTANDING\n",
        "\n",
        "### __Overview__\n",
        "\n",
        "We are using a SYNTHETIC dataset generated from a study published by the British Medical Journal. It is a description of the clinical features and novel presentations of human monkeypox during the outbreak of 2022 in central London. \n",
        "\n",
        "The data has already been loaded in the above code cell."
      ]
    },
    {
      "cell_type": "code",
      "execution_count": 3,
      "id": "7a7cf1f0",
      "metadata": {
        "colab": {
          "base_uri": "https://localhost:8080/",
          "height": 238
        },
        "id": "7a7cf1f0",
        "outputId": "fad4d447-816e-460b-c93e-9c4a0a7b6fa6"
      },
      "outputs": [
        {
          "output_type": "execute_result",
          "data": {
            "text/plain": [
              "               Systemic Illness  Rectal Pain  Sore Throat  Penile Oedema  \\\n",
              "Patient_ID                                                                 \n",
              "P0                         None        False         True           True   \n",
              "P1                        Fever         True        False           True   \n",
              "P2                        Fever        False         True           True   \n",
              "P3                         None         True        False          False   \n",
              "P4          Swollen Lymph Nodes         True         True           True   \n",
              "\n",
              "            Oral Lesions  Solitary Lesion  Swollen Tonsils  HIV Infection  \\\n",
              "Patient_ID                                                                  \n",
              "P0                  True            False             True          False   \n",
              "P1                  True            False            False           True   \n",
              "P2                 False            False            False           True   \n",
              "P3                 False             True             True           True   \n",
              "P4                 False            False             True           True   \n",
              "\n",
              "            Sexually Transmitted Infection MonkeyPox  \n",
              "Patient_ID                                            \n",
              "P0                                   False  Negative  \n",
              "P1                                   False  Positive  \n",
              "P2                                   False  Positive  \n",
              "P3                                   False  Positive  \n",
              "P4                                   False  Positive  "
            ],
            "text/html": [
              "\n",
              "  <div id=\"df-66fe5ba6-2950-4e4f-badb-c7af2f726140\">\n",
              "    <div class=\"colab-df-container\">\n",
              "      <div>\n",
              "<style scoped>\n",
              "    .dataframe tbody tr th:only-of-type {\n",
              "        vertical-align: middle;\n",
              "    }\n",
              "\n",
              "    .dataframe tbody tr th {\n",
              "        vertical-align: top;\n",
              "    }\n",
              "\n",
              "    .dataframe thead th {\n",
              "        text-align: right;\n",
              "    }\n",
              "</style>\n",
              "<table border=\"1\" class=\"dataframe\">\n",
              "  <thead>\n",
              "    <tr style=\"text-align: right;\">\n",
              "      <th></th>\n",
              "      <th>Systemic Illness</th>\n",
              "      <th>Rectal Pain</th>\n",
              "      <th>Sore Throat</th>\n",
              "      <th>Penile Oedema</th>\n",
              "      <th>Oral Lesions</th>\n",
              "      <th>Solitary Lesion</th>\n",
              "      <th>Swollen Tonsils</th>\n",
              "      <th>HIV Infection</th>\n",
              "      <th>Sexually Transmitted Infection</th>\n",
              "      <th>MonkeyPox</th>\n",
              "    </tr>\n",
              "    <tr>\n",
              "      <th>Patient_ID</th>\n",
              "      <th></th>\n",
              "      <th></th>\n",
              "      <th></th>\n",
              "      <th></th>\n",
              "      <th></th>\n",
              "      <th></th>\n",
              "      <th></th>\n",
              "      <th></th>\n",
              "      <th></th>\n",
              "      <th></th>\n",
              "    </tr>\n",
              "  </thead>\n",
              "  <tbody>\n",
              "    <tr>\n",
              "      <th>P0</th>\n",
              "      <td>None</td>\n",
              "      <td>False</td>\n",
              "      <td>True</td>\n",
              "      <td>True</td>\n",
              "      <td>True</td>\n",
              "      <td>False</td>\n",
              "      <td>True</td>\n",
              "      <td>False</td>\n",
              "      <td>False</td>\n",
              "      <td>Negative</td>\n",
              "    </tr>\n",
              "    <tr>\n",
              "      <th>P1</th>\n",
              "      <td>Fever</td>\n",
              "      <td>True</td>\n",
              "      <td>False</td>\n",
              "      <td>True</td>\n",
              "      <td>True</td>\n",
              "      <td>False</td>\n",
              "      <td>False</td>\n",
              "      <td>True</td>\n",
              "      <td>False</td>\n",
              "      <td>Positive</td>\n",
              "    </tr>\n",
              "    <tr>\n",
              "      <th>P2</th>\n",
              "      <td>Fever</td>\n",
              "      <td>False</td>\n",
              "      <td>True</td>\n",
              "      <td>True</td>\n",
              "      <td>False</td>\n",
              "      <td>False</td>\n",
              "      <td>False</td>\n",
              "      <td>True</td>\n",
              "      <td>False</td>\n",
              "      <td>Positive</td>\n",
              "    </tr>\n",
              "    <tr>\n",
              "      <th>P3</th>\n",
              "      <td>None</td>\n",
              "      <td>True</td>\n",
              "      <td>False</td>\n",
              "      <td>False</td>\n",
              "      <td>False</td>\n",
              "      <td>True</td>\n",
              "      <td>True</td>\n",
              "      <td>True</td>\n",
              "      <td>False</td>\n",
              "      <td>Positive</td>\n",
              "    </tr>\n",
              "    <tr>\n",
              "      <th>P4</th>\n",
              "      <td>Swollen Lymph Nodes</td>\n",
              "      <td>True</td>\n",
              "      <td>True</td>\n",
              "      <td>True</td>\n",
              "      <td>False</td>\n",
              "      <td>False</td>\n",
              "      <td>True</td>\n",
              "      <td>True</td>\n",
              "      <td>False</td>\n",
              "      <td>Positive</td>\n",
              "    </tr>\n",
              "  </tbody>\n",
              "</table>\n",
              "</div>\n",
              "      <button class=\"colab-df-convert\" onclick=\"convertToInteractive('df-66fe5ba6-2950-4e4f-badb-c7af2f726140')\"\n",
              "              title=\"Convert this dataframe to an interactive table.\"\n",
              "              style=\"display:none;\">\n",
              "        \n",
              "  <svg xmlns=\"http://www.w3.org/2000/svg\" height=\"24px\"viewBox=\"0 0 24 24\"\n",
              "       width=\"24px\">\n",
              "    <path d=\"M0 0h24v24H0V0z\" fill=\"none\"/>\n",
              "    <path d=\"M18.56 5.44l.94 2.06.94-2.06 2.06-.94-2.06-.94-.94-2.06-.94 2.06-2.06.94zm-11 1L8.5 8.5l.94-2.06 2.06-.94-2.06-.94L8.5 2.5l-.94 2.06-2.06.94zm10 10l.94 2.06.94-2.06 2.06-.94-2.06-.94-.94-2.06-.94 2.06-2.06.94z\"/><path d=\"M17.41 7.96l-1.37-1.37c-.4-.4-.92-.59-1.43-.59-.52 0-1.04.2-1.43.59L10.3 9.45l-7.72 7.72c-.78.78-.78 2.05 0 2.83L4 21.41c.39.39.9.59 1.41.59.51 0 1.02-.2 1.41-.59l7.78-7.78 2.81-2.81c.8-.78.8-2.07 0-2.86zM5.41 20L4 18.59l7.72-7.72 1.47 1.35L5.41 20z\"/>\n",
              "  </svg>\n",
              "      </button>\n",
              "      \n",
              "  <style>\n",
              "    .colab-df-container {\n",
              "      display:flex;\n",
              "      flex-wrap:wrap;\n",
              "      gap: 12px;\n",
              "    }\n",
              "\n",
              "    .colab-df-convert {\n",
              "      background-color: #E8F0FE;\n",
              "      border: none;\n",
              "      border-radius: 50%;\n",
              "      cursor: pointer;\n",
              "      display: none;\n",
              "      fill: #1967D2;\n",
              "      height: 32px;\n",
              "      padding: 0 0 0 0;\n",
              "      width: 32px;\n",
              "    }\n",
              "\n",
              "    .colab-df-convert:hover {\n",
              "      background-color: #E2EBFA;\n",
              "      box-shadow: 0px 1px 2px rgba(60, 64, 67, 0.3), 0px 1px 3px 1px rgba(60, 64, 67, 0.15);\n",
              "      fill: #174EA6;\n",
              "    }\n",
              "\n",
              "    [theme=dark] .colab-df-convert {\n",
              "      background-color: #3B4455;\n",
              "      fill: #D2E3FC;\n",
              "    }\n",
              "\n",
              "    [theme=dark] .colab-df-convert:hover {\n",
              "      background-color: #434B5C;\n",
              "      box-shadow: 0px 1px 3px 1px rgba(0, 0, 0, 0.15);\n",
              "      filter: drop-shadow(0px 1px 2px rgba(0, 0, 0, 0.3));\n",
              "      fill: #FFFFFF;\n",
              "    }\n",
              "  </style>\n",
              "\n",
              "      <script>\n",
              "        const buttonEl =\n",
              "          document.querySelector('#df-66fe5ba6-2950-4e4f-badb-c7af2f726140 button.colab-df-convert');\n",
              "        buttonEl.style.display =\n",
              "          google.colab.kernel.accessAllowed ? 'block' : 'none';\n",
              "\n",
              "        async function convertToInteractive(key) {\n",
              "          const element = document.querySelector('#df-66fe5ba6-2950-4e4f-badb-c7af2f726140');\n",
              "          const dataTable =\n",
              "            await google.colab.kernel.invokeFunction('convertToInteractive',\n",
              "                                                     [key], {});\n",
              "          if (!dataTable) return;\n",
              "\n",
              "          const docLinkHtml = 'Like what you see? Visit the ' +\n",
              "            '<a target=\"_blank\" href=https://colab.research.google.com/notebooks/data_table.ipynb>data table notebook</a>'\n",
              "            + ' to learn more about interactive tables.';\n",
              "          element.innerHTML = '';\n",
              "          dataTable['output_type'] = 'display_data';\n",
              "          await google.colab.output.renderOutput(dataTable, element);\n",
              "          const docLink = document.createElement('div');\n",
              "          docLink.innerHTML = docLinkHtml;\n",
              "          element.appendChild(docLink);\n",
              "        }\n",
              "      </script>\n",
              "    </div>\n",
              "  </div>\n",
              "  "
            ]
          },
          "metadata": {},
          "execution_count": 3
        }
      ],
      "source": [
        "# preview of the first 5 rows\n",
        "mp.head()"
      ]
    },
    {
      "cell_type": "code",
      "execution_count": 4,
      "id": "bf69b582",
      "metadata": {
        "colab": {
          "base_uri": "https://localhost:8080/"
        },
        "id": "bf69b582",
        "outputId": "b2230661-49b0-4816-87f7-eb149050f042"
      },
      "outputs": [
        {
          "output_type": "stream",
          "name": "stdout",
          "text": [
            "<class 'pandas.core.frame.DataFrame'>\n",
            "Index: 25000 entries, P0 to P24999\n",
            "Data columns (total 10 columns):\n",
            " #   Column                          Non-Null Count  Dtype \n",
            "---  ------                          --------------  ----- \n",
            " 0   Systemic Illness                25000 non-null  object\n",
            " 1   Rectal Pain                     25000 non-null  bool  \n",
            " 2   Sore Throat                     25000 non-null  bool  \n",
            " 3   Penile Oedema                   25000 non-null  bool  \n",
            " 4   Oral Lesions                    25000 non-null  bool  \n",
            " 5   Solitary Lesion                 25000 non-null  bool  \n",
            " 6   Swollen Tonsils                 25000 non-null  bool  \n",
            " 7   HIV Infection                   25000 non-null  bool  \n",
            " 8   Sexually Transmitted Infection  25000 non-null  bool  \n",
            " 9   MonkeyPox                       25000 non-null  object\n",
            "dtypes: bool(8), object(2)\n",
            "memory usage: 781.2+ KB\n"
          ]
        }
      ],
      "source": [
        "# Checking the summary of the data\n",
        "\n",
        "mp.info()"
      ]
    },
    {
      "cell_type": "code",
      "execution_count": 5,
      "id": "489114df",
      "metadata": {
        "colab": {
          "base_uri": "https://localhost:8080/"
        },
        "id": "489114df",
        "outputId": "a44b02eb-e761-4e4c-f8d1-7e3d25c74403"
      },
      "outputs": [
        {
          "output_type": "execute_result",
          "data": {
            "text/plain": [
              "0"
            ]
          },
          "metadata": {},
          "execution_count": 5
        }
      ],
      "source": [
        "# checking for duplicates using the index as a guide as the index is the personal id\n",
        "mp.index.duplicated().sum()"
      ]
    },
    {
      "cell_type": "code",
      "execution_count": 6,
      "id": "5ebef806",
      "metadata": {
        "colab": {
          "base_uri": "https://localhost:8080/"
        },
        "id": "5ebef806",
        "outputId": "eae9b512-386f-48be-ffe5-944483598f4c"
      },
      "outputs": [
        {
          "output_type": "execute_result",
          "data": {
            "text/plain": [
              "Index(['Systemic Illness', 'Rectal Pain', 'Sore Throat', 'Penile Oedema',\n",
              "       'Oral Lesions', 'Solitary Lesion', 'Swollen Tonsils', 'HIV Infection',\n",
              "       'Sexually Transmitted Infection', 'MonkeyPox'],\n",
              "      dtype='object')"
            ]
          },
          "metadata": {},
          "execution_count": 6
        }
      ],
      "source": [
        "# viewing the column names of the dataset \n",
        "\n",
        "mp.columns"
      ]
    },
    {
      "cell_type": "code",
      "execution_count": 7,
      "id": "72c0eb00",
      "metadata": {
        "colab": {
          "base_uri": "https://localhost:8080/"
        },
        "id": "72c0eb00",
        "outputId": "f56a79af-45f2-4a38-be69-5e6855985f47"
      },
      "outputs": [
        {
          "output_type": "execute_result",
          "data": {
            "text/plain": [
              "['Rectal Pain',\n",
              " 'Sore Throat',\n",
              " 'Penile Oedema',\n",
              " 'Oral Lesions',\n",
              " 'Solitary Lesion',\n",
              " 'Swollen Tonsils',\n",
              " 'HIV Infection',\n",
              " 'Sexually Transmitted Infection',\n",
              " 'MonkeyPox']"
            ]
          },
          "metadata": {},
          "execution_count": 7
        }
      ],
      "source": [
        "# Making a list of all the bool columns to use in get_dummies later\n",
        "\n",
        "col = list(mp.columns)\n",
        "\n",
        "col.remove('Systemic Illness')\n",
        "col"
      ]
    },
    {
      "cell_type": "code",
      "execution_count": 8,
      "id": "ccd7f147",
      "metadata": {
        "colab": {
          "base_uri": "https://localhost:8080/"
        },
        "id": "ccd7f147",
        "outputId": "71163726-e118-477b-8144-0123ae840c8b"
      },
      "outputs": [
        {
          "output_type": "execute_result",
          "data": {
            "text/plain": [
              "['Rectal Pain',\n",
              " 'Sore Throat',\n",
              " 'Penile Oedema',\n",
              " 'Oral Lesions',\n",
              " 'Solitary Lesion',\n",
              " 'Swollen Tonsils',\n",
              " 'HIV Infection',\n",
              " 'Sexually Transmitted Infection',\n",
              " 'MonkeyPox']"
            ]
          },
          "metadata": {},
          "execution_count": 8
        }
      ],
      "source": [
        "# preview of the list of column names\n",
        "\n",
        "col"
      ]
    },
    {
      "cell_type": "code",
      "execution_count": 9,
      "id": "e3269feb",
      "metadata": {
        "scrolled": true,
        "colab": {
          "base_uri": "https://localhost:8080/",
          "height": 175
        },
        "id": "e3269feb",
        "outputId": "cc2bebce-ebb2-47ef-887e-ecea217e1905"
      },
      "outputs": [
        {
          "output_type": "execute_result",
          "data": {
            "text/plain": [
              "       Systemic Illness Rectal Pain Sore Throat Penile Oedema Oral Lesions  \\\n",
              "count             25000       25000       25000         25000        25000   \n",
              "unique                4           2           2             2            2   \n",
              "top               Fever       False        True          True        False   \n",
              "freq               6382       12655       12554         12612        12514   \n",
              "\n",
              "       Solitary Lesion Swollen Tonsils HIV Infection  \\\n",
              "count            25000           25000         25000   \n",
              "unique               2               2             2   \n",
              "top               True            True          True   \n",
              "freq             12527           12533         12584   \n",
              "\n",
              "       Sexually Transmitted Infection MonkeyPox  \n",
              "count                           25000     25000  \n",
              "unique                              2         2  \n",
              "top                             False  Positive  \n",
              "freq                            12554     15909  "
            ],
            "text/html": [
              "\n",
              "  <div id=\"df-8d29676b-9f79-4afe-b54e-21c2793e6e94\">\n",
              "    <div class=\"colab-df-container\">\n",
              "      <div>\n",
              "<style scoped>\n",
              "    .dataframe tbody tr th:only-of-type {\n",
              "        vertical-align: middle;\n",
              "    }\n",
              "\n",
              "    .dataframe tbody tr th {\n",
              "        vertical-align: top;\n",
              "    }\n",
              "\n",
              "    .dataframe thead th {\n",
              "        text-align: right;\n",
              "    }\n",
              "</style>\n",
              "<table border=\"1\" class=\"dataframe\">\n",
              "  <thead>\n",
              "    <tr style=\"text-align: right;\">\n",
              "      <th></th>\n",
              "      <th>Systemic Illness</th>\n",
              "      <th>Rectal Pain</th>\n",
              "      <th>Sore Throat</th>\n",
              "      <th>Penile Oedema</th>\n",
              "      <th>Oral Lesions</th>\n",
              "      <th>Solitary Lesion</th>\n",
              "      <th>Swollen Tonsils</th>\n",
              "      <th>HIV Infection</th>\n",
              "      <th>Sexually Transmitted Infection</th>\n",
              "      <th>MonkeyPox</th>\n",
              "    </tr>\n",
              "  </thead>\n",
              "  <tbody>\n",
              "    <tr>\n",
              "      <th>count</th>\n",
              "      <td>25000</td>\n",
              "      <td>25000</td>\n",
              "      <td>25000</td>\n",
              "      <td>25000</td>\n",
              "      <td>25000</td>\n",
              "      <td>25000</td>\n",
              "      <td>25000</td>\n",
              "      <td>25000</td>\n",
              "      <td>25000</td>\n",
              "      <td>25000</td>\n",
              "    </tr>\n",
              "    <tr>\n",
              "      <th>unique</th>\n",
              "      <td>4</td>\n",
              "      <td>2</td>\n",
              "      <td>2</td>\n",
              "      <td>2</td>\n",
              "      <td>2</td>\n",
              "      <td>2</td>\n",
              "      <td>2</td>\n",
              "      <td>2</td>\n",
              "      <td>2</td>\n",
              "      <td>2</td>\n",
              "    </tr>\n",
              "    <tr>\n",
              "      <th>top</th>\n",
              "      <td>Fever</td>\n",
              "      <td>False</td>\n",
              "      <td>True</td>\n",
              "      <td>True</td>\n",
              "      <td>False</td>\n",
              "      <td>True</td>\n",
              "      <td>True</td>\n",
              "      <td>True</td>\n",
              "      <td>False</td>\n",
              "      <td>Positive</td>\n",
              "    </tr>\n",
              "    <tr>\n",
              "      <th>freq</th>\n",
              "      <td>6382</td>\n",
              "      <td>12655</td>\n",
              "      <td>12554</td>\n",
              "      <td>12612</td>\n",
              "      <td>12514</td>\n",
              "      <td>12527</td>\n",
              "      <td>12533</td>\n",
              "      <td>12584</td>\n",
              "      <td>12554</td>\n",
              "      <td>15909</td>\n",
              "    </tr>\n",
              "  </tbody>\n",
              "</table>\n",
              "</div>\n",
              "      <button class=\"colab-df-convert\" onclick=\"convertToInteractive('df-8d29676b-9f79-4afe-b54e-21c2793e6e94')\"\n",
              "              title=\"Convert this dataframe to an interactive table.\"\n",
              "              style=\"display:none;\">\n",
              "        \n",
              "  <svg xmlns=\"http://www.w3.org/2000/svg\" height=\"24px\"viewBox=\"0 0 24 24\"\n",
              "       width=\"24px\">\n",
              "    <path d=\"M0 0h24v24H0V0z\" fill=\"none\"/>\n",
              "    <path d=\"M18.56 5.44l.94 2.06.94-2.06 2.06-.94-2.06-.94-.94-2.06-.94 2.06-2.06.94zm-11 1L8.5 8.5l.94-2.06 2.06-.94-2.06-.94L8.5 2.5l-.94 2.06-2.06.94zm10 10l.94 2.06.94-2.06 2.06-.94-2.06-.94-.94-2.06-.94 2.06-2.06.94z\"/><path d=\"M17.41 7.96l-1.37-1.37c-.4-.4-.92-.59-1.43-.59-.52 0-1.04.2-1.43.59L10.3 9.45l-7.72 7.72c-.78.78-.78 2.05 0 2.83L4 21.41c.39.39.9.59 1.41.59.51 0 1.02-.2 1.41-.59l7.78-7.78 2.81-2.81c.8-.78.8-2.07 0-2.86zM5.41 20L4 18.59l7.72-7.72 1.47 1.35L5.41 20z\"/>\n",
              "  </svg>\n",
              "      </button>\n",
              "      \n",
              "  <style>\n",
              "    .colab-df-container {\n",
              "      display:flex;\n",
              "      flex-wrap:wrap;\n",
              "      gap: 12px;\n",
              "    }\n",
              "\n",
              "    .colab-df-convert {\n",
              "      background-color: #E8F0FE;\n",
              "      border: none;\n",
              "      border-radius: 50%;\n",
              "      cursor: pointer;\n",
              "      display: none;\n",
              "      fill: #1967D2;\n",
              "      height: 32px;\n",
              "      padding: 0 0 0 0;\n",
              "      width: 32px;\n",
              "    }\n",
              "\n",
              "    .colab-df-convert:hover {\n",
              "      background-color: #E2EBFA;\n",
              "      box-shadow: 0px 1px 2px rgba(60, 64, 67, 0.3), 0px 1px 3px 1px rgba(60, 64, 67, 0.15);\n",
              "      fill: #174EA6;\n",
              "    }\n",
              "\n",
              "    [theme=dark] .colab-df-convert {\n",
              "      background-color: #3B4455;\n",
              "      fill: #D2E3FC;\n",
              "    }\n",
              "\n",
              "    [theme=dark] .colab-df-convert:hover {\n",
              "      background-color: #434B5C;\n",
              "      box-shadow: 0px 1px 3px 1px rgba(0, 0, 0, 0.15);\n",
              "      filter: drop-shadow(0px 1px 2px rgba(0, 0, 0, 0.3));\n",
              "      fill: #FFFFFF;\n",
              "    }\n",
              "  </style>\n",
              "\n",
              "      <script>\n",
              "        const buttonEl =\n",
              "          document.querySelector('#df-8d29676b-9f79-4afe-b54e-21c2793e6e94 button.colab-df-convert');\n",
              "        buttonEl.style.display =\n",
              "          google.colab.kernel.accessAllowed ? 'block' : 'none';\n",
              "\n",
              "        async function convertToInteractive(key) {\n",
              "          const element = document.querySelector('#df-8d29676b-9f79-4afe-b54e-21c2793e6e94');\n",
              "          const dataTable =\n",
              "            await google.colab.kernel.invokeFunction('convertToInteractive',\n",
              "                                                     [key], {});\n",
              "          if (!dataTable) return;\n",
              "\n",
              "          const docLinkHtml = 'Like what you see? Visit the ' +\n",
              "            '<a target=\"_blank\" href=https://colab.research.google.com/notebooks/data_table.ipynb>data table notebook</a>'\n",
              "            + ' to learn more about interactive tables.';\n",
              "          element.innerHTML = '';\n",
              "          dataTable['output_type'] = 'display_data';\n",
              "          await google.colab.output.renderOutput(dataTable, element);\n",
              "          const docLink = document.createElement('div');\n",
              "          docLink.innerHTML = docLinkHtml;\n",
              "          element.appendChild(docLink);\n",
              "        }\n",
              "      </script>\n",
              "    </div>\n",
              "  </div>\n",
              "  "
            ]
          },
          "metadata": {},
          "execution_count": 9
        }
      ],
      "source": [
        "# checking the summary statistics of the data\n",
        "mp.describe()"
      ]
    },
    {
      "cell_type": "code",
      "execution_count": 10,
      "id": "2ab89ef5",
      "metadata": {
        "colab": {
          "base_uri": "https://localhost:8080/"
        },
        "id": "2ab89ef5",
        "outputId": "caa52700-bb2e-42d9-c068-00f9dc549d67"
      },
      "outputs": [
        {
          "output_type": "execute_result",
          "data": {
            "text/plain": [
              "(25000, 10)"
            ]
          },
          "metadata": {},
          "execution_count": 10
        }
      ],
      "source": [
        "# shape of the data\n",
        "mp.shape"
      ]
    },
    {
      "cell_type": "markdown",
      "id": "42c296ed",
      "metadata": {
        "id": "42c296ed"
      },
      "source": [
        "__Summary__\n",
        "\n",
        "* Our data has 25,000 rows and 10 columns\n",
        "* The data has 8 columns of dtype ```Bool``` and 2 columns of dtype ```object```.\n",
        "* There are no missing columns in the data.\n",
        "* There are no duplicates in the data.\n",
        "* The following are the columns in our data;\n",
        "    * Systemic Illness \n",
        "    * Rectal Pain \n",
        "    * Sore Throat \n",
        "    * Penile Oedema\n",
        "    * Oral Lesions \n",
        "    * Solitary Lesion \n",
        "    * Swollen Tonsils \n",
        "    * HIV Infection\n",
        "    * Sexually Transmitted Infection\n",
        "    * MonkeyPox\n",
        "\n",
        "Since the data has no duplicates and missing values, we can go ahead and do Exploratory Data Analysis to gain more insights from the data."
      ]
    },
    {
      "cell_type": "markdown",
      "id": "541b3486",
      "metadata": {
        "id": "541b3486"
      },
      "source": [
        "### Exploratory Data Analysis\n",
        "\n",
        "__UNIVARIATE ANALYSIS__\n",
        "\n",
        "__Feature columns__"
      ]
    },
    {
      "cell_type": "code",
      "execution_count": 11,
      "id": "479fb254",
      "metadata": {
        "scrolled": false,
        "colab": {
          "base_uri": "https://localhost:8080/",
          "height": 1000
        },
        "id": "479fb254",
        "outputId": "8f7df5cd-c592-4d75-b628-8f43b49a966c"
      },
      "outputs": [
        {
          "output_type": "display_data",
          "data": {
            "text/plain": [
              "<Figure size 432x288 with 1 Axes>"
            ],
            "image/png": "[encoded data removed]"
          },
          "metadata": {
            "needs_background": "light"
          }
        },
        {
          "output_type": "display_data",
          "data": {
            "text/plain": [
              "<Figure size 432x288 with 1 Axes>"
            ],
            "image/png": "[encoded data removed]"
          },
          "metadata": {
            "needs_background": "light"
          }
        },
        {
          "output_type": "display_data",
          "data": {
            "text/plain": [
              "<Figure size 432x288 with 1 Axes>"
            ],
            "image/png": "[encoded data removed]"
          },
          "metadata": {
            "needs_background": "light"
          }
        },
        {
          "output_type": "display_data",
          "data": {
            "text/plain": [
              "<Figure size 432x288 with 1 Axes>"
            ],
            "image/png": "[encoded data removed]"
          },
          "metadata": {
            "needs_background": "light"
          }
        },
        {
          "output_type": "display_data",
          "data": {
            "text/plain": [
              "<Figure size 432x288 with 1 Axes>"
            ],
            "image/png": "[encoded data removed]"
          },
          "metadata": {
            "needs_background": "light"
          }
        },
        {
          "output_type": "display_data",
          "data": {
            "text/plain": [
              "<Figure size 432x288 with 1 Axes>"
            ],
            "image/png": "[encoded data removed]"
          },
          "metadata": {
            "needs_background": "light"
          }
        },
        {
          "output_type": "display_data",
          "data": {
            "text/plain": [
              "<Figure size 432x288 with 1 Axes>"
            ],
            "image/png": "[encoded data removed]"
          },
          "metadata": {
            "needs_background": "light"
          }
        },
        {
          "output_type": "display_data",
          "data": {
            "text/plain": [
              "<Figure size 432x288 with 1 Axes>"
            ],
            "image/png": "[encoded data removed]"
          },
          "metadata": {
            "needs_background": "light"
          }
        },
        {
          "output_type": "display_data",
          "data": {
            "text/plain": [
              "<Figure size 432x288 with 1 Axes>"
            ],
            "image/png": "[encoded data removed]"
          },
          "metadata": {
            "needs_background": "light"
          }
        }
      ],
      "source": [
        "for column in mp.columns:\n",
        "    if column != 'MonkeyPox':\n",
        "        plt.figure()\n",
        "        sns.countplot(x=mp[column])\n",
        "        plt.xticks(rotation = \"45\")\n",
        "        plt.show()"
      ]
    },
    {
      "cell_type": "markdown",
      "id": "f12fb29f",
      "metadata": {
        "id": "f12fb29f"
      },
      "source": [
        "__Target column__"
      ]
    },
    {
      "cell_type": "code",
      "execution_count": 12,
      "id": "1254ba02",
      "metadata": {
        "colab": {
          "base_uri": "https://localhost:8080/",
          "height": 279
        },
        "id": "1254ba02",
        "outputId": "54082761-e401-4387-f3e9-3c1a17fbf8cf"
      },
      "outputs": [
        {
          "output_type": "display_data",
          "data": {
            "text/plain": [
              "<Figure size 432x288 with 1 Axes>"
            ],
            "image/png": "[encoded data removed]"
          },
          "metadata": {
            "needs_background": "light"
          }
        }
      ],
      "source": [
        "sns.countplot(x = mp[\"MonkeyPox\"]);"
      ]
    },
    {
      "cell_type": "markdown",
      "id": "299880c0",
      "metadata": {
        "id": "299880c0"
      },
      "source": [
        "__Univariate Analysis summary__\n",
        "\n",
        "* From the above, all symptoms have a uniform distribution based on whether it is true or false.\n",
        "* For the systemic illnesses, fever has the highest frequency.\n",
        "* For the target column, the number of those with monkey pox is higher than those without the monkeypox therefore there is a class imbalance in our target column."
      ]
    },
    {
      "cell_type": "markdown",
      "id": "9e0a3973",
      "metadata": {
        "id": "9e0a3973"
      },
      "source": [
        "__BIVARIATE ANALYSIS__\n",
        "\n"
      ]
    },
    {
      "cell_type": "code",
      "execution_count": 13,
      "id": "a6c7135d",
      "metadata": {
        "scrolled": true,
        "colab": {
          "base_uri": "https://localhost:8080/",
          "height": 112
        },
        "id": "a6c7135d",
        "outputId": "4834695d-92a6-456b-f7e1-767204e80f3a"
      },
      "outputs": [
        {
          "output_type": "execute_result",
          "data": {
            "text/plain": [
              "  MonkeyPox  Rectal Pain  Sore Throat  Penile Oedema  Oral Lesions  \\\n",
              "0  Negative         3643         4184           4214          4228   \n",
              "1  Positive         8702         8370           8398          8258   \n",
              "\n",
              "   Solitary Lesion  Swollen Tonsils  HIV Infection  \\\n",
              "0             4330             4478           3697   \n",
              "1             8197             8055           8887   \n",
              "\n",
              "   Sexually Transmitted Infection  \n",
              "0                            3784  \n",
              "1                            8662  "
            ],
            "text/html": [
              "\n",
              "  <div id=\"df-723b4278-56a1-403f-8fcf-d17f7e7c82eb\">\n",
              "    <div class=\"colab-df-container\">\n",
              "      <div>\n",
              "<style scoped>\n",
              "    .dataframe tbody tr th:only-of-type {\n",
              "        vertical-align: middle;\n",
              "    }\n",
              "\n",
              "    .dataframe tbody tr th {\n",
              "        vertical-align: top;\n",
              "    }\n",
              "\n",
              "    .dataframe thead th {\n",
              "        text-align: right;\n",
              "    }\n",
              "</style>\n",
              "<table border=\"1\" class=\"dataframe\">\n",
              "  <thead>\n",
              "    <tr style=\"text-align: right;\">\n",
              "      <th></th>\n",
              "      <th>MonkeyPox</th>\n",
              "      <th>Rectal Pain</th>\n",
              "      <th>Sore Throat</th>\n",
              "      <th>Penile Oedema</th>\n",
              "      <th>Oral Lesions</th>\n",
              "      <th>Solitary Lesion</th>\n",
              "      <th>Swollen Tonsils</th>\n",
              "      <th>HIV Infection</th>\n",
              "      <th>Sexually Transmitted Infection</th>\n",
              "    </tr>\n",
              "  </thead>\n",
              "  <tbody>\n",
              "    <tr>\n",
              "      <th>0</th>\n",
              "      <td>Negative</td>\n",
              "      <td>3643</td>\n",
              "      <td>4184</td>\n",
              "      <td>4214</td>\n",
              "      <td>4228</td>\n",
              "      <td>4330</td>\n",
              "      <td>4478</td>\n",
              "      <td>3697</td>\n",
              "      <td>3784</td>\n",
              "    </tr>\n",
              "    <tr>\n",
              "      <th>1</th>\n",
              "      <td>Positive</td>\n",
              "      <td>8702</td>\n",
              "      <td>8370</td>\n",
              "      <td>8398</td>\n",
              "      <td>8258</td>\n",
              "      <td>8197</td>\n",
              "      <td>8055</td>\n",
              "      <td>8887</td>\n",
              "      <td>8662</td>\n",
              "    </tr>\n",
              "  </tbody>\n",
              "</table>\n",
              "</div>\n",
              "      <button class=\"colab-df-convert\" onclick=\"convertToInteractive('df-723b4278-56a1-403f-8fcf-d17f7e7c82eb')\"\n",
              "              title=\"Convert this dataframe to an interactive table.\"\n",
              "              style=\"display:none;\">\n",
              "        \n",
              "  <svg xmlns=\"http://www.w3.org/2000/svg\" height=\"24px\"viewBox=\"0 0 24 24\"\n",
              "       width=\"24px\">\n",
              "    <path d=\"M0 0h24v24H0V0z\" fill=\"none\"/>\n",
              "    <path d=\"M18.56 5.44l.94 2.06.94-2.06 2.06-.94-2.06-.94-.94-2.06-.94 2.06-2.06.94zm-11 1L8.5 8.5l.94-2.06 2.06-.94-2.06-.94L8.5 2.5l-.94 2.06-2.06.94zm10 10l.94 2.06.94-2.06 2.06-.94-2.06-.94-.94-2.06-.94 2.06-2.06.94z\"/><path d=\"M17.41 7.96l-1.37-1.37c-.4-.4-.92-.59-1.43-.59-.52 0-1.04.2-1.43.59L10.3 9.45l-7.72 7.72c-.78.78-.78 2.05 0 2.83L4 21.41c.39.39.9.59 1.41.59.51 0 1.02-.2 1.41-.59l7.78-7.78 2.81-2.81c.8-.78.8-2.07 0-2.86zM5.41 20L4 18.59l7.72-7.72 1.47 1.35L5.41 20z\"/>\n",
              "  </svg>\n",
              "      </button>\n",
              "      \n",
              "  <style>\n",
              "    .colab-df-container {\n",
              "      display:flex;\n",
              "      flex-wrap:wrap;\n",
              "      gap: 12px;\n",
              "    }\n",
              "\n",
              "    .colab-df-convert {\n",
              "      background-color: #E8F0FE;\n",
              "      border: none;\n",
              "      border-radius: 50%;\n",
              "      cursor: pointer;\n",
              "      display: none;\n",
              "      fill: #1967D2;\n",
              "      height: 32px;\n",
              "      padding: 0 0 0 0;\n",
              "      width: 32px;\n",
              "    }\n",
              "\n",
              "    .colab-df-convert:hover {\n",
              "      background-color: #E2EBFA;\n",
              "      box-shadow: 0px 1px 2px rgba(60, 64, 67, 0.3), 0px 1px 3px 1px rgba(60, 64, 67, 0.15);\n",
              "      fill: #174EA6;\n",
              "    }\n",
              "\n",
              "    [theme=dark] .colab-df-convert {\n",
              "      background-color: #3B4455;\n",
              "      fill: #D2E3FC;\n",
              "    }\n",
              "\n",
              "    [theme=dark] .colab-df-convert:hover {\n",
              "      background-color: #434B5C;\n",
              "      box-shadow: 0px 1px 3px 1px rgba(0, 0, 0, 0.15);\n",
              "      filter: drop-shadow(0px 1px 2px rgba(0, 0, 0, 0.3));\n",
              "      fill: #FFFFFF;\n",
              "    }\n",
              "  </style>\n",
              "\n",
              "      <script>\n",
              "        const buttonEl =\n",
              "          document.querySelector('#df-723b4278-56a1-403f-8fcf-d17f7e7c82eb button.colab-df-convert');\n",
              "        buttonEl.style.display =\n",
              "          google.colab.kernel.accessAllowed ? 'block' : 'none';\n",
              "\n",
              "        async function convertToInteractive(key) {\n",
              "          const element = document.querySelector('#df-723b4278-56a1-403f-8fcf-d17f7e7c82eb');\n",
              "          const dataTable =\n",
              "            await google.colab.kernel.invokeFunction('convertToInteractive',\n",
              "                                                     [key], {});\n",
              "          if (!dataTable) return;\n",
              "\n",
              "          const docLinkHtml = 'Like what you see? Visit the ' +\n",
              "            '<a target=\"_blank\" href=https://colab.research.google.com/notebooks/data_table.ipynb>data table notebook</a>'\n",
              "            + ' to learn more about interactive tables.';\n",
              "          element.innerHTML = '';\n",
              "          dataTable['output_type'] = 'display_data';\n",
              "          await google.colab.output.renderOutput(dataTable, element);\n",
              "          const docLink = document.createElement('div');\n",
              "          docLink.innerHTML = docLinkHtml;\n",
              "          element.appendChild(docLink);\n",
              "        }\n",
              "      </script>\n",
              "    </div>\n",
              "  </div>\n",
              "  "
            ]
          },
          "metadata": {},
          "execution_count": 13
        }
      ],
      "source": [
        "# Grouping the data by monkey pox in order to find the sum of various symptoms baseed on MonkeyPox\n",
        "values = mp.groupby(by=\"MonkeyPox\").sum().reset_index()\n",
        "values"
      ]
    },
    {
      "cell_type": "markdown",
      "id": "0d9b713f",
      "metadata": {
        "id": "0d9b713f"
      },
      "source": [
        "***HIV Infection vs MonkeyPox***"
      ]
    },
    {
      "cell_type": "code",
      "execution_count": 14,
      "id": "0aaad394",
      "metadata": {
        "colab": {
          "base_uri": "https://localhost:8080/",
          "height": 348
        },
        "id": "0aaad394",
        "outputId": "c368806a-be0c-4748-8720-09fbc6c123c6"
      },
      "outputs": [
        {
          "output_type": "execute_result",
          "data": {
            "text/plain": [
              "MonkeyPox\n",
              "Negative    3697\n",
              "Positive    8887\n",
              "Name: HIV Infection, dtype: int64"
            ]
          },
          "metadata": {},
          "execution_count": 14
        },
        {
          "output_type": "display_data",
          "data": {
            "text/plain": [
              "<Figure size 432x288 with 1 Axes>"
            ],
            "image/png": "[encoded data removed]"
          },
          "metadata": {
            "needs_background": "light"
          }
        }
      ],
      "source": [
        "\n",
        "ax = sns.barplot(x = \"HIV Infection\", y = \"MonkeyPox\", data = values)\n",
        "mp.groupby(\"MonkeyPox\").sum()[\"HIV Infection\"]"
      ]
    },
    {
      "cell_type": "markdown",
      "id": "a8693821",
      "metadata": {
        "id": "a8693821"
      },
      "source": [
        "***Rectal Pain vs MonkeyPox***"
      ]
    },
    {
      "cell_type": "code",
      "execution_count": 15,
      "id": "12a65ba3",
      "metadata": {
        "colab": {
          "base_uri": "https://localhost:8080/",
          "height": 348
        },
        "id": "12a65ba3",
        "outputId": "c27f3729-4806-426b-8bb0-4187ecebeb22"
      },
      "outputs": [
        {
          "output_type": "execute_result",
          "data": {
            "text/plain": [
              "MonkeyPox\n",
              "Negative    3643\n",
              "Positive    8702\n",
              "Name: Rectal Pain, dtype: int64"
            ]
          },
          "metadata": {},
          "execution_count": 15
        },
        {
          "output_type": "display_data",
          "data": {
            "text/plain": [
              "<Figure size 432x288 with 1 Axes>"
            ],
            "image/png": "[encoded data removed]"
          },
          "metadata": {
            "needs_background": "light"
          }
        }
      ],
      "source": [
        "ax = sns.barplot(x = \"Rectal Pain\", y = \"MonkeyPox\", data = values)\n",
        "mp.groupby(\"MonkeyPox\").sum()[\"Rectal Pain\"]"
      ]
    },
    {
      "cell_type": "markdown",
      "id": "62cc1ae5",
      "metadata": {
        "id": "62cc1ae5"
      },
      "source": [
        "***Sore Throat vs MonkeyPox***"
      ]
    },
    {
      "cell_type": "code",
      "execution_count": 16,
      "id": "d254ac43",
      "metadata": {
        "colab": {
          "base_uri": "https://localhost:8080/",
          "height": 348
        },
        "id": "d254ac43",
        "outputId": "ab914990-a658-4b2b-993f-810525d2fef6"
      },
      "outputs": [
        {
          "output_type": "execute_result",
          "data": {
            "text/plain": [
              "MonkeyPox\n",
              "Negative    4184\n",
              "Positive    8370\n",
              "Name: Sore Throat, dtype: int64"
            ]
          },
          "metadata": {},
          "execution_count": 16
        },
        {
          "output_type": "display_data",
          "data": {
            "text/plain": [
              "<Figure size 432x288 with 1 Axes>"
            ],
            "image/png": "[encoded data removed]"
          },
          "metadata": {
            "needs_background": "light"
          }
        }
      ],
      "source": [
        "ax = sns.barplot(x = \"Sore Throat\", y = \"MonkeyPox\", data = values)\n",
        "mp.groupby(\"MonkeyPox\").sum()[\"Sore Throat\"]"
      ]
    },
    {
      "cell_type": "markdown",
      "id": "d2af9f54",
      "metadata": {
        "id": "d2af9f54"
      },
      "source": [
        "***Penile Oedema vs MonkeyPox***"
      ]
    },
    {
      "cell_type": "code",
      "execution_count": 17,
      "id": "6f30a563",
      "metadata": {
        "colab": {
          "base_uri": "https://localhost:8080/",
          "height": 348
        },
        "id": "6f30a563",
        "outputId": "1efed7ae-273b-4eb2-9cfc-602329e56b23"
      },
      "outputs": [
        {
          "output_type": "execute_result",
          "data": {
            "text/plain": [
              "MonkeyPox\n",
              "Negative    4214\n",
              "Positive    8398\n",
              "Name: Penile Oedema, dtype: int64"
            ]
          },
          "metadata": {},
          "execution_count": 17
        },
        {
          "output_type": "display_data",
          "data": {
            "text/plain": [
              "<Figure size 432x288 with 1 Axes>"
            ],
            "image/png": "[encoded data removed]"
          },
          "metadata": {
            "needs_background": "light"
          }
        }
      ],
      "source": [
        "ax = sns.barplot(x = \"Penile Oedema\", y = \"MonkeyPox\", data = values)\n",
        "mp.groupby(\"MonkeyPox\").sum()[\"Penile Oedema\"]"
      ]
    },
    {
      "cell_type": "markdown",
      "id": "101a785b",
      "metadata": {
        "id": "101a785b"
      },
      "source": [
        "***Oral Lesions vs MonkeyPox***"
      ]
    },
    {
      "cell_type": "code",
      "execution_count": 18,
      "id": "55741421",
      "metadata": {
        "colab": {
          "base_uri": "https://localhost:8080/",
          "height": 348
        },
        "id": "55741421",
        "outputId": "34c175ec-2ff2-4ef2-a508-a9a1050549cd"
      },
      "outputs": [
        {
          "output_type": "execute_result",
          "data": {
            "text/plain": [
              "MonkeyPox\n",
              "Negative    4228\n",
              "Positive    8258\n",
              "Name: Oral Lesions, dtype: int64"
            ]
          },
          "metadata": {},
          "execution_count": 18
        },
        {
          "output_type": "display_data",
          "data": {
            "text/plain": [
              "<Figure size 432x288 with 1 Axes>"
            ],
            "image/png": "[encoded data removed]"
          },
          "metadata": {
            "needs_background": "light"
          }
        }
      ],
      "source": [
        "ax = sns.barplot(x = \"Oral Lesions\", y = \"MonkeyPox\", data = values)\n",
        "mp.groupby(\"MonkeyPox\").sum()[\"Oral Lesions\"]"
      ]
    },
    {
      "cell_type": "markdown",
      "id": "619a5b09",
      "metadata": {
        "id": "619a5b09"
      },
      "source": [
        "***Solitary Lesion vs MonkeyPox***"
      ]
    },
    {
      "cell_type": "code",
      "execution_count": 19,
      "id": "d37a3d0b",
      "metadata": {
        "colab": {
          "base_uri": "https://localhost:8080/",
          "height": 348
        },
        "id": "d37a3d0b",
        "outputId": "540fb74b-f900-4395-ef49-c26bc790a70a"
      },
      "outputs": [
        {
          "output_type": "execute_result",
          "data": {
            "text/plain": [
              "MonkeyPox\n",
              "Negative    4330\n",
              "Positive    8197\n",
              "Name: Solitary Lesion, dtype: int64"
            ]
          },
          "metadata": {},
          "execution_count": 19
        },
        {
          "output_type": "display_data",
          "data": {
            "text/plain": [
              "<Figure size 432x288 with 1 Axes>"
            ],
            "image/png": "[encoded data removed]"
          },
          "metadata": {
            "needs_background": "light"
          }
        }
      ],
      "source": [
        "sns.barplot(x = \"Solitary Lesion\", y = \"MonkeyPox\", data = values)\n",
        "mp.groupby(\"MonkeyPox\").sum()[\"Solitary Lesion\"]"
      ]
    },
    {
      "cell_type": "markdown",
      "id": "e7218cc1",
      "metadata": {
        "id": "e7218cc1"
      },
      "source": [
        "***Swollen Tonsils vs MonkeyPox***"
      ]
    },
    {
      "cell_type": "code",
      "execution_count": 20,
      "id": "e6e70579",
      "metadata": {
        "colab": {
          "base_uri": "https://localhost:8080/",
          "height": 348
        },
        "id": "e6e70579",
        "outputId": "1014691c-a6c3-4f8d-e4df-06f7792a0f69"
      },
      "outputs": [
        {
          "output_type": "execute_result",
          "data": {
            "text/plain": [
              "MonkeyPox\n",
              "Negative    4478\n",
              "Positive    8055\n",
              "Name: Swollen Tonsils, dtype: int64"
            ]
          },
          "metadata": {},
          "execution_count": 20
        },
        {
          "output_type": "display_data",
          "data": {
            "text/plain": [
              "<Figure size 432x288 with 1 Axes>"
            ],
            "image/png": "[encoded data removed]"
          },
          "metadata": {
            "needs_background": "light"
          }
        }
      ],
      "source": [
        "sns.barplot(x = \"Swollen Tonsils\", y = \"MonkeyPox\", data = values)\n",
        "mp.groupby(\"MonkeyPox\").sum()[\"Swollen Tonsils\"]"
      ]
    },
    {
      "cell_type": "markdown",
      "id": "b4c8c35b",
      "metadata": {
        "id": "b4c8c35b"
      },
      "source": [
        "***Sexually Transmitted Infection vs MonkeyPox***"
      ]
    },
    {
      "cell_type": "code",
      "execution_count": 21,
      "id": "bfba23aa",
      "metadata": {
        "colab": {
          "base_uri": "https://localhost:8080/",
          "height": 348
        },
        "id": "bfba23aa",
        "outputId": "0e2ffeb6-46f1-440f-e132-b07df18a2229"
      },
      "outputs": [
        {
          "output_type": "execute_result",
          "data": {
            "text/plain": [
              "MonkeyPox\n",
              "Negative    3784\n",
              "Positive    8662\n",
              "Name: Sexually Transmitted Infection, dtype: int64"
            ]
          },
          "metadata": {},
          "execution_count": 21
        },
        {
          "output_type": "display_data",
          "data": {
            "text/plain": [
              "<Figure size 432x288 with 1 Axes>"
            ],
            "image/png": "[encoded data removed]"
          },
          "metadata": {
            "needs_background": "light"
          }
        }
      ],
      "source": [
        "sns.barplot(x = \"Sexually Transmitted Infection\", y = \"MonkeyPox\", data = values)\n",
        "mp.groupby(\"MonkeyPox\").sum()[\"Sexually Transmitted Infection\"]"
      ]
    },
    {
      "cell_type": "markdown",
      "id": "aacd1a45",
      "metadata": {
        "id": "aacd1a45"
      },
      "source": [
        "__Bivariate Analysis Summary__\n",
        "\n",
        "* People with the symptoms of ```HIV Infection```, ```Rectal Pain``` and ```Sexually Transmitted Infection``` have a high chance of being MonkeyPox positive."
      ]
    },
    {
      "cell_type": "markdown",
      "id": "9fd7a4dd",
      "metadata": {
        "id": "9fd7a4dd"
      },
      "source": [
        "__MULTIVARIATE ANALYSIS__"
      ]
    },
    {
      "cell_type": "code",
      "execution_count": 22,
      "id": "d0ea5e61",
      "metadata": {
        "colab": {
          "base_uri": "https://localhost:8080/",
          "height": 596
        },
        "id": "d0ea5e61",
        "outputId": "1494ad3a-d315-4fb3-e6d7-00076112d736"
      },
      "outputs": [
        {
          "output_type": "display_data",
          "data": {
            "text/plain": [
              "<Figure size 1440x720 with 2 Axes>"
            ],
            "image/png": "[encoded data removed]"
          },
          "metadata": {
            "needs_background": "light"
          }
        }
      ],
      "source": [
        "plt.figure(figsize = (20, 10))\n",
        "var = mp.corr()\n",
        "sns.heatmap(var, annot = True, cmap = \"YlGnBu\");"
      ]
    },
    {
      "cell_type": "markdown",
      "id": "ea405319",
      "metadata": {
        "id": "ea405319"
      },
      "source": [
        "## DATA PREPARATION"
      ]
    },
    {
      "cell_type": "code",
      "execution_count": 23,
      "id": "a7276ea9",
      "metadata": {
        "colab": {
          "base_uri": "https://localhost:8080/"
        },
        "id": "a7276ea9",
        "outputId": "29152335-6704-4741-de7c-d6e222756f78"
      },
      "outputs": [
        {
          "output_type": "execute_result",
          "data": {
            "text/plain": [
              "Fever                    6382\n",
              "Swollen Lymph Nodes      6252\n",
              "None                     6216\n",
              "Muscle Aches and Pain    6150\n",
              "Name: Systemic Illness, dtype: int64"
            ]
          },
          "metadata": {},
          "execution_count": 23
        }
      ],
      "source": [
        "# Checking on the uniue value counts in Systemic Illness\n",
        "mp['Systemic Illness'].value_counts()"
      ]
    },
    {
      "cell_type": "code",
      "execution_count": 24,
      "id": "6b1eca90",
      "metadata": {
        "id": "6b1eca90"
      },
      "outputs": [],
      "source": [
        "# Reducing ambiguity in the systemic illness column we change none to No systemic Illness\n",
        "\n",
        "mp['Systemic Illness'].replace(to_replace= 'None',value= 'No Systemic Illness',inplace= True)"
      ]
    },
    {
      "cell_type": "code",
      "execution_count": 25,
      "id": "6ecc75d3",
      "metadata": {
        "colab": {
          "base_uri": "https://localhost:8080/"
        },
        "id": "6ecc75d3",
        "outputId": "808bb080-8961-47da-cc3d-5d57ec32d050"
      },
      "outputs": [
        {
          "output_type": "execute_result",
          "data": {
            "text/plain": [
              "Fever                    6382\n",
              "Swollen Lymph Nodes      6252\n",
              "No Systemic Illness      6216\n",
              "Muscle Aches and Pain    6150\n",
              "Name: Systemic Illness, dtype: int64"
            ]
          },
          "metadata": {},
          "execution_count": 25
        }
      ],
      "source": [
        "# Confirming change\n",
        "mp['Systemic Illness'].value_counts()"
      ]
    },
    {
      "cell_type": "markdown",
      "id": "c6a50895",
      "metadata": {
        "id": "c6a50895"
      },
      "source": [
        "From the above info we can see that all the columns have only two unique values meaning converting to int will not be as complicated.\n",
        "\n",
        "Systemic illness has the most with 4.\n",
        "\n",
        "data cleaning will be relatievly easy as the data has no missing values and no duplicates.\n",
        "\n",
        "Only task is type casting.\n"
      ]
    },
    {
      "cell_type": "code",
      "execution_count": 26,
      "id": "32f122e8",
      "metadata": {
        "colab": {
          "base_uri": "https://localhost:8080/",
          "height": 455
        },
        "id": "32f122e8",
        "outputId": "964b46e2-6921-4dbb-ef95-76b6f035c107"
      },
      "outputs": [
        {
          "output_type": "execute_result",
          "data": {
            "text/plain": [
              "            Systemic Illness_Fever  Systemic Illness_Muscle Aches and Pain  \\\n",
              "Patient_ID                                                                   \n",
              "P0                               0                                       0   \n",
              "P1                               1                                       0   \n",
              "P2                               1                                       0   \n",
              "P3                               0                                       0   \n",
              "P4                               0                                       0   \n",
              "...                            ...                                     ...   \n",
              "P24995                           0                                       0   \n",
              "P24996                           1                                       0   \n",
              "P24997                           0                                       0   \n",
              "P24998                           0                                       0   \n",
              "P24999                           0                                       0   \n",
              "\n",
              "            Systemic Illness_Swollen Lymph Nodes  \n",
              "Patient_ID                                        \n",
              "P0                                             0  \n",
              "P1                                             0  \n",
              "P2                                             0  \n",
              "P3                                             0  \n",
              "P4                                             1  \n",
              "...                                          ...  \n",
              "P24995                                         0  \n",
              "P24996                                         0  \n",
              "P24997                                         0  \n",
              "P24998                                         1  \n",
              "P24999                                         1  \n",
              "\n",
              "[25000 rows x 3 columns]"
            ],
            "text/html": [
              "\n",
              "  <div id=\"df-404a45ef-9ba8-4572-b16c-69875a74a938\">\n",
              "    <div class=\"colab-df-container\">\n",
              "      <div>\n",
              "<style scoped>\n",
              "    .dataframe tbody tr th:only-of-type {\n",
              "        vertical-align: middle;\n",
              "    }\n",
              "\n",
              "    .dataframe tbody tr th {\n",
              "        vertical-align: top;\n",
              "    }\n",
              "\n",
              "    .dataframe thead th {\n",
              "        text-align: right;\n",
              "    }\n",
              "</style>\n",
              "<table border=\"1\" class=\"dataframe\">\n",
              "  <thead>\n",
              "    <tr style=\"text-align: right;\">\n",
              "      <th></th>\n",
              "      <th>Systemic Illness_Fever</th>\n",
              "      <th>Systemic Illness_Muscle Aches and Pain</th>\n",
              "      <th>Systemic Illness_Swollen Lymph Nodes</th>\n",
              "    </tr>\n",
              "    <tr>\n",
              "      <th>Patient_ID</th>\n",
              "      <th></th>\n",
              "      <th></th>\n",
              "      <th></th>\n",
              "    </tr>\n",
              "  </thead>\n",
              "  <tbody>\n",
              "    <tr>\n",
              "      <th>P0</th>\n",
              "      <td>0</td>\n",
              "      <td>0</td>\n",
              "      <td>0</td>\n",
              "    </tr>\n",
              "    <tr>\n",
              "      <th>P1</th>\n",
              "      <td>1</td>\n",
              "      <td>0</td>\n",
              "      <td>0</td>\n",
              "    </tr>\n",
              "    <tr>\n",
              "      <th>P2</th>\n",
              "      <td>1</td>\n",
              "      <td>0</td>\n",
              "      <td>0</td>\n",
              "    </tr>\n",
              "    <tr>\n",
              "      <th>P3</th>\n",
              "      <td>0</td>\n",
              "      <td>0</td>\n",
              "      <td>0</td>\n",
              "    </tr>\n",
              "    <tr>\n",
              "      <th>P4</th>\n",
              "      <td>0</td>\n",
              "      <td>0</td>\n",
              "      <td>1</td>\n",
              "    </tr>\n",
              "    <tr>\n",
              "      <th>...</th>\n",
              "      <td>...</td>\n",
              "      <td>...</td>\n",
              "      <td>...</td>\n",
              "    </tr>\n",
              "    <tr>\n",
              "      <th>P24995</th>\n",
              "      <td>0</td>\n",
              "      <td>0</td>\n",
              "      <td>0</td>\n",
              "    </tr>\n",
              "    <tr>\n",
              "      <th>P24996</th>\n",
              "      <td>1</td>\n",
              "      <td>0</td>\n",
              "      <td>0</td>\n",
              "    </tr>\n",
              "    <tr>\n",
              "      <th>P24997</th>\n",
              "      <td>0</td>\n",
              "      <td>0</td>\n",
              "      <td>0</td>\n",
              "    </tr>\n",
              "    <tr>\n",
              "      <th>P24998</th>\n",
              "      <td>0</td>\n",
              "      <td>0</td>\n",
              "      <td>1</td>\n",
              "    </tr>\n",
              "    <tr>\n",
              "      <th>P24999</th>\n",
              "      <td>0</td>\n",
              "      <td>0</td>\n",
              "      <td>1</td>\n",
              "    </tr>\n",
              "  </tbody>\n",
              "</table>\n",
              "<p>25000 rows × 3 columns</p>\n",
              "</div>\n",
              "      <button class=\"colab-df-convert\" onclick=\"convertToInteractive('df-404a45ef-9ba8-4572-b16c-69875a74a938')\"\n",
              "              title=\"Convert this dataframe to an interactive table.\"\n",
              "              style=\"display:none;\">\n",
              "        \n",
              "  <svg xmlns=\"http://www.w3.org/2000/svg\" height=\"24px\"viewBox=\"0 0 24 24\"\n",
              "       width=\"24px\">\n",
              "    <path d=\"M0 0h24v24H0V0z\" fill=\"none\"/>\n",
              "    <path d=\"M18.56 5.44l.94 2.06.94-2.06 2.06-.94-2.06-.94-.94-2.06-.94 2.06-2.06.94zm-11 1L8.5 8.5l.94-2.06 2.06-.94-2.06-.94L8.5 2.5l-.94 2.06-2.06.94zm10 10l.94 2.06.94-2.06 2.06-.94-2.06-.94-.94-2.06-.94 2.06-2.06.94z\"/><path d=\"M17.41 7.96l-1.37-1.37c-.4-.4-.92-.59-1.43-.59-.52 0-1.04.2-1.43.59L10.3 9.45l-7.72 7.72c-.78.78-.78 2.05 0 2.83L4 21.41c.39.39.9.59 1.41.59.51 0 1.02-.2 1.41-.59l7.78-7.78 2.81-2.81c.8-.78.8-2.07 0-2.86zM5.41 20L4 18.59l7.72-7.72 1.47 1.35L5.41 20z\"/>\n",
              "  </svg>\n",
              "      </button>\n",
              "      \n",
              "  <style>\n",
              "    .colab-df-container {\n",
              "      display:flex;\n",
              "      flex-wrap:wrap;\n",
              "      gap: 12px;\n",
              "    }\n",
              "\n",
              "    .colab-df-convert {\n",
              "      background-color: #E8F0FE;\n",
              "      border: none;\n",
              "      border-radius: 50%;\n",
              "      cursor: pointer;\n",
              "      display: none;\n",
              "      fill: #1967D2;\n",
              "      height: 32px;\n",
              "      padding: 0 0 0 0;\n",
              "      width: 32px;\n",
              "    }\n",
              "\n",
              "    .colab-df-convert:hover {\n",
              "      background-color: #E2EBFA;\n",
              "      box-shadow: 0px 1px 2px rgba(60, 64, 67, 0.3), 0px 1px 3px 1px rgba(60, 64, 67, 0.15);\n",
              "      fill: #174EA6;\n",
              "    }\n",
              "\n",
              "    [theme=dark] .colab-df-convert {\n",
              "      background-color: #3B4455;\n",
              "      fill: #D2E3FC;\n",
              "    }\n",
              "\n",
              "    [theme=dark] .colab-df-convert:hover {\n",
              "      background-color: #434B5C;\n",
              "      box-shadow: 0px 1px 3px 1px rgba(0, 0, 0, 0.15);\n",
              "      filter: drop-shadow(0px 1px 2px rgba(0, 0, 0, 0.3));\n",
              "      fill: #FFFFFF;\n",
              "    }\n",
              "  </style>\n",
              "\n",
              "      <script>\n",
              "        const buttonEl =\n",
              "          document.querySelector('#df-404a45ef-9ba8-4572-b16c-69875a74a938 button.colab-df-convert');\n",
              "        buttonEl.style.display =\n",
              "          google.colab.kernel.accessAllowed ? 'block' : 'none';\n",
              "\n",
              "        async function convertToInteractive(key) {\n",
              "          const element = document.querySelector('#df-404a45ef-9ba8-4572-b16c-69875a74a938');\n",
              "          const dataTable =\n",
              "            await google.colab.kernel.invokeFunction('convertToInteractive',\n",
              "                                                     [key], {});\n",
              "          if (!dataTable) return;\n",
              "\n",
              "          const docLinkHtml = 'Like what you see? Visit the ' +\n",
              "            '<a target=\"_blank\" href=https://colab.research.google.com/notebooks/data_table.ipynb>data table notebook</a>'\n",
              "            + ' to learn more about interactive tables.';\n",
              "          element.innerHTML = '';\n",
              "          dataTable['output_type'] = 'display_data';\n",
              "          await google.colab.output.renderOutput(dataTable, element);\n",
              "          const docLink = document.createElement('div');\n",
              "          docLink.innerHTML = docLinkHtml;\n",
              "          element.appendChild(docLink);\n",
              "        }\n",
              "      </script>\n",
              "    </div>\n",
              "  </div>\n",
              "  "
            ]
          },
          "metadata": {},
          "execution_count": 26
        }
      ],
      "source": [
        "# type casting Systemic illness by using get dummies\n",
        "df = pd.get_dummies(data= mp, columns= ['Systemic Illness'],drop_first= False)\n",
        "# dropping every other column to isolate the systemic illness ...will concat later.\n",
        "df_Systemic = df.drop(columns= col,axis = 1)\n",
        "df_Systemic = df_Systemic.drop(columns= ['Systemic Illness_No Systemic Illness'],axis = 1)\n",
        "df_Systemic"
      ]
    },
    {
      "cell_type": "code",
      "execution_count": 27,
      "id": "f02cf522",
      "metadata": {
        "colab": {
          "base_uri": "https://localhost:8080/",
          "height": 455
        },
        "id": "f02cf522",
        "outputId": "2f4c78d5-d783-4d74-bdc7-efc9b30e78cc"
      },
      "outputs": [
        {
          "output_type": "execute_result",
          "data": {
            "text/plain": [
              "               Systemic Illness  Rectal Pain_True  Sore Throat_True  \\\n",
              "Patient_ID                                                            \n",
              "P0          No Systemic Illness                 0                 1   \n",
              "P1                        Fever                 1                 0   \n",
              "P2                        Fever                 0                 1   \n",
              "P3          No Systemic Illness                 1                 0   \n",
              "P4          Swollen Lymph Nodes                 1                 1   \n",
              "...                         ...               ...               ...   \n",
              "P24995      No Systemic Illness                 1                 1   \n",
              "P24996                    Fever                 0                 1   \n",
              "P24997      No Systemic Illness                 1                 1   \n",
              "P24998      Swollen Lymph Nodes                 0                 1   \n",
              "P24999      Swollen Lymph Nodes                 0                 0   \n",
              "\n",
              "            Penile Oedema_True  Oral Lesions_True  Solitary Lesion_True  \\\n",
              "Patient_ID                                                                \n",
              "P0                           1                  1                     0   \n",
              "P1                           1                  1                     0   \n",
              "P2                           1                  0                     0   \n",
              "P3                           0                  0                     1   \n",
              "P4                           1                  0                     0   \n",
              "...                        ...                ...                   ...   \n",
              "P24995                       0                  1                     1   \n",
              "P24996                       1                  0                     1   \n",
              "P24997                       0                  0                     1   \n",
              "P24998                       0                  1                     1   \n",
              "P24999                       1                  0                     0   \n",
              "\n",
              "            Swollen Tonsils_True  HIV Infection_True  \\\n",
              "Patient_ID                                             \n",
              "P0                             1                   0   \n",
              "P1                             0                   1   \n",
              "P2                             0                   1   \n",
              "P3                             1                   1   \n",
              "P4                             1                   1   \n",
              "...                          ...                 ...   \n",
              "P24995                         0                   0   \n",
              "P24996                         1                   1   \n",
              "P24997                         1                   0   \n",
              "P24998                         1                   0   \n",
              "P24999                         1                   1   \n",
              "\n",
              "            Sexually Transmitted Infection_True  MonkeyPox_Positive  \n",
              "Patient_ID                                                           \n",
              "P0                                            0                   0  \n",
              "P1                                            0                   1  \n",
              "P2                                            0                   1  \n",
              "P3                                            0                   1  \n",
              "P4                                            0                   1  \n",
              "...                                         ...                 ...  \n",
              "P24995                                        1                   1  \n",
              "P24996                                        1                   1  \n",
              "P24997                                        0                   1  \n",
              "P24998                                        0                   0  \n",
              "P24999                                        0                   1  \n",
              "\n",
              "[25000 rows x 10 columns]"
            ],
            "text/html": [
              "\n",
              "  <div id=\"df-196eb333-c965-40a9-9c37-2f2151929f41\">\n",
              "    <div class=\"colab-df-container\">\n",
              "      <div>\n",
              "<style scoped>\n",
              "    .dataframe tbody tr th:only-of-type {\n",
              "        vertical-align: middle;\n",
              "    }\n",
              "\n",
              "    .dataframe tbody tr th {\n",
              "        vertical-align: top;\n",
              "    }\n",
              "\n",
              "    .dataframe thead th {\n",
              "        text-align: right;\n",
              "    }\n",
              "</style>\n",
              "<table border=\"1\" class=\"dataframe\">\n",
              "  <thead>\n",
              "    <tr style=\"text-align: right;\">\n",
              "      <th></th>\n",
              "      <th>Systemic Illness</th>\n",
              "      <th>Rectal Pain_True</th>\n",
              "      <th>Sore Throat_True</th>\n",
              "      <th>Penile Oedema_True</th>\n",
              "      <th>Oral Lesions_True</th>\n",
              "      <th>Solitary Lesion_True</th>\n",
              "      <th>Swollen Tonsils_True</th>\n",
              "      <th>HIV Infection_True</th>\n",
              "      <th>Sexually Transmitted Infection_True</th>\n",
              "      <th>MonkeyPox_Positive</th>\n",
              "    </tr>\n",
              "    <tr>\n",
              "      <th>Patient_ID</th>\n",
              "      <th></th>\n",
              "      <th></th>\n",
              "      <th></th>\n",
              "      <th></th>\n",
              "      <th></th>\n",
              "      <th></th>\n",
              "      <th></th>\n",
              "      <th></th>\n",
              "      <th></th>\n",
              "      <th></th>\n",
              "    </tr>\n",
              "  </thead>\n",
              "  <tbody>\n",
              "    <tr>\n",
              "      <th>P0</th>\n",
              "      <td>No Systemic Illness</td>\n",
              "      <td>0</td>\n",
              "      <td>1</td>\n",
              "      <td>1</td>\n",
              "      <td>1</td>\n",
              "      <td>0</td>\n",
              "      <td>1</td>\n",
              "      <td>0</td>\n",
              "      <td>0</td>\n",
              "      <td>0</td>\n",
              "    </tr>\n",
              "    <tr>\n",
              "      <th>P1</th>\n",
              "      <td>Fever</td>\n",
              "      <td>1</td>\n",
              "      <td>0</td>\n",
              "      <td>1</td>\n",
              "      <td>1</td>\n",
              "      <td>0</td>\n",
              "      <td>0</td>\n",
              "      <td>1</td>\n",
              "      <td>0</td>\n",
              "      <td>1</td>\n",
              "    </tr>\n",
              "    <tr>\n",
              "      <th>P2</th>\n",
              "      <td>Fever</td>\n",
              "      <td>0</td>\n",
              "      <td>1</td>\n",
              "      <td>1</td>\n",
              "      <td>0</td>\n",
              "      <td>0</td>\n",
              "      <td>0</td>\n",
              "      <td>1</td>\n",
              "      <td>0</td>\n",
              "      <td>1</td>\n",
              "    </tr>\n",
              "    <tr>\n",
              "      <th>P3</th>\n",
              "      <td>No Systemic Illness</td>\n",
              "      <td>1</td>\n",
              "      <td>0</td>\n",
              "      <td>0</td>\n",
              "      <td>0</td>\n",
              "      <td>1</td>\n",
              "      <td>1</td>\n",
              "      <td>1</td>\n",
              "      <td>0</td>\n",
              "      <td>1</td>\n",
              "    </tr>\n",
              "    <tr>\n",
              "      <th>P4</th>\n",
              "      <td>Swollen Lymph Nodes</td>\n",
              "      <td>1</td>\n",
              "      <td>1</td>\n",
              "      <td>1</td>\n",
              "      <td>0</td>\n",
              "      <td>0</td>\n",
              "      <td>1</td>\n",
              "      <td>1</td>\n",
              "      <td>0</td>\n",
              "      <td>1</td>\n",
              "    </tr>\n",
              "    <tr>\n",
              "      <th>...</th>\n",
              "      <td>...</td>\n",
              "      <td>...</td>\n",
              "      <td>...</td>\n",
              "      <td>...</td>\n",
              "      <td>...</td>\n",
              "      <td>...</td>\n",
              "      <td>...</td>\n",
              "      <td>...</td>\n",
              "      <td>...</td>\n",
              "      <td>...</td>\n",
              "    </tr>\n",
              "    <tr>\n",
              "      <th>P24995</th>\n",
              "      <td>No Systemic Illness</td>\n",
              "      <td>1</td>\n",
              "      <td>1</td>\n",
              "      <td>0</td>\n",
              "      <td>1</td>\n",
              "      <td>1</td>\n",
              "      <td>0</td>\n",
              "      <td>0</td>\n",
              "      <td>1</td>\n",
              "      <td>1</td>\n",
              "    </tr>\n",
              "    <tr>\n",
              "      <th>P24996</th>\n",
              "      <td>Fever</td>\n",
              "      <td>0</td>\n",
              "      <td>1</td>\n",
              "      <td>1</td>\n",
              "      <td>0</td>\n",
              "      <td>1</td>\n",
              "      <td>1</td>\n",
              "      <td>1</td>\n",
              "      <td>1</td>\n",
              "      <td>1</td>\n",
              "    </tr>\n",
              "    <tr>\n",
              "      <th>P24997</th>\n",
              "      <td>No Systemic Illness</td>\n",
              "      <td>1</td>\n",
              "      <td>1</td>\n",
              "      <td>0</td>\n",
              "      <td>0</td>\n",
              "      <td>1</td>\n",
              "      <td>1</td>\n",
              "      <td>0</td>\n",
              "      <td>0</td>\n",
              "      <td>1</td>\n",
              "    </tr>\n",
              "    <tr>\n",
              "      <th>P24998</th>\n",
              "      <td>Swollen Lymph Nodes</td>\n",
              "      <td>0</td>\n",
              "      <td>1</td>\n",
              "      <td>0</td>\n",
              "      <td>1</td>\n",
              "      <td>1</td>\n",
              "      <td>1</td>\n",
              "      <td>0</td>\n",
              "      <td>0</td>\n",
              "      <td>0</td>\n",
              "    </tr>\n",
              "    <tr>\n",
              "      <th>P24999</th>\n",
              "      <td>Swollen Lymph Nodes</td>\n",
              "      <td>0</td>\n",
              "      <td>0</td>\n",
              "      <td>1</td>\n",
              "      <td>0</td>\n",
              "      <td>0</td>\n",
              "      <td>1</td>\n",
              "      <td>1</td>\n",
              "      <td>0</td>\n",
              "      <td>1</td>\n",
              "    </tr>\n",
              "  </tbody>\n",
              "</table>\n",
              "<p>25000 rows × 10 columns</p>\n",
              "</div>\n",
              "      <button class=\"colab-df-convert\" onclick=\"convertToInteractive('df-196eb333-c965-40a9-9c37-2f2151929f41')\"\n",
              "              title=\"Convert this dataframe to an interactive table.\"\n",
              "              style=\"display:none;\">\n",
              "        \n",
              "  <svg xmlns=\"http://www.w3.org/2000/svg\" height=\"24px\"viewBox=\"0 0 24 24\"\n",
              "       width=\"24px\">\n",
              "    <path d=\"M0 0h24v24H0V0z\" fill=\"none\"/>\n",
              "    <path d=\"M18.56 5.44l.94 2.06.94-2.06 2.06-.94-2.06-.94-.94-2.06-.94 2.06-2.06.94zm-11 1L8.5 8.5l.94-2.06 2.06-.94-2.06-.94L8.5 2.5l-.94 2.06-2.06.94zm10 10l.94 2.06.94-2.06 2.06-.94-2.06-.94-.94-2.06-.94 2.06-2.06.94z\"/><path d=\"M17.41 7.96l-1.37-1.37c-.4-.4-.92-.59-1.43-.59-.52 0-1.04.2-1.43.59L10.3 9.45l-7.72 7.72c-.78.78-.78 2.05 0 2.83L4 21.41c.39.39.9.59 1.41.59.51 0 1.02-.2 1.41-.59l7.78-7.78 2.81-2.81c.8-.78.8-2.07 0-2.86zM5.41 20L4 18.59l7.72-7.72 1.47 1.35L5.41 20z\"/>\n",
              "  </svg>\n",
              "      </button>\n",
              "      \n",
              "  <style>\n",
              "    .colab-df-container {\n",
              "      display:flex;\n",
              "      flex-wrap:wrap;\n",
              "      gap: 12px;\n",
              "    }\n",
              "\n",
              "    .colab-df-convert {\n",
              "      background-color: #E8F0FE;\n",
              "      border: none;\n",
              "      border-radius: 50%;\n",
              "      cursor: pointer;\n",
              "      display: none;\n",
              "      fill: #1967D2;\n",
              "      height: 32px;\n",
              "      padding: 0 0 0 0;\n",
              "      width: 32px;\n",
              "    }\n",
              "\n",
              "    .colab-df-convert:hover {\n",
              "      background-color: #E2EBFA;\n",
              "      box-shadow: 0px 1px 2px rgba(60, 64, 67, 0.3), 0px 1px 3px 1px rgba(60, 64, 67, 0.15);\n",
              "      fill: #174EA6;\n",
              "    }\n",
              "\n",
              "    [theme=dark] .colab-df-convert {\n",
              "      background-color: #3B4455;\n",
              "      fill: #D2E3FC;\n",
              "    }\n",
              "\n",
              "    [theme=dark] .colab-df-convert:hover {\n",
              "      background-color: #434B5C;\n",
              "      box-shadow: 0px 1px 3px 1px rgba(0, 0, 0, 0.15);\n",
              "      filter: drop-shadow(0px 1px 2px rgba(0, 0, 0, 0.3));\n",
              "      fill: #FFFFFF;\n",
              "    }\n",
              "  </style>\n",
              "\n",
              "      <script>\n",
              "        const buttonEl =\n",
              "          document.querySelector('#df-196eb333-c965-40a9-9c37-2f2151929f41 button.colab-df-convert');\n",
              "        buttonEl.style.display =\n",
              "          google.colab.kernel.accessAllowed ? 'block' : 'none';\n",
              "\n",
              "        async function convertToInteractive(key) {\n",
              "          const element = document.querySelector('#df-196eb333-c965-40a9-9c37-2f2151929f41');\n",
              "          const dataTable =\n",
              "            await google.colab.kernel.invokeFunction('convertToInteractive',\n",
              "                                                     [key], {});\n",
              "          if (!dataTable) return;\n",
              "\n",
              "          const docLinkHtml = 'Like what you see? Visit the ' +\n",
              "            '<a target=\"_blank\" href=https://colab.research.google.com/notebooks/data_table.ipynb>data table notebook</a>'\n",
              "            + ' to learn more about interactive tables.';\n",
              "          element.innerHTML = '';\n",
              "          dataTable['output_type'] = 'display_data';\n",
              "          await google.colab.output.renderOutput(dataTable, element);\n",
              "          const docLink = document.createElement('div');\n",
              "          docLink.innerHTML = docLinkHtml;\n",
              "          element.appendChild(docLink);\n",
              "        }\n",
              "      </script>\n",
              "    </div>\n",
              "  </div>\n",
              "  "
            ]
          },
          "metadata": {},
          "execution_count": 27
        }
      ],
      "source": [
        "df_d = pd.get_dummies(data = mp, columns= col, drop_first= True)\n",
        "df_d"
      ]
    },
    {
      "cell_type": "code",
      "execution_count": 28,
      "id": "cb04fc68",
      "metadata": {
        "id": "cb04fc68"
      },
      "outputs": [],
      "source": [
        "# Dropping Systemic illness as its already dummied out\n",
        "\n",
        "df_d.drop(axis = 1, columns= ['Systemic Illness'] ,inplace = True)\n"
      ]
    },
    {
      "cell_type": "code",
      "execution_count": 29,
      "id": "be3ebd15",
      "metadata": {
        "scrolled": false,
        "colab": {
          "base_uri": "https://localhost:8080/",
          "height": 238
        },
        "id": "be3ebd15",
        "outputId": "ada6628d-690a-4133-863f-c2b65d362e71"
      },
      "outputs": [
        {
          "output_type": "execute_result",
          "data": {
            "text/plain": [
              "            Rectal Pain_True  Sore Throat_True  Penile Oedema_True  \\\n",
              "Patient_ID                                                           \n",
              "P0                         0                 1                   1   \n",
              "P1                         1                 0                   1   \n",
              "P2                         0                 1                   1   \n",
              "P3                         1                 0                   0   \n",
              "P4                         1                 1                   1   \n",
              "\n",
              "            Oral Lesions_True  Solitary Lesion_True  Swollen Tonsils_True  \\\n",
              "Patient_ID                                                                  \n",
              "P0                          1                     0                     1   \n",
              "P1                          1                     0                     0   \n",
              "P2                          0                     0                     0   \n",
              "P3                          0                     1                     1   \n",
              "P4                          0                     0                     1   \n",
              "\n",
              "            HIV Infection_True  Sexually Transmitted Infection_True  \\\n",
              "Patient_ID                                                            \n",
              "P0                           0                                    0   \n",
              "P1                           1                                    0   \n",
              "P2                           1                                    0   \n",
              "P3                           1                                    0   \n",
              "P4                           1                                    0   \n",
              "\n",
              "            MonkeyPox_Positive  \n",
              "Patient_ID                      \n",
              "P0                           0  \n",
              "P1                           1  \n",
              "P2                           1  \n",
              "P3                           1  \n",
              "P4                           1  "
            ],
            "text/html": [
              "\n",
              "  <div id=\"df-322c6267-1999-4519-93fe-7e4d46b095f6\">\n",
              "    <div class=\"colab-df-container\">\n",
              "      <div>\n",
              "<style scoped>\n",
              "    .dataframe tbody tr th:only-of-type {\n",
              "        vertical-align: middle;\n",
              "    }\n",
              "\n",
              "    .dataframe tbody tr th {\n",
              "        vertical-align: top;\n",
              "    }\n",
              "\n",
              "    .dataframe thead th {\n",
              "        text-align: right;\n",
              "    }\n",
              "</style>\n",
              "<table border=\"1\" class=\"dataframe\">\n",
              "  <thead>\n",
              "    <tr style=\"text-align: right;\">\n",
              "      <th></th>\n",
              "      <th>Rectal Pain_True</th>\n",
              "      <th>Sore Throat_True</th>\n",
              "      <th>Penile Oedema_True</th>\n",
              "      <th>Oral Lesions_True</th>\n",
              "      <th>Solitary Lesion_True</th>\n",
              "      <th>Swollen Tonsils_True</th>\n",
              "      <th>HIV Infection_True</th>\n",
              "      <th>Sexually Transmitted Infection_True</th>\n",
              "      <th>MonkeyPox_Positive</th>\n",
              "    </tr>\n",
              "    <tr>\n",
              "      <th>Patient_ID</th>\n",
              "      <th></th>\n",
              "      <th></th>\n",
              "      <th></th>\n",
              "      <th></th>\n",
              "      <th></th>\n",
              "      <th></th>\n",
              "      <th></th>\n",
              "      <th></th>\n",
              "      <th></th>\n",
              "    </tr>\n",
              "  </thead>\n",
              "  <tbody>\n",
              "    <tr>\n",
              "      <th>P0</th>\n",
              "      <td>0</td>\n",
              "      <td>1</td>\n",
              "      <td>1</td>\n",
              "      <td>1</td>\n",
              "      <td>0</td>\n",
              "      <td>1</td>\n",
              "      <td>0</td>\n",
              "      <td>0</td>\n",
              "      <td>0</td>\n",
              "    </tr>\n",
              "    <tr>\n",
              "      <th>P1</th>\n",
              "      <td>1</td>\n",
              "      <td>0</td>\n",
              "      <td>1</td>\n",
              "      <td>1</td>\n",
              "      <td>0</td>\n",
              "      <td>0</td>\n",
              "      <td>1</td>\n",
              "      <td>0</td>\n",
              "      <td>1</td>\n",
              "    </tr>\n",
              "    <tr>\n",
              "      <th>P2</th>\n",
              "      <td>0</td>\n",
              "      <td>1</td>\n",
              "      <td>1</td>\n",
              "      <td>0</td>\n",
              "      <td>0</td>\n",
              "      <td>0</td>\n",
              "      <td>1</td>\n",
              "      <td>0</td>\n",
              "      <td>1</td>\n",
              "    </tr>\n",
              "    <tr>\n",
              "      <th>P3</th>\n",
              "      <td>1</td>\n",
              "      <td>0</td>\n",
              "      <td>0</td>\n",
              "      <td>0</td>\n",
              "      <td>1</td>\n",
              "      <td>1</td>\n",
              "      <td>1</td>\n",
              "      <td>0</td>\n",
              "      <td>1</td>\n",
              "    </tr>\n",
              "    <tr>\n",
              "      <th>P4</th>\n",
              "      <td>1</td>\n",
              "      <td>1</td>\n",
              "      <td>1</td>\n",
              "      <td>0</td>\n",
              "      <td>0</td>\n",
              "      <td>1</td>\n",
              "      <td>1</td>\n",
              "      <td>0</td>\n",
              "      <td>1</td>\n",
              "    </tr>\n",
              "  </tbody>\n",
              "</table>\n",
              "</div>\n",
              "      <button class=\"colab-df-convert\" onclick=\"convertToInteractive('df-322c6267-1999-4519-93fe-7e4d46b095f6')\"\n",
              "              title=\"Convert this dataframe to an interactive table.\"\n",
              "              style=\"display:none;\">\n",
              "        \n",
              "  <svg xmlns=\"http://www.w3.org/2000/svg\" height=\"24px\"viewBox=\"0 0 24 24\"\n",
              "       width=\"24px\">\n",
              "    <path d=\"M0 0h24v24H0V0z\" fill=\"none\"/>\n",
              "    <path d=\"M18.56 5.44l.94 2.06.94-2.06 2.06-.94-2.06-.94-.94-2.06-.94 2.06-2.06.94zm-11 1L8.5 8.5l.94-2.06 2.06-.94-2.06-.94L8.5 2.5l-.94 2.06-2.06.94zm10 10l.94 2.06.94-2.06 2.06-.94-2.06-.94-.94-2.06-.94 2.06-2.06.94z\"/><path d=\"M17.41 7.96l-1.37-1.37c-.4-.4-.92-.59-1.43-.59-.52 0-1.04.2-1.43.59L10.3 9.45l-7.72 7.72c-.78.78-.78 2.05 0 2.83L4 21.41c.39.39.9.59 1.41.59.51 0 1.02-.2 1.41-.59l7.78-7.78 2.81-2.81c.8-.78.8-2.07 0-2.86zM5.41 20L4 18.59l7.72-7.72 1.47 1.35L5.41 20z\"/>\n",
              "  </svg>\n",
              "      </button>\n",
              "      \n",
              "  <style>\n",
              "    .colab-df-container {\n",
              "      display:flex;\n",
              "      flex-wrap:wrap;\n",
              "      gap: 12px;\n",
              "    }\n",
              "\n",
              "    .colab-df-convert {\n",
              "      background-color: #E8F0FE;\n",
              "      border: none;\n",
              "      border-radius: 50%;\n",
              "      cursor: pointer;\n",
              "      display: none;\n",
              "      fill: #1967D2;\n",
              "      height: 32px;\n",
              "      padding: 0 0 0 0;\n",
              "      width: 32px;\n",
              "    }\n",
              "\n",
              "    .colab-df-convert:hover {\n",
              "      background-color: #E2EBFA;\n",
              "      box-shadow: 0px 1px 2px rgba(60, 64, 67, 0.3), 0px 1px 3px 1px rgba(60, 64, 67, 0.15);\n",
              "      fill: #174EA6;\n",
              "    }\n",
              "\n",
              "    [theme=dark] .colab-df-convert {\n",
              "      background-color: #3B4455;\n",
              "      fill: #D2E3FC;\n",
              "    }\n",
              "\n",
              "    [theme=dark] .colab-df-convert:hover {\n",
              "      background-color: #434B5C;\n",
              "      box-shadow: 0px 1px 3px 1px rgba(0, 0, 0, 0.15);\n",
              "      filter: drop-shadow(0px 1px 2px rgba(0, 0, 0, 0.3));\n",
              "      fill: #FFFFFF;\n",
              "    }\n",
              "  </style>\n",
              "\n",
              "      <script>\n",
              "        const buttonEl =\n",
              "          document.querySelector('#df-322c6267-1999-4519-93fe-7e4d46b095f6 button.colab-df-convert');\n",
              "        buttonEl.style.display =\n",
              "          google.colab.kernel.accessAllowed ? 'block' : 'none';\n",
              "\n",
              "        async function convertToInteractive(key) {\n",
              "          const element = document.querySelector('#df-322c6267-1999-4519-93fe-7e4d46b095f6');\n",
              "          const dataTable =\n",
              "            await google.colab.kernel.invokeFunction('convertToInteractive',\n",
              "                                                     [key], {});\n",
              "          if (!dataTable) return;\n",
              "\n",
              "          const docLinkHtml = 'Like what you see? Visit the ' +\n",
              "            '<a target=\"_blank\" href=https://colab.research.google.com/notebooks/data_table.ipynb>data table notebook</a>'\n",
              "            + ' to learn more about interactive tables.';\n",
              "          element.innerHTML = '';\n",
              "          dataTable['output_type'] = 'display_data';\n",
              "          await google.colab.output.renderOutput(dataTable, element);\n",
              "          const docLink = document.createElement('div');\n",
              "          docLink.innerHTML = docLinkHtml;\n",
              "          element.appendChild(docLink);\n",
              "        }\n",
              "      </script>\n",
              "    </div>\n",
              "  </div>\n",
              "  "
            ]
          },
          "metadata": {},
          "execution_count": 29
        }
      ],
      "source": [
        "# Column names will have to be changed but that can be done in one go\n",
        "# first we finish up on converting the column data types t a usable state.\n",
        "df_d.head()"
      ]
    },
    {
      "cell_type": "code",
      "execution_count": 30,
      "id": "49ad2fe5",
      "metadata": {
        "scrolled": true,
        "colab": {
          "base_uri": "https://localhost:8080/",
          "height": 534
        },
        "id": "49ad2fe5",
        "outputId": "97d022f9-852c-400d-80bf-b9f8db2a5d7c"
      },
      "outputs": [
        {
          "output_type": "execute_result",
          "data": {
            "text/plain": [
              "            Systemic Illness_Fever  Systemic Illness_Muscle Aches and Pain  \\\n",
              "Patient_ID                                                                   \n",
              "P0                               0                                       0   \n",
              "P1                               1                                       0   \n",
              "P2                               1                                       0   \n",
              "P3                               0                                       0   \n",
              "P4                               0                                       0   \n",
              "...                            ...                                     ...   \n",
              "P24995                           0                                       0   \n",
              "P24996                           1                                       0   \n",
              "P24997                           0                                       0   \n",
              "P24998                           0                                       0   \n",
              "P24999                           0                                       0   \n",
              "\n",
              "            Systemic Illness_Swollen Lymph Nodes  Rectal Pain_True  \\\n",
              "Patient_ID                                                           \n",
              "P0                                             0                 0   \n",
              "P1                                             0                 1   \n",
              "P2                                             0                 0   \n",
              "P3                                             0                 1   \n",
              "P4                                             1                 1   \n",
              "...                                          ...               ...   \n",
              "P24995                                         0                 1   \n",
              "P24996                                         0                 0   \n",
              "P24997                                         0                 1   \n",
              "P24998                                         1                 0   \n",
              "P24999                                         1                 0   \n",
              "\n",
              "            Sore Throat_True  Penile Oedema_True  Oral Lesions_True  \\\n",
              "Patient_ID                                                            \n",
              "P0                         1                   1                  1   \n",
              "P1                         0                   1                  1   \n",
              "P2                         1                   1                  0   \n",
              "P3                         0                   0                  0   \n",
              "P4                         1                   1                  0   \n",
              "...                      ...                 ...                ...   \n",
              "P24995                     1                   0                  1   \n",
              "P24996                     1                   1                  0   \n",
              "P24997                     1                   0                  0   \n",
              "P24998                     1                   0                  1   \n",
              "P24999                     0                   1                  0   \n",
              "\n",
              "            Solitary Lesion_True  Swollen Tonsils_True  HIV Infection_True  \\\n",
              "Patient_ID                                                                   \n",
              "P0                             0                     1                   0   \n",
              "P1                             0                     0                   1   \n",
              "P2                             0                     0                   1   \n",
              "P3                             1                     1                   1   \n",
              "P4                             0                     1                   1   \n",
              "...                          ...                   ...                 ...   \n",
              "P24995                         1                     0                   0   \n",
              "P24996                         1                     1                   1   \n",
              "P24997                         1                     1                   0   \n",
              "P24998                         1                     1                   0   \n",
              "P24999                         0                     1                   1   \n",
              "\n",
              "            Sexually Transmitted Infection_True  MonkeyPox_Positive  \n",
              "Patient_ID                                                           \n",
              "P0                                            0                   0  \n",
              "P1                                            0                   1  \n",
              "P2                                            0                   1  \n",
              "P3                                            0                   1  \n",
              "P4                                            0                   1  \n",
              "...                                         ...                 ...  \n",
              "P24995                                        1                   1  \n",
              "P24996                                        1                   1  \n",
              "P24997                                        0                   1  \n",
              "P24998                                        0                   0  \n",
              "P24999                                        0                   1  \n",
              "\n",
              "[25000 rows x 12 columns]"
            ],
            "text/html": [
              "\n",
              "  <div id=\"df-42dabced-c18d-4c6b-9ca2-d29a2efd116a\">\n",
              "    <div class=\"colab-df-container\">\n",
              "      <div>\n",
              "<style scoped>\n",
              "    .dataframe tbody tr th:only-of-type {\n",
              "        vertical-align: middle;\n",
              "    }\n",
              "\n",
              "    .dataframe tbody tr th {\n",
              "        vertical-align: top;\n",
              "    }\n",
              "\n",
              "    .dataframe thead th {\n",
              "        text-align: right;\n",
              "    }\n",
              "</style>\n",
              "<table border=\"1\" class=\"dataframe\">\n",
              "  <thead>\n",
              "    <tr style=\"text-align: right;\">\n",
              "      <th></th>\n",
              "      <th>Systemic Illness_Fever</th>\n",
              "      <th>Systemic Illness_Muscle Aches and Pain</th>\n",
              "      <th>Systemic Illness_Swollen Lymph Nodes</th>\n",
              "      <th>Rectal Pain_True</th>\n",
              "      <th>Sore Throat_True</th>\n",
              "      <th>Penile Oedema_True</th>\n",
              "      <th>Oral Lesions_True</th>\n",
              "      <th>Solitary Lesion_True</th>\n",
              "      <th>Swollen Tonsils_True</th>\n",
              "      <th>HIV Infection_True</th>\n",
              "      <th>Sexually Transmitted Infection_True</th>\n",
              "      <th>MonkeyPox_Positive</th>\n",
              "    </tr>\n",
              "    <tr>\n",
              "      <th>Patient_ID</th>\n",
              "      <th></th>\n",
              "      <th></th>\n",
              "      <th></th>\n",
              "      <th></th>\n",
              "      <th></th>\n",
              "      <th></th>\n",
              "      <th></th>\n",
              "      <th></th>\n",
              "      <th></th>\n",
              "      <th></th>\n",
              "      <th></th>\n",
              "      <th></th>\n",
              "    </tr>\n",
              "  </thead>\n",
              "  <tbody>\n",
              "    <tr>\n",
              "      <th>P0</th>\n",
              "      <td>0</td>\n",
              "      <td>0</td>\n",
              "      <td>0</td>\n",
              "      <td>0</td>\n",
              "      <td>1</td>\n",
              "      <td>1</td>\n",
              "      <td>1</td>\n",
              "      <td>0</td>\n",
              "      <td>1</td>\n",
              "      <td>0</td>\n",
              "      <td>0</td>\n",
              "      <td>0</td>\n",
              "    </tr>\n",
              "    <tr>\n",
              "      <th>P1</th>\n",
              "      <td>1</td>\n",
              "      <td>0</td>\n",
              "      <td>0</td>\n",
              "      <td>1</td>\n",
              "      <td>0</td>\n",
              "      <td>1</td>\n",
              "      <td>1</td>\n",
              "      <td>0</td>\n",
              "      <td>0</td>\n",
              "      <td>1</td>\n",
              "      <td>0</td>\n",
              "      <td>1</td>\n",
              "    </tr>\n",
              "    <tr>\n",
              "      <th>P2</th>\n",
              "      <td>1</td>\n",
              "      <td>0</td>\n",
              "      <td>0</td>\n",
              "      <td>0</td>\n",
              "      <td>1</td>\n",
              "      <td>1</td>\n",
              "      <td>0</td>\n",
              "      <td>0</td>\n",
              "      <td>0</td>\n",
              "      <td>1</td>\n",
              "      <td>0</td>\n",
              "      <td>1</td>\n",
              "    </tr>\n",
              "    <tr>\n",
              "      <th>P3</th>\n",
              "      <td>0</td>\n",
              "      <td>0</td>\n",
              "      <td>0</td>\n",
              "      <td>1</td>\n",
              "      <td>0</td>\n",
              "      <td>0</td>\n",
              "      <td>0</td>\n",
              "      <td>1</td>\n",
              "      <td>1</td>\n",
              "      <td>1</td>\n",
              "      <td>0</td>\n",
              "      <td>1</td>\n",
              "    </tr>\n",
              "    <tr>\n",
              "      <th>P4</th>\n",
              "      <td>0</td>\n",
              "      <td>0</td>\n",
              "      <td>1</td>\n",
              "      <td>1</td>\n",
              "      <td>1</td>\n",
              "      <td>1</td>\n",
              "      <td>0</td>\n",
              "      <td>0</td>\n",
              "      <td>1</td>\n",
              "      <td>1</td>\n",
              "      <td>0</td>\n",
              "      <td>1</td>\n",
              "    </tr>\n",
              "    <tr>\n",
              "      <th>...</th>\n",
              "      <td>...</td>\n",
              "      <td>...</td>\n",
              "      <td>...</td>\n",
              "      <td>...</td>\n",
              "      <td>...</td>\n",
              "      <td>...</td>\n",
              "      <td>...</td>\n",
              "      <td>...</td>\n",
              "      <td>...</td>\n",
              "      <td>...</td>\n",
              "      <td>...</td>\n",
              "      <td>...</td>\n",
              "    </tr>\n",
              "    <tr>\n",
              "      <th>P24995</th>\n",
              "      <td>0</td>\n",
              "      <td>0</td>\n",
              "      <td>0</td>\n",
              "      <td>1</td>\n",
              "      <td>1</td>\n",
              "      <td>0</td>\n",
              "      <td>1</td>\n",
              "      <td>1</td>\n",
              "      <td>0</td>\n",
              "      <td>0</td>\n",
              "      <td>1</td>\n",
              "      <td>1</td>\n",
              "    </tr>\n",
              "    <tr>\n",
              "      <th>P24996</th>\n",
              "      <td>1</td>\n",
              "      <td>0</td>\n",
              "      <td>0</td>\n",
              "      <td>0</td>\n",
              "      <td>1</td>\n",
              "      <td>1</td>\n",
              "      <td>0</td>\n",
              "      <td>1</td>\n",
              "      <td>1</td>\n",
              "      <td>1</td>\n",
              "      <td>1</td>\n",
              "      <td>1</td>\n",
              "    </tr>\n",
              "    <tr>\n",
              "      <th>P24997</th>\n",
              "      <td>0</td>\n",
              "      <td>0</td>\n",
              "      <td>0</td>\n",
              "      <td>1</td>\n",
              "      <td>1</td>\n",
              "      <td>0</td>\n",
              "      <td>0</td>\n",
              "      <td>1</td>\n",
              "      <td>1</td>\n",
              "      <td>0</td>\n",
              "      <td>0</td>\n",
              "      <td>1</td>\n",
              "    </tr>\n",
              "    <tr>\n",
              "      <th>P24998</th>\n",
              "      <td>0</td>\n",
              "      <td>0</td>\n",
              "      <td>1</td>\n",
              "      <td>0</td>\n",
              "      <td>1</td>\n",
              "      <td>0</td>\n",
              "      <td>1</td>\n",
              "      <td>1</td>\n",
              "      <td>1</td>\n",
              "      <td>0</td>\n",
              "      <td>0</td>\n",
              "      <td>0</td>\n",
              "    </tr>\n",
              "    <tr>\n",
              "      <th>P24999</th>\n",
              "      <td>0</td>\n",
              "      <td>0</td>\n",
              "      <td>1</td>\n",
              "      <td>0</td>\n",
              "      <td>0</td>\n",
              "      <td>1</td>\n",
              "      <td>0</td>\n",
              "      <td>0</td>\n",
              "      <td>1</td>\n",
              "      <td>1</td>\n",
              "      <td>0</td>\n",
              "      <td>1</td>\n",
              "    </tr>\n",
              "  </tbody>\n",
              "</table>\n",
              "<p>25000 rows × 12 columns</p>\n",
              "</div>\n",
              "      <button class=\"colab-df-convert\" onclick=\"convertToInteractive('df-42dabced-c18d-4c6b-9ca2-d29a2efd116a')\"\n",
              "              title=\"Convert this dataframe to an interactive table.\"\n",
              "              style=\"display:none;\">\n",
              "        \n",
              "  <svg xmlns=\"http://www.w3.org/2000/svg\" height=\"24px\"viewBox=\"0 0 24 24\"\n",
              "       width=\"24px\">\n",
              "    <path d=\"M0 0h24v24H0V0z\" fill=\"none\"/>\n",
              "    <path d=\"M18.56 5.44l.94 2.06.94-2.06 2.06-.94-2.06-.94-.94-2.06-.94 2.06-2.06.94zm-11 1L8.5 8.5l.94-2.06 2.06-.94-2.06-.94L8.5 2.5l-.94 2.06-2.06.94zm10 10l.94 2.06.94-2.06 2.06-.94-2.06-.94-.94-2.06-.94 2.06-2.06.94z\"/><path d=\"M17.41 7.96l-1.37-1.37c-.4-.4-.92-.59-1.43-.59-.52 0-1.04.2-1.43.59L10.3 9.45l-7.72 7.72c-.78.78-.78 2.05 0 2.83L4 21.41c.39.39.9.59 1.41.59.51 0 1.02-.2 1.41-.59l7.78-7.78 2.81-2.81c.8-.78.8-2.07 0-2.86zM5.41 20L4 18.59l7.72-7.72 1.47 1.35L5.41 20z\"/>\n",
              "  </svg>\n",
              "      </button>\n",
              "      \n",
              "  <style>\n",
              "    .colab-df-container {\n",
              "      display:flex;\n",
              "      flex-wrap:wrap;\n",
              "      gap: 12px;\n",
              "    }\n",
              "\n",
              "    .colab-df-convert {\n",
              "      background-color: #E8F0FE;\n",
              "      border: none;\n",
              "      border-radius: 50%;\n",
              "      cursor: pointer;\n",
              "      display: none;\n",
              "      fill: #1967D2;\n",
              "      height: 32px;\n",
              "      padding: 0 0 0 0;\n",
              "      width: 32px;\n",
              "    }\n",
              "\n",
              "    .colab-df-convert:hover {\n",
              "      background-color: #E2EBFA;\n",
              "      box-shadow: 0px 1px 2px rgba(60, 64, 67, 0.3), 0px 1px 3px 1px rgba(60, 64, 67, 0.15);\n",
              "      fill: #174EA6;\n",
              "    }\n",
              "\n",
              "    [theme=dark] .colab-df-convert {\n",
              "      background-color: #3B4455;\n",
              "      fill: #D2E3FC;\n",
              "    }\n",
              "\n",
              "    [theme=dark] .colab-df-convert:hover {\n",
              "      background-color: #434B5C;\n",
              "      box-shadow: 0px 1px 3px 1px rgba(0, 0, 0, 0.15);\n",
              "      filter: drop-shadow(0px 1px 2px rgba(0, 0, 0, 0.3));\n",
              "      fill: #FFFFFF;\n",
              "    }\n",
              "  </style>\n",
              "\n",
              "      <script>\n",
              "        const buttonEl =\n",
              "          document.querySelector('#df-42dabced-c18d-4c6b-9ca2-d29a2efd116a button.colab-df-convert');\n",
              "        buttonEl.style.display =\n",
              "          google.colab.kernel.accessAllowed ? 'block' : 'none';\n",
              "\n",
              "        async function convertToInteractive(key) {\n",
              "          const element = document.querySelector('#df-42dabced-c18d-4c6b-9ca2-d29a2efd116a');\n",
              "          const dataTable =\n",
              "            await google.colab.kernel.invokeFunction('convertToInteractive',\n",
              "                                                     [key], {});\n",
              "          if (!dataTable) return;\n",
              "\n",
              "          const docLinkHtml = 'Like what you see? Visit the ' +\n",
              "            '<a target=\"_blank\" href=https://colab.research.google.com/notebooks/data_table.ipynb>data table notebook</a>'\n",
              "            + ' to learn more about interactive tables.';\n",
              "          element.innerHTML = '';\n",
              "          dataTable['output_type'] = 'display_data';\n",
              "          await google.colab.output.renderOutput(dataTable, element);\n",
              "          const docLink = document.createElement('div');\n",
              "          docLink.innerHTML = docLinkHtml;\n",
              "          element.appendChild(docLink);\n",
              "        }\n",
              "      </script>\n",
              "    </div>\n",
              "  </div>\n",
              "  "
            ]
          },
          "metadata": {},
          "execution_count": 30
        }
      ],
      "source": [
        "df_clean = pd.concat([df_Systemic,df_d], axis = 1,join= 'inner')\n",
        "df_clean"
      ]
    },
    {
      "cell_type": "code",
      "execution_count": 31,
      "id": "f2de6955",
      "metadata": {
        "colab": {
          "base_uri": "https://localhost:8080/"
        },
        "id": "f2de6955",
        "outputId": "d737eb35-459e-4c4f-d1f4-1015417b2c28"
      },
      "outputs": [
        {
          "output_type": "execute_result",
          "data": {
            "text/plain": [
              "['Systemic Illness_Fever',\n",
              " 'Systemic Illness_Muscle Aches and Pain',\n",
              " 'Systemic Illness_Swollen Lymph Nodes',\n",
              " 'Rectal Pain_True',\n",
              " 'Sore Throat_True',\n",
              " 'Penile Oedema_True',\n",
              " 'Oral Lesions_True',\n",
              " 'Solitary Lesion_True',\n",
              " 'Swollen Tonsils_True',\n",
              " 'HIV Infection_True',\n",
              " 'Sexually Transmitted Infection_True',\n",
              " 'MonkeyPox_Positive']"
            ]
          },
          "metadata": {},
          "execution_count": 31
        }
      ],
      "source": [
        "list(df_clean.columns)"
      ]
    },
    {
      "cell_type": "code",
      "execution_count": 32,
      "id": "1734d653",
      "metadata": {
        "scrolled": true,
        "colab": {
          "base_uri": "https://localhost:8080/",
          "height": 394
        },
        "id": "1734d653",
        "outputId": "159f7908-9a02-4c78-e55d-82fe3c11badb"
      },
      "outputs": [
        {
          "output_type": "execute_result",
          "data": {
            "text/plain": [
              "            SI_Fever  SI_Muscle_Aches&Pain  SI_Swollen_Lymph_Nodes  \\\n",
              "Patient_ID                                                           \n",
              "P0                 0                     0                       0   \n",
              "P1                 1                     0                       0   \n",
              "P2                 1                     0                       0   \n",
              "P3                 0                     0                       0   \n",
              "P4                 0                     0                       1   \n",
              "P5                 0                     0                       1   \n",
              "P6                 1                     0                       0   \n",
              "P7                 1                     0                       0   \n",
              "P8                 0                     1                       0   \n",
              "P9                 1                     0                       0   \n",
              "\n",
              "            Rectal_Pain  Sore_Throat  Penile_Oedema  Oral_Lesions  \\\n",
              "Patient_ID                                                          \n",
              "P0                    0            1              1             1   \n",
              "P1                    1            0              1             1   \n",
              "P2                    0            1              1             0   \n",
              "P3                    1            0              0             0   \n",
              "P4                    1            1              1             0   \n",
              "P5                    0            1              0             0   \n",
              "P6                    0            1              0             0   \n",
              "P7                    1            1              0             1   \n",
              "P8                    0            1              1             1   \n",
              "P9                    0            0              1             1   \n",
              "\n",
              "            Solitary_Leision  Swollen_Tonsils  HIV_Infection  STI  Target  \n",
              "Patient_ID                                                                 \n",
              "P0                         0                1              0    0       0  \n",
              "P1                         0                0              1    0       1  \n",
              "P2                         0                0              1    0       1  \n",
              "P3                         1                1              1    0       1  \n",
              "P4                         0                1              1    0       1  \n",
              "P5                         0                0              0    0       0  \n",
              "P6                         0                0              1    0       1  \n",
              "P7                         1                1              0    0       1  \n",
              "P8                         0                0              0    0       1  \n",
              "P9                         1                0              1    0       0  "
            ],
            "text/html": [
              "\n",
              "  <div id=\"df-3392a710-aa48-4d5f-979e-cd9c046b2994\">\n",
              "    <div class=\"colab-df-container\">\n",
              "      <div>\n",
              "<style scoped>\n",
              "    .dataframe tbody tr th:only-of-type {\n",
              "        vertical-align: middle;\n",
              "    }\n",
              "\n",
              "    .dataframe tbody tr th {\n",
              "        vertical-align: top;\n",
              "    }\n",
              "\n",
              "    .dataframe thead th {\n",
              "        text-align: right;\n",
              "    }\n",
              "</style>\n",
              "<table border=\"1\" class=\"dataframe\">\n",
              "  <thead>\n",
              "    <tr style=\"text-align: right;\">\n",
              "      <th></th>\n",
              "      <th>SI_Fever</th>\n",
              "      <th>SI_Muscle_Aches&amp;Pain</th>\n",
              "      <th>SI_Swollen_Lymph_Nodes</th>\n",
              "      <th>Rectal_Pain</th>\n",
              "      <th>Sore_Throat</th>\n",
              "      <th>Penile_Oedema</th>\n",
              "      <th>Oral_Lesions</th>\n",
              "      <th>Solitary_Leision</th>\n",
              "      <th>Swollen_Tonsils</th>\n",
              "      <th>HIV_Infection</th>\n",
              "      <th>STI</th>\n",
              "      <th>Target</th>\n",
              "    </tr>\n",
              "    <tr>\n",
              "      <th>Patient_ID</th>\n",
              "      <th></th>\n",
              "      <th></th>\n",
              "      <th></th>\n",
              "      <th></th>\n",
              "      <th></th>\n",
              "      <th></th>\n",
              "      <th></th>\n",
              "      <th></th>\n",
              "      <th></th>\n",
              "      <th></th>\n",
              "      <th></th>\n",
              "      <th></th>\n",
              "    </tr>\n",
              "  </thead>\n",
              "  <tbody>\n",
              "    <tr>\n",
              "      <th>P0</th>\n",
              "      <td>0</td>\n",
              "      <td>0</td>\n",
              "      <td>0</td>\n",
              "      <td>0</td>\n",
              "      <td>1</td>\n",
              "      <td>1</td>\n",
              "      <td>1</td>\n",
              "      <td>0</td>\n",
              "      <td>1</td>\n",
              "      <td>0</td>\n",
              "      <td>0</td>\n",
              "      <td>0</td>\n",
              "    </tr>\n",
              "    <tr>\n",
              "      <th>P1</th>\n",
              "      <td>1</td>\n",
              "      <td>0</td>\n",
              "      <td>0</td>\n",
              "      <td>1</td>\n",
              "      <td>0</td>\n",
              "      <td>1</td>\n",
              "      <td>1</td>\n",
              "      <td>0</td>\n",
              "      <td>0</td>\n",
              "      <td>1</td>\n",
              "      <td>0</td>\n",
              "      <td>1</td>\n",
              "    </tr>\n",
              "    <tr>\n",
              "      <th>P2</th>\n",
              "      <td>1</td>\n",
              "      <td>0</td>\n",
              "      <td>0</td>\n",
              "      <td>0</td>\n",
              "      <td>1</td>\n",
              "      <td>1</td>\n",
              "      <td>0</td>\n",
              "      <td>0</td>\n",
              "      <td>0</td>\n",
              "      <td>1</td>\n",
              "      <td>0</td>\n",
              "      <td>1</td>\n",
              "    </tr>\n",
              "    <tr>\n",
              "      <th>P3</th>\n",
              "      <td>0</td>\n",
              "      <td>0</td>\n",
              "      <td>0</td>\n",
              "      <td>1</td>\n",
              "      <td>0</td>\n",
              "      <td>0</td>\n",
              "      <td>0</td>\n",
              "      <td>1</td>\n",
              "      <td>1</td>\n",
              "      <td>1</td>\n",
              "      <td>0</td>\n",
              "      <td>1</td>\n",
              "    </tr>\n",
              "    <tr>\n",
              "      <th>P4</th>\n",
              "      <td>0</td>\n",
              "      <td>0</td>\n",
              "      <td>1</td>\n",
              "      <td>1</td>\n",
              "      <td>1</td>\n",
              "      <td>1</td>\n",
              "      <td>0</td>\n",
              "      <td>0</td>\n",
              "      <td>1</td>\n",
              "      <td>1</td>\n",
              "      <td>0</td>\n",
              "      <td>1</td>\n",
              "    </tr>\n",
              "    <tr>\n",
              "      <th>P5</th>\n",
              "      <td>0</td>\n",
              "      <td>0</td>\n",
              "      <td>1</td>\n",
              "      <td>0</td>\n",
              "      <td>1</td>\n",
              "      <td>0</td>\n",
              "      <td>0</td>\n",
              "      <td>0</td>\n",
              "      <td>0</td>\n",
              "      <td>0</td>\n",
              "      <td>0</td>\n",
              "      <td>0</td>\n",
              "    </tr>\n",
              "    <tr>\n",
              "      <th>P6</th>\n",
              "      <td>1</td>\n",
              "      <td>0</td>\n",
              "      <td>0</td>\n",
              "      <td>0</td>\n",
              "      <td>1</td>\n",
              "      <td>0</td>\n",
              "      <td>0</td>\n",
              "      <td>0</td>\n",
              "      <td>0</td>\n",
              "      <td>1</td>\n",
              "      <td>0</td>\n",
              "      <td>1</td>\n",
              "    </tr>\n",
              "    <tr>\n",
              "      <th>P7</th>\n",
              "      <td>1</td>\n",
              "      <td>0</td>\n",
              "      <td>0</td>\n",
              "      <td>1</td>\n",
              "      <td>1</td>\n",
              "      <td>0</td>\n",
              "      <td>1</td>\n",
              "      <td>1</td>\n",
              "      <td>1</td>\n",
              "      <td>0</td>\n",
              "      <td>0</td>\n",
              "      <td>1</td>\n",
              "    </tr>\n",
              "    <tr>\n",
              "      <th>P8</th>\n",
              "      <td>0</td>\n",
              "      <td>1</td>\n",
              "      <td>0</td>\n",
              "      <td>0</td>\n",
              "      <td>1</td>\n",
              "      <td>1</td>\n",
              "      <td>1</td>\n",
              "      <td>0</td>\n",
              "      <td>0</td>\n",
              "      <td>0</td>\n",
              "      <td>0</td>\n",
              "      <td>1</td>\n",
              "    </tr>\n",
              "    <tr>\n",
              "      <th>P9</th>\n",
              "      <td>1</td>\n",
              "      <td>0</td>\n",
              "      <td>0</td>\n",
              "      <td>0</td>\n",
              "      <td>0</td>\n",
              "      <td>1</td>\n",
              "      <td>1</td>\n",
              "      <td>1</td>\n",
              "      <td>0</td>\n",
              "      <td>1</td>\n",
              "      <td>0</td>\n",
              "      <td>0</td>\n",
              "    </tr>\n",
              "  </tbody>\n",
              "</table>\n",
              "</div>\n",
              "      <button class=\"colab-df-convert\" onclick=\"convertToInteractive('df-3392a710-aa48-4d5f-979e-cd9c046b2994')\"\n",
              "              title=\"Convert this dataframe to an interactive table.\"\n",
              "              style=\"display:none;\">\n",
              "        \n",
              "  <svg xmlns=\"http://www.w3.org/2000/svg\" height=\"24px\"viewBox=\"0 0 24 24\"\n",
              "       width=\"24px\">\n",
              "    <path d=\"M0 0h24v24H0V0z\" fill=\"none\"/>\n",
              "    <path d=\"M18.56 5.44l.94 2.06.94-2.06 2.06-.94-2.06-.94-.94-2.06-.94 2.06-2.06.94zm-11 1L8.5 8.5l.94-2.06 2.06-.94-2.06-.94L8.5 2.5l-.94 2.06-2.06.94zm10 10l.94 2.06.94-2.06 2.06-.94-2.06-.94-.94-2.06-.94 2.06-2.06.94z\"/><path d=\"M17.41 7.96l-1.37-1.37c-.4-.4-.92-.59-1.43-.59-.52 0-1.04.2-1.43.59L10.3 9.45l-7.72 7.72c-.78.78-.78 2.05 0 2.83L4 21.41c.39.39.9.59 1.41.59.51 0 1.02-.2 1.41-.59l7.78-7.78 2.81-2.81c.8-.78.8-2.07 0-2.86zM5.41 20L4 18.59l7.72-7.72 1.47 1.35L5.41 20z\"/>\n",
              "  </svg>\n",
              "      </button>\n",
              "      \n",
              "  <style>\n",
              "    .colab-df-container {\n",
              "      display:flex;\n",
              "      flex-wrap:wrap;\n",
              "      gap: 12px;\n",
              "    }\n",
              "\n",
              "    .colab-df-convert {\n",
              "      background-color: #E8F0FE;\n",
              "      border: none;\n",
              "      border-radius: 50%;\n",
              "      cursor: pointer;\n",
              "      display: none;\n",
              "      fill: #1967D2;\n",
              "      height: 32px;\n",
              "      padding: 0 0 0 0;\n",
              "      width: 32px;\n",
              "    }\n",
              "\n",
              "    .colab-df-convert:hover {\n",
              "      background-color: #E2EBFA;\n",
              "      box-shadow: 0px 1px 2px rgba(60, 64, 67, 0.3), 0px 1px 3px 1px rgba(60, 64, 67, 0.15);\n",
              "      fill: #174EA6;\n",
              "    }\n",
              "\n",
              "    [theme=dark] .colab-df-convert {\n",
              "      background-color: #3B4455;\n",
              "      fill: #D2E3FC;\n",
              "    }\n",
              "\n",
              "    [theme=dark] .colab-df-convert:hover {\n",
              "      background-color: #434B5C;\n",
              "      box-shadow: 0px 1px 3px 1px rgba(0, 0, 0, 0.15);\n",
              "      filter: drop-shadow(0px 1px 2px rgba(0, 0, 0, 0.3));\n",
              "      fill: #FFFFFF;\n",
              "    }\n",
              "  </style>\n",
              "\n",
              "      <script>\n",
              "        const buttonEl =\n",
              "          document.querySelector('#df-3392a710-aa48-4d5f-979e-cd9c046b2994 button.colab-df-convert');\n",
              "        buttonEl.style.display =\n",
              "          google.colab.kernel.accessAllowed ? 'block' : 'none';\n",
              "\n",
              "        async function convertToInteractive(key) {\n",
              "          const element = document.querySelector('#df-3392a710-aa48-4d5f-979e-cd9c046b2994');\n",
              "          const dataTable =\n",
              "            await google.colab.kernel.invokeFunction('convertToInteractive',\n",
              "                                                     [key], {});\n",
              "          if (!dataTable) return;\n",
              "\n",
              "          const docLinkHtml = 'Like what you see? Visit the ' +\n",
              "            '<a target=\"_blank\" href=https://colab.research.google.com/notebooks/data_table.ipynb>data table notebook</a>'\n",
              "            + ' to learn more about interactive tables.';\n",
              "          element.innerHTML = '';\n",
              "          dataTable['output_type'] = 'display_data';\n",
              "          await google.colab.output.renderOutput(dataTable, element);\n",
              "          const docLink = document.createElement('div');\n",
              "          docLink.innerHTML = docLinkHtml;\n",
              "          element.appendChild(docLink);\n",
              "        }\n",
              "      </script>\n",
              "    </div>\n",
              "  </div>\n",
              "  "
            ]
          },
          "metadata": {},
          "execution_count": 32
        }
      ],
      "source": [
        "df_clean.rename(columns={'Systemic Illness_Fever':'SI_Fever',\n",
        "                        'Systemic Illness_Muscle Aches and Pain':'SI_Muscle_Aches&Pain',\n",
        "                        'Systemic Illness_Swollen Lymph Nodes':'SI_Swollen_Lymph_Nodes',\n",
        "                        'Rectal Pain_True':'Rectal_Pain',\n",
        "                        'Sore Throat_True':'Sore_Throat',\n",
        "                        'Penile Oedema_True':'Penile_Oedema',\n",
        "                        'Oral Lesions_True':'Oral_Lesions',\n",
        "                        'Solitary Lesion_True':'Solitary_Leision',\n",
        "                        'Swollen Tonsils_True':'Swollen_Tonsils',\n",
        "                        'HIV Infection_True':'HIV_Infection',\n",
        "                        'Sexually Transmitted Infection_True':'STI',\n",
        "                        'MonkeyPox_Positive':'Target'},inplace=True)\n",
        "df_clean.head(10)"
      ]
    },
    {
      "cell_type": "code",
      "execution_count": 33,
      "id": "fe150552",
      "metadata": {
        "id": "fe150552"
      },
      "outputs": [],
      "source": [
        "# splitting the data into X [predictors] and y [target]\n",
        "X = df_clean.drop(columns= ['Target'],axis = 1)\n",
        "y = df_clean['Target']\n",
        "\n",
        "# Random state for reapetability, test size of 30% as it is the optimum\n",
        "# Stratify is used to ensure the test and train data have the same ratio\n",
        "\n",
        "X_train, X_test, y_train, y_test = train_test_split(X,y,random_state=0,test_size= 0.3,stratify= y)"
      ]
    },
    {
      "cell_type": "markdown",
      "source": [
        "## MODELING"
      ],
      "metadata": {
        "id": "GRLWjijovLEG"
      },
      "id": "GRLWjijovLEG"
    },
    {
      "cell_type": "code",
      "source": [
        "#checking class balance in the trainaing target variable\n",
        "print(y_train.value_counts())\n",
        "print('\\n')\n",
        "\n",
        "#checking class balance in the trainaing target variable\n",
        "print(y_test.value_counts())"
      ],
      "metadata": {
        "colab": {
          "base_uri": "https://localhost:8080/"
        },
        "id": "7KUNlxg5vGkd",
        "outputId": "6fe61102-5277-4446-f550-c5881216de7f"
      },
      "id": "7KUNlxg5vGkd",
      "execution_count": 36,
      "outputs": [
        {
          "output_type": "stream",
          "name": "stdout",
          "text": [
            "1    11136\n",
            "0     6364\n",
            "Name: Target, dtype: int64\n",
            "\n",
            "\n",
            "1    4773\n",
            "0    2727\n",
            "Name: Target, dtype: int64\n"
          ]
        }
      ]
    },
    {
      "cell_type": "markdown",
      "source": [
        "# Base Model"
      ],
      "metadata": {
        "id": "A0I2bMvwvWB-"
      },
      "id": "A0I2bMvwvWB-"
    },
    {
      "cell_type": "code",
      "source": [
        "#function to train model and return the score\n",
        "def model_trainer(model, X_tr, y_tr, X_te, y_te):\n",
        "    model.fit(X_tr, y_tr)\n",
        "    pre = model.predict(X_te)\n",
        "    precision =precision_score(y_te, pre)\n",
        "    recall =recall_score(y_te, pre)\n",
        "    accuracy =accuracy_score(y_te, pre)\n",
        "    f1 = f1_score(y_te, pre)\n",
        "    \n",
        "    return {'precision':precision,\n",
        "            'recall_score':recall,\n",
        "            'accuracy_score':accuracy,\n",
        "            'f1_score':f1}"
      ],
      "metadata": {
        "id": "Nv8RSwo4vTPp"
      },
      "id": "Nv8RSwo4vTPp",
      "execution_count": 37,
      "outputs": []
    },
    {
      "cell_type": "code",
      "source": [
        "#train and get the score of the base model without handling the imbalance in the class and see how the model performs\n",
        "base_tree =  DecisionTreeClassifier()\n",
        "model_trainer(base_tree, X_train, y_train,X_test,y_test)"
      ],
      "metadata": {
        "colab": {
          "base_uri": "https://localhost:8080/"
        },
        "id": "fuTjGBRJvc9I",
        "outputId": "a5329954-80e6-4845-d8f4-edfd80c0a09e"
      },
      "id": "fuTjGBRJvc9I",
      "execution_count": 38,
      "outputs": [
        {
          "output_type": "execute_result",
          "data": {
            "text/plain": [
              "{'precision': 0.7076757532281205,\n",
              " 'recall_score': 0.8267337104546407,\n",
              " 'accuracy_score': 0.6724,\n",
              " 'f1_score': 0.7625857570779785}"
            ]
          },
          "metadata": {},
          "execution_count": 38
        }
      ]
    },
    {
      "cell_type": "code",
      "source": [
        "#visualize the confusion matrix\n",
        "cnf_matrix  = plot_confusion_matrix(base_tree, X_test, y_test, cmap=plt.cm.Blues)"
      ],
      "metadata": {
        "colab": {
          "base_uri": "https://localhost:8080/",
          "height": 279
        },
        "id": "x5Cn_Wi0vgH_",
        "outputId": "708784dc-b4cb-45df-8d44-9a009d354b9d"
      },
      "id": "x5Cn_Wi0vgH_",
      "execution_count": 39,
      "outputs": [
        {
          "output_type": "display_data",
          "data": {
            "text/plain": [
              "<Figure size 432x288 with 2 Axes>"
            ],
            "image/png": "[encoded data removed]"
          },
          "metadata": {
            "needs_background": "light"
          }
        }
      ]
    },
    {
      "cell_type": "code",
      "source": [
        "#balance the training classes and see the effect on the model using SMOTE\n",
        "X_train_smote, y_train_smote = SMOTE().fit_resample(X_train, y_train)\n",
        "\n",
        "print(y_train_smote.value_counts())\n"
      ],
      "metadata": {
        "colab": {
          "base_uri": "https://localhost:8080/"
        },
        "id": "INsHsYOZvjTg",
        "outputId": "a44e2ec4-45b6-4600-a0a1-7bb498569066"
      },
      "id": "INsHsYOZvjTg",
      "execution_count": 40,
      "outputs": [
        {
          "output_type": "stream",
          "name": "stdout",
          "text": [
            "0    11136\n",
            "1    11136\n",
            "Name: Target, dtype: int64\n"
          ]
        }
      ]
    },
    {
      "cell_type": "code",
      "source": [
        "#retrain the model with the model with the balanced classes\n",
        "base_tree_smote = DecisionTreeClassifier()\n",
        "Basemodel_balanced = model_trainer(base_tree_smote, X_train_smote, y_train_smote,X_test,y_test)\n",
        "Basemodel_balanced\n"
      ],
      "metadata": {
        "colab": {
          "base_uri": "https://localhost:8080/"
        },
        "id": "BMkpYtddvmKP",
        "outputId": "0ccc0ca8-1834-4e09-c229-ecc62b4b993d"
      },
      "id": "BMkpYtddvmKP",
      "execution_count": 41,
      "outputs": [
        {
          "output_type": "execute_result",
          "data": {
            "text/plain": [
              "{'precision': 0.7401827611755989,\n",
              " 'recall_score': 0.627906976744186,\n",
              " 'accuracy_score': 0.6229333333333333,\n",
              " 'f1_score': 0.6794377692133303}"
            ]
          },
          "metadata": {},
          "execution_count": 41
        }
      ]
    },
    {
      "cell_type": "code",
      "source": [
        "#visualize the confusion matrix\n",
        "cnf_matrix  = plot_confusion_matrix(base_tree_smote, X_test, y_test, cmap=plt.cm.Blues)"
      ],
      "metadata": {
        "colab": {
          "base_uri": "https://localhost:8080/",
          "height": 279
        },
        "id": "I1e-0LUyvqad",
        "outputId": "86feeeb8-bd5f-44b2-d687-afaed7630092"
      },
      "id": "I1e-0LUyvqad",
      "execution_count": 42,
      "outputs": [
        {
          "output_type": "display_data",
          "data": {
            "text/plain": [
              "<Figure size 432x288 with 2 Axes>"
            ],
            "image/png": "[encoded data removed]"
          },
          "metadata": {
            "needs_background": "light"
          }
        }
      ]
    },
    {
      "cell_type": "code",
      "source": [
        "#function to tune the model and find best parameters for the DecisionTreeClassifier using gridSearchCv\n",
        "def grid_search(model, parms, X_tr, y_tr):\n",
        "  gs_tree = GridSearchCV(model, parms, cv=3)\n",
        "  gs_tree.fit(X_tr, y_tr)\n",
        "\n",
        "  return gs_tree.best_params_"
      ],
      "metadata": {
        "id": "0kyIG9zcvult"
      },
      "id": "0kyIG9zcvult",
      "execution_count": 43,
      "outputs": []
    },
    {
      "cell_type": "code",
      "source": [
        "#balanced class best perameters\n",
        "param_grid = {\n",
        "    'criterion': ['gini', 'entropy'],\n",
        "    'max_depth': [5, 10, 15, 20],\n",
        "    'min_samples_split': [1, 5, 10, 20],\n",
        "    'min_samples_leaf': [1, 2, 3, 4, 5, 6]\n",
        "  }\n",
        "grid_search(DecisionTreeClassifier(),param_grid, X_train_smote, y_train_smote)\n"
      ],
      "metadata": {
        "colab": {
          "base_uri": "https://localhost:8080/"
        },
        "id": "y4AxfYFuvxzl",
        "outputId": "caf60c1a-d24c-4ce3-e8dd-373ab95de9ca"
      },
      "id": "y4AxfYFuvxzl",
      "execution_count": 47,
      "outputs": [
        {
          "output_type": "execute_result",
          "data": {
            "text/plain": [
              "{'criterion': 'gini',\n",
              " 'max_depth': 10,\n",
              " 'min_samples_leaf': 1,\n",
              " 'min_samples_split': 10}"
            ]
          },
          "metadata": {},
          "execution_count": 47
        }
      ]
    },
    {
      "cell_type": "code",
      "source": [
        "dtree_par =  DecisionTreeClassifier(criterion= 'entropy', max_depth = 10, min_samples_split= 10)\n",
        "DecisionTree = model_trainer(dtree_par, X_train_smote,y_train_smote, X_test,y_test)\n",
        "DecisionTree"
      ],
      "metadata": {
        "colab": {
          "base_uri": "https://localhost:8080/"
        },
        "id": "0IdhKIxbv1WN",
        "outputId": "ec8ae259-8ba1-4b67-f7db-fa3cc9ecc832"
      },
      "id": "0IdhKIxbv1WN",
      "execution_count": 48,
      "outputs": [
        {
          "output_type": "execute_result",
          "data": {
            "text/plain": [
              "{'precision': 0.7359249329758714,\n",
              " 'recall_score': 0.6901319924575738,\n",
              " 'accuracy_score': 0.6452,\n",
              " 'f1_score': 0.7122932208887447}"
            ]
          },
          "metadata": {},
          "execution_count": 48
        }
      ]
    },
    {
      "cell_type": "code",
      "source": [
        "cnf_matrix  = plot_confusion_matrix(dtree_par, X_test, y_test, cmap=plt.cm.Blues)"
      ],
      "metadata": {
        "colab": {
          "base_uri": "https://localhost:8080/",
          "height": 279
        },
        "id": "srCabd5XwijD",
        "outputId": "6d13f97c-d895-493d-f4e3-9f43ff2a16e2"
      },
      "id": "srCabd5XwijD",
      "execution_count": 49,
      "outputs": [
        {
          "output_type": "display_data",
          "data": {
            "text/plain": [
              "<Figure size 432x288 with 2 Axes>"
            ],
            "image/png": "[encoded data removed]"
          },
          "metadata": {
            "needs_background": "light"
          }
        }
      ]
    },
    {
      "cell_type": "markdown",
      "source": [
        "The model recall score increased meaning more positive patients were identified but there are still many wrongly classified petients too \n"
      ],
      "metadata": {
        "id": "2TNYgzqnwtCo"
      },
      "id": "2TNYgzqnwtCo"
    },
    {
      "cell_type": "code",
      "source": [
        "#evaluating the two more models and see if they perform better then the DecisionTreeClassifier\n",
        "# these two are LogisticRegression() and KNeighborsClassifier()\n",
        "\n",
        "logreg = LogisticRegression()\n",
        "knn = KNeighborsClassifier()\n"
      ],
      "metadata": {
        "id": "eToMf9wywqbD"
      },
      "id": "eToMf9wywqbD",
      "execution_count": 50,
      "outputs": []
    },
    {
      "cell_type": "code",
      "source": [
        "models = [logreg,knn]\n",
        "scores=[]\n",
        "recall=[]\n"
      ],
      "metadata": {
        "id": "OPDG6d33w_Vx"
      },
      "id": "OPDG6d33w_Vx",
      "execution_count": 51,
      "outputs": []
    },
    {
      "cell_type": "code",
      "source": [
        "for i in models:\n",
        "    estimator=Pipeline([\n",
        "        ('model',i)])\n",
        "    model_cv=cross_val_score(estimator,X_train_smote,y_train_smote,cv=3,scoring='recall')\n",
        "    scores.append(model_cv)\n",
        "    recall.append(model_cv.mean())\n",
        "    \n",
        "    \n",
        "pd.DataFrame({'model':['Logistic Regression','KNN'],'Recall Score':recall}).set_index('model').sort_values(by='Recall Score',ascending=False)"
      ],
      "metadata": {
        "colab": {
          "base_uri": "https://localhost:8080/",
          "height": 143
        },
        "id": "CjMCW079xBVZ",
        "outputId": "ce8cd2ba-0572-482e-db62-9850fc8fbd90"
      },
      "id": "CjMCW079xBVZ",
      "execution_count": 52,
      "outputs": [
        {
          "output_type": "execute_result",
          "data": {
            "text/plain": [
              "                     Recall Score\n",
              "model                            \n",
              "KNN                      0.817619\n",
              "Logistic Regression      0.662267"
            ],
            "text/html": [
              "\n",
              "  <div id=\"df-1917f31b-343a-4f14-b42e-db6391ef4387\">\n",
              "    <div class=\"colab-df-container\">\n",
              "      <div>\n",
              "<style scoped>\n",
              "    .dataframe tbody tr th:only-of-type {\n",
              "        vertical-align: middle;\n",
              "    }\n",
              "\n",
              "    .dataframe tbody tr th {\n",
              "        vertical-align: top;\n",
              "    }\n",
              "\n",
              "    .dataframe thead th {\n",
              "        text-align: right;\n",
              "    }\n",
              "</style>\n",
              "<table border=\"1\" class=\"dataframe\">\n",
              "  <thead>\n",
              "    <tr style=\"text-align: right;\">\n",
              "      <th></th>\n",
              "      <th>Recall Score</th>\n",
              "    </tr>\n",
              "    <tr>\n",
              "      <th>model</th>\n",
              "      <th></th>\n",
              "    </tr>\n",
              "  </thead>\n",
              "  <tbody>\n",
              "    <tr>\n",
              "      <th>KNN</th>\n",
              "      <td>0.817619</td>\n",
              "    </tr>\n",
              "    <tr>\n",
              "      <th>Logistic Regression</th>\n",
              "      <td>0.662267</td>\n",
              "    </tr>\n",
              "  </tbody>\n",
              "</table>\n",
              "</div>\n",
              "      <button class=\"colab-df-convert\" onclick=\"convertToInteractive('df-1917f31b-343a-4f14-b42e-db6391ef4387')\"\n",
              "              title=\"Convert this dataframe to an interactive table.\"\n",
              "              style=\"display:none;\">\n",
              "        \n",
              "  <svg xmlns=\"http://www.w3.org/2000/svg\" height=\"24px\"viewBox=\"0 0 24 24\"\n",
              "       width=\"24px\">\n",
              "    <path d=\"M0 0h24v24H0V0z\" fill=\"none\"/>\n",
              "    <path d=\"M18.56 5.44l.94 2.06.94-2.06 2.06-.94-2.06-.94-.94-2.06-.94 2.06-2.06.94zm-11 1L8.5 8.5l.94-2.06 2.06-.94-2.06-.94L8.5 2.5l-.94 2.06-2.06.94zm10 10l.94 2.06.94-2.06 2.06-.94-2.06-.94-.94-2.06-.94 2.06-2.06.94z\"/><path d=\"M17.41 7.96l-1.37-1.37c-.4-.4-.92-.59-1.43-.59-.52 0-1.04.2-1.43.59L10.3 9.45l-7.72 7.72c-.78.78-.78 2.05 0 2.83L4 21.41c.39.39.9.59 1.41.59.51 0 1.02-.2 1.41-.59l7.78-7.78 2.81-2.81c.8-.78.8-2.07 0-2.86zM5.41 20L4 18.59l7.72-7.72 1.47 1.35L5.41 20z\"/>\n",
              "  </svg>\n",
              "      </button>\n",
              "      \n",
              "  <style>\n",
              "    .colab-df-container {\n",
              "      display:flex;\n",
              "      flex-wrap:wrap;\n",
              "      gap: 12px;\n",
              "    }\n",
              "\n",
              "    .colab-df-convert {\n",
              "      background-color: #E8F0FE;\n",
              "      border: none;\n",
              "      border-radius: 50%;\n",
              "      cursor: pointer;\n",
              "      display: none;\n",
              "      fill: #1967D2;\n",
              "      height: 32px;\n",
              "      padding: 0 0 0 0;\n",
              "      width: 32px;\n",
              "    }\n",
              "\n",
              "    .colab-df-convert:hover {\n",
              "      background-color: #E2EBFA;\n",
              "      box-shadow: 0px 1px 2px rgba(60, 64, 67, 0.3), 0px 1px 3px 1px rgba(60, 64, 67, 0.15);\n",
              "      fill: #174EA6;\n",
              "    }\n",
              "\n",
              "    [theme=dark] .colab-df-convert {\n",
              "      background-color: #3B4455;\n",
              "      fill: #D2E3FC;\n",
              "    }\n",
              "\n",
              "    [theme=dark] .colab-df-convert:hover {\n",
              "      background-color: #434B5C;\n",
              "      box-shadow: 0px 1px 3px 1px rgba(0, 0, 0, 0.15);\n",
              "      filter: drop-shadow(0px 1px 2px rgba(0, 0, 0, 0.3));\n",
              "      fill: #FFFFFF;\n",
              "    }\n",
              "  </style>\n",
              "\n",
              "      <script>\n",
              "        const buttonEl =\n",
              "          document.querySelector('#df-1917f31b-343a-4f14-b42e-db6391ef4387 button.colab-df-convert');\n",
              "        buttonEl.style.display =\n",
              "          google.colab.kernel.accessAllowed ? 'block' : 'none';\n",
              "\n",
              "        async function convertToInteractive(key) {\n",
              "          const element = document.querySelector('#df-1917f31b-343a-4f14-b42e-db6391ef4387');\n",
              "          const dataTable =\n",
              "            await google.colab.kernel.invokeFunction('convertToInteractive',\n",
              "                                                     [key], {});\n",
              "          if (!dataTable) return;\n",
              "\n",
              "          const docLinkHtml = 'Like what you see? Visit the ' +\n",
              "            '<a target=\"_blank\" href=https://colab.research.google.com/notebooks/data_table.ipynb>data table notebook</a>'\n",
              "            + ' to learn more about interactive tables.';\n",
              "          element.innerHTML = '';\n",
              "          dataTable['output_type'] = 'display_data';\n",
              "          await google.colab.output.renderOutput(dataTable, element);\n",
              "          const docLink = document.createElement('div');\n",
              "          docLink.innerHTML = docLinkHtml;\n",
              "          element.appendChild(docLink);\n",
              "        }\n",
              "      </script>\n",
              "    </div>\n",
              "  </div>\n",
              "  "
            ]
          },
          "metadata": {},
          "execution_count": 52
        }
      ]
    },
    {
      "cell_type": "code",
      "source": [
        "#plot the KNN and virtualize the confussion matrix\n",
        "\n",
        "kn_base =  KNeighborsClassifier()\n",
        "model_trainer(kn_base, X_train_smote, y_train_smote,X_test,y_test)"
      ],
      "metadata": {
        "colab": {
          "base_uri": "https://localhost:8080/"
        },
        "id": "kMYeAaYxxEGJ",
        "outputId": "bd28bf94-f76c-4c1f-ffca-aa5531497868"
      },
      "id": "kMYeAaYxxEGJ",
      "execution_count": 53,
      "outputs": [
        {
          "output_type": "execute_result",
          "data": {
            "text/plain": [
              "{'precision': 0.705187766163376,\n",
              " 'recall_score': 0.76325162371674,\n",
              " 'accuracy_score': 0.6462666666666667,\n",
              " 'f1_score': 0.7330717375993562}"
            ]
          },
          "metadata": {},
          "execution_count": 53
        }
      ]
    },
    {
      "cell_type": "code",
      "source": [
        "#tune the the KNN \n",
        "knn_gridSearch = KNeighborsClassifier()\n",
        "\n",
        "parameters = {'n_neighbors':[5,6,7,8,10],\n",
        "              'leaf_size':[3,4,5,8,10],\n",
        "              'algorithm':['auto', 'kd_tree'],\n",
        "              'n_jobs':[-1]}\n",
        "grid_search(knn_gridSearch, parameters, X_train_smote, y_train_smote)\n"
      ],
      "metadata": {
        "colab": {
          "base_uri": "https://localhost:8080/"
        },
        "id": "-RCXyYg1xJ6h",
        "outputId": "16b1b105-1fe2-46aa-f8c5-5f9b22e3351e"
      },
      "id": "-RCXyYg1xJ6h",
      "execution_count": 54,
      "outputs": [
        {
          "output_type": "execute_result",
          "data": {
            "text/plain": [
              "{'algorithm': 'auto', 'leaf_size': 3, 'n_jobs': -1, 'n_neighbors': 10}"
            ]
          },
          "metadata": {},
          "execution_count": 54
        }
      ]
    },
    {
      "cell_type": "code",
      "source": [
        "knn_improved = KNeighborsClassifier(algorithm = 'auto', leaf_size = 4, n_jobs = -1, n_neighbors = 8)\n",
        "KNeighbors = model_trainer(knn_improved, X_train_smote,y_train_smote, X_test,y_test)\n",
        "KNeighbors"
      ],
      "metadata": {
        "colab": {
          "base_uri": "https://localhost:8080/"
        },
        "id": "pGtPy7K7xOEp",
        "outputId": "0db25674-5738-457e-9d47-c510c1db1be5"
      },
      "id": "pGtPy7K7xOEp",
      "execution_count": 55,
      "outputs": [
        {
          "output_type": "execute_result",
          "data": {
            "text/plain": [
              "{'precision': 0.7168921689216892,\n",
              " 'recall_score': 0.7326628954535931,\n",
              " 'accuracy_score': 0.6457333333333334,\n",
              " 'f1_score': 0.7246917417884157}"
            ]
          },
          "metadata": {},
          "execution_count": 55
        }
      ]
    },
    {
      "cell_type": "code",
      "source": [
        "cnf_matrix  = plot_confusion_matrix(knn_improved, X_test, y_test, cmap=plt.cm.Blues)"
      ],
      "metadata": {
        "colab": {
          "base_uri": "https://localhost:8080/",
          "height": 279
        },
        "id": "0l6G5G6wxaRx",
        "outputId": "bbbf76f9-940f-4b91-b800-d542d9f98463"
      },
      "id": "0l6G5G6wxaRx",
      "execution_count": 56,
      "outputs": [
        {
          "output_type": "display_data",
          "data": {
            "text/plain": [
              "<Figure size 432x288 with 2 Axes>"
            ],
            "image/png": "[encoded data removed]"
          },
          "metadata": {
            "needs_background": "light"
          }
        }
      ]
    },
    {
      "cell_type": "markdown",
      "source": [
        "The KNN Model has improved our recall significantly and this means our model will be able to identify more people with the  virus"
      ],
      "metadata": {
        "id": "C-q7qxkBxhGw"
      },
      "id": "C-q7qxkBxhGw"
    },
    {
      "cell_type": "code",
      "source": [
        "#final model the logisticRegressor\n",
        "base_logrig = LogisticRegression()\n",
        "model_trainer(base_logrig, X_train_smote, y_train_smote,X_test,y_test)"
      ],
      "metadata": {
        "colab": {
          "base_uri": "https://localhost:8080/"
        },
        "id": "4hk7XGBgxcvK",
        "outputId": "ca77ff12-e838-435c-d229-c470e89748bf"
      },
      "id": "4hk7XGBgxcvK",
      "execution_count": 57,
      "outputs": [
        {
          "output_type": "execute_result",
          "data": {
            "text/plain": [
              "{'precision': 0.6587823940765117,\n",
              " 'recall_score': 0.6710664152524618,\n",
              " 'accuracy_score': 0.5694666666666667,\n",
              " 'f1_score': 0.6648676699532953}"
            ]
          },
          "metadata": {},
          "execution_count": 57
        }
      ]
    },
    {
      "cell_type": "code",
      "source": [
        "#performing hyper perameter tuning on the model\n",
        "logR_improved = LogisticRegression()\n",
        "\n",
        "parameters = { 'C': np.logspace(-4, 4, 50),\n",
        "                'penalty' : ['l1', 'l2']}\n",
        "grid_search(logR_improved, parameters, X_train_smote, y_train_smote)\n"
      ],
      "metadata": {
        "colab": {
          "base_uri": "https://localhost:8080/"
        },
        "id": "Go2ssq6bxmG7",
        "outputId": "2d2d6705-b79c-4d78-d0d0-44dcdc2be59f"
      },
      "id": "Go2ssq6bxmG7",
      "execution_count": 58,
      "outputs": [
        {
          "output_type": "execute_result",
          "data": {
            "text/plain": [
              "{'C': 0.0013894954943731374, 'penalty': 'l2'}"
            ]
          },
          "metadata": {},
          "execution_count": 58
        }
      ]
    },
    {
      "cell_type": "code",
      "source": [
        "logR = LogisticRegression(C = 0.0013894954943731374, penalty ='l2')\n",
        "LogisticReg = model_trainer(logR, X_train_smote, y_train_smote,X_test,y_test)\n",
        "LogisticReg"
      ],
      "metadata": {
        "colab": {
          "base_uri": "https://localhost:8080/"
        },
        "id": "lSiguJoExqM7",
        "outputId": "e5522974-c363-477a-8ca1-de306c21824b"
      },
      "id": "lSiguJoExqM7",
      "execution_count": 67,
      "outputs": [
        {
          "output_type": "execute_result",
          "data": {
            "text/plain": [
              "{'precision': 0.6608523290386521,\n",
              " 'recall_score': 0.6985124659543264,\n",
              " 'accuracy_score': 0.58,\n",
              " 'f1_score': 0.6791607251986148}"
            ]
          },
          "metadata": {},
          "execution_count": 67
        }
      ]
    },
    {
      "cell_type": "code",
      "source": [
        "cnf_matrix  = plot_confusion_matrix(logR, X_test, y_test, cmap=plt.cm.Blues)"
      ],
      "metadata": {
        "colab": {
          "base_uri": "https://localhost:8080/",
          "height": 279
        },
        "id": "fb4IbNksxtML",
        "outputId": "8364a8a5-0d85-4fc0-8f63-9628768f545e"
      },
      "id": "fb4IbNksxtML",
      "execution_count": 68,
      "outputs": [
        {
          "output_type": "display_data",
          "data": {
            "text/plain": [
              "<Figure size 432x288 with 2 Axes>"
            ],
            "image/png": "[encoded data removed]"
          },
          "metadata": {
            "needs_background": "light"
          }
        }
      ]
    },
    {
      "cell_type": "code",
      "source": [
        "scores = [LogisticReg, Basemodel_balanced, DecisionTree,KNeighbors, ]\n",
        "column_name = ['LogisticReg','Basemodel', 'DecisionTree','KNeighbors' ]"
      ],
      "metadata": {
        "id": "y8O9vN8cxwbz"
      },
      "id": "y8O9vN8cxwbz",
      "execution_count": 69,
      "outputs": []
    },
    {
      "cell_type": "code",
      "source": [
        "df = pd.DataFrame(columns = column_name)\n",
        "df.LogisticReg =LogisticReg.values()\n",
        "df.Basemodel = Basemodel_balanced.values()\n",
        "df.DecisionTree = DecisionTree.values()\n",
        "df.KNeighbors = KNeighbors.values()\n",
        "\n",
        "df.index = ['precision', 'recall_score','accuracy_score','f1_score']\n",
        "df"
      ],
      "metadata": {
        "colab": {
          "base_uri": "https://localhost:8080/",
          "height": 175
        },
        "id": "rD0fv6ExxyZL",
        "outputId": "a5230b9f-eef9-480a-8c72-479109aa799a"
      },
      "id": "rD0fv6ExxyZL",
      "execution_count": 70,
      "outputs": [
        {
          "output_type": "execute_result",
          "data": {
            "text/plain": [
              "                LogisticReg  Basemodel  DecisionTree  KNeighbors\n",
              "precision          0.660852   0.740183      0.735925    0.716892\n",
              "recall_score       0.698512   0.627907      0.690132    0.732663\n",
              "accuracy_score     0.580000   0.622933      0.645200    0.645733\n",
              "f1_score           0.679161   0.679438      0.712293    0.724692"
            ],
            "text/html": [
              "\n",
              "  <div id=\"df-936686bf-cc2d-4d72-8a26-bc13729e2ab4\">\n",
              "    <div class=\"colab-df-container\">\n",
              "      <div>\n",
              "<style scoped>\n",
              "    .dataframe tbody tr th:only-of-type {\n",
              "        vertical-align: middle;\n",
              "    }\n",
              "\n",
              "    .dataframe tbody tr th {\n",
              "        vertical-align: top;\n",
              "    }\n",
              "\n",
              "    .dataframe thead th {\n",
              "        text-align: right;\n",
              "    }\n",
              "</style>\n",
              "<table border=\"1\" class=\"dataframe\">\n",
              "  <thead>\n",
              "    <tr style=\"text-align: right;\">\n",
              "      <th></th>\n",
              "      <th>LogisticReg</th>\n",
              "      <th>Basemodel</th>\n",
              "      <th>DecisionTree</th>\n",
              "      <th>KNeighbors</th>\n",
              "    </tr>\n",
              "  </thead>\n",
              "  <tbody>\n",
              "    <tr>\n",
              "      <th>precision</th>\n",
              "      <td>0.660852</td>\n",
              "      <td>0.740183</td>\n",
              "      <td>0.735925</td>\n",
              "      <td>0.716892</td>\n",
              "    </tr>\n",
              "    <tr>\n",
              "      <th>recall_score</th>\n",
              "      <td>0.698512</td>\n",
              "      <td>0.627907</td>\n",
              "      <td>0.690132</td>\n",
              "      <td>0.732663</td>\n",
              "    </tr>\n",
              "    <tr>\n",
              "      <th>accuracy_score</th>\n",
              "      <td>0.580000</td>\n",
              "      <td>0.622933</td>\n",
              "      <td>0.645200</td>\n",
              "      <td>0.645733</td>\n",
              "    </tr>\n",
              "    <tr>\n",
              "      <th>f1_score</th>\n",
              "      <td>0.679161</td>\n",
              "      <td>0.679438</td>\n",
              "      <td>0.712293</td>\n",
              "      <td>0.724692</td>\n",
              "    </tr>\n",
              "  </tbody>\n",
              "</table>\n",
              "</div>\n",
              "      <button class=\"colab-df-convert\" onclick=\"convertToInteractive('df-936686bf-cc2d-4d72-8a26-bc13729e2ab4')\"\n",
              "              title=\"Convert this dataframe to an interactive table.\"\n",
              "              style=\"display:none;\">\n",
              "        \n",
              "  <svg xmlns=\"http://www.w3.org/2000/svg\" height=\"24px\"viewBox=\"0 0 24 24\"\n",
              "       width=\"24px\">\n",
              "    <path d=\"M0 0h24v24H0V0z\" fill=\"none\"/>\n",
              "    <path d=\"M18.56 5.44l.94 2.06.94-2.06 2.06-.94-2.06-.94-.94-2.06-.94 2.06-2.06.94zm-11 1L8.5 8.5l.94-2.06 2.06-.94-2.06-.94L8.5 2.5l-.94 2.06-2.06.94zm10 10l.94 2.06.94-2.06 2.06-.94-2.06-.94-.94-2.06-.94 2.06-2.06.94z\"/><path d=\"M17.41 7.96l-1.37-1.37c-.4-.4-.92-.59-1.43-.59-.52 0-1.04.2-1.43.59L10.3 9.45l-7.72 7.72c-.78.78-.78 2.05 0 2.83L4 21.41c.39.39.9.59 1.41.59.51 0 1.02-.2 1.41-.59l7.78-7.78 2.81-2.81c.8-.78.8-2.07 0-2.86zM5.41 20L4 18.59l7.72-7.72 1.47 1.35L5.41 20z\"/>\n",
              "  </svg>\n",
              "      </button>\n",
              "      \n",
              "  <style>\n",
              "    .colab-df-container {\n",
              "      display:flex;\n",
              "      flex-wrap:wrap;\n",
              "      gap: 12px;\n",
              "    }\n",
              "\n",
              "    .colab-df-convert {\n",
              "      background-color: #E8F0FE;\n",
              "      border: none;\n",
              "      border-radius: 50%;\n",
              "      cursor: pointer;\n",
              "      display: none;\n",
              "      fill: #1967D2;\n",
              "      height: 32px;\n",
              "      padding: 0 0 0 0;\n",
              "      width: 32px;\n",
              "    }\n",
              "\n",
              "    .colab-df-convert:hover {\n",
              "      background-color: #E2EBFA;\n",
              "      box-shadow: 0px 1px 2px rgba(60, 64, 67, 0.3), 0px 1px 3px 1px rgba(60, 64, 67, 0.15);\n",
              "      fill: #174EA6;\n",
              "    }\n",
              "\n",
              "    [theme=dark] .colab-df-convert {\n",
              "      background-color: #3B4455;\n",
              "      fill: #D2E3FC;\n",
              "    }\n",
              "\n",
              "    [theme=dark] .colab-df-convert:hover {\n",
              "      background-color: #434B5C;\n",
              "      box-shadow: 0px 1px 3px 1px rgba(0, 0, 0, 0.15);\n",
              "      filter: drop-shadow(0px 1px 2px rgba(0, 0, 0, 0.3));\n",
              "      fill: #FFFFFF;\n",
              "    }\n",
              "  </style>\n",
              "\n",
              "      <script>\n",
              "        const buttonEl =\n",
              "          document.querySelector('#df-936686bf-cc2d-4d72-8a26-bc13729e2ab4 button.colab-df-convert');\n",
              "        buttonEl.style.display =\n",
              "          google.colab.kernel.accessAllowed ? 'block' : 'none';\n",
              "\n",
              "        async function convertToInteractive(key) {\n",
              "          const element = document.querySelector('#df-936686bf-cc2d-4d72-8a26-bc13729e2ab4');\n",
              "          const dataTable =\n",
              "            await google.colab.kernel.invokeFunction('convertToInteractive',\n",
              "                                                     [key], {});\n",
              "          if (!dataTable) return;\n",
              "\n",
              "          const docLinkHtml = 'Like what you see? Visit the ' +\n",
              "            '<a target=\"_blank\" href=https://colab.research.google.com/notebooks/data_table.ipynb>data table notebook</a>'\n",
              "            + ' to learn more about interactive tables.';\n",
              "          element.innerHTML = '';\n",
              "          dataTable['output_type'] = 'display_data';\n",
              "          await google.colab.output.renderOutput(dataTable, element);\n",
              "          const docLink = document.createElement('div');\n",
              "          docLink.innerHTML = docLinkHtml;\n",
              "          element.appendChild(docLink);\n",
              "        }\n",
              "      </script>\n",
              "    </div>\n",
              "  </div>\n",
              "  "
            ]
          },
          "metadata": {},
          "execution_count": 70
        }
      ]
    },
    {
      "cell_type": "markdown",
      "source": [
        "The KNeighborsClassifier had the best sores and since this model will be used in detecting MonkeyPox viruses a high recall is needed then precision since this will prevent the number of false positives making more positive cases to be identified and treated in advance"
      ],
      "metadata": {
        "id": "_SoYuVdbx4SW"
      },
      "id": "_SoYuVdbx4SW"
    },
    {
      "cell_type": "code",
      "source": [
        "#develop a final pipline that will be used to train the model on the whole dataset and make the model ready for deployment\n",
        "#Balance the whole dataset using smote \n",
        "X_smote, y_smote = SMOTE().fit_resample(X, y)\n",
        "y_smote.value_counts()\n",
        "\n"
      ],
      "metadata": {
        "colab": {
          "base_uri": "https://localhost:8080/"
        },
        "id": "Htb0XdO3x2Hz",
        "outputId": "ab84bc4c-62db-40af-8f95-b6366391751c"
      },
      "id": "Htb0XdO3x2Hz",
      "execution_count": 71,
      "outputs": [
        {
          "output_type": "execute_result",
          "data": {
            "text/plain": [
              "0    15909\n",
              "1    15909\n",
              "Name: Target, dtype: int64"
            ]
          },
          "metadata": {},
          "execution_count": 71
        }
      ]
    },
    {
      "cell_type": "code",
      "source": [
        "pipeline = Pipeline([('KNN', KNeighborsClassifier(algorithm = 'auto', leaf_size = 4, n_jobs = -1, n_neighbors = 8))])\n",
        "pipeline.fit(X_smote,y_smote)"
      ],
      "metadata": {
        "colab": {
          "base_uri": "https://localhost:8080/"
        },
        "id": "uTMaRqvfx7LM",
        "outputId": "d2ef448a-7065-4793-8903-b29a6e5b5150"
      },
      "id": "uTMaRqvfx7LM",
      "execution_count": 72,
      "outputs": [
        {
          "output_type": "execute_result",
          "data": {
            "text/plain": [
              "Pipeline(steps=[('KNN',\n",
              "                 KNeighborsClassifier(leaf_size=4, n_jobs=-1, n_neighbors=8))])"
            ]
          },
          "metadata": {},
          "execution_count": 72
        }
      ]
    },
    {
      "cell_type": "code",
      "source": [
        "#model performance after training on the whole data\n",
        "model_trainer(pipeline, X_smote, y_smote,X_test,y_test)\n"
      ],
      "metadata": {
        "colab": {
          "base_uri": "https://localhost:8080/"
        },
        "id": "HybzoWKTx9ac",
        "outputId": "1b2d33fc-2c7f-488e-f2cd-16b037c3dd60"
      },
      "id": "HybzoWKTx9ac",
      "execution_count": 73,
      "outputs": [
        {
          "output_type": "execute_result",
          "data": {
            "text/plain": [
              "{'precision': 0.7301970245275432,\n",
              " 'recall_score': 0.7609469935051331,\n",
              " 'accuracy_score': 0.6689333333333334,\n",
              " 'f1_score': 0.7452549502410998}"
            ]
          },
          "metadata": {},
          "execution_count": 73
        }
      ]
    },
    {
      "cell_type": "code",
      "source": [
        "#save our model into a pickle\n",
        "with open('model.pkl', 'wb') as f:\n",
        "  joblib.dump(pipeline, f)"
      ],
      "metadata": {
        "id": "coB60cujx_Sr"
      },
      "id": "coB60cujx_Sr",
      "execution_count": 74,
      "outputs": []
    },
    {
      "cell_type": "code",
      "source": [],
      "metadata": {
        "id": "JfjmQmvWyA4k"
      },
      "id": "JfjmQmvWyA4k",
      "execution_count": 74,
      "outputs": []
    }
  ],
  "metadata": {
    "kernelspec": {
      "display_name": "Python 3 (ipykernel)",
      "language": "python",
      "name": "python3"
    },
    "language_info": {
      "codemirror_mode": {
        "name": "ipython",
        "version": 3
      },
      "file_extension": ".py",
      "mimetype": "text/x-python",
      "name": "python",
      "nbconvert_exporter": "python",
      "pygments_lexer": "ipython3",
      "version": "3.10.6"
    },
    "vscode": {
      "interpreter": {
        "hash": "3d003bfd82b4b2708635177fb8f3138976a30d21ae2a9834728cc878eebfc210"
      }
    },
    "colab": {
      "provenance": []
    }
  },
  "nbformat": 4,
  "nbformat_minor": 5
}