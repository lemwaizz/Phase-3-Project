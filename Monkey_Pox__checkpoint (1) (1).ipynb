{
 "cells": [
  {
   "cell_type": "markdown",
   "id": "beb88dcf",
   "metadata": {
    "id": "beb88dcf"
   },
   "source": [
    "# __MONKEYPOX PREDICTION__\n",
    "\n",
    "# 1. BUSINESS UNDERSTANDING\n",
    "\n",
    "## Overview\n",
    "\n",
    "Monkeypox, according to the Centers for Disease Control and Prevention, is an uncommon disease caused by infection with the monkeypox virus. Monkeypox virus is part of the same family of viruses as variola virus, the virus that causes smallpox. Monkeypox symptoms are similar to smallpox symptoms, but milder, and monkeypox is rarely fatal.\n",
    "Monkeypox was discovered in 1958 when two outbreaks of a pox-like disease occurred in colonies of monkeys kept for research. Despite being named “monkeypox,” the source of the disease remains unknown. However, African rodents and non-human primates (like monkeys) might harbor the virus and infect people.\n",
    "\n",
    "The first human case of monkeypox was recorded in 1970. Prior to the 2022 outbreak in May, monkeypox had been reported in people in several central and western African countries. Previously, almost all monkeypox cases in people outside of Africa were linked to international travel to countries where the disease commonly occurs or through imported animals. These cases occurred on multiple continents.\n",
    "\n",
    "```Transmission```: Monkeypox is a viral zoonosis (virus transmitted to humans from animals)It is transmitted through close contact with an infected person or animal, body fluids, respiratory droplets and contaminated materials such as bedding.\n",
    "\n",
    "## Problem Statement\n",
    "\n",
    "As more cases of monkeypox emerge, the world becomes increasingly concerned, as they do not want a repeat of what happened not too long ago, when the infamous Covid-19 broke out and altered the world as we know it. Faced with the reality that such viral diseases can actually shut down the planet, the organization must develop ways to reduce the spread of this disease, enter the Health authorities in the United Kingdom, they have established an incident management team to coordinate the extensive contact tracing  in regards to how quickly the virus can be transferred and, worse, mutate into a more lethal variant.\n",
    "\n",
    "On July 23, the World Health Organization declared the outbreak “a public health emergency of international concern.” Another thing you should know about monkeypox is that it is extremely unpleasant. The current strain has a 1% mortality rate, and as of this writing, there have been three deaths reported in outbreaks outside of Africa, and five deaths in African countries where the disease is endemic, since the beginning of the year.\n",
    "The West African strain of the monkeypox virus is associated with milder disease and fewer deaths than the Central African strain.\n",
    "\n",
    "Even if the chances of death are low, patients with monkeypox have reported how painful and debilitating the disease is. \"People may experience flu-like symptoms at first, such as fever and headache, but as the disease progresses, you get a multi-stage rash, lesions can develop in your mouth, feet, and genital region, and these develop into pus-filled blisters.\"Symptoms can appear between five and 21 days after infection, though the average incubation period is 6 to 13 days. For the first few days, there are headaches, fever, muscle aches, and fatigue.\n",
    "\n",
    "As students of the Incident Management team we have been tasked to create a model to accurately identify potential infected persons in order to make contact tracing faster and more efficient, thereby halting the spread.\n",
    "\n",
    "## Proposed Solution\n",
    "\n",
    "One proposed solution is to cultivate the use of data in attempting to predict whether or not a person has monkeypox in order to make contact tracing easier.\n",
    "\n",
    "## Specific Objectives\n",
    "\n",
    "* To predict whether a patient is negative or positive for monkeypox based on the symptoms they exhibit \n",
    "* To analyze the various variables such as Sore Throat,Penile Oedema, Oral Lesions ,Systemic illness and STIs and know their relationship with monkeypox \n",
    "\n",
    "## Research Questions\n",
    "\n",
    "* Which model best predicts monkeypox disease?\n",
    "* Which symptom has the highest correlation to monkeypox?\n",
    "* Which symptom has the lowest correlation to monkeypox?\n",
    "\n",
    "## Success Criteria\n",
    "\n",
    "Tentatively, the study will be judged a success if, we build a model to predict monkeypox with a recall of 70% or more in classification\n",
    "\n"
   ]
  },
  {
   "cell_type": "markdown",
   "id": "263057fb",
   "metadata": {
    "id": "263057fb"
   },
   "source": [
    "## Importing Libraries"
   ]
  },
  {
   "cell_type": "markdown",
   "id": "390bee09",
   "metadata": {
    "id": "390bee09"
   },
   "source": [
    "Libraries to enhance data manipulation.\n",
    "\n",
    "These comprises of;\n",
    "   > **NumPy**\n",
    "   \n",
    "   NumPy is an open source project aiming to enable numerical computing with Python.\n",
    "   \n",
    "   > **pandas**\n",
    "   \n",
    "   pandas is a fast, powerful, flexible and easy to use open source data analysis and manipulation tool,\n",
    "    built on top of the Python programming language.   "
   ]
  },
  {
   "cell_type": "code",
   "execution_count": 1,
   "id": "77dac203",
   "metadata": {
    "id": "77dac203"
   },
   "outputs": [],
   "source": [
    "import pandas as pd\n",
    "import numpy as np"
   ]
  },
  {
   "cell_type": "markdown",
   "id": "df6e7ef3",
   "metadata": {
    "id": "df6e7ef3"
   },
   "source": [
    "Libraries for visualization;\n",
    "\n",
    "   >**Seaborn**\n",
    "    \n",
    "   Seaborn is a Python data visualization library based on matplotlib. It provides a high-level interface for drawing attractive and informative statistical graphics.\n",
    "    \n",
    "   >**Matplotlib**\n",
    "    \n",
    "   Matplotlib is a comprehensive library for creating static, animated, and interactive visualizations in Python."
   ]
  },
  {
   "cell_type": "code",
   "execution_count": 2,
   "id": "f6ba0483",
   "metadata": {
    "id": "f6ba0483"
   },
   "outputs": [],
   "source": [
    "import seaborn as sns\n",
    "# setting the theme\n",
    "sns.set_style(\"darkgrid\")\n",
    "\n",
    "import matplotlib.pyplot as plt"
   ]
  },
  {
   "cell_type": "markdown",
   "id": "16112a73",
   "metadata": {
    "id": "16112a73"
   },
   "source": [
    "Libraries for modelling tasks;\n",
    "\n",
    "   >**scikit-learn**\n",
    "   \n",
    "   Simple and efficient tools for predictive data analysis, accessible to everybody, and reusable in various contexts built on NumPy, SciPy, and matplotlib"
   ]
  },
  {
   "cell_type": "code",
   "execution_count": 3,
   "id": "3007ed4d",
   "metadata": {
    "id": "3007ed4d"
   },
   "outputs": [],
   "source": [
    "from sklearn.linear_model import Ridge, Lasso, LogisticRegression\n",
    "from sklearn.tree import DecisionTreeClassifier\n",
    "from sklearn.neighbors import KNeighborsClassifier\n",
    "from sklearn.ensemble import RandomForestClassifier\n",
    "from sklearn.pipeline import Pipeline\n",
    "from sklearn.metrics import recall_score, precision_score ,accuracy_score, plot_confusion_matrix, confusion_matrix, f1_score\n",
    "from sklearn.model_selection import cross_val_score, GridSearchCV, train_test_split\n",
    "from imblearn.over_sampling import SMOTE, ADASYN "
   ]
  },
  {
   "cell_type": "markdown",
   "id": "1a43c320",
   "metadata": {
    "id": "1a43c320"
   },
   "source": [
    "Library for saving our final model"
   ]
  },
  {
   "cell_type": "code",
   "execution_count": 4,
   "id": "b3a6ce64",
   "metadata": {
    "id": "b3a6ce64"
   },
   "outputs": [],
   "source": [
    "import joblib"
   ]
  },
  {
   "cell_type": "markdown",
   "id": "09254ec9",
   "metadata": {
    "id": "09254ec9"
   },
   "source": [
    "Library for ignoring deprecation warnings"
   ]
  },
  {
   "cell_type": "code",
   "execution_count": 5,
   "id": "f31e331e",
   "metadata": {
    "id": "f31e331e"
   },
   "outputs": [],
   "source": [
    "import warnings\n",
    "warnings.simplefilter(action='ignore', category=FutureWarning)\n",
    "warnings.filterwarnings('ignore')"
   ]
  },
  {
   "cell_type": "markdown",
   "id": "e40611d7",
   "metadata": {
    "id": "e40611d7"
   },
   "source": [
    "#### Defining relevant Functions."
   ]
  },
  {
   "cell_type": "code",
   "execution_count": 6,
   "id": "77dcb66e",
   "metadata": {
    "id": "77dcb66e"
   },
   "outputs": [],
   "source": [
    "# function to display the values on the graph\n",
    "def show_values(axs, orient=\"v\", space=.01):\n",
    "    def _single(ax):\n",
    "        if orient == \"v\":\n",
    "            for p in ax.patches:\n",
    "                _x = p.get_x() + p.get_width() / 2\n",
    "                _y = p.get_y() + p.get_height() + (p.get_height()*0.01)\n",
    "                value = '{:.1f}'.format(p.get_height())\n",
    "                ax.text(_x, _y, value, ha=\"center\") \n",
    "        elif orient == \"h\":\n",
    "            for p in ax.patches:\n",
    "                _x = p.get_x() + p.get_width() + float(space)\n",
    "                _y = p.get_y() + p.get_height() - (p.get_height()*0.5)\n",
    "                value = '{:.1f}'.format(p.get_width())\n",
    "                ax.text(_x, _y, value, ha=\"left\")\n",
    "\n",
    "    if isinstance(axs, np.ndarray):\n",
    "        for idx, ax in np.ndenumerate(axs):\n",
    "            _single(ax)\n",
    "    else:\n",
    "        _single(axs)\n",
    "        \n",
    "# function to plot the pie charts\n",
    "def univariate(name):\n",
    "    \"\"\" Function to plot the pie charts \"\"\"\n",
    "\n",
    "    figure = plt.pie(mp[name].value_counts(), labels = mp[name].unique(),\n",
    "             startangle = 90, shadow = True, autopct = \"%2.1f%%\")\n",
    "    plt.title(name)\n",
    "    return figure\n",
    "\n",
    "#function to train model and return the score\n",
    "def model_trainer(model, X_tr, y_tr, X_te, y_te):\n",
    "    model.fit(X_tr, y_tr)\n",
    "    pre = model.predict(X_te)\n",
    "    precision =precision_score(y_te, pre)\n",
    "    recall =recall_score(y_te, pre)\n",
    "    accuracy =accuracy_score(y_te, pre)\n",
    "    f1 = f1_score(y_te, pre)\n",
    "    \n",
    "    return {'precision':precision,\n",
    "            'recall_score':recall,\n",
    "            'accuracy_score':accuracy,\n",
    "            'f1_score':f1}\n",
    "\n",
    "#function to tune the model and find best parameters for the DecisionTreeClassifier using gridSearchCv\n",
    "def grid_search(model, parms, X_tr, y_tr):\n",
    "    gs_tree = GridSearchCV(model, parms, cv=3)\n",
    "    gs_tree.fit(X_tr, y_tr)\n",
    "\n",
    "    return gs_tree.best_params_"
   ]
  },
  {
   "cell_type": "markdown",
   "id": "6f1fe974",
   "metadata": {
    "id": "6f1fe974"
   },
   "source": [
    "## Loading Data"
   ]
  },
  {
   "cell_type": "code",
   "execution_count": 7,
   "id": "505e2942",
   "metadata": {
    "id": "505e2942"
   },
   "outputs": [],
   "source": [
    "# Loading the data using pandas into mp {Monkey Pox}\n",
    "\n",
    "# Index_col sets the index to be the patient id as there is no need to have more than one unique identifiers.\n",
    "\n",
    "mp = pd.read_csv('DATA.csv')"
   ]
  },
  {
   "cell_type": "markdown",
   "id": "9ce90e8e",
   "metadata": {
    "id": "9ce90e8e"
   },
   "source": [
    "# 2. DATA UNDERSTANDING\n",
    "\n",
    "## Overview\n",
    "\n",
    "We are using a SYNTHETIC dataset generated from a study published by the British Medical Journal. It is a description of the clinical features and novel presentations of human monkeypox during the outbreak of 2022 in central London. \n",
    "\n",
    "The data has already been loaded in the above code cell."
   ]
  },
  {
   "cell_type": "code",
   "execution_count": 8,
   "id": "a19f85db",
   "metadata": {
    "colab": {
     "base_uri": "https://localhost:8080/",
     "height": 206
    },
    "id": "a19f85db",
    "outputId": "79487267-115a-457c-bd5c-2ef2b10b964a"
   },
   "outputs": [
    {
     "data": {
      "text/html": [
       "<div>\n",
       "<style scoped>\n",
       "    .dataframe tbody tr th:only-of-type {\n",
       "        vertical-align: middle;\n",
       "    }\n",
       "\n",
       "    .dataframe tbody tr th {\n",
       "        vertical-align: top;\n",
       "    }\n",
       "\n",
       "    .dataframe thead th {\n",
       "        text-align: right;\n",
       "    }\n",
       "</style>\n",
       "<table border=\"1\" class=\"dataframe\">\n",
       "  <thead>\n",
       "    <tr style=\"text-align: right;\">\n",
       "      <th></th>\n",
       "      <th>Patient_ID</th>\n",
       "      <th>Systemic Illness</th>\n",
       "      <th>Rectal Pain</th>\n",
       "      <th>Sore Throat</th>\n",
       "      <th>Penile Oedema</th>\n",
       "      <th>Oral Lesions</th>\n",
       "      <th>Solitary Lesion</th>\n",
       "      <th>Swollen Tonsils</th>\n",
       "      <th>HIV Infection</th>\n",
       "      <th>Sexually Transmitted Infection</th>\n",
       "      <th>MonkeyPox</th>\n",
       "    </tr>\n",
       "  </thead>\n",
       "  <tbody>\n",
       "    <tr>\n",
       "      <th>0</th>\n",
       "      <td>P0</td>\n",
       "      <td>None</td>\n",
       "      <td>False</td>\n",
       "      <td>True</td>\n",
       "      <td>True</td>\n",
       "      <td>True</td>\n",
       "      <td>False</td>\n",
       "      <td>True</td>\n",
       "      <td>False</td>\n",
       "      <td>False</td>\n",
       "      <td>Negative</td>\n",
       "    </tr>\n",
       "    <tr>\n",
       "      <th>1</th>\n",
       "      <td>P1</td>\n",
       "      <td>Fever</td>\n",
       "      <td>True</td>\n",
       "      <td>False</td>\n",
       "      <td>True</td>\n",
       "      <td>True</td>\n",
       "      <td>False</td>\n",
       "      <td>False</td>\n",
       "      <td>True</td>\n",
       "      <td>False</td>\n",
       "      <td>Positive</td>\n",
       "    </tr>\n",
       "    <tr>\n",
       "      <th>2</th>\n",
       "      <td>P2</td>\n",
       "      <td>Fever</td>\n",
       "      <td>False</td>\n",
       "      <td>True</td>\n",
       "      <td>True</td>\n",
       "      <td>False</td>\n",
       "      <td>False</td>\n",
       "      <td>False</td>\n",
       "      <td>True</td>\n",
       "      <td>False</td>\n",
       "      <td>Positive</td>\n",
       "    </tr>\n",
       "    <tr>\n",
       "      <th>3</th>\n",
       "      <td>P3</td>\n",
       "      <td>None</td>\n",
       "      <td>True</td>\n",
       "      <td>False</td>\n",
       "      <td>False</td>\n",
       "      <td>False</td>\n",
       "      <td>True</td>\n",
       "      <td>True</td>\n",
       "      <td>True</td>\n",
       "      <td>False</td>\n",
       "      <td>Positive</td>\n",
       "    </tr>\n",
       "    <tr>\n",
       "      <th>4</th>\n",
       "      <td>P4</td>\n",
       "      <td>Swollen Lymph Nodes</td>\n",
       "      <td>True</td>\n",
       "      <td>True</td>\n",
       "      <td>True</td>\n",
       "      <td>False</td>\n",
       "      <td>False</td>\n",
       "      <td>True</td>\n",
       "      <td>True</td>\n",
       "      <td>False</td>\n",
       "      <td>Positive</td>\n",
       "    </tr>\n",
       "  </tbody>\n",
       "</table>\n",
       "</div>"
      ],
      "text/plain": [
       "  Patient_ID     Systemic Illness  Rectal Pain  Sore Throat  Penile Oedema  \\\n",
       "0         P0                 None        False         True           True   \n",
       "1         P1                Fever         True        False           True   \n",
       "2         P2                Fever        False         True           True   \n",
       "3         P3                 None         True        False          False   \n",
       "4         P4  Swollen Lymph Nodes         True         True           True   \n",
       "\n",
       "   Oral Lesions  Solitary Lesion  Swollen Tonsils  HIV Infection  \\\n",
       "0          True            False             True          False   \n",
       "1          True            False            False           True   \n",
       "2         False            False            False           True   \n",
       "3         False             True             True           True   \n",
       "4         False            False             True           True   \n",
       "\n",
       "   Sexually Transmitted Infection MonkeyPox  \n",
       "0                           False  Negative  \n",
       "1                           False  Positive  \n",
       "2                           False  Positive  \n",
       "3                           False  Positive  \n",
       "4                           False  Positive  "
      ]
     },
     "execution_count": 8,
     "metadata": {},
     "output_type": "execute_result"
    }
   ],
   "source": [
    "# preview of the first 5 rows\n",
    "mp.head()"
   ]
  },
  {
   "cell_type": "code",
   "execution_count": 9,
   "id": "0a8f7c27",
   "metadata": {
    "colab": {
     "base_uri": "https://localhost:8080/",
     "height": 0
    },
    "id": "0a8f7c27",
    "outputId": "0b8f5797-8573-4534-f923-237876a9f933"
   },
   "outputs": [
    {
     "name": "stdout",
     "output_type": "stream",
     "text": [
      "<class 'pandas.core.frame.DataFrame'>\n",
      "RangeIndex: 25000 entries, 0 to 24999\n",
      "Data columns (total 11 columns):\n",
      " #   Column                          Non-Null Count  Dtype \n",
      "---  ------                          --------------  ----- \n",
      " 0   Patient_ID                      25000 non-null  object\n",
      " 1   Systemic Illness                25000 non-null  object\n",
      " 2   Rectal Pain                     25000 non-null  bool  \n",
      " 3   Sore Throat                     25000 non-null  bool  \n",
      " 4   Penile Oedema                   25000 non-null  bool  \n",
      " 5   Oral Lesions                    25000 non-null  bool  \n",
      " 6   Solitary Lesion                 25000 non-null  bool  \n",
      " 7   Swollen Tonsils                 25000 non-null  bool  \n",
      " 8   HIV Infection                   25000 non-null  bool  \n",
      " 9   Sexually Transmitted Infection  25000 non-null  bool  \n",
      " 10  MonkeyPox                       25000 non-null  object\n",
      "dtypes: bool(8), object(3)\n",
      "memory usage: 781.4+ KB\n"
     ]
    }
   ],
   "source": [
    "# Checking the summary of the data\n",
    "\n",
    "mp.info()"
   ]
  },
  {
   "cell_type": "code",
   "execution_count": 10,
   "id": "1f57e8a4",
   "metadata": {
    "colab": {
     "base_uri": "https://localhost:8080/",
     "height": 0
    },
    "id": "1f57e8a4",
    "outputId": "2312d5a4-c498-4ca8-a8ff-79e5995a1867"
   },
   "outputs": [
    {
     "data": {
      "text/plain": [
       "0"
      ]
     },
     "execution_count": 10,
     "metadata": {},
     "output_type": "execute_result"
    }
   ],
   "source": [
    "# checking for duplicates using the index as a guide as the index is the personal id\n",
    "mp.duplicated().sum()"
   ]
  },
  {
   "cell_type": "code",
   "execution_count": 11,
   "id": "552eeb37",
   "metadata": {
    "colab": {
     "base_uri": "https://localhost:8080/",
     "height": 0
    },
    "id": "552eeb37",
    "outputId": "dc9da30c-042d-4639-a45a-b813e92be2d8"
   },
   "outputs": [
    {
     "data": {
      "text/plain": [
       "Index(['Patient_ID', 'Systemic Illness', 'Rectal Pain', 'Sore Throat',\n",
       "       'Penile Oedema', 'Oral Lesions', 'Solitary Lesion', 'Swollen Tonsils',\n",
       "       'HIV Infection', 'Sexually Transmitted Infection', 'MonkeyPox'],\n",
       "      dtype='object')"
      ]
     },
     "execution_count": 11,
     "metadata": {},
     "output_type": "execute_result"
    }
   ],
   "source": [
    "# viewing the column names of the dataset \n",
    "\n",
    "mp.columns"
   ]
  },
  {
   "cell_type": "code",
   "execution_count": 12,
   "id": "72cb140b",
   "metadata": {
    "colab": {
     "base_uri": "https://localhost:8080/",
     "height": 175
    },
    "id": "72cb140b",
    "outputId": "64a33dcc-bc5b-4e94-f029-e4efe64e0f9d",
    "scrolled": true
   },
   "outputs": [
    {
     "data": {
      "text/html": [
       "<div>\n",
       "<style scoped>\n",
       "    .dataframe tbody tr th:only-of-type {\n",
       "        vertical-align: middle;\n",
       "    }\n",
       "\n",
       "    .dataframe tbody tr th {\n",
       "        vertical-align: top;\n",
       "    }\n",
       "\n",
       "    .dataframe thead th {\n",
       "        text-align: right;\n",
       "    }\n",
       "</style>\n",
       "<table border=\"1\" class=\"dataframe\">\n",
       "  <thead>\n",
       "    <tr style=\"text-align: right;\">\n",
       "      <th></th>\n",
       "      <th>Patient_ID</th>\n",
       "      <th>Systemic Illness</th>\n",
       "      <th>Rectal Pain</th>\n",
       "      <th>Sore Throat</th>\n",
       "      <th>Penile Oedema</th>\n",
       "      <th>Oral Lesions</th>\n",
       "      <th>Solitary Lesion</th>\n",
       "      <th>Swollen Tonsils</th>\n",
       "      <th>HIV Infection</th>\n",
       "      <th>Sexually Transmitted Infection</th>\n",
       "      <th>MonkeyPox</th>\n",
       "    </tr>\n",
       "  </thead>\n",
       "  <tbody>\n",
       "    <tr>\n",
       "      <th>count</th>\n",
       "      <td>25000</td>\n",
       "      <td>25000</td>\n",
       "      <td>25000</td>\n",
       "      <td>25000</td>\n",
       "      <td>25000</td>\n",
       "      <td>25000</td>\n",
       "      <td>25000</td>\n",
       "      <td>25000</td>\n",
       "      <td>25000</td>\n",
       "      <td>25000</td>\n",
       "      <td>25000</td>\n",
       "    </tr>\n",
       "    <tr>\n",
       "      <th>unique</th>\n",
       "      <td>25000</td>\n",
       "      <td>4</td>\n",
       "      <td>2</td>\n",
       "      <td>2</td>\n",
       "      <td>2</td>\n",
       "      <td>2</td>\n",
       "      <td>2</td>\n",
       "      <td>2</td>\n",
       "      <td>2</td>\n",
       "      <td>2</td>\n",
       "      <td>2</td>\n",
       "    </tr>\n",
       "    <tr>\n",
       "      <th>top</th>\n",
       "      <td>P0</td>\n",
       "      <td>Fever</td>\n",
       "      <td>False</td>\n",
       "      <td>True</td>\n",
       "      <td>True</td>\n",
       "      <td>False</td>\n",
       "      <td>True</td>\n",
       "      <td>True</td>\n",
       "      <td>True</td>\n",
       "      <td>False</td>\n",
       "      <td>Positive</td>\n",
       "    </tr>\n",
       "    <tr>\n",
       "      <th>freq</th>\n",
       "      <td>1</td>\n",
       "      <td>6382</td>\n",
       "      <td>12655</td>\n",
       "      <td>12554</td>\n",
       "      <td>12612</td>\n",
       "      <td>12514</td>\n",
       "      <td>12527</td>\n",
       "      <td>12533</td>\n",
       "      <td>12584</td>\n",
       "      <td>12554</td>\n",
       "      <td>15909</td>\n",
       "    </tr>\n",
       "  </tbody>\n",
       "</table>\n",
       "</div>"
      ],
      "text/plain": [
       "       Patient_ID Systemic Illness Rectal Pain Sore Throat Penile Oedema  \\\n",
       "count       25000            25000       25000       25000         25000   \n",
       "unique      25000                4           2           2             2   \n",
       "top            P0            Fever       False        True          True   \n",
       "freq            1             6382       12655       12554         12612   \n",
       "\n",
       "       Oral Lesions Solitary Lesion Swollen Tonsils HIV Infection  \\\n",
       "count         25000           25000           25000         25000   \n",
       "unique            2               2               2             2   \n",
       "top           False            True            True          True   \n",
       "freq          12514           12527           12533         12584   \n",
       "\n",
       "       Sexually Transmitted Infection MonkeyPox  \n",
       "count                           25000     25000  \n",
       "unique                              2         2  \n",
       "top                             False  Positive  \n",
       "freq                            12554     15909  "
      ]
     },
     "execution_count": 12,
     "metadata": {},
     "output_type": "execute_result"
    }
   ],
   "source": [
    "# checking the summary statistics of the data\n",
    "mp.describe()"
   ]
  },
  {
   "cell_type": "code",
   "execution_count": 13,
   "id": "a389d076",
   "metadata": {
    "colab": {
     "base_uri": "https://localhost:8080/",
     "height": 0
    },
    "id": "a389d076",
    "outputId": "2bc21911-7696-4c6a-9858-53096bce81b8"
   },
   "outputs": [
    {
     "data": {
      "text/plain": [
       "(25000, 11)"
      ]
     },
     "execution_count": 13,
     "metadata": {},
     "output_type": "execute_result"
    }
   ],
   "source": [
    "# shape of the data\n",
    "mp.shape"
   ]
  },
  {
   "cell_type": "code",
   "execution_count": 14,
   "id": "3f6176bc",
   "metadata": {
    "colab": {
     "base_uri": "https://localhost:8080/",
     "height": 0
    },
    "id": "3f6176bc",
    "outputId": "5c8dca87-490a-4b37-faf4-9d865a37c676",
    "scrolled": true
   },
   "outputs": [
    {
     "data": {
      "text/plain": [
       "Fever                    6382\n",
       "Swollen Lymph Nodes      6252\n",
       "None                     6216\n",
       "Muscle Aches and Pain    6150\n",
       "Name: Systemic Illness, dtype: int64"
      ]
     },
     "execution_count": 14,
     "metadata": {},
     "output_type": "execute_result"
    }
   ],
   "source": [
    "# Checking on the uniue value counts in Systemic Illness\n",
    "mp['Systemic Illness'].value_counts()"
   ]
  },
  {
   "cell_type": "code",
   "execution_count": 15,
   "id": "efa77e51",
   "metadata": {
    "id": "efa77e51"
   },
   "outputs": [],
   "source": [
    "# Reducing ambiguity in the systemic illness column we change none to No systemic Illness\n",
    "\n",
    "mp['Systemic Illness'].replace(to_replace= 'None',value= 'No_Systemic_Illness',inplace= True)"
   ]
  },
  {
   "cell_type": "code",
   "execution_count": 16,
   "id": "ce0ae398",
   "metadata": {
    "colab": {
     "base_uri": "https://localhost:8080/",
     "height": 0
    },
    "id": "ce0ae398",
    "outputId": "f93722e5-d3f3-4a14-cc15-f8c57bc59861"
   },
   "outputs": [
    {
     "data": {
      "text/plain": [
       "Fever                    6382\n",
       "Swollen Lymph Nodes      6252\n",
       "No_Systemic_Illness      6216\n",
       "Muscle Aches and Pain    6150\n",
       "Name: Systemic Illness, dtype: int64"
      ]
     },
     "execution_count": 16,
     "metadata": {},
     "output_type": "execute_result"
    }
   ],
   "source": [
    "# confirming\n",
    "mp['Systemic Illness'].value_counts()"
   ]
  },
  {
   "cell_type": "markdown",
   "id": "f69aaf61",
   "metadata": {
    "id": "f69aaf61"
   },
   "source": [
    "__Summary__\n",
    "\n",
    "* Our data has 25,000 rows and 11 columns\n",
    "* The data has 8 columns of dtype ```Bool``` and 2 columns of dtype ```object```.\n",
    "* There are no missing columns in the data.\n",
    "* There are no duplicates in the data.\n",
    "* One column in particular will be dropped `Patient_ID` as the patient id wont be helpful in the modeling as it will only add noise for the machine.\n",
    "* Uniformity of column names will also be done to reduce ambiguity.\n",
    "* The following are the relevant columns in our data;\n",
    "    * Systemic Illness \n",
    "    * Rectal Pain \n",
    "    * Sore Throat \n",
    "    * Penile Oedema\n",
    "    * Oral Lesions \n",
    "    * Solitary Lesion \n",
    "    * Swollen Tonsils \n",
    "    * HIV Infection\n",
    "    * Sexually Transmitted Infection\n",
    "    * MonkeyPox\n",
    "    \n",
    "\n",
    "\n",
    "Systemic illness has the most value counts after Patient_ID with 4.\n",
    "\n",
    "data cleaning will be relatievly easy as the data has no missing values and no duplicates.\n",
    "\n",
    "\n",
    "Since the data has no duplicates and missing values, we can go ahead and perfom column name uniforminty, type casting. and drop the `Patient_ID` before starting on Exploratory Data Analysis to gain more insights from the data."
   ]
  },
  {
   "cell_type": "markdown",
   "id": "b70f528c",
   "metadata": {
    "id": "b70f528c"
   },
   "source": [
    "### Dropping Patient ID"
   ]
  },
  {
   "cell_type": "code",
   "execution_count": 17,
   "id": "61f180ee",
   "metadata": {
    "colab": {
     "base_uri": "https://localhost:8080/",
     "height": 143
    },
    "id": "61f180ee",
    "outputId": "c83584b1-7c42-4675-ea2e-0e70e5a06e55",
    "scrolled": true
   },
   "outputs": [
    {
     "data": {
      "text/html": [
       "<div>\n",
       "<style scoped>\n",
       "    .dataframe tbody tr th:only-of-type {\n",
       "        vertical-align: middle;\n",
       "    }\n",
       "\n",
       "    .dataframe tbody tr th {\n",
       "        vertical-align: top;\n",
       "    }\n",
       "\n",
       "    .dataframe thead th {\n",
       "        text-align: right;\n",
       "    }\n",
       "</style>\n",
       "<table border=\"1\" class=\"dataframe\">\n",
       "  <thead>\n",
       "    <tr style=\"text-align: right;\">\n",
       "      <th></th>\n",
       "      <th>Systemic Illness</th>\n",
       "      <th>Rectal Pain</th>\n",
       "      <th>Sore Throat</th>\n",
       "      <th>Penile Oedema</th>\n",
       "      <th>Oral Lesions</th>\n",
       "      <th>Solitary Lesion</th>\n",
       "      <th>Swollen Tonsils</th>\n",
       "      <th>HIV Infection</th>\n",
       "      <th>Sexually Transmitted Infection</th>\n",
       "      <th>MonkeyPox</th>\n",
       "    </tr>\n",
       "  </thead>\n",
       "  <tbody>\n",
       "    <tr>\n",
       "      <th>0</th>\n",
       "      <td>No_Systemic_Illness</td>\n",
       "      <td>False</td>\n",
       "      <td>True</td>\n",
       "      <td>True</td>\n",
       "      <td>True</td>\n",
       "      <td>False</td>\n",
       "      <td>True</td>\n",
       "      <td>False</td>\n",
       "      <td>False</td>\n",
       "      <td>Negative</td>\n",
       "    </tr>\n",
       "    <tr>\n",
       "      <th>1</th>\n",
       "      <td>Fever</td>\n",
       "      <td>True</td>\n",
       "      <td>False</td>\n",
       "      <td>True</td>\n",
       "      <td>True</td>\n",
       "      <td>False</td>\n",
       "      <td>False</td>\n",
       "      <td>True</td>\n",
       "      <td>False</td>\n",
       "      <td>Positive</td>\n",
       "    </tr>\n",
       "    <tr>\n",
       "      <th>2</th>\n",
       "      <td>Fever</td>\n",
       "      <td>False</td>\n",
       "      <td>True</td>\n",
       "      <td>True</td>\n",
       "      <td>False</td>\n",
       "      <td>False</td>\n",
       "      <td>False</td>\n",
       "      <td>True</td>\n",
       "      <td>False</td>\n",
       "      <td>Positive</td>\n",
       "    </tr>\n",
       "  </tbody>\n",
       "</table>\n",
       "</div>"
      ],
      "text/plain": [
       "      Systemic Illness  Rectal Pain  Sore Throat  Penile Oedema  Oral Lesions  \\\n",
       "0  No_Systemic_Illness        False         True           True          True   \n",
       "1                Fever         True        False           True          True   \n",
       "2                Fever        False         True           True         False   \n",
       "\n",
       "   Solitary Lesion  Swollen Tonsils  HIV Infection  \\\n",
       "0            False             True          False   \n",
       "1            False            False           True   \n",
       "2            False            False           True   \n",
       "\n",
       "   Sexually Transmitted Infection MonkeyPox  \n",
       "0                           False  Negative  \n",
       "1                           False  Positive  \n",
       "2                           False  Positive  "
      ]
     },
     "execution_count": 17,
     "metadata": {},
     "output_type": "execute_result"
    }
   ],
   "source": [
    "# dropping the patient id\n",
    "mp.drop(columns=['Patient_ID'],axis = 1, inplace=True)\n",
    "mp.head(3)"
   ]
  },
  {
   "cell_type": "markdown",
   "id": "4838a74d",
   "metadata": {
    "id": "4838a74d"
   },
   "source": [
    "### Uniformity of Column names"
   ]
  },
  {
   "cell_type": "code",
   "execution_count": 18,
   "id": "3a630983",
   "metadata": {
    "colab": {
     "base_uri": "https://localhost:8080/",
     "height": 143
    },
    "id": "3a630983",
    "outputId": "81a397e9-6fc9-4790-8c7e-9edd700af91d",
    "scrolled": true
   },
   "outputs": [
    {
     "data": {
      "text/html": [
       "<div>\n",
       "<style scoped>\n",
       "    .dataframe tbody tr th:only-of-type {\n",
       "        vertical-align: middle;\n",
       "    }\n",
       "\n",
       "    .dataframe tbody tr th {\n",
       "        vertical-align: top;\n",
       "    }\n",
       "\n",
       "    .dataframe thead th {\n",
       "        text-align: right;\n",
       "    }\n",
       "</style>\n",
       "<table border=\"1\" class=\"dataframe\">\n",
       "  <thead>\n",
       "    <tr style=\"text-align: right;\">\n",
       "      <th></th>\n",
       "      <th>Systemic_Illness</th>\n",
       "      <th>Rectal_Pain</th>\n",
       "      <th>Sore_Throat</th>\n",
       "      <th>Penile_Oedema</th>\n",
       "      <th>Oral_Lesions</th>\n",
       "      <th>Solitary_Leision</th>\n",
       "      <th>Swollen_Tonsils</th>\n",
       "      <th>HIV_Infection</th>\n",
       "      <th>STI</th>\n",
       "      <th>Target</th>\n",
       "    </tr>\n",
       "  </thead>\n",
       "  <tbody>\n",
       "    <tr>\n",
       "      <th>0</th>\n",
       "      <td>No_Systemic_Illness</td>\n",
       "      <td>False</td>\n",
       "      <td>True</td>\n",
       "      <td>True</td>\n",
       "      <td>True</td>\n",
       "      <td>False</td>\n",
       "      <td>True</td>\n",
       "      <td>False</td>\n",
       "      <td>False</td>\n",
       "      <td>Negative</td>\n",
       "    </tr>\n",
       "    <tr>\n",
       "      <th>1</th>\n",
       "      <td>Fever</td>\n",
       "      <td>True</td>\n",
       "      <td>False</td>\n",
       "      <td>True</td>\n",
       "      <td>True</td>\n",
       "      <td>False</td>\n",
       "      <td>False</td>\n",
       "      <td>True</td>\n",
       "      <td>False</td>\n",
       "      <td>Positive</td>\n",
       "    </tr>\n",
       "    <tr>\n",
       "      <th>2</th>\n",
       "      <td>Fever</td>\n",
       "      <td>False</td>\n",
       "      <td>True</td>\n",
       "      <td>True</td>\n",
       "      <td>False</td>\n",
       "      <td>False</td>\n",
       "      <td>False</td>\n",
       "      <td>True</td>\n",
       "      <td>False</td>\n",
       "      <td>Positive</td>\n",
       "    </tr>\n",
       "  </tbody>\n",
       "</table>\n",
       "</div>"
      ],
      "text/plain": [
       "      Systemic_Illness  Rectal_Pain  Sore_Throat  Penile_Oedema  Oral_Lesions  \\\n",
       "0  No_Systemic_Illness        False         True           True          True   \n",
       "1                Fever         True        False           True          True   \n",
       "2                Fever        False         True           True         False   \n",
       "\n",
       "   Solitary_Leision  Swollen_Tonsils  HIV_Infection    STI    Target  \n",
       "0             False             True          False  False  Negative  \n",
       "1             False            False           True  False  Positive  \n",
       "2             False            False           True  False  Positive  "
      ]
     },
     "execution_count": 18,
     "metadata": {},
     "output_type": "execute_result"
    }
   ],
   "source": [
    "# replacing the names\n",
    "mp.rename(columns={'Systemic Illness':'Systemic_Illness',\n",
    "                        'Rectal Pain':'Rectal_Pain',\n",
    "                        'Sore Throat':'Sore_Throat',\n",
    "                        'Penile Oedema':'Penile_Oedema',\n",
    "                        'Oral Lesions':'Oral_Lesions',\n",
    "                        'Solitary Lesion':'Solitary_Leision',\n",
    "                        'Swollen Tonsils':'Swollen_Tonsils',\n",
    "                        'HIV Infection':'HIV_Infection',\n",
    "                        'Sexually Transmitted Infection':'STI',\n",
    "                        'MonkeyPox':'Target'},inplace=True)\n",
    "mp.head(3)"
   ]
  },
  {
   "cell_type": "markdown",
   "id": "63d6efdd",
   "metadata": {
    "id": "63d6efdd"
   },
   "source": [
    "### Type casting Objects to Categorical data types"
   ]
  },
  {
   "cell_type": "code",
   "execution_count": 19,
   "id": "7f6c3147",
   "metadata": {
    "colab": {
     "base_uri": "https://localhost:8080/",
     "height": 0
    },
    "id": "7f6c3147",
    "outputId": "ffdbc0c5-1193-488b-e9a3-794eaa8e00f4"
   },
   "outputs": [
    {
     "data": {
      "text/plain": [
       "['Systemic_Illness', 'Target']"
      ]
     },
     "execution_count": 19,
     "metadata": {},
     "output_type": "execute_result"
    }
   ],
   "source": [
    "# For loop to get all object types in the data frame\n",
    "col_obj = []\n",
    "for x in list(mp.columns):\n",
    "    if mp[x].dtypes == object:\n",
    "        col_obj.append(x)\n",
    "col_obj        "
   ]
  },
  {
   "cell_type": "code",
   "execution_count": 20,
   "id": "a2cf12bc",
   "metadata": {
    "colab": {
     "base_uri": "https://localhost:8080/",
     "height": 0
    },
    "id": "a2cf12bc",
    "outputId": "a97414b5-01d4-4f79-c626-6f87013580de"
   },
   "outputs": [
    {
     "name": "stdout",
     "output_type": "stream",
     "text": [
      "<class 'pandas.core.frame.DataFrame'>\n",
      "RangeIndex: 25000 entries, 0 to 24999\n",
      "Data columns (total 10 columns):\n",
      " #   Column            Non-Null Count  Dtype   \n",
      "---  ------            --------------  -----   \n",
      " 0   Systemic_Illness  25000 non-null  category\n",
      " 1   Rectal_Pain       25000 non-null  bool    \n",
      " 2   Sore_Throat       25000 non-null  bool    \n",
      " 3   Penile_Oedema     25000 non-null  bool    \n",
      " 4   Oral_Lesions      25000 non-null  bool    \n",
      " 5   Solitary_Leision  25000 non-null  bool    \n",
      " 6   Swollen_Tonsils   25000 non-null  bool    \n",
      " 7   HIV_Infection     25000 non-null  bool    \n",
      " 8   STI               25000 non-null  bool    \n",
      " 9   Target            25000 non-null  category\n",
      "dtypes: bool(8), category(2)\n",
      "memory usage: 244.6 KB\n"
     ]
    }
   ],
   "source": [
    "# type_casting object to categorical \n",
    "\n",
    "mp[col_obj] = mp[col_obj].astype('category')\n",
    "\n",
    "# confirming\n",
    "mp.info()"
   ]
  },
  {
   "cell_type": "markdown",
   "id": "9c5de18b",
   "metadata": {
    "id": "9c5de18b"
   },
   "source": [
    "## Exploratory Data Analysis\n",
    "\n",
    "### UNIVARIATE ANALYSIS\n",
    "\n",
    "__Feature columns__\n",
    "\n",
    "In univariate analysis, we will investigate the distribution of symptoms using pie charts."
   ]
  },
  {
   "cell_type": "code",
   "execution_count": 21,
   "id": "c61743fa",
   "metadata": {
    "id": "c61743fa"
   },
   "outputs": [],
   "source": [
    "# Making a list of column names to use in the notebook\n",
    "col = list(mp.columns)"
   ]
  },
  {
   "cell_type": "code",
   "execution_count": 22,
   "id": "0c48a198",
   "metadata": {
    "colab": {
     "base_uri": "https://localhost:8080/",
     "height": 1000
    },
    "id": "0c48a198",
    "outputId": "7879c18b-1e4e-49a3-c30e-e93b56078871"
   },
   "outputs": [
    {
     "data": {
      "image/png": "[encoded data removed]",
      "text/plain": [
       "<Figure size 1080x1440 with 9 Axes>"
      ]
     },
     "metadata": {},
     "output_type": "display_data"
    }
   ],
   "source": [
    "# columns to use when plotting the pie charts\n",
    "columns =  col[:-1]\n",
    "\n",
    "# plotting the pie charts\n",
    "plt.figure(figsize = (15, 20))\n",
    "for i in enumerate(columns):\n",
    "    plt.subplot(3, 3, i[0] + 1)\n",
    "    univariate(i[1])"
   ]
  },
  {
   "cell_type": "markdown",
   "id": "404e9f08",
   "metadata": {
    "id": "404e9f08"
   },
   "source": [
    "__Target Column__"
   ]
  },
  {
   "cell_type": "code",
   "execution_count": 23,
   "id": "18587a98",
   "metadata": {
    "colab": {
     "base_uri": "https://localhost:8080/",
     "height": 264
    },
    "id": "18587a98",
    "outputId": "90c4090e-b1b3-4239-8a18-419b28780262"
   },
   "outputs": [
    {
     "data": {
      "image/png": "[encoded data removed]",
      "text/plain": [
       "<Figure size 432x288 with 1 Axes>"
      ]
     },
     "metadata": {},
     "output_type": "display_data"
    }
   ],
   "source": [
    "univariate(\"Target\");"
   ]
  },
  {
   "cell_type": "markdown",
   "id": "d4218531",
   "metadata": {
    "id": "d4218531"
   },
   "source": [
    "__Univariate Analysis summary__\n",
    "\n",
    "* From the above, all symptoms have an almost uniform distribution based on whether it is true or false.\n",
    "* For the target column, 63.6% of the data consists of those who are monkeypox negative and 36.4% are those who are monkeypox positive therefore there is a class imbalance in our target column."
   ]
  },
  {
   "cell_type": "markdown",
   "id": "2bfb2eaa",
   "metadata": {
    "id": "2bfb2eaa"
   },
   "source": [
    "### BIVARIATE ANALYSIS\n",
    "\n",
    "In Bivariate analysis, we will compare the feature columns to our target variable to see the relationship between the two.\n",
    "This will be achieved by plotting side by side bar charts to see the relationship."
   ]
  },
  {
   "cell_type": "code",
   "execution_count": 24,
   "id": "7290a074",
   "metadata": {
    "colab": {
     "base_uri": "https://localhost:8080/",
     "height": 1241
    },
    "id": "7290a074",
    "outputId": "f4747c7f-5d44-4aae-c990-f9dabf610e2a",
    "scrolled": false
   },
   "outputs": [
    {
     "data": {
      "image/png": "[encoded data removed]",
      "text/plain": [
       "<Figure size 1296x2736 with 9 Axes>"
      ]
     },
     "metadata": {},
     "output_type": "display_data"
    }
   ],
   "source": [
    "# Plotting side by side graphs for the bivariate analysis\n",
    "\n",
    "features = col[:-1]\n",
    "plt.figure(figsize = (18, 38))\n",
    "for idx,val in enumerate(features):\n",
    "    plt.subplot(5, 2, idx + 1)\n",
    "    sns.countplot(x = val, hue = \"Target\", data = mp )\n",
    "    plt.xticks(rotation = 10)\n",
    "    plt.title(val.upper())   "
   ]
  },
  {
   "cell_type": "markdown",
   "id": "71fac3e5",
   "metadata": {
    "id": "71fac3e5"
   },
   "source": [
    "__Bivariate Analysis Summary__\n",
    "\n",
    "* For the systemic illness symptoms, people with ```fever``` and ```swollen lymph nodes``` have a high chance of being MonkeyPox positive.\n",
    "* People with the symptoms of ```HIV Infection```, ```Rectal Pain``` and ```Sexually Transmitted Infection``` also have a high chance of being MonkeyPox positive.\n",
    "* They all "
   ]
  },
  {
   "cell_type": "markdown",
   "id": "b038851c",
   "metadata": {
    "id": "b038851c"
   },
   "source": [
    "### INVESTIGATING CORRELATION"
   ]
  },
  {
   "cell_type": "code",
   "execution_count": 25,
   "id": "cb139d8f",
   "metadata": {
    "colab": {
     "base_uri": "https://localhost:8080/",
     "height": 596
    },
    "id": "cb139d8f",
    "outputId": "d5d6874f-d862-4811-c23f-37c14333d096"
   },
   "outputs": [
    {
     "data": {
      "image/png": "[encoded data removed]",
      "text/plain": [
       "<Figure size 1440x720 with 2 Axes>"
      ]
     },
     "metadata": {},
     "output_type": "display_data"
    }
   ],
   "source": [
    "plt.figure(figsize = (20, 10))\n",
    "var = mp.corr()\n",
    "sns.heatmap(var, annot = True, cmap = \"YlGnBu\");"
   ]
  },
  {
   "cell_type": "markdown",
   "id": "a5a72374",
   "metadata": {
    "id": "a5a72374"
   },
   "source": [
    "No high correlation was observed in the dataset."
   ]
  },
  {
   "cell_type": "markdown",
   "id": "8d5a4dc4",
   "metadata": {
    "id": "8d5a4dc4"
   },
   "source": [
    "# 3. DATA PREPARATION"
   ]
  },
  {
   "cell_type": "markdown",
   "id": "cd0fcc35",
   "metadata": {
    "id": "cd0fcc35"
   },
   "source": [
    "Now that we have finished with EDa. We should prepare the data `mp` for modeling by one hot encoding to get binary column.\n"
   ]
  },
  {
   "cell_type": "code",
   "execution_count": 26,
   "id": "15bb1e11",
   "metadata": {
    "colab": {
     "base_uri": "https://localhost:8080/",
     "height": 0
    },
    "id": "15bb1e11",
    "outputId": "25e1e785-e3f2-4449-fbdb-6d0e3a01f14e"
   },
   "outputs": [
    {
     "data": {
      "text/plain": [
       "['Systemic_Illness',\n",
       " 'Rectal_Pain',\n",
       " 'Sore_Throat',\n",
       " 'Penile_Oedema',\n",
       " 'Oral_Lesions',\n",
       " 'Solitary_Leision',\n",
       " 'Swollen_Tonsils',\n",
       " 'HIV_Infection',\n",
       " 'STI',\n",
       " 'Target']"
      ]
     },
     "execution_count": 26,
     "metadata": {},
     "output_type": "execute_result"
    }
   ],
   "source": [
    "col"
   ]
  },
  {
   "cell_type": "code",
   "execution_count": 27,
   "id": "df341b58",
   "metadata": {
    "colab": {
     "base_uri": "https://localhost:8080/",
     "height": 424
    },
    "id": "df341b58",
    "outputId": "631bb443-a188-4916-9a3d-3878079a627d"
   },
   "outputs": [
    {
     "data": {
      "text/html": [
       "<div>\n",
       "<style scoped>\n",
       "    .dataframe tbody tr th:only-of-type {\n",
       "        vertical-align: middle;\n",
       "    }\n",
       "\n",
       "    .dataframe tbody tr th {\n",
       "        vertical-align: top;\n",
       "    }\n",
       "\n",
       "    .dataframe thead th {\n",
       "        text-align: right;\n",
       "    }\n",
       "</style>\n",
       "<table border=\"1\" class=\"dataframe\">\n",
       "  <thead>\n",
       "    <tr style=\"text-align: right;\">\n",
       "      <th></th>\n",
       "      <th>Systemic_Illness_Fever</th>\n",
       "      <th>Systemic_Illness_Muscle Aches and Pain</th>\n",
       "      <th>Systemic_Illness_No_Systemic_Illness</th>\n",
       "      <th>Systemic_Illness_Swollen Lymph Nodes</th>\n",
       "    </tr>\n",
       "  </thead>\n",
       "  <tbody>\n",
       "    <tr>\n",
       "      <th>0</th>\n",
       "      <td>0</td>\n",
       "      <td>0</td>\n",
       "      <td>1</td>\n",
       "      <td>0</td>\n",
       "    </tr>\n",
       "    <tr>\n",
       "      <th>1</th>\n",
       "      <td>1</td>\n",
       "      <td>0</td>\n",
       "      <td>0</td>\n",
       "      <td>0</td>\n",
       "    </tr>\n",
       "    <tr>\n",
       "      <th>2</th>\n",
       "      <td>1</td>\n",
       "      <td>0</td>\n",
       "      <td>0</td>\n",
       "      <td>0</td>\n",
       "    </tr>\n",
       "    <tr>\n",
       "      <th>3</th>\n",
       "      <td>0</td>\n",
       "      <td>0</td>\n",
       "      <td>1</td>\n",
       "      <td>0</td>\n",
       "    </tr>\n",
       "    <tr>\n",
       "      <th>4</th>\n",
       "      <td>0</td>\n",
       "      <td>0</td>\n",
       "      <td>0</td>\n",
       "      <td>1</td>\n",
       "    </tr>\n",
       "    <tr>\n",
       "      <th>...</th>\n",
       "      <td>...</td>\n",
       "      <td>...</td>\n",
       "      <td>...</td>\n",
       "      <td>...</td>\n",
       "    </tr>\n",
       "    <tr>\n",
       "      <th>24995</th>\n",
       "      <td>0</td>\n",
       "      <td>0</td>\n",
       "      <td>1</td>\n",
       "      <td>0</td>\n",
       "    </tr>\n",
       "    <tr>\n",
       "      <th>24996</th>\n",
       "      <td>1</td>\n",
       "      <td>0</td>\n",
       "      <td>0</td>\n",
       "      <td>0</td>\n",
       "    </tr>\n",
       "    <tr>\n",
       "      <th>24997</th>\n",
       "      <td>0</td>\n",
       "      <td>0</td>\n",
       "      <td>1</td>\n",
       "      <td>0</td>\n",
       "    </tr>\n",
       "    <tr>\n",
       "      <th>24998</th>\n",
       "      <td>0</td>\n",
       "      <td>0</td>\n",
       "      <td>0</td>\n",
       "      <td>1</td>\n",
       "    </tr>\n",
       "    <tr>\n",
       "      <th>24999</th>\n",
       "      <td>0</td>\n",
       "      <td>0</td>\n",
       "      <td>0</td>\n",
       "      <td>1</td>\n",
       "    </tr>\n",
       "  </tbody>\n",
       "</table>\n",
       "<p>25000 rows × 4 columns</p>\n",
       "</div>"
      ],
      "text/plain": [
       "       Systemic_Illness_Fever  Systemic_Illness_Muscle Aches and Pain  \\\n",
       "0                           0                                       0   \n",
       "1                           1                                       0   \n",
       "2                           1                                       0   \n",
       "3                           0                                       0   \n",
       "4                           0                                       0   \n",
       "...                       ...                                     ...   \n",
       "24995                       0                                       0   \n",
       "24996                       1                                       0   \n",
       "24997                       0                                       0   \n",
       "24998                       0                                       0   \n",
       "24999                       0                                       0   \n",
       "\n",
       "       Systemic_Illness_No_Systemic_Illness  \\\n",
       "0                                         1   \n",
       "1                                         0   \n",
       "2                                         0   \n",
       "3                                         1   \n",
       "4                                         0   \n",
       "...                                     ...   \n",
       "24995                                     1   \n",
       "24996                                     0   \n",
       "24997                                     1   \n",
       "24998                                     0   \n",
       "24999                                     0   \n",
       "\n",
       "       Systemic_Illness_Swollen Lymph Nodes  \n",
       "0                                         0  \n",
       "1                                         0  \n",
       "2                                         0  \n",
       "3                                         0  \n",
       "4                                         1  \n",
       "...                                     ...  \n",
       "24995                                     0  \n",
       "24996                                     0  \n",
       "24997                                     0  \n",
       "24998                                     1  \n",
       "24999                                     1  \n",
       "\n",
       "[25000 rows x 4 columns]"
      ]
     },
     "execution_count": 27,
     "metadata": {},
     "output_type": "execute_result"
    }
   ],
   "source": [
    "# type casting Systemic illness by using get dummies\n",
    "df = pd.get_dummies(data= mp, columns= ['Systemic_Illness'],drop_first= False)\n",
    "# dropping every other column to isolate the systemic illness ...will concat later.\n",
    "df_Systemic = df.drop(columns= col[1:],axis = 1)\n",
    "# df_Systemic = df_Systemic.drop(columns= ['Systemic Illness_No Systemic Illness'],axis = 1)\n",
    "df_Systemic"
   ]
  },
  {
   "cell_type": "code",
   "execution_count": 28,
   "id": "ad032520",
   "metadata": {
    "colab": {
     "base_uri": "https://localhost:8080/",
     "height": 468
    },
    "id": "ad032520",
    "outputId": "16596b76-33f9-40cc-97d0-e39e085bf906"
   },
   "outputs": [
    {
     "data": {
      "text/html": [
       "<div>\n",
       "<style scoped>\n",
       "    .dataframe tbody tr th:only-of-type {\n",
       "        vertical-align: middle;\n",
       "    }\n",
       "\n",
       "    .dataframe tbody tr th {\n",
       "        vertical-align: top;\n",
       "    }\n",
       "\n",
       "    .dataframe thead th {\n",
       "        text-align: right;\n",
       "    }\n",
       "</style>\n",
       "<table border=\"1\" class=\"dataframe\">\n",
       "  <thead>\n",
       "    <tr style=\"text-align: right;\">\n",
       "      <th></th>\n",
       "      <th>Systemic_Illness</th>\n",
       "      <th>Rectal_Pain_True</th>\n",
       "      <th>Sore_Throat_True</th>\n",
       "      <th>Penile_Oedema_True</th>\n",
       "      <th>Oral_Lesions_True</th>\n",
       "      <th>Solitary_Leision_True</th>\n",
       "      <th>Swollen_Tonsils_True</th>\n",
       "      <th>HIV_Infection_True</th>\n",
       "      <th>STI_True</th>\n",
       "      <th>Target_Positive</th>\n",
       "    </tr>\n",
       "  </thead>\n",
       "  <tbody>\n",
       "    <tr>\n",
       "      <th>0</th>\n",
       "      <td>No_Systemic_Illness</td>\n",
       "      <td>0</td>\n",
       "      <td>1</td>\n",
       "      <td>1</td>\n",
       "      <td>1</td>\n",
       "      <td>0</td>\n",
       "      <td>1</td>\n",
       "      <td>0</td>\n",
       "      <td>0</td>\n",
       "      <td>0</td>\n",
       "    </tr>\n",
       "    <tr>\n",
       "      <th>1</th>\n",
       "      <td>Fever</td>\n",
       "      <td>1</td>\n",
       "      <td>0</td>\n",
       "      <td>1</td>\n",
       "      <td>1</td>\n",
       "      <td>0</td>\n",
       "      <td>0</td>\n",
       "      <td>1</td>\n",
       "      <td>0</td>\n",
       "      <td>1</td>\n",
       "    </tr>\n",
       "    <tr>\n",
       "      <th>2</th>\n",
       "      <td>Fever</td>\n",
       "      <td>0</td>\n",
       "      <td>1</td>\n",
       "      <td>1</td>\n",
       "      <td>0</td>\n",
       "      <td>0</td>\n",
       "      <td>0</td>\n",
       "      <td>1</td>\n",
       "      <td>0</td>\n",
       "      <td>1</td>\n",
       "    </tr>\n",
       "    <tr>\n",
       "      <th>3</th>\n",
       "      <td>No_Systemic_Illness</td>\n",
       "      <td>1</td>\n",
       "      <td>0</td>\n",
       "      <td>0</td>\n",
       "      <td>0</td>\n",
       "      <td>1</td>\n",
       "      <td>1</td>\n",
       "      <td>1</td>\n",
       "      <td>0</td>\n",
       "      <td>1</td>\n",
       "    </tr>\n",
       "    <tr>\n",
       "      <th>4</th>\n",
       "      <td>Swollen Lymph Nodes</td>\n",
       "      <td>1</td>\n",
       "      <td>1</td>\n",
       "      <td>1</td>\n",
       "      <td>0</td>\n",
       "      <td>0</td>\n",
       "      <td>1</td>\n",
       "      <td>1</td>\n",
       "      <td>0</td>\n",
       "      <td>1</td>\n",
       "    </tr>\n",
       "    <tr>\n",
       "      <th>...</th>\n",
       "      <td>...</td>\n",
       "      <td>...</td>\n",
       "      <td>...</td>\n",
       "      <td>...</td>\n",
       "      <td>...</td>\n",
       "      <td>...</td>\n",
       "      <td>...</td>\n",
       "      <td>...</td>\n",
       "      <td>...</td>\n",
       "      <td>...</td>\n",
       "    </tr>\n",
       "    <tr>\n",
       "      <th>24995</th>\n",
       "      <td>No_Systemic_Illness</td>\n",
       "      <td>1</td>\n",
       "      <td>1</td>\n",
       "      <td>0</td>\n",
       "      <td>1</td>\n",
       "      <td>1</td>\n",
       "      <td>0</td>\n",
       "      <td>0</td>\n",
       "      <td>1</td>\n",
       "      <td>1</td>\n",
       "    </tr>\n",
       "    <tr>\n",
       "      <th>24996</th>\n",
       "      <td>Fever</td>\n",
       "      <td>0</td>\n",
       "      <td>1</td>\n",
       "      <td>1</td>\n",
       "      <td>0</td>\n",
       "      <td>1</td>\n",
       "      <td>1</td>\n",
       "      <td>1</td>\n",
       "      <td>1</td>\n",
       "      <td>1</td>\n",
       "    </tr>\n",
       "    <tr>\n",
       "      <th>24997</th>\n",
       "      <td>No_Systemic_Illness</td>\n",
       "      <td>1</td>\n",
       "      <td>1</td>\n",
       "      <td>0</td>\n",
       "      <td>0</td>\n",
       "      <td>1</td>\n",
       "      <td>1</td>\n",
       "      <td>0</td>\n",
       "      <td>0</td>\n",
       "      <td>1</td>\n",
       "    </tr>\n",
       "    <tr>\n",
       "      <th>24998</th>\n",
       "      <td>Swollen Lymph Nodes</td>\n",
       "      <td>0</td>\n",
       "      <td>1</td>\n",
       "      <td>0</td>\n",
       "      <td>1</td>\n",
       "      <td>1</td>\n",
       "      <td>1</td>\n",
       "      <td>0</td>\n",
       "      <td>0</td>\n",
       "      <td>0</td>\n",
       "    </tr>\n",
       "    <tr>\n",
       "      <th>24999</th>\n",
       "      <td>Swollen Lymph Nodes</td>\n",
       "      <td>0</td>\n",
       "      <td>0</td>\n",
       "      <td>1</td>\n",
       "      <td>0</td>\n",
       "      <td>0</td>\n",
       "      <td>1</td>\n",
       "      <td>1</td>\n",
       "      <td>0</td>\n",
       "      <td>1</td>\n",
       "    </tr>\n",
       "  </tbody>\n",
       "</table>\n",
       "<p>25000 rows × 10 columns</p>\n",
       "</div>"
      ],
      "text/plain": [
       "          Systemic_Illness  Rectal_Pain_True  Sore_Throat_True  \\\n",
       "0      No_Systemic_Illness                 0                 1   \n",
       "1                    Fever                 1                 0   \n",
       "2                    Fever                 0                 1   \n",
       "3      No_Systemic_Illness                 1                 0   \n",
       "4      Swollen Lymph Nodes                 1                 1   \n",
       "...                    ...               ...               ...   \n",
       "24995  No_Systemic_Illness                 1                 1   \n",
       "24996                Fever                 0                 1   \n",
       "24997  No_Systemic_Illness                 1                 1   \n",
       "24998  Swollen Lymph Nodes                 0                 1   \n",
       "24999  Swollen Lymph Nodes                 0                 0   \n",
       "\n",
       "       Penile_Oedema_True  Oral_Lesions_True  Solitary_Leision_True  \\\n",
       "0                       1                  1                      0   \n",
       "1                       1                  1                      0   \n",
       "2                       1                  0                      0   \n",
       "3                       0                  0                      1   \n",
       "4                       1                  0                      0   \n",
       "...                   ...                ...                    ...   \n",
       "24995                   0                  1                      1   \n",
       "24996                   1                  0                      1   \n",
       "24997                   0                  0                      1   \n",
       "24998                   0                  1                      1   \n",
       "24999                   1                  0                      0   \n",
       "\n",
       "       Swollen_Tonsils_True  HIV_Infection_True  STI_True  Target_Positive  \n",
       "0                         1                   0         0                0  \n",
       "1                         0                   1         0                1  \n",
       "2                         0                   1         0                1  \n",
       "3                         1                   1         0                1  \n",
       "4                         1                   1         0                1  \n",
       "...                     ...                 ...       ...              ...  \n",
       "24995                     0                   0         1                1  \n",
       "24996                     1                   1         1                1  \n",
       "24997                     1                   0         0                1  \n",
       "24998                     1                   0         0                0  \n",
       "24999                     1                   1         0                1  \n",
       "\n",
       "[25000 rows x 10 columns]"
      ]
     },
     "execution_count": 28,
     "metadata": {},
     "output_type": "execute_result"
    }
   ],
   "source": [
    "# drop_first is set to true to reduce on multicoliniearity\n",
    "df_d = pd.get_dummies(data = mp, columns= col[1:], drop_first= True)\n",
    "df_d"
   ]
  },
  {
   "cell_type": "code",
   "execution_count": 29,
   "id": "72941e94",
   "metadata": {
    "id": "72941e94"
   },
   "outputs": [],
   "source": [
    "# Dropping Systemic illness as its already dummied out\n",
    "\n",
    "df_d.drop(axis = 1, columns= ['Systemic_Illness'] ,inplace = True)\n"
   ]
  },
  {
   "cell_type": "code",
   "execution_count": 30,
   "id": "b8692fb0",
   "metadata": {
    "colab": {
     "base_uri": "https://localhost:8080/",
     "height": 206
    },
    "id": "b8692fb0",
    "outputId": "86fb2e8a-df60-4026-e6a7-e1d815c66573",
    "scrolled": false
   },
   "outputs": [
    {
     "data": {
      "text/html": [
       "<div>\n",
       "<style scoped>\n",
       "    .dataframe tbody tr th:only-of-type {\n",
       "        vertical-align: middle;\n",
       "    }\n",
       "\n",
       "    .dataframe tbody tr th {\n",
       "        vertical-align: top;\n",
       "    }\n",
       "\n",
       "    .dataframe thead th {\n",
       "        text-align: right;\n",
       "    }\n",
       "</style>\n",
       "<table border=\"1\" class=\"dataframe\">\n",
       "  <thead>\n",
       "    <tr style=\"text-align: right;\">\n",
       "      <th></th>\n",
       "      <th>Rectal_Pain_True</th>\n",
       "      <th>Sore_Throat_True</th>\n",
       "      <th>Penile_Oedema_True</th>\n",
       "      <th>Oral_Lesions_True</th>\n",
       "      <th>Solitary_Leision_True</th>\n",
       "      <th>Swollen_Tonsils_True</th>\n",
       "      <th>HIV_Infection_True</th>\n",
       "      <th>STI_True</th>\n",
       "      <th>Target_Positive</th>\n",
       "    </tr>\n",
       "  </thead>\n",
       "  <tbody>\n",
       "    <tr>\n",
       "      <th>0</th>\n",
       "      <td>0</td>\n",
       "      <td>1</td>\n",
       "      <td>1</td>\n",
       "      <td>1</td>\n",
       "      <td>0</td>\n",
       "      <td>1</td>\n",
       "      <td>0</td>\n",
       "      <td>0</td>\n",
       "      <td>0</td>\n",
       "    </tr>\n",
       "    <tr>\n",
       "      <th>1</th>\n",
       "      <td>1</td>\n",
       "      <td>0</td>\n",
       "      <td>1</td>\n",
       "      <td>1</td>\n",
       "      <td>0</td>\n",
       "      <td>0</td>\n",
       "      <td>1</td>\n",
       "      <td>0</td>\n",
       "      <td>1</td>\n",
       "    </tr>\n",
       "    <tr>\n",
       "      <th>2</th>\n",
       "      <td>0</td>\n",
       "      <td>1</td>\n",
       "      <td>1</td>\n",
       "      <td>0</td>\n",
       "      <td>0</td>\n",
       "      <td>0</td>\n",
       "      <td>1</td>\n",
       "      <td>0</td>\n",
       "      <td>1</td>\n",
       "    </tr>\n",
       "    <tr>\n",
       "      <th>3</th>\n",
       "      <td>1</td>\n",
       "      <td>0</td>\n",
       "      <td>0</td>\n",
       "      <td>0</td>\n",
       "      <td>1</td>\n",
       "      <td>1</td>\n",
       "      <td>1</td>\n",
       "      <td>0</td>\n",
       "      <td>1</td>\n",
       "    </tr>\n",
       "    <tr>\n",
       "      <th>4</th>\n",
       "      <td>1</td>\n",
       "      <td>1</td>\n",
       "      <td>1</td>\n",
       "      <td>0</td>\n",
       "      <td>0</td>\n",
       "      <td>1</td>\n",
       "      <td>1</td>\n",
       "      <td>0</td>\n",
       "      <td>1</td>\n",
       "    </tr>\n",
       "  </tbody>\n",
       "</table>\n",
       "</div>"
      ],
      "text/plain": [
       "   Rectal_Pain_True  Sore_Throat_True  Penile_Oedema_True  Oral_Lesions_True  \\\n",
       "0                 0                 1                   1                  1   \n",
       "1                 1                 0                   1                  1   \n",
       "2                 0                 1                   1                  0   \n",
       "3                 1                 0                   0                  0   \n",
       "4                 1                 1                   1                  0   \n",
       "\n",
       "   Solitary_Leision_True  Swollen_Tonsils_True  HIV_Infection_True  STI_True  \\\n",
       "0                      0                     1                   0         0   \n",
       "1                      0                     0                   1         0   \n",
       "2                      0                     0                   1         0   \n",
       "3                      1                     1                   1         0   \n",
       "4                      0                     1                   1         0   \n",
       "\n",
       "   Target_Positive  \n",
       "0                0  \n",
       "1                1  \n",
       "2                1  \n",
       "3                1  \n",
       "4                1  "
      ]
     },
     "execution_count": 30,
     "metadata": {},
     "output_type": "execute_result"
    }
   ],
   "source": [
    "# Column names will have to be changed but that can be done in one go\n",
    "# first we finish up on converting the column data types t a usable state.\n",
    "df_d.head()"
   ]
  },
  {
   "cell_type": "code",
   "execution_count": 31,
   "id": "5627405a",
   "metadata": {
    "colab": {
     "base_uri": "https://localhost:8080/",
     "height": 505
    },
    "id": "5627405a",
    "outputId": "16b98da4-e045-463a-d5e3-66761a94c795",
    "scrolled": false
   },
   "outputs": [
    {
     "data": {
      "text/html": [
       "<div>\n",
       "<style scoped>\n",
       "    .dataframe tbody tr th:only-of-type {\n",
       "        vertical-align: middle;\n",
       "    }\n",
       "\n",
       "    .dataframe tbody tr th {\n",
       "        vertical-align: top;\n",
       "    }\n",
       "\n",
       "    .dataframe thead th {\n",
       "        text-align: right;\n",
       "    }\n",
       "</style>\n",
       "<table border=\"1\" class=\"dataframe\">\n",
       "  <thead>\n",
       "    <tr style=\"text-align: right;\">\n",
       "      <th></th>\n",
       "      <th>Systemic_Illness_Fever</th>\n",
       "      <th>Systemic_Illness_Muscle Aches and Pain</th>\n",
       "      <th>Systemic_Illness_No_Systemic_Illness</th>\n",
       "      <th>Systemic_Illness_Swollen Lymph Nodes</th>\n",
       "      <th>Rectal_Pain_True</th>\n",
       "      <th>Sore_Throat_True</th>\n",
       "      <th>Penile_Oedema_True</th>\n",
       "      <th>Oral_Lesions_True</th>\n",
       "      <th>Solitary_Leision_True</th>\n",
       "      <th>Swollen_Tonsils_True</th>\n",
       "      <th>HIV_Infection_True</th>\n",
       "      <th>STI_True</th>\n",
       "      <th>Target_Positive</th>\n",
       "    </tr>\n",
       "  </thead>\n",
       "  <tbody>\n",
       "    <tr>\n",
       "      <th>0</th>\n",
       "      <td>0</td>\n",
       "      <td>0</td>\n",
       "      <td>1</td>\n",
       "      <td>0</td>\n",
       "      <td>0</td>\n",
       "      <td>1</td>\n",
       "      <td>1</td>\n",
       "      <td>1</td>\n",
       "      <td>0</td>\n",
       "      <td>1</td>\n",
       "      <td>0</td>\n",
       "      <td>0</td>\n",
       "      <td>0</td>\n",
       "    </tr>\n",
       "    <tr>\n",
       "      <th>1</th>\n",
       "      <td>1</td>\n",
       "      <td>0</td>\n",
       "      <td>0</td>\n",
       "      <td>0</td>\n",
       "      <td>1</td>\n",
       "      <td>0</td>\n",
       "      <td>1</td>\n",
       "      <td>1</td>\n",
       "      <td>0</td>\n",
       "      <td>0</td>\n",
       "      <td>1</td>\n",
       "      <td>0</td>\n",
       "      <td>1</td>\n",
       "    </tr>\n",
       "    <tr>\n",
       "      <th>2</th>\n",
       "      <td>1</td>\n",
       "      <td>0</td>\n",
       "      <td>0</td>\n",
       "      <td>0</td>\n",
       "      <td>0</td>\n",
       "      <td>1</td>\n",
       "      <td>1</td>\n",
       "      <td>0</td>\n",
       "      <td>0</td>\n",
       "      <td>0</td>\n",
       "      <td>1</td>\n",
       "      <td>0</td>\n",
       "      <td>1</td>\n",
       "    </tr>\n",
       "    <tr>\n",
       "      <th>3</th>\n",
       "      <td>0</td>\n",
       "      <td>0</td>\n",
       "      <td>1</td>\n",
       "      <td>0</td>\n",
       "      <td>1</td>\n",
       "      <td>0</td>\n",
       "      <td>0</td>\n",
       "      <td>0</td>\n",
       "      <td>1</td>\n",
       "      <td>1</td>\n",
       "      <td>1</td>\n",
       "      <td>0</td>\n",
       "      <td>1</td>\n",
       "    </tr>\n",
       "    <tr>\n",
       "      <th>4</th>\n",
       "      <td>0</td>\n",
       "      <td>0</td>\n",
       "      <td>0</td>\n",
       "      <td>1</td>\n",
       "      <td>1</td>\n",
       "      <td>1</td>\n",
       "      <td>1</td>\n",
       "      <td>0</td>\n",
       "      <td>0</td>\n",
       "      <td>1</td>\n",
       "      <td>1</td>\n",
       "      <td>0</td>\n",
       "      <td>1</td>\n",
       "    </tr>\n",
       "    <tr>\n",
       "      <th>...</th>\n",
       "      <td>...</td>\n",
       "      <td>...</td>\n",
       "      <td>...</td>\n",
       "      <td>...</td>\n",
       "      <td>...</td>\n",
       "      <td>...</td>\n",
       "      <td>...</td>\n",
       "      <td>...</td>\n",
       "      <td>...</td>\n",
       "      <td>...</td>\n",
       "      <td>...</td>\n",
       "      <td>...</td>\n",
       "      <td>...</td>\n",
       "    </tr>\n",
       "    <tr>\n",
       "      <th>24995</th>\n",
       "      <td>0</td>\n",
       "      <td>0</td>\n",
       "      <td>1</td>\n",
       "      <td>0</td>\n",
       "      <td>1</td>\n",
       "      <td>1</td>\n",
       "      <td>0</td>\n",
       "      <td>1</td>\n",
       "      <td>1</td>\n",
       "      <td>0</td>\n",
       "      <td>0</td>\n",
       "      <td>1</td>\n",
       "      <td>1</td>\n",
       "    </tr>\n",
       "    <tr>\n",
       "      <th>24996</th>\n",
       "      <td>1</td>\n",
       "      <td>0</td>\n",
       "      <td>0</td>\n",
       "      <td>0</td>\n",
       "      <td>0</td>\n",
       "      <td>1</td>\n",
       "      <td>1</td>\n",
       "      <td>0</td>\n",
       "      <td>1</td>\n",
       "      <td>1</td>\n",
       "      <td>1</td>\n",
       "      <td>1</td>\n",
       "      <td>1</td>\n",
       "    </tr>\n",
       "    <tr>\n",
       "      <th>24997</th>\n",
       "      <td>0</td>\n",
       "      <td>0</td>\n",
       "      <td>1</td>\n",
       "      <td>0</td>\n",
       "      <td>1</td>\n",
       "      <td>1</td>\n",
       "      <td>0</td>\n",
       "      <td>0</td>\n",
       "      <td>1</td>\n",
       "      <td>1</td>\n",
       "      <td>0</td>\n",
       "      <td>0</td>\n",
       "      <td>1</td>\n",
       "    </tr>\n",
       "    <tr>\n",
       "      <th>24998</th>\n",
       "      <td>0</td>\n",
       "      <td>0</td>\n",
       "      <td>0</td>\n",
       "      <td>1</td>\n",
       "      <td>0</td>\n",
       "      <td>1</td>\n",
       "      <td>0</td>\n",
       "      <td>1</td>\n",
       "      <td>1</td>\n",
       "      <td>1</td>\n",
       "      <td>0</td>\n",
       "      <td>0</td>\n",
       "      <td>0</td>\n",
       "    </tr>\n",
       "    <tr>\n",
       "      <th>24999</th>\n",
       "      <td>0</td>\n",
       "      <td>0</td>\n",
       "      <td>0</td>\n",
       "      <td>1</td>\n",
       "      <td>0</td>\n",
       "      <td>0</td>\n",
       "      <td>1</td>\n",
       "      <td>0</td>\n",
       "      <td>0</td>\n",
       "      <td>1</td>\n",
       "      <td>1</td>\n",
       "      <td>0</td>\n",
       "      <td>1</td>\n",
       "    </tr>\n",
       "  </tbody>\n",
       "</table>\n",
       "<p>25000 rows × 13 columns</p>\n",
       "</div>"
      ],
      "text/plain": [
       "       Systemic_Illness_Fever  Systemic_Illness_Muscle Aches and Pain  \\\n",
       "0                           0                                       0   \n",
       "1                           1                                       0   \n",
       "2                           1                                       0   \n",
       "3                           0                                       0   \n",
       "4                           0                                       0   \n",
       "...                       ...                                     ...   \n",
       "24995                       0                                       0   \n",
       "24996                       1                                       0   \n",
       "24997                       0                                       0   \n",
       "24998                       0                                       0   \n",
       "24999                       0                                       0   \n",
       "\n",
       "       Systemic_Illness_No_Systemic_Illness  \\\n",
       "0                                         1   \n",
       "1                                         0   \n",
       "2                                         0   \n",
       "3                                         1   \n",
       "4                                         0   \n",
       "...                                     ...   \n",
       "24995                                     1   \n",
       "24996                                     0   \n",
       "24997                                     1   \n",
       "24998                                     0   \n",
       "24999                                     0   \n",
       "\n",
       "       Systemic_Illness_Swollen Lymph Nodes  Rectal_Pain_True  \\\n",
       "0                                         0                 0   \n",
       "1                                         0                 1   \n",
       "2                                         0                 0   \n",
       "3                                         0                 1   \n",
       "4                                         1                 1   \n",
       "...                                     ...               ...   \n",
       "24995                                     0                 1   \n",
       "24996                                     0                 0   \n",
       "24997                                     0                 1   \n",
       "24998                                     1                 0   \n",
       "24999                                     1                 0   \n",
       "\n",
       "       Sore_Throat_True  Penile_Oedema_True  Oral_Lesions_True  \\\n",
       "0                     1                   1                  1   \n",
       "1                     0                   1                  1   \n",
       "2                     1                   1                  0   \n",
       "3                     0                   0                  0   \n",
       "4                     1                   1                  0   \n",
       "...                 ...                 ...                ...   \n",
       "24995                 1                   0                  1   \n",
       "24996                 1                   1                  0   \n",
       "24997                 1                   0                  0   \n",
       "24998                 1                   0                  1   \n",
       "24999                 0                   1                  0   \n",
       "\n",
       "       Solitary_Leision_True  Swollen_Tonsils_True  HIV_Infection_True  \\\n",
       "0                          0                     1                   0   \n",
       "1                          0                     0                   1   \n",
       "2                          0                     0                   1   \n",
       "3                          1                     1                   1   \n",
       "4                          0                     1                   1   \n",
       "...                      ...                   ...                 ...   \n",
       "24995                      1                     0                   0   \n",
       "24996                      1                     1                   1   \n",
       "24997                      1                     1                   0   \n",
       "24998                      1                     1                   0   \n",
       "24999                      0                     1                   1   \n",
       "\n",
       "       STI_True  Target_Positive  \n",
       "0             0                0  \n",
       "1             0                1  \n",
       "2             0                1  \n",
       "3             0                1  \n",
       "4             0                1  \n",
       "...         ...              ...  \n",
       "24995         1                1  \n",
       "24996         1                1  \n",
       "24997         0                1  \n",
       "24998         0                0  \n",
       "24999         0                1  \n",
       "\n",
       "[25000 rows x 13 columns]"
      ]
     },
     "execution_count": 31,
     "metadata": {},
     "output_type": "execute_result"
    }
   ],
   "source": [
    "df_clean = pd.concat([df_Systemic,df_d], axis = 1,join= 'inner')\n",
    "df_clean"
   ]
  },
  {
   "cell_type": "code",
   "execution_count": 32,
   "id": "7a24fb80",
   "metadata": {
    "colab": {
     "base_uri": "https://localhost:8080/",
     "height": 786
    },
    "id": "7a24fb80",
    "outputId": "2e41d825-141b-4a34-903e-3fe7ed92a1de"
   },
   "outputs": [
    {
     "data": {
      "image/png": "[encoded data removed]",
      "text/plain": [
       "<Figure size 1440x720 with 2 Axes>"
      ]
     },
     "metadata": {},
     "output_type": "display_data"
    }
   ],
   "source": [
    "# Rechecking the multicolinearity to ensure that data preparation has not introduced any\n",
    "plt.figure(figsize = (20, 10))\n",
    "var = df_clean.corr()\n",
    "sns.heatmap(var, annot = True, cmap = \"YlGnBu\");"
   ]
  },
  {
   "cell_type": "code",
   "execution_count": 33,
   "id": "4c14ab10",
   "metadata": {
    "colab": {
     "base_uri": "https://localhost:8080/",
     "height": 0
    },
    "id": "4c14ab10",
    "outputId": "18b5883d-24e9-4d19-dd7b-8ccbaa6aa44e"
   },
   "outputs": [
    {
     "data": {
      "text/plain": [
       "['Systemic_Illness_Fever',\n",
       " 'Systemic_Illness_Muscle Aches and Pain',\n",
       " 'Systemic_Illness_No_Systemic_Illness',\n",
       " 'Systemic_Illness_Swollen Lymph Nodes',\n",
       " 'Rectal_Pain_True',\n",
       " 'Sore_Throat_True',\n",
       " 'Penile_Oedema_True',\n",
       " 'Oral_Lesions_True',\n",
       " 'Solitary_Leision_True',\n",
       " 'Swollen_Tonsils_True',\n",
       " 'HIV_Infection_True',\n",
       " 'STI_True',\n",
       " 'Target_Positive']"
      ]
     },
     "execution_count": 33,
     "metadata": {},
     "output_type": "execute_result"
    }
   ],
   "source": [
    "list(df_clean.columns)"
   ]
  },
  {
   "cell_type": "code",
   "execution_count": 34,
   "id": "b3784ae6",
   "metadata": {
    "id": "b3784ae6",
    "scrolled": true
   },
   "outputs": [],
   "source": [
    "df_clean.rename(columns={'Systemic_Illness_Fever':'SI_Fever',\n",
    "                        'Systemic_Illness_Muscle Aches and Pain':'SI_Muscle_Aches&Pain',\n",
    "                        'Systemic_Illness_Swollen Lymph Nodes':'SI_Swollen_Lymph_Nodes',\n",
    "                        'Rectal_Pain_True':'Rectal_Pain',\n",
    "                        'Sore_Throat_True':'Sore_Throat',\n",
    "                        'Penile_Oedema_True':'Penile_Oedema',\n",
    "                        'Oral_Lesions_True':'Oral_Lesions',\n",
    "                        'Solitary_Lesion_True':'Solitary_Leision',\n",
    "                        'Swollen_Tonsils_True':'Swollen_Tonsils',\n",
    "                        'HIV_Infection_True':'HIV_Infection',\n",
    "                        'STI_True':'STI',\n",
    "                        'Target_Positive':'Target'},inplace=True)"
   ]
  },
  {
   "cell_type": "code",
   "execution_count": 35,
   "id": "123ba2c8",
   "metadata": {
    "colab": {
     "base_uri": "https://localhost:8080/",
     "height": 270
    },
    "id": "123ba2c8",
    "outputId": "08795811-75bd-4479-f15a-1d78ef2d0a48"
   },
   "outputs": [
    {
     "data": {
      "text/html": [
       "<div>\n",
       "<style scoped>\n",
       "    .dataframe tbody tr th:only-of-type {\n",
       "        vertical-align: middle;\n",
       "    }\n",
       "\n",
       "    .dataframe tbody tr th {\n",
       "        vertical-align: top;\n",
       "    }\n",
       "\n",
       "    .dataframe thead th {\n",
       "        text-align: right;\n",
       "    }\n",
       "</style>\n",
       "<table border=\"1\" class=\"dataframe\">\n",
       "  <thead>\n",
       "    <tr style=\"text-align: right;\">\n",
       "      <th></th>\n",
       "      <th>SI_Fever</th>\n",
       "      <th>SI_Muscle_Aches&amp;Pain</th>\n",
       "      <th>Systemic_Illness_No_Systemic_Illness</th>\n",
       "      <th>SI_Swollen_Lymph_Nodes</th>\n",
       "      <th>Rectal_Pain</th>\n",
       "      <th>Sore_Throat</th>\n",
       "      <th>Penile_Oedema</th>\n",
       "      <th>Oral_Lesions</th>\n",
       "      <th>Solitary_Leision_True</th>\n",
       "      <th>Swollen_Tonsils</th>\n",
       "      <th>HIV_Infection</th>\n",
       "      <th>STI</th>\n",
       "      <th>Target</th>\n",
       "    </tr>\n",
       "  </thead>\n",
       "  <tbody>\n",
       "    <tr>\n",
       "      <th>0</th>\n",
       "      <td>0</td>\n",
       "      <td>0</td>\n",
       "      <td>1</td>\n",
       "      <td>0</td>\n",
       "      <td>0</td>\n",
       "      <td>1</td>\n",
       "      <td>1</td>\n",
       "      <td>1</td>\n",
       "      <td>0</td>\n",
       "      <td>1</td>\n",
       "      <td>0</td>\n",
       "      <td>0</td>\n",
       "      <td>0</td>\n",
       "    </tr>\n",
       "    <tr>\n",
       "      <th>1</th>\n",
       "      <td>1</td>\n",
       "      <td>0</td>\n",
       "      <td>0</td>\n",
       "      <td>0</td>\n",
       "      <td>1</td>\n",
       "      <td>0</td>\n",
       "      <td>1</td>\n",
       "      <td>1</td>\n",
       "      <td>0</td>\n",
       "      <td>0</td>\n",
       "      <td>1</td>\n",
       "      <td>0</td>\n",
       "      <td>1</td>\n",
       "    </tr>\n",
       "    <tr>\n",
       "      <th>2</th>\n",
       "      <td>1</td>\n",
       "      <td>0</td>\n",
       "      <td>0</td>\n",
       "      <td>0</td>\n",
       "      <td>0</td>\n",
       "      <td>1</td>\n",
       "      <td>1</td>\n",
       "      <td>0</td>\n",
       "      <td>0</td>\n",
       "      <td>0</td>\n",
       "      <td>1</td>\n",
       "      <td>0</td>\n",
       "      <td>1</td>\n",
       "    </tr>\n",
       "    <tr>\n",
       "      <th>3</th>\n",
       "      <td>0</td>\n",
       "      <td>0</td>\n",
       "      <td>1</td>\n",
       "      <td>0</td>\n",
       "      <td>1</td>\n",
       "      <td>0</td>\n",
       "      <td>0</td>\n",
       "      <td>0</td>\n",
       "      <td>1</td>\n",
       "      <td>1</td>\n",
       "      <td>1</td>\n",
       "      <td>0</td>\n",
       "      <td>1</td>\n",
       "    </tr>\n",
       "    <tr>\n",
       "      <th>4</th>\n",
       "      <td>0</td>\n",
       "      <td>0</td>\n",
       "      <td>0</td>\n",
       "      <td>1</td>\n",
       "      <td>1</td>\n",
       "      <td>1</td>\n",
       "      <td>1</td>\n",
       "      <td>0</td>\n",
       "      <td>0</td>\n",
       "      <td>1</td>\n",
       "      <td>1</td>\n",
       "      <td>0</td>\n",
       "      <td>1</td>\n",
       "    </tr>\n",
       "  </tbody>\n",
       "</table>\n",
       "</div>"
      ],
      "text/plain": [
       "   SI_Fever  SI_Muscle_Aches&Pain  Systemic_Illness_No_Systemic_Illness  \\\n",
       "0         0                     0                                     1   \n",
       "1         1                     0                                     0   \n",
       "2         1                     0                                     0   \n",
       "3         0                     0                                     1   \n",
       "4         0                     0                                     0   \n",
       "\n",
       "   SI_Swollen_Lymph_Nodes  Rectal_Pain  Sore_Throat  Penile_Oedema  \\\n",
       "0                       0            0            1              1   \n",
       "1                       0            1            0              1   \n",
       "2                       0            0            1              1   \n",
       "3                       0            1            0              0   \n",
       "4                       1            1            1              1   \n",
       "\n",
       "   Oral_Lesions  Solitary_Leision_True  Swollen_Tonsils  HIV_Infection  STI  \\\n",
       "0             1                      0                1              0    0   \n",
       "1             1                      0                0              1    0   \n",
       "2             0                      0                0              1    0   \n",
       "3             0                      1                1              1    0   \n",
       "4             0                      0                1              1    0   \n",
       "\n",
       "   Target  \n",
       "0       0  \n",
       "1       1  \n",
       "2       1  \n",
       "3       1  \n",
       "4       1  "
      ]
     },
     "execution_count": 35,
     "metadata": {},
     "output_type": "execute_result"
    }
   ],
   "source": [
    "df_clean.head()"
   ]
  },
  {
   "cell_type": "code",
   "execution_count": 36,
   "id": "d2733bd5",
   "metadata": {
    "id": "d2733bd5"
   },
   "outputs": [],
   "source": [
    "# splitting the data into X [predictors] and y [target]\n",
    "X = df_clean.drop(columns= ['Target'],axis = 1)\n",
    "y = df_clean['Target']\n",
    "\n",
    "# Random state for reapetability, test size of 30% as it is the optimum\n",
    "# Stratify is used to ensure the test and train data have the same ratio\n",
    "\n",
    "X_train, X_test, y_train, y_test = train_test_split(X,y,random_state=0,test_size= 0.3,stratify= y)"
   ]
  },
  {
   "cell_type": "markdown",
   "id": "632709d5",
   "metadata": {
    "id": "632709d5"
   },
   "source": [
    "# 4. MODELLING"
   ]
  },
  {
   "cell_type": "code",
   "execution_count": 37,
   "id": "99bfc649",
   "metadata": {
    "colab": {
     "base_uri": "https://localhost:8080/",
     "height": 0
    },
    "id": "99bfc649",
    "outputId": "eb9742af-bb0a-4ae9-993a-a054160c21dc",
    "scrolled": true
   },
   "outputs": [
    {
     "name": "stdout",
     "output_type": "stream",
     "text": [
      "1    11136\n",
      "0     6364\n",
      "Name: Target, dtype: int64\n",
      "\n",
      "\n",
      "1    4773\n",
      "0    2727\n",
      "Name: Target, dtype: int64\n"
     ]
    }
   ],
   "source": [
    "#checking class balance in the training target variable\n",
    "print(y_train.value_counts())\n",
    "print('\\n')\n",
    "\n",
    "#checking class balance in the training target variable\n",
    "print(y_test.value_counts())"
   ]
  },
  {
   "cell_type": "markdown",
   "id": "02b2f70a",
   "metadata": {
    "id": "02b2f70a"
   },
   "source": [
    "An imbalance between positive and negative is observed"
   ]
  },
  {
   "cell_type": "markdown",
   "id": "d7ccf751",
   "metadata": {
    "id": "d7ccf751"
   },
   "source": [
    "# Base Model DecisionTreeClassifier"
   ]
  },
  {
   "cell_type": "code",
   "execution_count": 38,
   "id": "19c7f96d",
   "metadata": {
    "colab": {
     "base_uri": "https://localhost:8080/",
     "height": 0
    },
    "id": "19c7f96d",
    "outputId": "eec85b5b-9faa-49e9-bfc7-fb8683c8a4f1",
    "scrolled": true
   },
   "outputs": [
    {
     "data": {
      "text/plain": [
       "{'precision': 0.7076757532281205,\n",
       " 'recall_score': 0.8267337104546407,\n",
       " 'accuracy_score': 0.6724,\n",
       " 'f1_score': 0.7625857570779785}"
      ]
     },
     "execution_count": 38,
     "metadata": {},
     "output_type": "execute_result"
    }
   ],
   "source": [
    "#train and get the score of the base model without handling the imbalance in the class and see how the model performs\n",
    "base_tree =  DecisionTreeClassifier()\n",
    "model_trainer(base_tree, X_train, y_train,X_test,y_test)"
   ]
  },
  {
   "cell_type": "markdown",
   "id": "721efdf8",
   "metadata": {
    "id": "721efdf8"
   },
   "source": [
    "A recall of 82 % and precision of 71% is a good start now lets tune it to look for improvements. "
   ]
  },
  {
   "cell_type": "code",
   "execution_count": 39,
   "id": "bdc3330b",
   "metadata": {
    "colab": {
     "base_uri": "https://localhost:8080/",
     "height": 279
    },
    "id": "bdc3330b",
    "outputId": "93cb39b9-7097-4f4d-ee38-a0aaf9660712"
   },
   "outputs": [
    {
     "data": {
      "image/png": "[encoded data removed]",
      "text/plain": [
       "<Figure size 432x288 with 2 Axes>"
      ]
     },
     "metadata": {},
     "output_type": "display_data"
    }
   ],
   "source": [
    "#visualize the confusion matrix\n",
    "cnf_matrix  = plot_confusion_matrix(base_tree, X_test, y_test, cmap=plt.cm.Blues)"
   ]
  },
  {
   "cell_type": "code",
   "execution_count": 40,
   "id": "5e32966f",
   "metadata": {
    "colab": {
     "base_uri": "https://localhost:8080/",
     "height": 0
    },
    "id": "5e32966f",
    "outputId": "409c694a-d0fb-4d11-ebc7-f11ad6781d39"
   },
   "outputs": [
    {
     "name": "stdout",
     "output_type": "stream",
     "text": [
      "0    11136\n",
      "1    11136\n",
      "Name: Target, dtype: int64\n"
     ]
    }
   ],
   "source": [
    "#balance the training classes and see the effect on the model using SMOTE\n",
    "X_train_smote, y_train_smote = SMOTE().fit_resample(X_train, y_train)\n",
    "\n",
    "print(y_train_smote.value_counts())"
   ]
  },
  {
   "cell_type": "code",
   "execution_count": 41,
   "id": "b3a67448",
   "metadata": {
    "colab": {
     "base_uri": "https://localhost:8080/",
     "height": 0
    },
    "id": "b3a67448",
    "outputId": "41ac5ac9-7b46-4839-a619-d56d289646ca"
   },
   "outputs": [
    {
     "data": {
      "text/plain": [
       "{'precision': 0.7371608527131783,\n",
       " 'recall_score': 0.6375445212654515,\n",
       " 'accuracy_score': 0.6246666666666667,\n",
       " 'f1_score': 0.6837433996180203}"
      ]
     },
     "execution_count": 41,
     "metadata": {},
     "output_type": "execute_result"
    }
   ],
   "source": [
    "#retrain the model with the model with the balanced classes\n",
    "base_tree_smote = DecisionTreeClassifier()\n",
    "\n",
    "Basemodel_balanced = model_trainer(base_tree_smote, X_train_smote, y_train_smote,X_test,y_test)\n",
    "\n",
    "Basemodel_balanced"
   ]
  },
  {
   "cell_type": "markdown",
   "id": "7f7aaf57",
   "metadata": {
    "id": "7f7aaf57"
   },
   "source": [
    "Precision has increased to 74% which is good, but the recal has reduced to 63%."
   ]
  },
  {
   "cell_type": "code",
   "execution_count": 42,
   "id": "435fdf4e",
   "metadata": {
    "colab": {
     "base_uri": "https://localhost:8080/",
     "height": 283
    },
    "id": "435fdf4e",
    "outputId": "3e7c90d5-b878-4c01-b613-eb57d47646ec"
   },
   "outputs": [
    {
     "data": {
      "image/png": "[encoded data removed]",
      "text/plain": [
       "<Figure size 432x288 with 2 Axes>"
      ]
     },
     "metadata": {},
     "output_type": "display_data"
    }
   ],
   "source": [
    "#visualize the confusion matrix\n",
    "cnf_matrix  = plot_confusion_matrix(base_tree_smote, X_test, y_test, cmap=plt.cm.Blues)"
   ]
  },
  {
   "cell_type": "code",
   "execution_count": 43,
   "id": "a79eca2f",
   "metadata": {
    "colab": {
     "base_uri": "https://localhost:8080/",
     "height": 0
    },
    "id": "a79eca2f",
    "outputId": "b8015340-33ad-4031-87eb-d46bb09f2796"
   },
   "outputs": [
    {
     "data": {
      "text/plain": [
       "{'criterion': 'gini',\n",
       " 'max_depth': 15,\n",
       " 'min_samples_leaf': 1,\n",
       " 'min_samples_split': 20}"
      ]
     },
     "execution_count": 43,
     "metadata": {},
     "output_type": "execute_result"
    }
   ],
   "source": [
    "#balanced class best perameters\n",
    "param_grid = {\n",
    "    'criterion': ['gini', 'entropy'],\n",
    "    'max_depth': [5, 10, 15, 20],\n",
    "    'min_samples_split': [1, 5, 10, 20],\n",
    "    'min_samples_leaf': [1, 2, 3, 4, 5, 6]\n",
    "  }\n",
    "grid_search(DecisionTreeClassifier(),param_grid, X_train_smote, y_train_smote)\n"
   ]
  },
  {
   "cell_type": "code",
   "execution_count": 44,
   "id": "6f0d7acc",
   "metadata": {
    "colab": {
     "base_uri": "https://localhost:8080/",
     "height": 0
    },
    "id": "6f0d7acc",
    "outputId": "34702d7d-889e-4e64-d97c-522f202e59e5"
   },
   "outputs": [
    {
     "data": {
      "text/plain": [
       "{'precision': 0.7380091588334539,\n",
       " 'recall_score': 0.6415252461764089,\n",
       " 'accuracy_score': 0.6269333333333333,\n",
       " 'f1_score': 0.6863931853844429}"
      ]
     },
     "execution_count": 44,
     "metadata": {},
     "output_type": "execute_result"
    }
   ],
   "source": [
    "#  Using the best parameters.\n",
    "dtree_par =  DecisionTreeClassifier(criterion= 'gini', max_depth = 15, min_samples_split= 5,min_samples_leaf = 1)\n",
    "DecisionTree = model_trainer(dtree_par, X_train_smote,y_train_smote, X_test,y_test)\n",
    "DecisionTree"
   ]
  },
  {
   "cell_type": "code",
   "execution_count": 45,
   "id": "a04cfb0b",
   "metadata": {
    "colab": {
     "base_uri": "https://localhost:8080/",
     "height": 279
    },
    "id": "a04cfb0b",
    "outputId": "c7dc2c49-dfd5-4f8e-8e9b-30fde2cef3e3"
   },
   "outputs": [
    {
     "data": {
      "image/png": "[encoded data removed]",
      "text/plain": [
       "<Figure size 432x288 with 2 Axes>"
      ]
     },
     "metadata": {},
     "output_type": "display_data"
    }
   ],
   "source": [
    "cnf_matrix  = plot_confusion_matrix(dtree_par, X_test, y_test, cmap=plt.cm.Blues)"
   ]
  },
  {
   "cell_type": "markdown",
   "id": "f9b36bb4",
   "metadata": {
    "id": "f9b36bb4"
   },
   "source": [
    "The model recall score increased to 64% meaning more positive patients were identified but there are still many wrongly classified patients\n",
    "\n",
    "Whereas the precision score maintained at 74% , dropped by 0.003 when decimal places are considered.\n"
   ]
  },
  {
   "cell_type": "markdown",
   "id": "f7462462",
   "metadata": {
    "id": "f7462462"
   },
   "source": [
    "## LogisticRegression and KNeighborsClassifier"
   ]
  },
  {
   "cell_type": "code",
   "execution_count": null,
   "id": "0f77fac3",
   "metadata": {
    "id": "0f77fac3"
   },
   "outputs": [],
   "source": [
    "\n"
   ]
  },
  {
   "cell_type": "code",
   "execution_count": 46,
   "id": "324e9d9f",
   "metadata": {
    "colab": {
     "base_uri": "https://localhost:8080/",
     "height": 143
    },
    "id": "324e9d9f",
    "outputId": "ce146ca9-c1ec-438d-aa0e-be92b51b5dd9"
   },
   "outputs": [
    {
     "data": {
      "text/html": [
       "<div>\n",
       "<style scoped>\n",
       "    .dataframe tbody tr th:only-of-type {\n",
       "        vertical-align: middle;\n",
       "    }\n",
       "\n",
       "    .dataframe tbody tr th {\n",
       "        vertical-align: top;\n",
       "    }\n",
       "\n",
       "    .dataframe thead th {\n",
       "        text-align: right;\n",
       "    }\n",
       "</style>\n",
       "<table border=\"1\" class=\"dataframe\">\n",
       "  <thead>\n",
       "    <tr style=\"text-align: right;\">\n",
       "      <th></th>\n",
       "      <th>Precision score</th>\n",
       "      <th>Recall Score</th>\n",
       "    </tr>\n",
       "    <tr>\n",
       "      <th>model</th>\n",
       "      <th></th>\n",
       "      <th></th>\n",
       "    </tr>\n",
       "  </thead>\n",
       "  <tbody>\n",
       "    <tr>\n",
       "      <th>KNN</th>\n",
       "      <td>0.577790</td>\n",
       "      <td>0.816721</td>\n",
       "    </tr>\n",
       "    <tr>\n",
       "      <th>Logistic Regression</th>\n",
       "      <td>0.630294</td>\n",
       "      <td>0.589260</td>\n",
       "    </tr>\n",
       "  </tbody>\n",
       "</table>\n",
       "</div>"
      ],
      "text/plain": [
       "                     Precision score  Recall Score\n",
       "model                                             \n",
       "KNN                         0.577790      0.816721\n",
       "Logistic Regression         0.630294      0.589260"
      ]
     },
     "execution_count": 46,
     "metadata": {},
     "output_type": "execute_result"
    }
   ],
   "source": [
    "#evaluating the two more models and see if they perform better then the DecisionTreeClassifier\n",
    "# these two are LogisticRegression() and KNeighborsClassifier()\n",
    "\n",
    "logreg = LogisticRegression()\n",
    "knn = KNeighborsClassifier()\n",
    "\n",
    "models = [logreg,knn]\n",
    "scores=[]\n",
    "recall=[]\n",
    "scores_2 = []\n",
    "precision_=[]\n",
    "\n",
    "for i in models:\n",
    "    estimator=Pipeline([\n",
    "        ('model',i)])\n",
    "    Prec_ =cross_val_score(estimator,X_train_smote,y_train_smote,cv=3,scoring='precision')\n",
    "    recall_scre=cross_val_score(estimator,X_train_smote,y_train_smote,cv=3,scoring='recall')\n",
    "    scores.append(recall_scre)\n",
    "    scores_2.append(Prec_)\n",
    "    recall.append(recall_scre.mean())\n",
    "    precision_.append(Prec_.mean())\n",
    "    \n",
    "    \n",
    "pd.DataFrame({'model':['Logistic Regression','KNN'],'Precision score':precision_,'Recall Score':recall}).set_index('model').sort_values(by='Recall Score',ascending=False)"
   ]
  },
  {
   "cell_type": "markdown",
   "id": "c01c1ef2",
   "metadata": {
    "id": "c01c1ef2"
   },
   "source": [
    "recall score shoots up to 82% but Precision score drops to 58%"
   ]
  },
  {
   "cell_type": "markdown",
   "id": "a9f306a5",
   "metadata": {
    "id": "a9f306a5"
   },
   "source": [
    "### KNeighbors"
   ]
  },
  {
   "cell_type": "code",
   "execution_count": 47,
   "id": "9d9e7cac",
   "metadata": {
    "colab": {
     "base_uri": "https://localhost:8080/",
     "height": 0
    },
    "id": "9d9e7cac",
    "outputId": "af6ca840-7ef2-4598-847e-099e09bb751a"
   },
   "outputs": [
    {
     "data": {
      "text/plain": [
       "{'precision': 0.7067261097111843,\n",
       " 'recall_score': 0.7638801592289964,\n",
       " 'accuracy_score': 0.648,\n",
       " 'f1_score': 0.7341925090616189}"
      ]
     },
     "execution_count": 47,
     "metadata": {},
     "output_type": "execute_result"
    }
   ],
   "source": [
    "#plot the KNN and virtualize the confussion matrix\n",
    "\n",
    "kn_base =  KNeighborsClassifier()\n",
    "model_trainer(kn_base, X_train_smote, y_train_smote,X_test,y_test)"
   ]
  },
  {
   "cell_type": "markdown",
   "id": "af50bb5a",
   "metadata": {
    "id": "af50bb5a"
   },
   "source": [
    "precision score at 70% while recall score at 77%"
   ]
  },
  {
   "cell_type": "code",
   "execution_count": 48,
   "id": "62af34d3",
   "metadata": {
    "colab": {
     "base_uri": "https://localhost:8080/",
     "height": 0
    },
    "id": "62af34d3",
    "outputId": "9d28fe9f-e7af-49c7-a03c-4e6c89e4f7a4"
   },
   "outputs": [
    {
     "data": {
      "text/plain": [
       "{'algorithm': 'auto', 'leaf_size': 8, 'n_jobs': -1, 'n_neighbors': 22}"
      ]
     },
     "execution_count": 48,
     "metadata": {},
     "output_type": "execute_result"
    }
   ],
   "source": [
    "#tune the the KNN \n",
    "knn_gridSearch = KNeighborsClassifier()\n",
    "\n",
    "parameters = {'n_neighbors':[10,15,22,30],\n",
    "              'leaf_size':[3,4,5,8,10],\n",
    "              'algorithm':['auto', 'kd_tree'],\n",
    "              'n_jobs':[-1]}\n",
    "grid_search(knn_gridSearch, parameters, X_train_smote, y_train_smote)\n"
   ]
  },
  {
   "cell_type": "code",
   "execution_count": 49,
   "id": "fb605174",
   "metadata": {
    "colab": {
     "base_uri": "https://localhost:8080/",
     "height": 0
    },
    "id": "fb605174",
    "outputId": "9f616126-c0aa-4fe7-f253-47157aef6bf0"
   },
   "outputs": [
    {
     "data": {
      "text/plain": [
       "{'precision': 0.7291440953412784,\n",
       " 'recall_score': 0.7050073329143096,\n",
       " 'accuracy_score': 0.6456,\n",
       " 'f1_score': 0.7168726033233916}"
      ]
     },
     "execution_count": 49,
     "metadata": {},
     "output_type": "execute_result"
    }
   ],
   "source": [
    "# Using the best parameters \n",
    "knn_improved = KNeighborsClassifier(algorithm = 'auto', leaf_size = 3, n_jobs = -1, n_neighbors = 22)\n",
    "KNeighbors = model_trainer(knn_improved, X_train_smote,y_train_smote, X_test,y_test)\n",
    "KNeighbors"
   ]
  },
  {
   "cell_type": "markdown",
   "id": "dce69c05",
   "metadata": {
    "id": "dce69c05"
   },
   "source": [
    "Precision raises to 73% while recall drops to 71%"
   ]
  },
  {
   "cell_type": "code",
   "execution_count": 50,
   "id": "1229aadb",
   "metadata": {
    "colab": {
     "base_uri": "https://localhost:8080/",
     "height": 279
    },
    "id": "1229aadb",
    "outputId": "c7219c4c-481b-49d7-d0e2-be5cdfb3379b"
   },
   "outputs": [
    {
     "data": {
      "image/png": "[encoded data removed]",
      "text/plain": [
       "<Figure size 432x288 with 2 Axes>"
      ]
     },
     "metadata": {},
     "output_type": "display_data"
    }
   ],
   "source": [
    "cnf_matrix  = plot_confusion_matrix(knn_improved, X_test, y_test, cmap=plt.cm.Blues)"
   ]
  },
  {
   "cell_type": "markdown",
   "id": "99f68379",
   "metadata": {
    "id": "99f68379"
   },
   "source": [
    "The KNN Model has improved our recall significantly and this means our model will be able to identify more people with the  virus"
   ]
  },
  {
   "cell_type": "markdown",
   "id": "a50efc3d",
   "metadata": {
    "id": "a50efc3d"
   },
   "source": [
    "### Logistic Regression"
   ]
  },
  {
   "cell_type": "code",
   "execution_count": 51,
   "id": "ca80a79b",
   "metadata": {
    "colab": {
     "base_uri": "https://localhost:8080/",
     "height": 0
    },
    "id": "ca80a79b",
    "outputId": "6dfb64ad-025d-4a3c-86ed-a5f6efc2e758",
    "scrolled": true
   },
   "outputs": [
    {
     "data": {
      "text/plain": [
       "{'precision': 0.7422434367541766,\n",
       " 'recall_score': 0.5864236329352609,\n",
       " 'accuracy_score': 0.6072,\n",
       " 'f1_score': 0.6551966292134832}"
      ]
     },
     "execution_count": 51,
     "metadata": {},
     "output_type": "execute_result"
    }
   ],
   "source": [
    "#final model the logisticRegressor\n",
    "base_logrig = LogisticRegression()\n",
    "model_trainer(base_logrig, X_train_smote, y_train_smote,X_test,y_test)"
   ]
  },
  {
   "cell_type": "markdown",
   "id": "d15d77ca",
   "metadata": {
    "id": "d15d77ca"
   },
   "source": [
    "precision score is 74 % while recall is at an unacceptable low of 59%"
   ]
  },
  {
   "cell_type": "code",
   "execution_count": 52,
   "id": "bc1a1ace",
   "metadata": {
    "colab": {
     "base_uri": "https://localhost:8080/",
     "height": 0
    },
    "id": "bc1a1ace",
    "outputId": "020a48af-c0a1-4915-fddd-7e1992720b7d"
   },
   "outputs": [
    {
     "data": {
      "text/plain": [
       "{'C': 0.0004498432668969444, 'penalty': 'l2'}"
      ]
     },
     "execution_count": 52,
     "metadata": {},
     "output_type": "execute_result"
    }
   ],
   "source": [
    "#performing hyper perameter tuning on the model\n",
    "logR_improved = LogisticRegression()\n",
    "\n",
    "parameters = { 'C': np.logspace(-4, 4, 50),\n",
    "                'penalty' : ['l1', 'l2'],}\n",
    "grid_search(logR_improved, parameters, X_train_smote, y_train_smote)\n"
   ]
  },
  {
   "cell_type": "code",
   "execution_count": 53,
   "id": "b1adb61b",
   "metadata": {
    "colab": {
     "base_uri": "https://localhost:8080/",
     "height": 0
    },
    "id": "b1adb61b",
    "outputId": "f8ab79b5-239c-4c40-8ba0-f5a8fb16a65b",
    "scrolled": true
   },
   "outputs": [
    {
     "data": {
      "text/plain": [
       "{'precision': 0.7422434367541766,\n",
       " 'recall_score': 0.5864236329352609,\n",
       " 'accuracy_score': 0.6072,\n",
       " 'f1_score': 0.6551966292134832}"
      ]
     },
     "execution_count": 53,
     "metadata": {},
     "output_type": "execute_result"
    }
   ],
   "source": [
    "# Using the best parameters\n",
    "logR = LogisticRegression(C = 0.0004498432668969444, penalty ='l2')\n",
    "LogisticReg = model_trainer(logR, X_train_smote, y_train_smote,X_test,y_test)\n",
    "LogisticReg"
   ]
  },
  {
   "cell_type": "code",
   "execution_count": 54,
   "id": "ab724323",
   "metadata": {
    "colab": {
     "base_uri": "https://localhost:8080/",
     "height": 279
    },
    "id": "ab724323",
    "outputId": "2db92ba9-2105-4dc4-b12b-9167245d7296",
    "scrolled": false
   },
   "outputs": [
    {
     "data": {
      "image/png": "[encoded data removed]",
      "text/plain": [
       "<Figure size 432x288 with 2 Axes>"
      ]
     },
     "metadata": {},
     "output_type": "display_data"
    }
   ],
   "source": [
    "cnf_matrix  = plot_confusion_matrix(logR, X_test, y_test, cmap=plt.cm.Blues)"
   ]
  },
  {
   "cell_type": "markdown",
   "id": "c53a2a11",
   "metadata": {
    "id": "c53a2a11"
   },
   "source": [
    "Precision score and recall score have not changed"
   ]
  },
  {
   "cell_type": "markdown",
   "id": "5e736c8e",
   "metadata": {
    "id": "5e736c8e"
   },
   "source": [
    "### Random Forest Classifier"
   ]
  },
  {
   "cell_type": "code",
   "execution_count": 55,
   "id": "1f091451",
   "metadata": {
    "colab": {
     "base_uri": "https://localhost:8080/",
     "height": 0
    },
    "id": "1f091451",
    "outputId": "31778c0d-9eae-4c11-f82c-20c85aa7c074"
   },
   "outputs": [
    {
     "name": "stdout",
     "output_type": "stream",
     "text": [
      "Best precision: 0.669\n",
      "_________\n",
      "\n",
      "Best params:\n",
      " {'Rfc__bootstrap': False, 'Rfc__max_features': 'sqrt', 'Rfc__max_leaf_nodes': 12, 'Rfc__min_samples_leaf': 0.08, 'Rfc__n_estimators': 50}\n",
      "_________\n",
      "_________\n",
      "0.6720953904318744\n"
     ]
    }
   ],
   "source": [
    "pipe = Pipeline([\n",
    "                    ('Rfc',RandomForestClassifier(random_state=0,))\n",
    "                               \n",
    "                ])\n",
    "min_range = list(np.arange(0.08,0.14,0.02))\n",
    "grid_params = [{\n",
    "               'Rfc__n_estimators':[50,100],\n",
    "               'Rfc__min_samples_leaf':min_range,\n",
    "               'Rfc__max_features':['sqrt','log2'],\n",
    "               'Rfc__max_leaf_nodes':[12,13],\n",
    "               'Rfc__bootstrap':[True,False]\n",
    "               }]\n",
    "\n",
    "gs = GridSearchCV(estimator= pipe, param_grid= grid_params, cv= 10,scoring='precision')\n",
    "\n",
    "gs.fit(X_train,y_train)\n",
    "\n",
    "# Best accuracy\n",
    "print('Best precision: %.3f' % gs.best_score_)\n",
    "print('_________')\n",
    "# Best params\n",
    "print('\\nBest params:\\n', gs.best_params_)\n",
    "print('_________')\n",
    "\n",
    "y_pred = gs.predict(X_test)\n",
    "\n",
    "print('_________')\n",
    "\n",
    "print(precision_score(y_true= y_test,y_pred= y_pred))"
   ]
  },
  {
   "cell_type": "code",
   "execution_count": 56,
   "id": "6a2bd14c",
   "metadata": {
    "colab": {
     "base_uri": "https://localhost:8080/",
     "height": 0
    },
    "id": "6a2bd14c",
    "outputId": "797d6ce7-68c6-4a6e-a18e-8f0387a41706"
   },
   "outputs": [
    {
     "data": {
      "text/plain": [
       "{'precision': 0.7542186353631695,\n",
       " 'recall_score': 0.6461345065996229,\n",
       " 'accuracy_score': 0.6408,\n",
       " 'f1_score': 0.6960054163845633}"
      ]
     },
     "execution_count": 56,
     "metadata": {},
     "output_type": "execute_result"
    }
   ],
   "source": [
    "# Using the best parameters\n",
    "RandomForest = RandomForestClassifier(bootstrap = False, max_features = 'sqrt',max_leaf_nodes = 12,\n",
    "                                      min_samples_leaf= 0.08,n_estimators= 50)\n",
    "RandomForestClass = model_trainer(RandomForest, X_train_smote, y_train_smote,X_test,y_test)\n",
    "RandomForestClass"
   ]
  },
  {
   "cell_type": "code",
   "execution_count": 57,
   "id": "d442a0e0",
   "metadata": {
    "id": "d442a0e0"
   },
   "outputs": [],
   "source": [
    "scores = [LogisticReg, Basemodel_balanced, DecisionTree,KNeighbors,RandomForestClass ]\n",
    "column_name = ['LogisticReg','Basemodel', 'DecisionTree','KNeighbors','RandomForestClassifier' ]"
   ]
  },
  {
   "cell_type": "code",
   "execution_count": 58,
   "id": "adb0cad2",
   "metadata": {
    "colab": {
     "base_uri": "https://localhost:8080/",
     "height": 175
    },
    "id": "adb0cad2",
    "outputId": "78c0254d-9b75-4b63-d854-6aa2c0b8913e"
   },
   "outputs": [
    {
     "data": {
      "text/html": [
       "<div>\n",
       "<style scoped>\n",
       "    .dataframe tbody tr th:only-of-type {\n",
       "        vertical-align: middle;\n",
       "    }\n",
       "\n",
       "    .dataframe tbody tr th {\n",
       "        vertical-align: top;\n",
       "    }\n",
       "\n",
       "    .dataframe thead th {\n",
       "        text-align: right;\n",
       "    }\n",
       "</style>\n",
       "<table border=\"1\" class=\"dataframe\">\n",
       "  <thead>\n",
       "    <tr style=\"text-align: right;\">\n",
       "      <th></th>\n",
       "      <th>LogisticReg</th>\n",
       "      <th>Basemodel</th>\n",
       "      <th>DecisionTree</th>\n",
       "      <th>KNeighbors</th>\n",
       "      <th>RandomForestClassifier</th>\n",
       "    </tr>\n",
       "  </thead>\n",
       "  <tbody>\n",
       "    <tr>\n",
       "      <th>precision</th>\n",
       "      <td>0.742243</td>\n",
       "      <td>0.737161</td>\n",
       "      <td>0.738009</td>\n",
       "      <td>0.729144</td>\n",
       "      <td>0.754219</td>\n",
       "    </tr>\n",
       "    <tr>\n",
       "      <th>recall_score</th>\n",
       "      <td>0.586424</td>\n",
       "      <td>0.637545</td>\n",
       "      <td>0.641525</td>\n",
       "      <td>0.705007</td>\n",
       "      <td>0.646135</td>\n",
       "    </tr>\n",
       "    <tr>\n",
       "      <th>accuracy_score</th>\n",
       "      <td>0.607200</td>\n",
       "      <td>0.624667</td>\n",
       "      <td>0.626933</td>\n",
       "      <td>0.645600</td>\n",
       "      <td>0.640800</td>\n",
       "    </tr>\n",
       "    <tr>\n",
       "      <th>f1_score</th>\n",
       "      <td>0.655197</td>\n",
       "      <td>0.683743</td>\n",
       "      <td>0.686393</td>\n",
       "      <td>0.716873</td>\n",
       "      <td>0.696005</td>\n",
       "    </tr>\n",
       "  </tbody>\n",
       "</table>\n",
       "</div>"
      ],
      "text/plain": [
       "                LogisticReg  Basemodel  DecisionTree  KNeighbors  \\\n",
       "precision          0.742243   0.737161      0.738009    0.729144   \n",
       "recall_score       0.586424   0.637545      0.641525    0.705007   \n",
       "accuracy_score     0.607200   0.624667      0.626933    0.645600   \n",
       "f1_score           0.655197   0.683743      0.686393    0.716873   \n",
       "\n",
       "                RandomForestClassifier  \n",
       "precision                     0.754219  \n",
       "recall_score                  0.646135  \n",
       "accuracy_score                0.640800  \n",
       "f1_score                      0.696005  "
      ]
     },
     "execution_count": 58,
     "metadata": {},
     "output_type": "execute_result"
    }
   ],
   "source": [
    "df = pd.DataFrame(columns = column_name)\n",
    "df.LogisticReg =LogisticReg.values()\n",
    "df.Basemodel = Basemodel_balanced.values()\n",
    "df.DecisionTree = DecisionTree.values()\n",
    "df.KNeighbors = KNeighbors.values()\n",
    "df.RandomForestClassifier = RandomForestClass.values()\n",
    "df.index = ['precision', 'recall_score','accuracy_score','f1_score']\n",
    "df"
   ]
  },
  {
   "cell_type": "markdown",
   "id": "ebf3d9c5",
   "metadata": {
    "id": "ebf3d9c5"
   },
   "source": [
    "The KNeighborsClassifier had the best sores and since this model will be used in detecting MonkeyPox viruses a high recall is needed then precision since this will prevent the number of false positives making more positive cases to be identified and treated in advance"
   ]
  },
  {
   "cell_type": "code",
   "execution_count": 59,
   "id": "b6b63f3f",
   "metadata": {
    "colab": {
     "base_uri": "https://localhost:8080/",
     "height": 0
    },
    "id": "b6b63f3f",
    "outputId": "872b4920-9e49-4f4c-e561-74a9c4196cc4"
   },
   "outputs": [
    {
     "data": {
      "text/plain": [
       "0    15909\n",
       "1    15909\n",
       "Name: Target, dtype: int64"
      ]
     },
     "execution_count": 59,
     "metadata": {},
     "output_type": "execute_result"
    }
   ],
   "source": [
    "#develop a final pipline that will be used to train the model on the whole dataset and make the model ready for deployment\n",
    "#Balance the whole dataset using smote \n",
    "X_smote, y_smote = SMOTE().fit_resample(X, y)\n",
    "y_smote.value_counts()"
   ]
  },
  {
   "cell_type": "code",
   "execution_count": 60,
   "id": "9117de87",
   "metadata": {
    "colab": {
     "base_uri": "https://localhost:8080/",
     "height": 0
    },
    "id": "9117de87",
    "outputId": "64636167-5474-4fcf-b792-f205bf56b413"
   },
   "outputs": [
    {
     "data": {
      "text/html": [
       "<style>#sk-container-id-1 {color: black;background-color: white;}#sk-container-id-1 pre{padding: 0;}#sk-container-id-1 div.sk-toggleable {background-color: white;}#sk-container-id-1 label.sk-toggleable__label {cursor: pointer;display: block;width: 100%;margin-bottom: 0;padding: 0.3em;box-sizing: border-box;text-align: center;}#sk-container-id-1 label.sk-toggleable__label-arrow:before {content: \"▸\";float: left;margin-right: 0.25em;color: #696969;}#sk-container-id-1 label.sk-toggleable__label-arrow:hover:before {color: black;}#sk-container-id-1 div.sk-estimator:hover label.sk-toggleable__label-arrow:before {color: black;}#sk-container-id-1 div.sk-toggleable__content {max-height: 0;max-width: 0;overflow: hidden;text-align: left;background-color: #f0f8ff;}#sk-container-id-1 div.sk-toggleable__content pre {margin: 0.2em;color: black;border-radius: 0.25em;background-color: #f0f8ff;}#sk-container-id-1 input.sk-toggleable__control:checked~div.sk-toggleable__content {max-height: 200px;max-width: 100%;overflow: auto;}#sk-container-id-1 input.sk-toggleable__control:checked~label.sk-toggleable__label-arrow:before {content: \"▾\";}#sk-container-id-1 div.sk-estimator input.sk-toggleable__control:checked~label.sk-toggleable__label {background-color: #d4ebff;}#sk-container-id-1 div.sk-label input.sk-toggleable__control:checked~label.sk-toggleable__label {background-color: #d4ebff;}#sk-container-id-1 input.sk-hidden--visually {border: 0;clip: rect(1px 1px 1px 1px);clip: rect(1px, 1px, 1px, 1px);height: 1px;margin: -1px;overflow: hidden;padding: 0;position: absolute;width: 1px;}#sk-container-id-1 div.sk-estimator {font-family: monospace;background-color: #f0f8ff;border: 1px dotted black;border-radius: 0.25em;box-sizing: border-box;margin-bottom: 0.5em;}#sk-container-id-1 div.sk-estimator:hover {background-color: #d4ebff;}#sk-container-id-1 div.sk-parallel-item::after {content: \"\";width: 100%;border-bottom: 1px solid gray;flex-grow: 1;}#sk-container-id-1 div.sk-label:hover label.sk-toggleable__label {background-color: #d4ebff;}#sk-container-id-1 div.sk-serial::before {content: \"\";position: absolute;border-left: 1px solid gray;box-sizing: border-box;top: 0;bottom: 0;left: 50%;z-index: 0;}#sk-container-id-1 div.sk-serial {display: flex;flex-direction: column;align-items: center;background-color: white;padding-right: 0.2em;padding-left: 0.2em;position: relative;}#sk-container-id-1 div.sk-item {position: relative;z-index: 1;}#sk-container-id-1 div.sk-parallel {display: flex;align-items: stretch;justify-content: center;background-color: white;position: relative;}#sk-container-id-1 div.sk-item::before, #sk-container-id-1 div.sk-parallel-item::before {content: \"\";position: absolute;border-left: 1px solid gray;box-sizing: border-box;top: 0;bottom: 0;left: 50%;z-index: -1;}#sk-container-id-1 div.sk-parallel-item {display: flex;flex-direction: column;z-index: 1;position: relative;background-color: white;}#sk-container-id-1 div.sk-parallel-item:first-child::after {align-self: flex-end;width: 50%;}#sk-container-id-1 div.sk-parallel-item:last-child::after {align-self: flex-start;width: 50%;}#sk-container-id-1 div.sk-parallel-item:only-child::after {width: 0;}#sk-container-id-1 div.sk-dashed-wrapped {border: 1px dashed gray;margin: 0 0.4em 0.5em 0.4em;box-sizing: border-box;padding-bottom: 0.4em;background-color: white;}#sk-container-id-1 div.sk-label label {font-family: monospace;font-weight: bold;display: inline-block;line-height: 1.2em;}#sk-container-id-1 div.sk-label-container {text-align: center;}#sk-container-id-1 div.sk-container {/* jupyter's `normalize.less` sets `[hidden] { display: none; }` but bootstrap.min.css set `[hidden] { display: none !important; }` so we also need the `!important` here to be able to override the default hidden behavior on the sphinx rendered scikit-learn.org. See: https://github.com/scikit-learn/scikit-learn/issues/21755 */display: inline-block !important;position: relative;}#sk-container-id-1 div.sk-text-repr-fallback {display: none;}</style><div id=\"sk-container-id-1\" class=\"sk-top-container\"><div class=\"sk-text-repr-fallback\"><pre>Pipeline(steps=[(&#x27;KNN&#x27;,\n",
       "                 KNeighborsClassifier(leaf_size=4, n_jobs=-1, n_neighbors=8))])</pre><b>In a Jupyter environment, please rerun this cell to show the HTML representation or trust the notebook. <br />On GitHub, the HTML representation is unable to render, please try loading this page with nbviewer.org.</b></div><div class=\"sk-container\" hidden><div class=\"sk-item sk-dashed-wrapped\"><div class=\"sk-label-container\"><div class=\"sk-label sk-toggleable\"><input class=\"sk-toggleable__control sk-hidden--visually\" id=\"sk-estimator-id-1\" type=\"checkbox\" ><label for=\"sk-estimator-id-1\" class=\"sk-toggleable__label sk-toggleable__label-arrow\">Pipeline</label><div class=\"sk-toggleable__content\"><pre>Pipeline(steps=[(&#x27;KNN&#x27;,\n",
       "                 KNeighborsClassifier(leaf_size=4, n_jobs=-1, n_neighbors=8))])</pre></div></div></div><div class=\"sk-serial\"><div class=\"sk-item\"><div class=\"sk-estimator sk-toggleable\"><input class=\"sk-toggleable__control sk-hidden--visually\" id=\"sk-estimator-id-2\" type=\"checkbox\" ><label for=\"sk-estimator-id-2\" class=\"sk-toggleable__label sk-toggleable__label-arrow\">KNeighborsClassifier</label><div class=\"sk-toggleable__content\"><pre>KNeighborsClassifier(leaf_size=4, n_jobs=-1, n_neighbors=8)</pre></div></div></div></div></div></div></div>"
      ],
      "text/plain": [
       "Pipeline(steps=[('KNN',\n",
       "                 KNeighborsClassifier(leaf_size=4, n_jobs=-1, n_neighbors=8))])"
      ]
     },
     "execution_count": 60,
     "metadata": {},
     "output_type": "execute_result"
    }
   ],
   "source": [
    "pipeline = Pipeline([('KNN', KNeighborsClassifier(algorithm = 'auto', leaf_size = 4, n_jobs = -1, n_neighbors = 8))])\n",
    "pipeline.fit(X_smote,y_smote)"
   ]
  },
  {
   "cell_type": "code",
   "execution_count": 61,
   "id": "d19c1814",
   "metadata": {
    "colab": {
     "base_uri": "https://localhost:8080/",
     "height": 0
    },
    "id": "d19c1814",
    "outputId": "f9a88ce8-f539-45d9-ba73-45909fcd91df"
   },
   "outputs": [
    {
     "data": {
      "text/plain": [
       "{'precision': 0.7305077968812475,\n",
       " 'recall_score': 0.7655562539283469,\n",
       " 'accuracy_score': 0.6710666666666667,\n",
       " 'f1_score': 0.747621483375959}"
      ]
     },
     "execution_count": 61,
     "metadata": {},
     "output_type": "execute_result"
    }
   ],
   "source": [
    "#model performance after training on the whole data\n",
    "model_trainer(pipeline, X_smote, y_smote,X_test,y_test)\n"
   ]
  },
  {
   "cell_type": "code",
   "execution_count": 62,
   "id": "1c852279",
   "metadata": {
    "id": "1c852279"
   },
   "outputs": [],
   "source": [
    "#save our model into a pickle\n",
    "with open('model.pkl', 'wb') as f:\n",
    "  joblib.dump(pipeline, f)"
   ]
  },
  {
   "cell_type": "markdown",
   "id": "5c0701a3",
   "metadata": {
    "id": "5c0701a3"
   },
   "source": [
    "# 5. EVALUATION"
   ]
  },
  {
   "cell_type": "code",
   "execution_count": 63,
   "id": "8K1jRW7m3jHW",
   "metadata": {
    "colab": {
     "base_uri": "https://localhost:8080/",
     "height": 175
    },
    "id": "8K1jRW7m3jHW",
    "outputId": "6a254aeb-8564-48b9-831a-5545448b7ebe"
   },
   "outputs": [
    {
     "data": {
      "text/html": [
       "<div>\n",
       "<style scoped>\n",
       "    .dataframe tbody tr th:only-of-type {\n",
       "        vertical-align: middle;\n",
       "    }\n",
       "\n",
       "    .dataframe tbody tr th {\n",
       "        vertical-align: top;\n",
       "    }\n",
       "\n",
       "    .dataframe thead th {\n",
       "        text-align: right;\n",
       "    }\n",
       "</style>\n",
       "<table border=\"1\" class=\"dataframe\">\n",
       "  <thead>\n",
       "    <tr style=\"text-align: right;\">\n",
       "      <th></th>\n",
       "      <th>LogisticReg</th>\n",
       "      <th>Basemodel</th>\n",
       "      <th>DecisionTree</th>\n",
       "      <th>KNeighbors</th>\n",
       "      <th>RandomForestClassifier</th>\n",
       "    </tr>\n",
       "  </thead>\n",
       "  <tbody>\n",
       "    <tr>\n",
       "      <th>precision</th>\n",
       "      <td>0.742243</td>\n",
       "      <td>0.737161</td>\n",
       "      <td>0.738009</td>\n",
       "      <td>0.729144</td>\n",
       "      <td>0.754219</td>\n",
       "    </tr>\n",
       "    <tr>\n",
       "      <th>recall_score</th>\n",
       "      <td>0.586424</td>\n",
       "      <td>0.637545</td>\n",
       "      <td>0.641525</td>\n",
       "      <td>0.705007</td>\n",
       "      <td>0.646135</td>\n",
       "    </tr>\n",
       "    <tr>\n",
       "      <th>accuracy_score</th>\n",
       "      <td>0.607200</td>\n",
       "      <td>0.624667</td>\n",
       "      <td>0.626933</td>\n",
       "      <td>0.645600</td>\n",
       "      <td>0.640800</td>\n",
       "    </tr>\n",
       "    <tr>\n",
       "      <th>f1_score</th>\n",
       "      <td>0.655197</td>\n",
       "      <td>0.683743</td>\n",
       "      <td>0.686393</td>\n",
       "      <td>0.716873</td>\n",
       "      <td>0.696005</td>\n",
       "    </tr>\n",
       "  </tbody>\n",
       "</table>\n",
       "</div>"
      ],
      "text/plain": [
       "                LogisticReg  Basemodel  DecisionTree  KNeighbors  \\\n",
       "precision          0.742243   0.737161      0.738009    0.729144   \n",
       "recall_score       0.586424   0.637545      0.641525    0.705007   \n",
       "accuracy_score     0.607200   0.624667      0.626933    0.645600   \n",
       "f1_score           0.655197   0.683743      0.686393    0.716873   \n",
       "\n",
       "                RandomForestClassifier  \n",
       "precision                     0.754219  \n",
       "recall_score                  0.646135  \n",
       "accuracy_score                0.640800  \n",
       "f1_score                      0.696005  "
      ]
     },
     "execution_count": 63,
     "metadata": {},
     "output_type": "execute_result"
    }
   ],
   "source": [
    "df = pd.DataFrame(columns = column_name)\n",
    "df.LogisticReg =LogisticReg.values()\n",
    "df.Basemodel = Basemodel_balanced.values()\n",
    "df.DecisionTree = DecisionTree.values()\n",
    "df.KNeighbors = KNeighbors.values()\n",
    "df.RandomForestClassifier = RandomForestClass.values()\n",
    "df.index = ['precision', 'recall_score','accuracy_score','f1_score']\n",
    "df"
   ]
  },
  {
   "cell_type": "markdown",
   "id": "tcBL4QYl3nhG",
   "metadata": {
    "id": "tcBL4QYl3nhG"
   },
   "source": [
    "The differences in accuracy are low thus other evaluation metrics are required. In this case, we shall use recall to evaluate the various models and decide on the best one. Based on the recall scores, The KNeighbors model displays both high precision meaning it produces correct positive predictions about 71.74% percent of the time. It also displays a comparatively high recall score which means it does not produce a lot of false negatives. "
   ]
  },
  {
   "cell_type": "code",
   "execution_count": 64,
   "id": "viCH2WZz3pLe",
   "metadata": {
    "id": "viCH2WZz3pLe"
   },
   "outputs": [],
   "source": [
    "log_prediction =base_logrig.predict(X_test)\n",
    "knn_prediction =knn_improved.predict(X_test)"
   ]
  },
  {
   "cell_type": "code",
   "execution_count": 65,
   "id": "cpbERO9p3vYu",
   "metadata": {
    "colab": {
     "base_uri": "https://localhost:8080/",
     "height": 0
    },
    "id": "cpbERO9p3vYu",
    "outputId": "f408136b-6179-493b-eec5-acf244a5121e"
   },
   "outputs": [
    {
     "name": "stdout",
     "output_type": "stream",
     "text": [
      "CLassification report - Logistic Regression\n",
      "               precision    recall  f1-score   support\n",
      "\n",
      "       FRAUD       0.47      0.64      0.54      2727\n",
      "       VALID       0.74      0.59      0.66      4773\n",
      "\n",
      "    accuracy                           0.61      7500\n",
      "   macro avg       0.61      0.61      0.60      7500\n",
      "weighted avg       0.64      0.61      0.61      7500\n",
      "\n",
      "CLassification report - KNN Classifier\n",
      "               precision    recall  f1-score   support\n",
      "\n",
      "       FRAUD       0.51      0.54      0.53      2727\n",
      "       VALID       0.73      0.71      0.72      4773\n",
      "\n",
      "    accuracy                           0.65      7500\n",
      "   macro avg       0.62      0.62      0.62      7500\n",
      "weighted avg       0.65      0.65      0.65      7500\n",
      "\n"
     ]
    }
   ],
   "source": [
    "#evaluating the scores for prediction\n",
    "from sklearn.metrics import classification_report\n",
    "\n",
    "print (\"CLassification report - Logistic Regression\\n\", \n",
    "       classification_report(y_test, log_prediction, target_names = [ \"FRAUD\",\"VALID\"]))\n",
    "print (\"CLassification report - KNN Classifier\\n\", \n",
    "       classification_report(y_test, knn_prediction, target_names = [\"FRAUD\",\"VALID\"]))"
   ]
  },
  {
   "cell_type": "code",
   "execution_count": 66,
   "id": "Uasg0wQ94Dc4",
   "metadata": {
    "colab": {
     "base_uri": "https://localhost:8080/",
     "height": 0
    },
    "id": "Uasg0wQ94Dc4",
    "outputId": "7f6a8e8b-a8ea-4bd4-d6e1-559f21911cc8"
   },
   "outputs": [
    {
     "data": {
      "text/plain": [
       "{'precision': 0.7291440953412784,\n",
       " 'recall_score': 0.7050073329143096,\n",
       " 'accuracy_score': 0.6456,\n",
       " 'f1_score': 0.7168726033233916}"
      ]
     },
     "execution_count": 66,
     "metadata": {},
     "output_type": "execute_result"
    }
   ],
   "source": [
    "#previously defined scores for the training for comparison with the previous cell\n",
    "KNeighbors"
   ]
  },
  {
   "cell_type": "markdown",
   "id": "1LDEgRnA4AEF",
   "metadata": {
    "id": "1LDEgRnA4AEF"
   },
   "source": [
    "Using the classification report library we can see that our model performs equally as well in the prediction. This means that it was well fitted.The consistency in precision and recall in the KNN model merited it as the better model over the logistic regression. "
   ]
  },
  {
   "cell_type": "markdown",
   "id": "01737c2b",
   "metadata": {
    "id": "01737c2b"
   },
   "source": [
    "# 6. DEPLOYMENT"
   ]
  },
  {
   "cell_type": "markdown",
   "id": "8D_DCV0xArch",
   "metadata": {
    "id": "8D_DCV0xArch"
   },
   "source": [
    "From the above evaluation KNN was the best model based on our recall, accuracy, and precision hence we used it for deployment.\n",
    "We used ```stream lit``` to deploy the model where the users select the symptoms they have and then submit them. After submitting the symptoms, the model predicts whether you are likely to have Monkeypox or not.\n",
    "This is the [link](https://moringamatrix.herokuapp.com/) to the deployed model."
   ]
  },
  {
   "cell_type": "markdown",
   "id": "9k-GHM4JBPj9",
   "metadata": {
    "id": "9k-GHM4JBPj9"
   },
   "source": [
    "# Recomendations"
   ]
  },
  {
   "cell_type": "markdown",
   "id": "knPn5JDjB0ua",
   "metadata": {
    "id": "knPn5JDjB0ua"
   },
   "source": [
    "\n",
    "\n",
    "* For a more accurate result we would need more data on the patients and also any additional info on symptoms that were not included\n",
    "* The health organisation should create more awareness to inform people on monkeypox\n",
    "* More data is needed in order to increase the viablilty of our model and have high precision score and recall scorE\n",
    "\n",
    "\n"
   ]
  },
  {
   "cell_type": "code",
   "execution_count": null,
   "id": "fM3-vvdo7VVP",
   "metadata": {
    "id": "fM3-vvdo7VVP"
   },
   "outputs": [],
   "source": []
  },
  {
   "cell_type": "code",
   "execution_count": null,
   "id": "gZcu5eY6BN2S",
   "metadata": {
    "id": "gZcu5eY6BN2S"
   },
   "outputs": [],
   "source": []
  }
 ],
 "metadata": {
  "colab": {
   "collapsed_sections": [],
   "provenance": []
  },
  "kernelspec": {
   "display_name": "Python 3 (ipykernel)",
   "language": "python",
   "name": "python3"
  },
  "language_info": {
   "codemirror_mode": {
    "name": "ipython",
    "version": 3
   },
   "file_extension": ".py",
   "mimetype": "text/x-python",
   "name": "python",
   "nbconvert_exporter": "python",
   "pygments_lexer": "ipython3",
   "version": "3.9.12"
  },
  "vscode": {
   "interpreter": {
    "hash": "3d003bfd82b4b2708635177fb8f3138976a30d21ae2a9834728cc878eebfc210"
   }
  }
 },
 "nbformat": 4,
 "nbformat_minor": 5
}
